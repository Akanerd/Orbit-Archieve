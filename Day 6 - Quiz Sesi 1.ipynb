{
  "nbformat": 4,
  "nbformat_minor": 0,
  "metadata": {
    "colab": {
      "name": "Day 6 - Quiz Sesi 1.ipynb",
      "provenance": [],
      "collapsed_sections": [],
      "authorship_tag": "ABX9TyP/SxKoLBc8ST1RVP50wm4Q",
      "include_colab_link": true
    },
    "kernelspec": {
      "name": "python3",
      "display_name": "Python 3"
    },
    "language_info": {
      "name": "python"
    }
  },
  "cells": [
    {
      "cell_type": "markdown",
      "metadata": {
        "id": "view-in-github",
        "colab_type": "text"
      },
      "source": [
        "<a href=\"https://colab.research.google.com/github/Akanerd/Orbit-Archieve/blob/main/Day%206%20-%20Quiz%20Sesi%201.ipynb\" target=\"_parent\"><img src=\"https://colab.research.google.com/assets/colab-badge.svg\" alt=\"Open In Colab\"/></a>"
      ]
    },
    {
      "cell_type": "markdown",
      "source": [
        "# **Quiz Sesi 1**"
      ],
      "metadata": {
        "id": "Zsm2hEav494e"
      }
    },
    {
      "cell_type": "markdown",
      "source": [
        "# **Pembahasan No 1**"
      ],
      "metadata": {
        "id": "v8t0nx_o4o0D"
      }
    },
    {
      "cell_type": "code",
      "source": [
        "a = False\n",
        "b = True\n",
        "c = False\n",
        "print(b and c) #False\n",
        "print(b or c) # True\n",
        "print(not a and c) # False\n",
        "print( (a and b) or not c) # True\n",
        "print(not b and not (a or c)) #False"
      ],
      "metadata": {
        "colab": {
          "base_uri": "https://localhost:8080/"
        },
        "id": "3z3STl4z13gx",
        "outputId": "036be0ae-db13-4034-c17f-0a9626877bfc"
      },
      "execution_count": 71,
      "outputs": [
        {
          "output_type": "stream",
          "name": "stdout",
          "text": [
            "False\n",
            "True\n",
            "False\n",
            "True\n",
            "False\n"
          ]
        }
      ]
    },
    {
      "cell_type": "markdown",
      "source": [
        "# **Pembahasan No 2**"
      ],
      "metadata": {
        "id": "RjKRrE1p4vVA"
      }
    },
    {
      "cell_type": "code",
      "source": [
        "print(\"Hello!\")\n",
        "something = input(\"Enter Something :\") \n",
        "print(\"You entered:\", something)"
      ],
      "metadata": {
        "colab": {
          "base_uri": "https://localhost:8080/"
        },
        "id": "NeiSSBaL1nXg",
        "outputId": "b7d711ce-6e8f-442b-8459-40c7b8a9e8d2"
      },
      "execution_count": 69,
      "outputs": [
        {
          "output_type": "stream",
          "name": "stdout",
          "text": [
            "Hello!\n",
            "Enter Something :oke\n",
            "You entered: oke\n"
          ]
        }
      ]
    },
    {
      "cell_type": "markdown",
      "source": [
        "# **Pembahasan No 3**"
      ],
      "metadata": {
        "id": "Uy5dwOLE4xc4"
      }
    },
    {
      "cell_type": "code",
      "source": [
        "print(\"Hello!\")\n",
        "something = input(\"Enter Something :\")\n",
        "if something == 'hello':\n",
        " print(\"Hello for you too!\")\n",
        "elif something == 'hi':\n",
        "  print('Hi there!')\n",
        "else:\n",
        "  print(\"I don't know what,\",something,\"means\")"
      ],
      "metadata": {
        "colab": {
          "base_uri": "https://localhost:8080/"
        },
        "id": "yiBCl03s0iAI",
        "outputId": "303342ba-6552-45da-cea0-6dfb5b96a356"
      },
      "execution_count": 67,
      "outputs": [
        {
          "output_type": "stream",
          "name": "stdout",
          "text": [
            "Hello!\n",
            "Enter Something :upi\n",
            "I don't know what, upi means\n"
          ]
        }
      ]
    },
    {
      "cell_type": "markdown",
      "source": [
        "# **Pembahasan No 4**"
      ],
      "metadata": {
        "id": "QJhItjdb4y6h"
      }
    },
    {
      "cell_type": "markdown",
      "source": [
        "# **Tabel Kemenangan Kertas Batu Gunting**\n",
        "![Untitled-1.png](data:image/png;base64,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)"
      ],
      "metadata": {
        "id": "C4H42QYuEWpx"
      }
    },
    {
      "cell_type": "code",
      "source": [
        "salam1 = \"Halo\"\n",
        "salam2 = \"Hei\"\n",
        "for x in range(99):\n",
        "  if(x %2 == 0 ):\n",
        "    print(salam1)\n",
        "  else:\n",
        "    print(salam2)\n",
        "  x+=1"
      ],
      "metadata": {
        "colab": {
          "base_uri": "https://localhost:8080/"
        },
        "id": "shUWyAJTzvCw",
        "outputId": "b493d973-67ba-40fa-a542-e6b816c70bcb"
      },
      "execution_count": 65,
      "outputs": [
        {
          "output_type": "stream",
          "name": "stdout",
          "text": [
            "Halo\n",
            "Hei\n",
            "Halo\n",
            "Hei\n",
            "Halo\n",
            "Hei\n",
            "Halo\n",
            "Hei\n",
            "Halo\n",
            "Hei\n",
            "Halo\n",
            "Hei\n",
            "Halo\n",
            "Hei\n",
            "Halo\n",
            "Hei\n",
            "Halo\n",
            "Hei\n",
            "Halo\n",
            "Hei\n",
            "Halo\n",
            "Hei\n",
            "Halo\n",
            "Hei\n",
            "Halo\n",
            "Hei\n",
            "Halo\n",
            "Hei\n",
            "Halo\n",
            "Hei\n",
            "Halo\n",
            "Hei\n",
            "Halo\n",
            "Hei\n",
            "Halo\n",
            "Hei\n",
            "Halo\n",
            "Hei\n",
            "Halo\n",
            "Hei\n",
            "Halo\n",
            "Hei\n",
            "Halo\n",
            "Hei\n",
            "Halo\n",
            "Hei\n",
            "Halo\n",
            "Hei\n",
            "Halo\n",
            "Hei\n",
            "Halo\n",
            "Hei\n",
            "Halo\n",
            "Hei\n",
            "Halo\n",
            "Hei\n",
            "Halo\n",
            "Hei\n",
            "Halo\n",
            "Hei\n",
            "Halo\n",
            "Hei\n",
            "Halo\n",
            "Hei\n",
            "Halo\n",
            "Hei\n",
            "Halo\n",
            "Hei\n",
            "Halo\n",
            "Hei\n",
            "Halo\n",
            "Hei\n",
            "Halo\n",
            "Hei\n",
            "Halo\n",
            "Hei\n",
            "Halo\n",
            "Hei\n",
            "Halo\n",
            "Hei\n",
            "Halo\n",
            "Hei\n",
            "Halo\n",
            "Hei\n",
            "Halo\n",
            "Hei\n",
            "Halo\n",
            "Hei\n",
            "Halo\n",
            "Hei\n",
            "Halo\n",
            "Hei\n",
            "Halo\n",
            "Hei\n",
            "Halo\n",
            "Hei\n",
            "Halo\n",
            "Hei\n",
            "Halo\n"
          ]
        }
      ]
    },
    {
      "cell_type": "markdown",
      "source": [
        "# **Pembahasan No 5**"
      ],
      "metadata": {
        "id": "xdalw-j541Kq"
      }
    },
    {
      "cell_type": "code",
      "source": [
        "p1win = \"Player 1 Menang.\"\n",
        "p2win = \"Player 2 Menang.\"\n",
        "\n",
        "\n",
        "while True:\n",
        "      p1 = str(input(\"Player 1 : \"))\n",
        "      p2 = str(input(\"Player 2 : \"))\n",
        "\n",
        "      if (p1 == p2 and (p1 == \"batu\" or p1 == \"kertas\" or p1 == \"Gunting\")):\n",
        "          print (\"Seri\")\n",
        "      elif (p1 == \"batu\"):\n",
        "          if (p2 == \"gunting\"):\n",
        "              print(p1win)\n",
        "          elif (p2 == \"kertas\"):\n",
        "              print(p2win)\n",
        "          else:\n",
        "              print(\"Inputan salah\")\n",
        "      elif (p1 == \"gunting\"):\n",
        "          if (p2 == \"kertas\"):\n",
        "              print(p1win)\n",
        "          elif (p2 == \"batu\"):\n",
        "              print(p2win)\n",
        "          else:\n",
        "              print(\"Inputan anda salah.\")\n",
        "      elif (p1 == \"kertas\"):\n",
        "          if (p2 == \"batu\"):\n",
        "              print(p1win)\n",
        "          elif (p2 == \"gunting\"):\n",
        "              print(p2win)\n",
        "          else:\n",
        "              print(\"Inputan salah\")\n",
        "      else:\n",
        "          print(\"Inputan anda salah\")\n",
        "      if input(str(\"Mau bermain lagi?\"))!='y':\n",
        "        break"
      ],
      "metadata": {
        "colab": {
          "base_uri": "https://localhost:8080/"
        },
        "id": "M-AMEhEclegG",
        "outputId": "57764136-9390-4120-db65-ba7b68255e6b"
      },
      "execution_count": 62,
      "outputs": [
        {
          "name": "stdout",
          "output_type": "stream",
          "text": [
            "Player 1 : kertas\n",
            "Player 2 : gunting\n",
            "Player 2 Menang.\n",
            "Mau bermain lagi?n\n"
          ]
        }
      ]
    },
    {
      "cell_type": "markdown",
      "source": [
        "# **Pembahasan No 6**"
      ],
      "metadata": {
        "id": "HJrHJSTy42b0"
      }
    },
    {
      "cell_type": "code",
      "execution_count": 5,
      "metadata": {
        "colab": {
          "base_uri": "https://localhost:8080/"
        },
        "id": "zdeak8Bjg4zZ",
        "outputId": "38f97f3d-be63-4189-d9a0-dcd76565ec72"
      },
      "outputs": [
        {
          "name": "stdout",
          "output_type": "stream",
          "text": [
            "Masukkan Sesuatu :aku \n",
            "Masukkan Sesuatu :hafizh\n",
            "Masukkan Sesuatu :berhenti\n"
          ]
        }
      ],
      "source": [
        "while True:\n",
        "  something = input(\"Masukkan Sesuatu :\")\n",
        "  if(something == \"berhenti\"):\n",
        "    break"
      ]
    },
    {
      "cell_type": "markdown",
      "source": [
        "# **Pembahasan No 7**"
      ],
      "metadata": {
        "id": "9JDMjvSO43wa"
      }
    },
    {
      "cell_type": "code",
      "source": [
        "while True:\n",
        "  #pilih Menu Makanan\n",
        "  print(\"1. Donat - Rp 1250\")\n",
        "  print(\"2. Bakwan - Rp 1000\")\n",
        "  print(\"3. Onde-onde - Rp 800\")\n",
        "  print(\"4. Lemper  - Rp 1250\")\n",
        "  print(\"5. Risol - Rp 1500 \")\n",
        "\n",
        "  #Masukan Input\n",
        "  print(\"Masukkan Menu dengan nomor : (1,2,3,4,5)\")\n",
        "  print(\"Pilih Menu Makanan : \")\n",
        "  choice = input()\n",
        "\n",
        "  if choice == '1':\n",
        "    print(\"Kamu memesan Donat dengan harga Rp 1250, terima kasih sudah berbelanja!\")\n",
        "  elif choice == '2':\n",
        "    print(\"Kamu memesan Bakwan dengan harga Rp 1000, terima kasih sudah berbelanja!\")\n",
        "  elif choice == '3':\n",
        "    print(\"Kamu memesan Onde-Onde dengan harga Rp 800, terima kasih sudah berbelanja!\")\n",
        "  elif choice == '4':\n",
        "    print(\"Kamu memesan Lemper dengan harga Rp 1250, terima kasih sudah berbelanja!\")\n",
        "  elif choice == '5':\n",
        "    print(\"Kamu memesan Risol dengan harga Rp 1500, terima kasih sudah berbelanja!\")\n",
        "  else:\n",
        "    print(\"Inputan anda salah tehe...\")\n",
        "\n",
        "  if input(str(\"Mau pesan lagi?\"))=='cukup':\n",
        "     print(\"Terima kasih sudah berbelanja jajanan pasar kami!\")\n",
        "     break"
      ],
      "metadata": {
        "colab": {
          "base_uri": "https://localhost:8080/"
        },
        "id": "j0b6zKVwhyYl",
        "outputId": "215b6b42-e9c1-4aee-b547-317106100e83"
      },
      "execution_count": 7,
      "outputs": [
        {
          "name": "stdout",
          "output_type": "stream",
          "text": [
            "1. Donat - Rp 1250\n",
            "2. Bakwan - Rp 1000\n",
            "3. Onde-onde - Rp 800\n",
            "4. Lemper  - Rp 1250\n",
            "5. Risol - Rp 1500 \n",
            "Masukkan Menu dengan nomor : (1,2,3,4,5)\n",
            "Pilih Menu Makanan : \n",
            "2\n",
            "Kamu memesan Bakwan dengan harga Rp 1000, terima kasih sudah berbelanja!\n",
            "Mau pesan lagi?cukup\n"
          ]
        }
      ]
    },
    {
      "cell_type": "markdown",
      "source": [
        "# **Pembahasan No 8**"
      ],
      "metadata": {
        "id": "3PQljbdj45xw"
      }
    },
    {
      "cell_type": "code",
      "source": [
        "while True:\n",
        "  #pilih Menu Makanan\n",
        "  print(\"1. Donat - Rp 1250\")\n",
        "  print(\"2. Bakwan - Rp 1000\")\n",
        "  print(\"3. Onde-onde - Rp 800\")\n",
        "  print(\"4. Lemper  - Rp 1250\")\n",
        "  print(\"5. Risol - Rp 1500 \")\n",
        "\n",
        "  #Masukan Input\n",
        "  print(\"Masukkan Menu dengan nomor : (1,2,3,4,5)\")\n",
        "  choice = (input(\"Pilih Menu Makanan : \"))\n",
        "  if choice == '1':\n",
        "      pesan = input(\"Ingin pesan berapa : \")\n",
        "      if pesan.isalpha():\n",
        "       print(\"Inputan berupa alphabet Masukkan input dengan benar\")\n",
        "      else:\n",
        "       hargaDonut = int(pesan) * 1250\n",
        "       print(\"Kamu memesan Donat sebanyak \"+str(pesan)+\" dengan harga Rp \"+str(hargaDonut)+\", terima kasih sudah berbelanja!\")\n",
        "  elif choice == '2':\n",
        "      pesan = input(\"Ingin pesan berapa : \")\n",
        "      if pesan.isalpha():\n",
        "       print(\"Inputan berupa alphabet Masukkan input dengan benar\")\n",
        "      else:\n",
        "       hargaBakwan = int(pesan) * 1000\n",
        "       print(\"Kamu memesan bakwan sebanyak \"+str(pesan)+\" dengan harga Rp \"+str(hargaBakwan)+\", terima kasih sudah berbelanja!\")\n",
        "  elif choice == '3':\n",
        "      pesan = input(\"Ingin pesan berapa : \")\n",
        "      if pesan.isalpha():\n",
        "       print(\"Inputan berupa alphabet Masukkan input dengan benar\")\n",
        "      else:\n",
        "       hargaOnde = int(pesan) * 800\n",
        "       print(\"Kamu memesan Onde-Onde sebanyak \"+str(pesan)+\" dengan harga Rp \"+str(hargaOnde)+\", terima kasih sudah berbelanja!\")\n",
        "  elif choice == '4':\n",
        "      pesan = input(\"Ingin pesan berapa : \")\n",
        "      if pesan.isalpha():\n",
        "       print(\"Inputan berupa alphabet Masukkan input dengan benar\")\n",
        "      else:\n",
        "       hargaLemper = int(pesan) * 1250\n",
        "       print(\"Kamu memesan Lemper sebanyak \"+str(pesan)+\" dengan harga Rp \"+str(hargaLemper)+\", terima kasih sudah berbelanja!\")\n",
        "  elif choice == '5':\n",
        "      pesan = input(\"Ingin pesan berapa : \")\n",
        "      if pesan.isalpha():\n",
        "       print(\"Inputan berupa alphabet Masukkan input dengan benar\")\n",
        "      else:\n",
        "       hargaRisol = int(pesan) * 1500\n",
        "       print(\"Kamu memesan Risol sebanyak \"+str(pesan)+\" dengan harga Rp \"+str(hargaRisol)+\", terima kasih sudah berbelanja!\") \n",
        "  else:\n",
        "    print(\"Inputan anda salah tehe...\")\n",
        "  if input(str(\"Mau pesan lagi?\"))=='cukup': \n",
        "    print(\"Terima kasih sudah berbelanja jajanan pasar kami!\")\n",
        "    break"
      ],
      "metadata": {
        "colab": {
          "base_uri": "https://localhost:8080/"
        },
        "id": "5YoYMlfEjXY1",
        "outputId": "ab43e53b-e592-4635-fd80-ef9a95afe9ba"
      },
      "execution_count": 72,
      "outputs": [
        {
          "output_type": "stream",
          "name": "stdout",
          "text": [
            "1. Donat - Rp 1250\n",
            "2. Bakwan - Rp 1000\n",
            "3. Onde-onde - Rp 800\n",
            "4. Lemper  - Rp 1250\n",
            "5. Risol - Rp 1500 \n",
            "Masukkan Menu dengan nomor : (1,2,3,4,5)\n",
            "Pilih Menu Makanan : 2\n",
            "Ingin pesan berapa : 5\n",
            "Kamu memesan bakwan sebanyak 5 dengan harga Rp 5000, terima kasih sudah berbelanja!\n",
            "Mau pesan lagi?y\n",
            "1. Donat - Rp 1250\n",
            "2. Bakwan - Rp 1000\n",
            "3. Onde-onde - Rp 800\n",
            "4. Lemper  - Rp 1250\n",
            "5. Risol - Rp 1500 \n",
            "Masukkan Menu dengan nomor : (1,2,3,4,5)\n",
            "Pilih Menu Makanan : 5\n",
            "Ingin pesan berapa : 10\n",
            "Kamu memesan Risol sebanyak 10 dengan harga Rp 15000, terima kasih sudah berbelanja!\n",
            "Mau pesan lagi?cukup\n",
            "Terima kasih sudah berbelanja jajanan pasar kami!\n"
          ]
        }
      ]
    }
  ]
}