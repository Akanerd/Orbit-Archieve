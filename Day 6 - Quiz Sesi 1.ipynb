{
  "nbformat": 4,
  "nbformat_minor": 0,
  "metadata": {
    "colab": {
      "name": "Day 6 - Quiz Sesi 1.ipynb",
      "provenance": [],
      "collapsed_sections": [],
      "authorship_tag": "ABX9TyPu2KCtWukb2wWRtyN6Hg91",
      "include_colab_link": true
    },
    "kernelspec": {
      "name": "python3",
      "display_name": "Python 3"
    },
    "language_info": {
      "name": "python"
    }
  },
  "cells": [
    {
      "cell_type": "markdown",
      "metadata": {
        "id": "view-in-github",
        "colab_type": "text"
      },
      "source": [
        "<a href=\"https://colab.research.google.com/github/Akanerd/Orbit-Archieve/blob/main/Day%206%20-%20Quiz%20Sesi%201.ipynb\" target=\"_parent\"><img src=\"https://colab.research.google.com/assets/colab-badge.svg\" alt=\"Open In Colab\"/></a>"
      ]
    },
    {
      "cell_type": "code",
      "source": [
        "a = False\n",
        "b = True\n",
        "c = False\n",
        "print(b and c) #False\n",
        "print(b or c) # True\n",
        "print(not a and c) # False\n",
        "print( (a and b) or not c) # True\n",
        "print(not b and not (a or c)) #False"
      ],
      "metadata": {
        "colab": {
          "base_uri": "https://localhost:8080/"
        },
        "id": "3z3STl4z13gx",
        "outputId": "036be0ae-db13-4034-c17f-0a9626877bfc"
      },
      "execution_count": 71,
      "outputs": [
        {
          "output_type": "stream",
          "name": "stdout",
          "text": [
            "False\n",
            "True\n",
            "False\n",
            "True\n",
            "False\n"
          ]
        }
      ]
    },
    {
      "cell_type": "code",
      "source": [
        "print(\"Hello!\")\n",
        "something = input(\"Enter Something :\") \n",
        "print(\"You entered:\", something)"
      ],
      "metadata": {
        "colab": {
          "base_uri": "https://localhost:8080/"
        },
        "id": "NeiSSBaL1nXg",
        "outputId": "b7d711ce-6e8f-442b-8459-40c7b8a9e8d2"
      },
      "execution_count": 69,
      "outputs": [
        {
          "output_type": "stream",
          "name": "stdout",
          "text": [
            "Hello!\n",
            "Enter Something :oke\n",
            "You entered: oke\n"
          ]
        }
      ]
    },
    {
      "cell_type": "code",
      "source": [
        "print(\"Hello!\")\n",
        "something = input(\"Enter Something :\")\n",
        "if something == 'hello':\n",
        " print(\"Hello for you too!\")\n",
        "elif something == 'hi':\n",
        "  print('Hi there!')\n",
        "else:\n",
        "  print(\"I don't know what,\",something,\"means\")"
      ],
      "metadata": {
        "colab": {
          "base_uri": "https://localhost:8080/"
        },
        "id": "yiBCl03s0iAI",
        "outputId": "303342ba-6552-45da-cea0-6dfb5b96a356"
      },
      "execution_count": 67,
      "outputs": [
        {
          "output_type": "stream",
          "name": "stdout",
          "text": [
            "Hello!\n",
            "Enter Something :upi\n",
            "I don't know what, upi means\n"
          ]
        }
      ]
    },
    {
      "cell_type": "code",
      "source": [
        "salam1 = \"Halo\"\n",
        "salam2 = \"Hei\"\n",
        "for x in range(99):\n",
        "  if(x %2 == 0 ):\n",
        "    print(salam1)\n",
        "  else:\n",
        "    print(salam2)\n",
        "  x+=1"
      ],
      "metadata": {
        "colab": {
          "base_uri": "https://localhost:8080/"
        },
        "id": "shUWyAJTzvCw",
        "outputId": "b493d973-67ba-40fa-a542-e6b816c70bcb"
      },
      "execution_count": 65,
      "outputs": [
        {
          "output_type": "stream",
          "name": "stdout",
          "text": [
            "Halo\n",
            "Hei\n",
            "Halo\n",
            "Hei\n",
            "Halo\n",
            "Hei\n",
            "Halo\n",
            "Hei\n",
            "Halo\n",
            "Hei\n",
            "Halo\n",
            "Hei\n",
            "Halo\n",
            "Hei\n",
            "Halo\n",
            "Hei\n",
            "Halo\n",
            "Hei\n",
            "Halo\n",
            "Hei\n",
            "Halo\n",
            "Hei\n",
            "Halo\n",
            "Hei\n",
            "Halo\n",
            "Hei\n",
            "Halo\n",
            "Hei\n",
            "Halo\n",
            "Hei\n",
            "Halo\n",
            "Hei\n",
            "Halo\n",
            "Hei\n",
            "Halo\n",
            "Hei\n",
            "Halo\n",
            "Hei\n",
            "Halo\n",
            "Hei\n",
            "Halo\n",
            "Hei\n",
            "Halo\n",
            "Hei\n",
            "Halo\n",
            "Hei\n",
            "Halo\n",
            "Hei\n",
            "Halo\n",
            "Hei\n",
            "Halo\n",
            "Hei\n",
            "Halo\n",
            "Hei\n",
            "Halo\n",
            "Hei\n",
            "Halo\n",
            "Hei\n",
            "Halo\n",
            "Hei\n",
            "Halo\n",
            "Hei\n",
            "Halo\n",
            "Hei\n",
            "Halo\n",
            "Hei\n",
            "Halo\n",
            "Hei\n",
            "Halo\n",
            "Hei\n",
            "Halo\n",
            "Hei\n",
            "Halo\n",
            "Hei\n",
            "Halo\n",
            "Hei\n",
            "Halo\n",
            "Hei\n",
            "Halo\n",
            "Hei\n",
            "Halo\n",
            "Hei\n",
            "Halo\n",
            "Hei\n",
            "Halo\n",
            "Hei\n",
            "Halo\n",
            "Hei\n",
            "Halo\n",
            "Hei\n",
            "Halo\n",
            "Hei\n",
            "Halo\n",
            "Hei\n",
            "Halo\n",
            "Hei\n",
            "Halo\n",
            "Hei\n",
            "Halo\n"
          ]
        }
      ]
    },
    {
      "cell_type": "code",
      "source": [
        "p1win = \"Player 1 Menang.\"\n",
        "p2win = \"Player 2 Menang.\"\n",
        "\n",
        "\n",
        "while True:\n",
        "      p1 = str(input(\"Player 1 : \"))\n",
        "      p2 = str(input(\"Player 2 : \"))\n",
        "\n",
        "      if (p1 == p2 and (p1 == \"batu\" or p1 == \"kertas\" or p1 == \"Gunting\")):\n",
        "          print (\"Seri\")\n",
        "      elif (p1 == \"batu\"):\n",
        "          if (p2 == \"gunting\"):\n",
        "              print(p1win)\n",
        "          elif (p2 == \"kertas\"):\n",
        "              print(p2win)\n",
        "          else:\n",
        "              print(\"Inputan salah\")\n",
        "      elif (p1 == \"gunting\"):\n",
        "          if (p2 == \"kertas\"):\n",
        "              print(p1win)\n",
        "          elif (p2 == \"batu\"):\n",
        "              print(p2win)\n",
        "          else:\n",
        "              print(\"Inputan anda salah.\")\n",
        "      elif (p1 == \"kertas\"):\n",
        "          if (p2 == \"batu\"):\n",
        "              print(p1win)\n",
        "          elif (p2 == \"gunting\"):\n",
        "              print(p2win)\n",
        "          else:\n",
        "              print(\"Inputan salah\")\n",
        "      else:\n",
        "          print(\"Inputan anda salah\")\n",
        "      if input(str(\"Mau bermain lagi?\"))!='y':\n",
        "        break"
      ],
      "metadata": {
        "colab": {
          "base_uri": "https://localhost:8080/"
        },
        "id": "M-AMEhEclegG",
        "outputId": "57764136-9390-4120-db65-ba7b68255e6b"
      },
      "execution_count": 62,
      "outputs": [
        {
          "name": "stdout",
          "output_type": "stream",
          "text": [
            "Player 1 : kertas\n",
            "Player 2 : gunting\n",
            "Player 2 Menang.\n",
            "Mau bermain lagi?n\n"
          ]
        }
      ]
    },
    {
      "cell_type": "code",
      "execution_count": 5,
      "metadata": {
        "colab": {
          "base_uri": "https://localhost:8080/"
        },
        "id": "zdeak8Bjg4zZ",
        "outputId": "38f97f3d-be63-4189-d9a0-dcd76565ec72"
      },
      "outputs": [
        {
          "name": "stdout",
          "output_type": "stream",
          "text": [
            "Masukkan Sesuatu :aku \n",
            "Masukkan Sesuatu :hafizh\n",
            "Masukkan Sesuatu :berhenti\n"
          ]
        }
      ],
      "source": [
        "while True:\n",
        "  something = input(\"Masukkan Sesuatu :\")\n",
        "  if(something == \"berhenti\"):\n",
        "    break"
      ]
    },
    {
      "cell_type": "code",
      "source": [
        "while True:\n",
        "  #pilih Menu Makanan\n",
        "  print(\"1. Donat - Rp 1250\")\n",
        "  print(\"2. Bakwan - Rp 1000\")\n",
        "  print(\"3. Onde-onde - Rp 800\")\n",
        "  print(\"4. Lemper  - Rp 1250\")\n",
        "  print(\"5. Risol - Rp 1500 \")\n",
        "\n",
        "  #Masukan Input\n",
        "  print(\"Masukkan Menu dengan nomor : (1,2,3,4,5)\")\n",
        "  print(\"Pilih Menu Makanan : \")\n",
        "  choice = input()\n",
        "\n",
        "  if choice == '1':\n",
        "    print(\"Kamu memesan Donat dengan harga Rp 1250, terima kasih sudah berbelanja!\")\n",
        "  elif choice == '2':\n",
        "    print(\"Kamu memesan Bakwan dengan harga Rp 1000, terima kasih sudah berbelanja!\")\n",
        "  elif choice == '3':\n",
        "    print(\"Kamu memesan Onde-Onde dengan harga Rp 800, terima kasih sudah berbelanja!\")\n",
        "  elif choice == '4':\n",
        "    print(\"Kamu memesan Lemper dengan harga Rp 1250, terima kasih sudah berbelanja!\")\n",
        "  elif choice == '5':\n",
        "    print(\"Kamu memesan Risol dengan harga Rp 1500, terima kasih sudah berbelanja!\")\n",
        "  else:\n",
        "    print(\"Inputan anda salah tehe...\")\n",
        "\n",
        "  if input(str(\"Mau pesan lagi?\"))=='cukup':\n",
        "     print(\"Terima kasih sudah berbelanja jajanan pasar kami!\")\n",
        "     break"
      ],
      "metadata": {
        "colab": {
          "base_uri": "https://localhost:8080/"
        },
        "id": "j0b6zKVwhyYl",
        "outputId": "215b6b42-e9c1-4aee-b547-317106100e83"
      },
      "execution_count": 7,
      "outputs": [
        {
          "name": "stdout",
          "output_type": "stream",
          "text": [
            "1. Donat - Rp 1250\n",
            "2. Bakwan - Rp 1000\n",
            "3. Onde-onde - Rp 800\n",
            "4. Lemper  - Rp 1250\n",
            "5. Risol - Rp 1500 \n",
            "Masukkan Menu dengan nomor : (1,2,3,4,5)\n",
            "Pilih Menu Makanan : \n",
            "2\n",
            "Kamu memesan Bakwan dengan harga Rp 1000, terima kasih sudah berbelanja!\n",
            "Mau pesan lagi?cukup\n"
          ]
        }
      ]
    },
    {
      "cell_type": "code",
      "source": [
        "while True:\n",
        "  #pilih Menu Makanan\n",
        "  print(\"1. Donat - Rp 1250\")\n",
        "  print(\"2. Bakwan - Rp 1000\")\n",
        "  print(\"3. Onde-onde - Rp 800\")\n",
        "  print(\"4. Lemper  - Rp 1250\")\n",
        "  print(\"5. Risol - Rp 1500 \")\n",
        "\n",
        "  #Masukan Input\n",
        "  print(\"Masukkan Menu dengan nomor : (1,2,3,4,5)\")\n",
        "  choice = (input(\"Pilih Menu Makanan : \"))\n",
        "  if choice == '1':\n",
        "      pesan = input(\"Ingin pesan berapa : \")\n",
        "      if pesan.isalpha():\n",
        "       print(\"Inputan berupa alphabet Masukkan input dengan benar\")\n",
        "      else:\n",
        "       hargaDonut = int(pesan) * 1250\n",
        "       print(\"Kamu memesan Donat sebanyak \"+str(pesan)+\" dengan harga Rp \"+str(hargaDonut)+\", terima kasih sudah berbelanja!\")\n",
        "  elif choice == '2':\n",
        "      pesan = input(\"Ingin pesan berapa : \")\n",
        "      if pesan.isalpha():\n",
        "       print(\"Inputan berupa alphabet Masukkan input dengan benar\")\n",
        "      else:\n",
        "       hargaBakwan = int(pesan) * 1000\n",
        "       print(\"Kamu memesan bakwan sebanyak \"+str(pesan)+\" dengan harga Rp \"+str(hargaBakwan)+\", terima kasih sudah berbelanja!\")\n",
        "  elif choice == '3':\n",
        "      pesan = input(\"Ingin pesan berapa : \")\n",
        "      if pesan.isalpha():\n",
        "       print(\"Inputan berupa alphabet Masukkan input dengan benar\")\n",
        "      else:\n",
        "       hargaOnde = int(pesan) * 800\n",
        "       print(\"Kamu memesan Onde-Onde sebanyak \"+str(pesan)+\" dengan harga Rp \"+str(hargaOnde)+\", terima kasih sudah berbelanja!\")\n",
        "  elif choice == '4':\n",
        "      pesan = input(\"Ingin pesan berapa : \")\n",
        "      if pesan.isalpha():\n",
        "       print(\"Inputan berupa alphabet Masukkan input dengan benar\")\n",
        "      else:\n",
        "       hargaLemper = int(pesan) * 1250\n",
        "       print(\"Kamu memesan Lemper sebanyak \"+str(pesan)+\" dengan harga Rp \"+str(hargaLemper)+\", terima kasih sudah berbelanja!\")\n",
        "  elif choice == '5':\n",
        "      pesan = input(\"Ingin pesan berapa : \")\n",
        "      if pesan.isalpha():\n",
        "       print(\"Inputan berupa alphabet Masukkan input dengan benar\")\n",
        "      else:\n",
        "       hargaRisol = int(pesan) * 1500\n",
        "       print(\"Kamu memesan Risol sebanyak \"+str(pesan)+\" dengan harga Rp \"+str(hargaRisol)+\", terima kasih sudah berbelanja!\") \n",
        "  else:\n",
        "    print(\"Inputan anda salah tehe...\")\n",
        "  if input(str(\"Mau pesan lagi?\"))=='cukup': \n",
        "    break"
      ],
      "metadata": {
        "colab": {
          "base_uri": "https://localhost:8080/"
        },
        "id": "5YoYMlfEjXY1",
        "outputId": "f4b58a61-8620-4c91-92d1-2ca21358bd80"
      },
      "execution_count": 58,
      "outputs": [
        {
          "name": "stdout",
          "output_type": "stream",
          "text": [
            "1. Donat - Rp 1250\n",
            "2. Bakwan - Rp 1000\n",
            "3. Onde-onde - Rp 800\n",
            "4. Lemper  - Rp 1250\n",
            "5. Risol - Rp 1500 \n",
            "Masukkan Menu dengan nomor : (1,2,3,4,5)\n",
            "Pilih Menu Makanan : 1\n",
            "Ingin pesan berapa : 2\n",
            "Kamu memesan Donat sebanyak 2 dengan harga Rp 2500, terima kasih sudah berbelanja!\n",
            "Mau pesan lagi?y\n",
            "1. Donat - Rp 1250\n",
            "2. Bakwan - Rp 1000\n",
            "3. Onde-onde - Rp 800\n",
            "4. Lemper  - Rp 1250\n",
            "5. Risol - Rp 1500 \n",
            "Masukkan Menu dengan nomor : (1,2,3,4,5)\n",
            "Pilih Menu Makanan : 2\n",
            "Ingin pesan berapa : 2\n",
            "Kamu memesan bakwan sebanyak 2 dengan harga Rp 2000, terima kasih sudah berbelanja!\n",
            "Mau pesan lagi?cukup\n"
          ]
        }
      ]
    }
  ]
}