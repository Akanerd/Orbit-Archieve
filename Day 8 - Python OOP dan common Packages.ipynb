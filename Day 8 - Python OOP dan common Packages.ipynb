{
  "nbformat": 4,
  "nbformat_minor": 0,
  "metadata": {
    "colab": {
      "name": "Day 8 - Python OOP dan common Packages .ipynb",
      "provenance": [],
      "collapsed_sections": [],
      "authorship_tag": "ABX9TyNoM8C+e63JfHJ6xPzdU/Z6",
      "include_colab_link": true
    },
    "kernelspec": {
      "name": "python3",
      "display_name": "Python 3"
    },
    "language_info": {
      "name": "python"
    }
  },
  "cells": [
    {
      "cell_type": "markdown",
      "metadata": {
        "id": "view-in-github",
        "colab_type": "text"
      },
      "source": [
        "<a href=\"https://colab.research.google.com/github/Akanerd/Orbit-Archieve/blob/main/Day%208%20-%20Python%20OOP%20dan%20common%20Packages.ipynb\" target=\"_parent\"><img src=\"https://colab.research.google.com/assets/colab-badge.svg\" alt=\"Open In Colab\"/></a>"
      ]
    },
    {
      "cell_type": "markdown",
      "source": [
        "# **Python Class Dan Object**"
      ],
      "metadata": {
        "id": "dT7xtSpw-6Ta"
      }
    },
    {
      "cell_type": "code",
      "source": [
        "class course:\n",
        "  name = \"\"\n",
        "  duration = 0"
      ],
      "metadata": {
        "id": "235fySqb-5bE"
      },
      "execution_count": 1,
      "outputs": []
    },
    {
      "cell_type": "code",
      "source": [
        "c1 = course()\n",
        "c1.name = \"Programming\"\n",
        "c1.duration = 120\n",
        "print(c1.name)\n",
        "print(c1.duration)"
      ],
      "metadata": {
        "colab": {
          "base_uri": "https://localhost:8080/"
        },
        "id": "o7gIcXaM_TwK",
        "outputId": "198d851a-46cd-4ec0-c87f-ab3dd3e2ae42"
      },
      "execution_count": 2,
      "outputs": [
        {
          "output_type": "stream",
          "name": "stdout",
          "text": [
            "Programming\n",
            "120\n"
          ]
        }
      ]
    },
    {
      "cell_type": "markdown",
      "source": [
        "Python Class Dan Object bagian 2"
      ],
      "metadata": {
        "id": "SWzxNrcH_wPy"
      }
    },
    {
      "cell_type": "code",
      "source": [
        "class mobil:\n",
        "  roda = 4\n",
        "  def __init__(self,merk,warna):\n",
        "    self.merk = merk\n",
        "    self.warna = warna\n",
        " \n",
        "  def showdescription(self):\n",
        "    print(\"mobil merk {} dan warna {}\".format(self.merk,self.warna))\n",
        "  def changecolor(self,warna):\n",
        "    self.warna = warna"
      ],
      "metadata": {
        "id": "0vj5kbyr_wnT"
      },
      "execution_count": 3,
      "outputs": []
    },
    {
      "cell_type": "code",
      "source": [
        "m1 =mobil('tesla', 'hitam')\n",
        "m1.showdescription();\n",
        "m1.changecolor('biru')\n",
        "m1.showdescription()\n",
        "\n",
        "m2 =mobil('Subaru', 'hitam')\n",
        "m2.showdescription();\n",
        "m2.changecolor('biru')\n",
        "m2.showdescription()"
      ],
      "metadata": {
        "colab": {
          "base_uri": "https://localhost:8080/"
        },
        "id": "BVgr5AQ8BZHj",
        "outputId": "a9644456-d7af-46ae-c83d-bad92f34022b"
      },
      "execution_count": 4,
      "outputs": [
        {
          "output_type": "stream",
          "name": "stdout",
          "text": [
            "mobil merk tesla dan warna hitam\n",
            "mobil merk tesla dan warna biru\n",
            "mobil merk Subaru dan warna hitam\n",
            "mobil merk Subaru dan warna biru\n"
          ]
        }
      ]
    },
    {
      "cell_type": "markdown",
      "source": [
        "# **Method Inside The class**"
      ],
      "metadata": {
        "id": "E_NYG6hxDf8b"
      }
    },
    {
      "cell_type": "code",
      "source": [
        "class employee:\n",
        "  empcount = 0  \n",
        "  def __init__(self,name,salary):\n",
        "      self.name = name\n",
        "      self.salary = salary\n",
        "      employee.empcount +=1\n",
        "  def display_count(self):\n",
        "    print(\"Total karyawan : {}\".format(employee.empcount))\n",
        "  def display_employee(self):\n",
        "    print(\"nama = {} dan gaji = {}\".format(self.name,self.salary))\n",
        "\n",
        "class manager(employee):\n",
        "  mngcount = 0\n",
        "  def __init__(self,name,salary,teamsize):\n",
        "    super().__init__(name,salary)\n",
        "    self.teamsize = teamsize\n",
        "    manager.mngcount +=1\n",
        "  def display_teamsize(self):\n",
        "    print(\"teamsize = {}\".format(self.teamsize))"
      ],
      "metadata": {
        "id": "xjDm4R2MEUpj"
      },
      "execution_count": 5,
      "outputs": []
    },
    {
      "cell_type": "code",
      "source": [
        "e1 = employee('John',2500)\n",
        "e2 = employee('sarah',2500)\n",
        "e1.display_employee()\n",
        "e1.display_count()\n",
        "e2.display_employee()\n",
        "e2.display_count()\n"
      ],
      "metadata": {
        "colab": {
          "base_uri": "https://localhost:8080/"
        },
        "id": "ZHGxRGwxF0b9",
        "outputId": "a19ab9b2-ba5b-4d5c-9a02-547b6f41263b"
      },
      "execution_count": 6,
      "outputs": [
        {
          "output_type": "stream",
          "name": "stdout",
          "text": [
            "nama = John dan gaji = 2500\n",
            "Total karyawan : 2\n",
            "nama = sarah dan gaji = 2500\n",
            "Total karyawan : 2\n"
          ]
        }
      ]
    },
    {
      "cell_type": "markdown",
      "source": [
        "# **Inheritance Pada Python**"
      ],
      "metadata": {
        "id": "z7f1bSnuLtLh"
      }
    },
    {
      "cell_type": "code",
      "source": [
        "mng1 = manager('hss',2500,4)\n",
        "mng1.display_employee()\n",
        "mng1.display_teamsize()\n",
        "mng1.display_count()"
      ],
      "metadata": {
        "colab": {
          "base_uri": "https://localhost:8080/"
        },
        "id": "f9PynnpeKpFh",
        "outputId": "72a60779-53c7-4d29-9bc1-f3e3d89f194d"
      },
      "execution_count": 7,
      "outputs": [
        {
          "output_type": "stream",
          "name": "stdout",
          "text": [
            "nama = hss dan gaji = 2500\n",
            "teamsize = 4\n",
            "Total karyawan : 3\n"
          ]
        }
      ]
    },
    {
      "cell_type": "markdown",
      "source": [
        "# **Python Modules dan built Modules**"
      ],
      "metadata": {
        "id": "uu_MF9-vOf-H"
      }
    },
    {
      "cell_type": "markdown",
      "source": [
        "**Python Built in Modules**"
      ],
      "metadata": {
        "id": "0-GJFEJ-PVR7"
      }
    },
    {
      "cell_type": "code",
      "source": [
        "import statistics\n",
        "\n",
        "x = [4,5,4,4,5,6,7,7,8,8,9,2,3,5,6,6,6]\n",
        "mean = statistics.mean(x)\n",
        "print(mean)\n",
        "median = statistics.median(x)\n",
        "print(median)\n",
        "modus = statistics.mode(x)\n",
        "print(modus)\n",
        "standardeviasi = statistics.stdev(x)\n",
        "print(standardeviasi)"
      ],
      "metadata": {
        "colab": {
          "base_uri": "https://localhost:8080/"
        },
        "id": "qWgtfInDOcQi",
        "outputId": "f8306ab9-0246-4d89-d5af-c0872c8547b4"
      },
      "execution_count": 13,
      "outputs": [
        {
          "output_type": "stream",
          "name": "stdout",
          "text": [
            "5.588235294117647\n",
            "6\n",
            "6\n",
            "1.8727928185403933\n"
          ]
        }
      ]
    },
    {
      "cell_type": "markdown",
      "source": [
        "# **Modules pada Python**"
      ],
      "metadata": {
        "id": "x3lAJsgKVVCu"
      }
    },
    {
      "cell_type": "markdown",
      "source": [
        "Modules OS"
      ],
      "metadata": {
        "id": "m4IJGljAXI3c"
      }
    },
    {
      "cell_type": "code",
      "source": [
        "from genericpath import getctime\n",
        "import os\n",
        "print(\"number of cores in processor :\",os.cpu_count())\n",
        "print(\"Cureent Directory : {} \".format(os.getcwd()))\n",
        "print(\"Is my code directory : {} \".format(os.path.isdir(\"mycodes\")))\n",
        "os.mkdir(\"mycodes\")\n",
        "print(\"Is my code directory : {} \".format(os.path.isdir(\"mycodes\")))\n",
        "os.path.getctime(\"mycodes\")"
      ],
      "metadata": {
        "colab": {
          "base_uri": "https://localhost:8080/"
        },
        "id": "ogH5unmXVZ02",
        "outputId": "16a26135-3573-461b-82fd-cd2772739400"
      },
      "execution_count": 19,
      "outputs": [
        {
          "output_type": "stream",
          "name": "stdout",
          "text": [
            "number of cores in processor : 2\n",
            "Cureent Directory : /content \n",
            "Is my code directory : False \n",
            "Is my code directory : True \n"
          ]
        },
        {
          "output_type": "execute_result",
          "data": {
            "text/plain": [
              "1646622679.8234317"
            ]
          },
          "metadata": {},
          "execution_count": 19
        }
      ]
    },
    {
      "cell_type": "markdown",
      "source": [
        "Modules Time"
      ],
      "metadata": {
        "id": "st0j2HtwXLcZ"
      }
    },
    {
      "cell_type": "code",
      "source": [
        "import time \n",
        "local_time = time.ctime()\n",
        "print(\"local time = {} \".format(local_time))"
      ],
      "metadata": {
        "colab": {
          "base_uri": "https://localhost:8080/"
        },
        "id": "nbR61Pw7XLCn",
        "outputId": "532b2d60-0496-484a-b18c-f79d833d309d"
      },
      "execution_count": 21,
      "outputs": [
        {
          "output_type": "stream",
          "name": "stdout",
          "text": [
            "local time = Mon Mar  7 03:13:21 2022 \n"
          ]
        }
      ]
    },
    {
      "cell_type": "code",
      "source": [
        "print(\"Intermediate Time\")\n",
        "time.sleep(10)\n",
        "print(\"Delay print\")"
      ],
      "metadata": {
        "colab": {
          "base_uri": "https://localhost:8080/"
        },
        "id": "205-MUXLXkb-",
        "outputId": "bba9d8be-45f0-45da-e06a-5df97fc70a92"
      },
      "execution_count": 22,
      "outputs": [
        {
          "output_type": "stream",
          "name": "stdout",
          "text": [
            "Intermediate Time\n",
            "Delay print\n"
          ]
        }
      ]
    },
    {
      "cell_type": "markdown",
      "source": [
        "Modules Math"
      ],
      "metadata": {
        "id": "CkdMg_mLZD76"
      }
    },
    {
      "cell_type": "code",
      "source": [
        "import math\n",
        "\n",
        "print(math.pi)\n",
        "a = 8.99999\n",
        "\n",
        "print(math.ceil(a))\n",
        "print(math.floor(a))\n",
        "\n",
        "b = 4\n",
        "print(math.factorial(b))"
      ],
      "metadata": {
        "colab": {
          "base_uri": "https://localhost:8080/"
        },
        "id": "fRd1cjZNX8D5",
        "outputId": "de7ec2c8-4b0b-4644-ad24-ec1ebcfacdb4"
      },
      "execution_count": 23,
      "outputs": [
        {
          "output_type": "stream",
          "name": "stdout",
          "text": [
            "3.141592653589793\n",
            "9\n",
            "8\n",
            "24\n"
          ]
        }
      ]
    }
  ]
}