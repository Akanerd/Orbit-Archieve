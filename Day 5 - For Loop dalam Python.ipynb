{
  "nbformat": 4,
  "nbformat_minor": 0,
  "metadata": {
    "colab": {
      "name": "Day 5 - For Loop dalam Python.ipynb",
      "provenance": [],
      "collapsed_sections": [],
      "authorship_tag": "ABX9TyPCddPXDXmcbG9++MBxpJ2K",
      "include_colab_link": true
    },
    "kernelspec": {
      "name": "python3",
      "display_name": "Python 3"
    },
    "language_info": {
      "name": "python"
    }
  },
  "cells": [
    {
      "cell_type": "markdown",
      "metadata": {
        "id": "view-in-github",
        "colab_type": "text"
      },
      "source": [
        "<a href=\"https://colab.research.google.com/github/Akanerd/Orbit-Archieve/blob/main/Day%205%20-%20For%20Loop%20dalam%20Python.ipynb\" target=\"_parent\"><img src=\"https://colab.research.google.com/assets/colab-badge.svg\" alt=\"Open In Colab\"/></a>"
      ]
    },
    {
      "cell_type": "markdown",
      "source": [
        "#**For Loop dalam Python**"
      ],
      "metadata": {
        "id": "Qz-_ywZM_PVi"
      }
    },
    {
      "cell_type": "markdown",
      "source": [
        "Pengulangan for pada Python memiliki kemampuan untuk mengulangi item dari urutan apapun, seperti list atau string.\n",
        "\n"
      ],
      "metadata": {
        "id": "4YFvXnkP_R-9"
      }
    },
    {
      "cell_type": "code",
      "execution_count": 5,
      "metadata": {
        "colab": {
          "base_uri": "https://localhost:8080/"
        },
        "id": "RHoWIPn8_B6N",
        "outputId": "b24356fd-05f8-4f0e-8d5c-af2ac740e323"
      },
      "outputs": [
        {
          "output_type": "stream",
          "name": "stdout",
          "text": [
            "1\n",
            "2\n",
            "3\n",
            "4\n",
            "5\n",
            "Saya suka memakan nanas\n",
            "Saya suka memakan apel\n",
            "Saya suka memakan jeruk\n"
          ]
        }
      ],
      "source": [
        "# Contoh pengulangan for sederhana\n",
        "angka = [1,2,3,4,5]\n",
        "for x in angka:\n",
        "  print(x)\n",
        "\n",
        "# contoh pengulangan for\n",
        "buah = [\"nanas\",\"apel\",\"jeruk\"]\n",
        "for makanan in buah:\n",
        "  print(\"Saya suka memakan\", makanan)"
      ]
    },
    {
      "cell_type": "code",
      "source": [
        "fruits = [\"apple\", \"banana\",\"cherry\"]\n",
        "for x in fruits:\n",
        "  print(x)"
      ],
      "metadata": {
        "colab": {
          "base_uri": "https://localhost:8080/"
        },
        "id": "ENvVLsAGZDvv",
        "outputId": "0b91978a-f1af-42ee-acad-3b446019a60c"
      },
      "execution_count": 6,
      "outputs": [
        {
          "output_type": "stream",
          "name": "stdout",
          "text": [
            "apple\n",
            "banana\n",
            "cherry\n"
          ]
        }
      ]
    },
    {
      "cell_type": "code",
      "source": [
        "for i in 'AI':\n",
        "  print(i)"
      ],
      "metadata": {
        "colab": {
          "base_uri": "https://localhost:8080/"
        },
        "id": "1NbC3Yw4ZOXQ",
        "outputId": "d6989a80-e7f8-46a5-b5d0-1b7839300f22"
      },
      "execution_count": 7,
      "outputs": [
        {
          "output_type": "stream",
          "name": "stdout",
          "text": [
            "A\n",
            "I\n"
          ]
        }
      ]
    },
    {
      "cell_type": "markdown",
      "source": [
        "**Break Statement**\n",
        "\n",
        "Dengan pernyataan break kita bisa menghentika loop bahkan jiika kondisi while benar"
      ],
      "metadata": {
        "id": "aYDzMkl2j8ic"
      }
    },
    {
      "cell_type": "code",
      "source": [
        "fruits = [\"apple\", \"banana\",\"cherry\"]\n",
        "for x in fruits:\n",
        "  print(x)\n",
        "  if x == 'banana':\n",
        "    break"
      ],
      "metadata": {
        "colab": {
          "base_uri": "https://localhost:8080/"
        },
        "id": "o1pXT8_Mj6yz",
        "outputId": "499fce86-c051-4509-9ba4-e95ed56ce612"
      },
      "execution_count": 8,
      "outputs": [
        {
          "output_type": "stream",
          "name": "stdout",
          "text": [
            "apple\n",
            "banana\n"
          ]
        }
      ]
    },
    {
      "cell_type": "code",
      "source": [
        "i = 0\n",
        "while i < 6:\n",
        "  i += 1\n",
        "  if i == 3: #angka 3 akan hilang pada output \n",
        "    continue\n",
        "  print(i)"
      ],
      "metadata": {
        "colab": {
          "base_uri": "https://localhost:8080/"
        },
        "id": "4PMEv39gkn6x",
        "outputId": "ecc5860b-e7e1-4f18-cd53-02347c93d8a0"
      },
      "execution_count": 10,
      "outputs": [
        {
          "output_type": "stream",
          "name": "stdout",
          "text": [
            "1\n",
            "2\n",
            "4\n",
            "5\n",
            "6\n"
          ]
        }
      ]
    },
    {
      "cell_type": "code",
      "source": [
        "fruits = [\"apple\", \"banana\",\"cherry\"]\n",
        "for x in fruits:\n",
        "  if x == 'banana':\n",
        "    break\n",
        "  print(x)"
      ],
      "metadata": {
        "colab": {
          "base_uri": "https://localhost:8080/"
        },
        "id": "8HW8_zkJkNC6",
        "outputId": "25feabd7-0201-4b1a-badf-da0cb5676aee"
      },
      "execution_count": 9,
      "outputs": [
        {
          "output_type": "stream",
          "name": "stdout",
          "text": [
            "apple\n"
          ]
        }
      ]
    },
    {
      "cell_type": "code",
      "source": [
        "fruits = [\"apple\",\"banana\",\"cherry\"]\n",
        "for x in fruits:\n",
        "  if x == \"banana\":\n",
        "    continue\n",
        "  print(x)"
      ],
      "metadata": {
        "colab": {
          "base_uri": "https://localhost:8080/"
        },
        "id": "eRrJyPTNlANi",
        "outputId": "17640365-54f1-4116-dba3-6cc8a84b8e09"
      },
      "execution_count": 11,
      "outputs": [
        {
          "output_type": "stream",
          "name": "stdout",
          "text": [
            "apple\n",
            "cherry\n"
          ]
        }
      ]
    },
    {
      "cell_type": "markdown",
      "source": [
        "**nb :** bila menggunakan break maka iterasi berikutnya akan dihentikan bila menggunakan continue maka iterasi akan berhenti sejenak kemudian dilanjutkan ke iterasi berikutnya"
      ],
      "metadata": {
        "id": "YhFnl73qlOXT"
      }
    },
    {
      "cell_type": "code",
      "source": [
        "for x in range(6):\n",
        "  print(x)"
      ],
      "metadata": {
        "colab": {
          "base_uri": "https://localhost:8080/"
        },
        "id": "KczFxBpPlaYr",
        "outputId": "64db171d-15ca-4fa4-81cd-105d110727b5"
      },
      "execution_count": 12,
      "outputs": [
        {
          "output_type": "stream",
          "name": "stdout",
          "text": [
            "0\n",
            "1\n",
            "2\n",
            "3\n",
            "4\n",
            "5\n"
          ]
        }
      ]
    },
    {
      "cell_type": "code",
      "source": [
        "for x in range(0,6):\n",
        "  print(x)"
      ],
      "metadata": {
        "colab": {
          "base_uri": "https://localhost:8080/"
        },
        "id": "7p4AegbIlhe5",
        "outputId": "78548995-94fd-4b9e-cc18-3a74eb6f3a39"
      },
      "execution_count": 13,
      "outputs": [
        {
          "output_type": "stream",
          "name": "stdout",
          "text": [
            "0\n",
            "1\n",
            "2\n",
            "3\n",
            "4\n",
            "5\n"
          ]
        }
      ]
    }
  ]
}