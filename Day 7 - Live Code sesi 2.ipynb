{
 "cells": [
  {
   "cell_type": "markdown",
   "metadata": {
    "colab_type": "text",
    "id": "view-in-github"
   },
   "source": [
    "<a href=\"https://colab.research.google.com/github/Akanerd/Orbit-Archieve/blob/main/Day%207%20-%20Live%20Code%20sesi%202.ipynb\" target=\"_parent\"><img src=\"https://colab.research.google.com/assets/colab-badge.svg\" alt=\"Open In Colab\"/></a>"
   ]
  },
  {
   "cell_type": "markdown",
   "metadata": {
    "id": "xaH-iHfoljWT"
   },
   "source": [
    "# **String Manipulation dengan Operator**"
   ]
  },
  {
   "cell_type": "code",
   "execution_count": 7,
   "metadata": {
    "colab": {
     "base_uri": "https://localhost:8080/"
    },
    "id": "OyFU5UpfjQ3s",
    "outputId": "e645a939-ae84-4e60-dfe8-b3da0575f51e"
   },
   "outputs": [
    {
     "name": "stdout",
     "output_type": "stream",
     "text": [
      "HelloHere\n",
      "\n",
      "Here\n",
      "Here\n",
      "Here\n",
      "Here\n",
      "\n"
     ]
    }
   ],
   "source": [
    "str1 = \"Hello\"\n",
    "str2 = 'Here\\n' #New line\n",
    "print(str1 + str2)\n",
    "print(str2*4)"
   ]
  },
  {
   "cell_type": "code",
   "execution_count": 3,
   "metadata": {
    "colab": {
     "base_uri": "https://localhost:8080/"
    },
    "id": "OK5qeiGUlpCz",
    "outputId": "047ea05b-3e68-4171-b9a7-6f6daa68f997"
   },
   "outputs": [
    {
     "name": "stdout",
     "output_type": "stream",
     "text": [
      "True\n",
      "True\n",
      "False\n",
      "True\n",
      "True\n"
     ]
    }
   ],
   "source": [
    "str3 = \"This is an example if string\"\n",
    "\n",
    "print('e' in str3)\n",
    "print('example' in str3)\n",
    "print('halo' in str3)\n",
    "print('an' in str3)\n",
    "print('z' not in str3)"
   ]
  },
  {
   "cell_type": "code",
   "execution_count": 8,
   "metadata": {
    "colab": {
     "base_uri": "https://localhost:8080/"
    },
    "id": "8J1Ednz_pAHV",
    "outputId": "fac41449-25bd-472b-e2db-9ec4806df574"
   },
   "outputs": [
    {
     "name": "stdout",
     "output_type": "stream",
     "text": [
      "HELLO WORLD FROM PYTHON\n",
      "hello world from python\n"
     ]
    }
   ],
   "source": [
    "x = \"Hello world from Python\"\n",
    "\n",
    "print(x.upper())\n",
    "print(x.lower())"
   ]
  },
  {
   "cell_type": "code",
   "execution_count": 11,
   "metadata": {
    "colab": {
     "base_uri": "https://localhost:8080/"
    },
    "id": "HM5eDeftpUuT",
    "outputId": "b4957e68-b6e1-45ba-cf3e-1dde88ecdd77"
   },
   "outputs": [
    {
     "name": "stdout",
     "output_type": "stream",
     "text": [
      "John#Peter#Vicky\n"
     ]
    }
   ],
   "source": [
    "myTuple = (\"John\", \"Peter\", \"Vicky\")\n",
    "\n",
    "x = \"#\".join(myTuple)\n",
    "\n",
    "print(x) "
   ]
  },
  {
   "cell_type": "markdown",
   "metadata": {
    "id": "AcH4c1s6qb6j"
   },
   "source": [
    "# **File Handling**"
   ]
  },
  {
   "cell_type": "code",
   "execution_count": 13,
   "metadata": {
    "id": "0Thix5qoqTLl"
   },
   "outputs": [],
   "source": [
    "file_pointer = open(\"./filecoba/file.txt\",\"w\")\n",
    "\n",
    "file_pointer.write('''Python is ez''')\n",
    "\n",
    "file_pointer.close()"
   ]
  },
  {
   "cell_type": "code",
   "execution_count": 12,
   "metadata": {},
   "outputs": [
    {
     "name": "stdout",
     "output_type": "stream",
     "text": [
      "Python is ezr complicated\n"
     ]
    }
   ],
   "source": [
    "file_pointer = open(\"./filecoba/file.txt\",\"r\")\n",
    "print(file_pointer.read()) \n",
    "file_pointer.close()"
   ]
  },
  {
   "cell_type": "code",
   "execution_count": 14,
   "metadata": {},
   "outputs": [],
   "source": [
    "file_pointer = open(\"./filecoba/file.txt\",\"a\")\n",
    "file_pointer.write('''But is rather complicated''')\n",
    "\n",
    "file_pointer.close()"
   ]
  },
  {
   "cell_type": "code",
   "execution_count": 16,
   "metadata": {},
   "outputs": [
    {
     "name": "stdout",
     "output_type": "stream",
     "text": [
      "Python is ezBut is rather complicated\n",
      "<class 'str'>\n"
     ]
    }
   ],
   "source": [
    "file_pointer = open(\"./filecoba/file.txt\",\"r\")\n",
    "a = (file_pointer.read())\n",
    "print(a)\n",
    "print(type(a))\n",
    "file_pointer.close()"
   ]
  }
 ],
 "metadata": {
  "colab": {
   "authorship_tag": "ABX9TyMgvGKb/rCpNyFqlZnDWW+Z",
   "include_colab_link": true,
   "name": "Day 7 - Live Code sesi 2 ipynb",
   "provenance": []
  },
  "kernelspec": {
   "display_name": "Python 3 (ipykernel)",
   "language": "python",
   "name": "python3"
  },
  "language_info": {
   "codemirror_mode": {
    "name": "ipython",
    "version": 3
   },
   "file_extension": ".py",
   "mimetype": "text/x-python",
   "name": "python",
   "nbconvert_exporter": "python",
   "pygments_lexer": "ipython3",
   "version": "3.9.7"
  }
 },
 "nbformat": 4,
 "nbformat_minor": 1
}
