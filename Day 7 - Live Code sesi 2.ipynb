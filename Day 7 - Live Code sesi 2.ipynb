{
  "nbformat": 4,
  "nbformat_minor": 0,
  "metadata": {
    "colab": {
      "name": "Day 7 - Live Code sesi 2 ipynb",
      "provenance": [],
      "authorship_tag": "ABX9TyMgvGKb/rCpNyFqlZnDWW+Z",
      "include_colab_link": true
    },
    "kernelspec": {
      "name": "python3",
      "display_name": "Python 3"
    },
    "language_info": {
      "name": "python"
    }
  },
  "cells": [
    {
      "cell_type": "markdown",
      "metadata": {
        "id": "view-in-github",
        "colab_type": "text"
      },
      "source": [
        "<a href=\"https://colab.research.google.com/github/Akanerd/Orbit-Archieve/blob/main/Day%207%20-%20Live%20Code%20sesi%202.ipynb\" target=\"_parent\"><img src=\"https://colab.research.google.com/assets/colab-badge.svg\" alt=\"Open In Colab\"/></a>"
      ]
    },
    {
      "cell_type": "markdown",
      "source": [
        "# **String Manipulation dengan Operator**"
      ],
      "metadata": {
        "id": "xaH-iHfoljWT"
      }
    },
    {
      "cell_type": "code",
      "execution_count": 7,
      "metadata": {
        "colab": {
          "base_uri": "https://localhost:8080/"
        },
        "id": "OyFU5UpfjQ3s",
        "outputId": "e645a939-ae84-4e60-dfe8-b3da0575f51e"
      },
      "outputs": [
        {
          "output_type": "stream",
          "name": "stdout",
          "text": [
            "HelloHere\n",
            "\n",
            "Here\n",
            "Here\n",
            "Here\n",
            "Here\n",
            "\n"
          ]
        }
      ],
      "source": [
        "str1 = \"Hello\"\n",
        "str2 = 'Here\\n' #New line\n",
        "print(str1 + str2)\n",
        "print(str2*4)"
      ]
    },
    {
      "cell_type": "code",
      "source": [
        "str3 = \"This is an example if string\"\n",
        "\n",
        "print('e' in str3)\n",
        "print('example' in str3)\n",
        "print('halo' in str3)\n",
        "print('an' in str3)\n",
        "print('z' not in str3)"
      ],
      "metadata": {
        "colab": {
          "base_uri": "https://localhost:8080/"
        },
        "id": "OK5qeiGUlpCz",
        "outputId": "047ea05b-3e68-4171-b9a7-6f6daa68f997"
      },
      "execution_count": 3,
      "outputs": [
        {
          "output_type": "stream",
          "name": "stdout",
          "text": [
            "True\n",
            "True\n",
            "False\n",
            "True\n",
            "True\n"
          ]
        }
      ]
    },
    {
      "cell_type": "code",
      "source": [
        "x = \"Hello world from Python\"\n",
        "\n",
        "print(x.upper())\n",
        "print(x.lower())"
      ],
      "metadata": {
        "colab": {
          "base_uri": "https://localhost:8080/"
        },
        "id": "8J1Ednz_pAHV",
        "outputId": "fac41449-25bd-472b-e2db-9ec4806df574"
      },
      "execution_count": 8,
      "outputs": [
        {
          "output_type": "stream",
          "name": "stdout",
          "text": [
            "HELLO WORLD FROM PYTHON\n",
            "hello world from python\n"
          ]
        }
      ]
    },
    {
      "cell_type": "code",
      "source": [
        "myTuple = (\"John\", \"Peter\", \"Vicky\")\n",
        "\n",
        "x = \"#\".join(myTuple)\n",
        "\n",
        "print(x) "
      ],
      "metadata": {
        "colab": {
          "base_uri": "https://localhost:8080/"
        },
        "id": "HM5eDeftpUuT",
        "outputId": "b4957e68-b6e1-45ba-cf3e-1dde88ecdd77"
      },
      "execution_count": 11,
      "outputs": [
        {
          "output_type": "stream",
          "name": "stdout",
          "text": [
            "John#Peter#Vicky\n"
          ]
        }
      ]
    },
    {
      "cell_type": "markdown",
      "source": [
        "# **File Handling**"
      ],
      "metadata": {
        "id": "AcH4c1s6qb6j"
      }
    },
    {
      "cell_type": "code",
      "source": [
        ""
      ],
      "metadata": {
        "id": "0Thix5qoqTLl"
      },
      "execution_count": null,
      "outputs": []
    }
  ]
}