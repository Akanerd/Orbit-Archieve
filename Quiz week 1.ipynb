{
  "nbformat": 4,
  "nbformat_minor": 0,
  "metadata": {
    "colab": {
      "name": "Quiz week 1.ipynb",
      "provenance": [],
      "authorship_tag": "ABX9TyOnZGnHgCRn9YmfVhN5q3/P",
      "include_colab_link": true
    },
    "kernelspec": {
      "name": "python3",
      "display_name": "Python 3"
    },
    "language_info": {
      "name": "python"
    }
  },
  "cells": [
    {
      "cell_type": "markdown",
      "metadata": {
        "id": "view-in-github",
        "colab_type": "text"
      },
      "source": [
        "<a href=\"https://colab.research.google.com/github/Akanerd/Orbit-Archieve/blob/Quiz/Quiz%20week%201.ipynb\" target=\"_parent\"><img src=\"https://colab.research.google.com/assets/colab-badge.svg\" alt=\"Open In Colab\"/></a>"
      ]
    },
    {
      "cell_type": "markdown",
      "source": [
        "# Quiz week 1"
      ],
      "metadata": {
        "id": "cWHFHUHgzNvu"
      }
    },
    {
      "cell_type": "code",
      "execution_count": null,
      "metadata": {
        "id": "RYfFI1nPcX6q"
      },
      "outputs": [],
      "source": [
        "while True:\n",
        "  bil1 = int(input(\"Masukkan bilangan 1 : \"))\n",
        "  bil2 = int(input(\"Masukkan bilangan 2 : \"))\n",
        "\n",
        "  #pilih operator\n",
        "  print(\"a. Operator +\")\n",
        "  print(\"b. Operator -\")\n",
        "  print(\"c. Operator /\")\n",
        "  print(\"d. Operator %\")\n",
        "  print(\"e. Operator *\")\n",
        "\n",
        "  #Masukan Input\n",
        "  print(\"Pilih operator : \")\n",
        "  choice = input()\n",
        "\n",
        "  if choice == 'a':\n",
        "    penjumlahan = bil1 + bil2\n",
        "    print(\"hasil Penjumlahan dari \"+str(bil1)+\" dengan \"+str(bil2)+\"adalah\",int(penjumlahan))\n",
        "  elif choice == 'b':\n",
        "    pengurangan = bil1 - bil2\n",
        "    print(\"hasil Pengurangan dari \"+str(bil1)+\" dengan \"+str(bil2)+\"adalah\",int(pengurangan))\n",
        "  elif choice == 'c':\n",
        "    if (bil2 != 0) :\n",
        "      pembagian = bil1 / bil2\n",
        "      print(\"hasil Pembagian dari \"+str(bil1)+\" dengan \"+str(bil2)+\"adalah\",float(pembagian))\n",
        "    else:\n",
        "      print(\"Maaf keterbagian dengan 0 tidak terdefinisi tehee :(\")  \n",
        "  elif choice == 'd':\n",
        "    sisabagi = bil1 % bil2\n",
        "    print(\"hasil sisa bagi dari \"+str(bil1)+\" dengan \"+str(bil2)+\"adalah\",int(sisabagi))\n",
        "  elif choice == 'e':\n",
        "    perkalian = bil1 * bil2\n",
        "    print(\"hasil perkalian dari \"+str(bil1)+\" dengan \"+str(bil2)+\"adalah\",int(perkalian))\n",
        "  else:\n",
        "    print(\"Inputan anda salah tehe...\")\n",
        "\n",
        "  if input(str(\"Mau memakai kalkulator lagi?\"))!='y':\n",
        "    break"
      ]
    },
    {
      "cell_type": "code",
      "source": [
        "while True:\n",
        "  bil1 = int(input(\"Masukkan bilangan 1 : \"))\n",
        "  bil2 = int(input(\"Masukkan bilangan 2 : \"))\n",
        "  \n",
        "  penjumlahan = bil1 + bil2 #penjumlahan tipe int\n",
        "  penjumlahan_str = str(bil1) + str(bil2) #penjumlahan tipe string\n",
        "  print(\"Input : \"+str(bil1)+\" \"+str(bil2)+\" Hasil : \",penjumlahan,'',str(penjumlahan_str))\n",
        "\n",
        "  if input(str(\"Mau memakai kalkulator lagi?\"))!='y':\n",
        "    break"
      ],
      "metadata": {
        "id": "X-4C1o8NzS4t"
      },
      "execution_count": null,
      "outputs": []
    }
  ]
}