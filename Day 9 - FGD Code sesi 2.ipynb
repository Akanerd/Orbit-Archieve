{
  "nbformat": 4,
  "nbformat_minor": 0,
  "metadata": {
    "colab": {
      "name": "Day 9 - FGD Code sesi 2.ipynb",
      "provenance": [],
      "collapsed_sections": [],
      "include_colab_link": true
    },
    "kernelspec": {
      "name": "python3",
      "display_name": "Python 3"
    },
    "language_info": {
      "name": "python"
    }
  },
  "cells": [
    {
      "cell_type": "markdown",
      "metadata": {
        "id": "view-in-github",
        "colab_type": "text"
      },
      "source": [
        "<a href=\"https://colab.research.google.com/github/Akanerd/Orbit-Archieve/blob/main/Day%209%20-%20FGD%20Code%20sesi%202.ipynb\" target=\"_parent\"><img src=\"https://colab.research.google.com/assets/colab-badge.svg\" alt=\"Open In Colab\"/></a>"
      ]
    },
    {
      "cell_type": "markdown",
      "metadata": {
        "id": "F9RmP8oJEr-8"
      },
      "source": [
        "\n",
        "# Operasi Matematika & Numpy\n",
        "Sebelum lanjut, harap:\n",
        "1. Jika menggunakan jupyter, silahkan pilih \"File\" --> \"Download\" --> \"Download .ipynb\"\n",
        "2. Jika menggunakan colab, silahkan pilih \"File\" --> \"Save a copy in drive\""
      ]
    },
    {
      "cell_type": "code",
      "metadata": {
        "id": "DBVuNosPErdc"
      },
      "source": [
        "import numpy as np"
      ],
      "execution_count": 1,
      "outputs": []
    },
    {
      "cell_type": "markdown",
      "metadata": {
        "id": "GWGWrUU_QOR6"
      },
      "source": [
        "### Pengenalan array"
      ]
    },
    {
      "cell_type": "code",
      "metadata": {
        "colab": {
          "base_uri": "https://localhost:8080/"
        },
        "id": "rojHc0kGGJVw",
        "outputId": "91e5ac41-92f3-4974-bdd2-a907ff244b60"
      },
      "source": [
        "#1D array\n",
        "a = np.array([[1, 3, 0], [2, 4, 1], [3, 6, 7]])\n",
        "print('banyaknya entry = ', a.size)\n",
        "print('dimensi array = ', a.ndim)\n",
        "print('ukuran array = ', a.shape)"
      ],
      "execution_count": 2,
      "outputs": [
        {
          "output_type": "stream",
          "name": "stdout",
          "text": [
            "banyaknya entry =  9\n",
            "dimensi array =  2\n",
            "ukuran array =  (3, 3)\n"
          ]
        }
      ]
    },
    {
      "cell_type": "code",
      "source": [
        "#Slicing\n",
        "a[:]"
      ],
      "metadata": {
        "colab": {
          "base_uri": "https://localhost:8080/"
        },
        "id": "QNE51bCWq923",
        "outputId": "d07abe86-8363-44a2-c67e-fa87f9ad5093"
      },
      "execution_count": 3,
      "outputs": [
        {
          "output_type": "execute_result",
          "data": {
            "text/plain": [
              "array([[1, 3, 0],\n",
              "       [2, 4, 1],\n",
              "       [3, 6, 7]])"
            ]
          },
          "metadata": {},
          "execution_count": 3
        }
      ]
    },
    {
      "cell_type": "code",
      "source": [
        "#Slicing\n",
        "a[:2]"
      ],
      "metadata": {
        "colab": {
          "base_uri": "https://localhost:8080/"
        },
        "id": "mpouUTA-rFkc",
        "outputId": "c1dc8c47-1b27-49ef-b9cc-271ad6785df8"
      },
      "execution_count": 4,
      "outputs": [
        {
          "output_type": "execute_result",
          "data": {
            "text/plain": [
              "array([[1, 3, 0],\n",
              "       [2, 4, 1]])"
            ]
          },
          "metadata": {},
          "execution_count": 4
        }
      ]
    },
    {
      "cell_type": "code",
      "source": [
        "#Slicing\n",
        "a[2]"
      ],
      "metadata": {
        "colab": {
          "base_uri": "https://localhost:8080/"
        },
        "id": "-aw1AtmJrPOO",
        "outputId": "b7925450-0791-4e7e-d092-4c1aeae2a7cb"
      },
      "execution_count": 5,
      "outputs": [
        {
          "output_type": "execute_result",
          "data": {
            "text/plain": [
              "array([3, 6, 7])"
            ]
          },
          "metadata": {},
          "execution_count": 5
        }
      ]
    },
    {
      "cell_type": "code",
      "metadata": {
        "colab": {
          "base_uri": "https://localhost:8080/"
        },
        "id": "Ay-3fo-sIOqV",
        "outputId": "9e9ed464-327f-4949-87a0-70a4363f433a"
      },
      "source": [
        "#Slicing\n",
        "a[1:]"
      ],
      "execution_count": 6,
      "outputs": [
        {
          "output_type": "execute_result",
          "data": {
            "text/plain": [
              "array([[2, 4, 1],\n",
              "       [3, 6, 7]])"
            ]
          },
          "metadata": {},
          "execution_count": 6
        }
      ]
    },
    {
      "cell_type": "code",
      "metadata": {
        "colab": {
          "base_uri": "https://localhost:8080/"
        },
        "id": "kfeTP-8qHBVx",
        "outputId": "0f612611-6edf-45da-f7c6-08759c22c8d9"
      },
      "source": [
        "print('a[1:3] = ', a[1:3])\n",
        "print('a[:3] = ', a[:3])"
      ],
      "execution_count": 7,
      "outputs": [
        {
          "output_type": "stream",
          "name": "stdout",
          "text": [
            "a[1:3] =  [[2 4 1]\n",
            " [3 6 7]]\n",
            "a[:3] =  [[1 3 0]\n",
            " [2 4 1]\n",
            " [3 6 7]]\n"
          ]
        }
      ]
    },
    {
      "cell_type": "code",
      "metadata": {
        "colab": {
          "base_uri": "https://localhost:8080/"
        },
        "id": "myrQM61bHn2t",
        "outputId": "22604b43-a774-4c46-ab44-46db028ea3a2"
      },
      "source": [
        "#2D Array (Matriks)\n",
        "A = np.array([[1, 2, 3], [4, 5, 6], [7, 8, 9]])\n",
        "print(A)"
      ],
      "execution_count": 8,
      "outputs": [
        {
          "output_type": "stream",
          "name": "stdout",
          "text": [
            "[[1 2 3]\n",
            " [4 5 6]\n",
            " [7 8 9]]\n"
          ]
        }
      ]
    },
    {
      "cell_type": "markdown",
      "metadata": {
        "id": "7LxTP-IdLaSa"
      },
      "source": [
        "###Latihan-2 (2D array)"
      ]
    },
    {
      "cell_type": "code",
      "metadata": {
        "colab": {
          "base_uri": "https://localhost:8080/"
        },
        "id": "2ncKwccePLyf",
        "outputId": "53a974dd-54b5-4071-8f2b-bc7d3d4797a2"
      },
      "source": [
        "#Lengkapi kodingan berikut\n",
        "print('banyaknya entry = ', a.size )\n",
        "print('dimensi array = ', a.ndim )\n",
        "print('ukuran array = ', a.shape )"
      ],
      "execution_count": 9,
      "outputs": [
        {
          "output_type": "stream",
          "name": "stdout",
          "text": [
            "banyaknya entry =  9\n",
            "dimensi array =  2\n",
            "ukuran array =  (3, 3)\n"
          ]
        }
      ]
    },
    {
      "cell_type": "code",
      "metadata": {
        "colab": {
          "base_uri": "https://localhost:8080/"
        },
        "id": "LAmNOJZYGrNY",
        "outputId": "8304b731-69c2-499b-ca22-ec8a12139674"
      },
      "source": [
        "#Slicing\n",
        "print('baris ke-2 = ', A[1])\n",
        "print('entry ke-2 & 3 baris ke-2 = ', A[1, 1:])\n",
        "print('entry pertama & 2 kolom ke-2 = ', A[:2, 1])"
      ],
      "execution_count": 10,
      "outputs": [
        {
          "output_type": "stream",
          "name": "stdout",
          "text": [
            "baris ke-2 =  [4 5 6]\n",
            "entry ke-2 & 3 baris ke-2 =  [5 6]\n",
            "entry pertama & 2 kolom ke-2 =  [2 5]\n"
          ]
        }
      ]
    },
    {
      "cell_type": "markdown",
      "metadata": {
        "id": "dabJyOB3L6Kb"
      },
      "source": [
        "###Latihan-3 (Slicing)"
      ]
    },
    {
      "cell_type": "code",
      "metadata": {
        "colab": {
          "base_uri": "https://localhost:8080/"
        },
        "id": "zm20sFkSNbds",
        "outputId": "7cf49fd2-b6e9-475c-9730-6b5140914bd0"
      },
      "source": [
        "#Lengkapi kodingan berikut\n",
        "print('baris ke-3 = ', A[2])\n",
        "print('entry ke-1 & 2 baris ke-3 = ', A[2,0:2])\n",
        "print('entry ke-2 & 3 kolom ke-3 = ', A[1:,2])"
      ],
      "execution_count": 11,
      "outputs": [
        {
          "output_type": "stream",
          "name": "stdout",
          "text": [
            "baris ke-3 =  [7 8 9]\n",
            "entry ke-1 & 2 baris ke-3 =  [7 8]\n",
            "entry ke-2 & 3 kolom ke-3 =  [6 9]\n"
          ]
        }
      ]
    },
    {
      "cell_type": "markdown",
      "metadata": {
        "id": "u69Wt0HHOdDh"
      },
      "source": [
        "output jawaban:\n",
        "baris ke-3 =  [7 8 9]\n",
        "\n",
        "entry ke-1 & 2 baris ke-3 =  [7 8]\n",
        "\n",
        "entry ke-2 & 3 kolom ke-3 =  [6 9]"
      ]
    },
    {
      "cell_type": "markdown",
      "metadata": {
        "id": "bQ9RSERjQYu-"
      },
      "source": [
        "### Operasi Matematika di Numpy"
      ]
    },
    {
      "cell_type": "code",
      "metadata": {
        "colab": {
          "base_uri": "https://localhost:8080/"
        },
        "id": "A7ITbltnVKCK",
        "outputId": "bc36c945-0eca-4e5f-81cf-0795f2076d23"
      },
      "source": [
        "C = A*A\n",
        "print('perkalian antar entry = ')\n",
        "print(C)"
      ],
      "execution_count": 12,
      "outputs": [
        {
          "output_type": "stream",
          "name": "stdout",
          "text": [
            "perkalian antar entry = \n",
            "[[ 1  4  9]\n",
            " [16 25 36]\n",
            " [49 64 81]]\n"
          ]
        }
      ]
    },
    {
      "cell_type": "code",
      "metadata": {
        "colab": {
          "base_uri": "https://localhost:8080/"
        },
        "id": "qs72ZsAJQERO",
        "outputId": "660c90b2-52e2-4e9e-c64a-4873c9e74f54"
      },
      "source": [
        "print('perkalian matriks = ')\n",
        "print(np.matmul(A,A))"
      ],
      "execution_count": 13,
      "outputs": [
        {
          "output_type": "stream",
          "name": "stdout",
          "text": [
            "perkalian matriks = \n",
            "[[ 30  36  42]\n",
            " [ 66  81  96]\n",
            " [102 126 150]]\n"
          ]
        }
      ]
    },
    {
      "cell_type": "markdown",
      "metadata": {
        "id": "DqYW2wD_8HZT"
      },
      "source": [
        "Bisa dilihat perbedaan perkalian antar entry dan perkalian matriks biasa?"
      ]
    },
    {
      "cell_type": "code",
      "metadata": {
        "colab": {
          "base_uri": "https://localhost:8080/"
        },
        "id": "_esB0rtlQkOp",
        "outputId": "422bdfee-9b06-47f0-d599-1bb2e93ac73a"
      },
      "source": [
        "print('determinan matriks A = ', np.linalg.det(A))\n",
        "print('determinan matriks C = ', np.linalg.det(C))"
      ],
      "execution_count": 14,
      "outputs": [
        {
          "output_type": "stream",
          "name": "stdout",
          "text": [
            "determinan matriks A =  0.0\n",
            "determinan matriks C =  -216.00000000000006\n"
          ]
        }
      ]
    },
    {
      "cell_type": "code",
      "metadata": {
        "id": "Joz3Z61TQd6V",
        "colab": {
          "base_uri": "https://localhost:8080/"
        },
        "outputId": "24124eac-2021-469f-9b93-6c0c38a191a7"
      },
      "source": [
        "print('nilai dan vektor eigen matriks A = ', np.linalg.eig(A))"
      ],
      "execution_count": 15,
      "outputs": [
        {
          "output_type": "stream",
          "name": "stdout",
          "text": [
            "nilai dan vektor eigen matriks A =  (array([ 1.61168440e+01, -1.11684397e+00, -1.30367773e-15]), array([[-0.23197069, -0.78583024,  0.40824829],\n",
            "       [-0.52532209, -0.08675134, -0.81649658],\n",
            "       [-0.8186735 ,  0.61232756,  0.40824829]]))\n"
          ]
        }
      ]
    },
    {
      "cell_type": "code",
      "metadata": {
        "colab": {
          "base_uri": "https://localhost:8080/"
        },
        "id": "YIXOE54OQWWd",
        "outputId": "3b82a7cb-72b6-4610-c360-96becbb57865"
      },
      "source": [
        "print('nilai eigen matriks A = ', np.linalg.eig(A)[0])"
      ],
      "execution_count": 16,
      "outputs": [
        {
          "output_type": "stream",
          "name": "stdout",
          "text": [
            "nilai eigen matriks A =  [ 1.61168440e+01 -1.11684397e+00 -1.30367773e-15]\n"
          ]
        }
      ]
    },
    {
      "cell_type": "code",
      "metadata": {
        "colab": {
          "base_uri": "https://localhost:8080/"
        },
        "id": "FjdAWfgKQaf1",
        "outputId": "0f5a3fc6-5d5f-40b6-cf37-63fdbad0cf2d"
      },
      "source": [
        "print('vektor eigen matriks A = ', np.linalg.eig(A)[1])"
      ],
      "execution_count": 17,
      "outputs": [
        {
          "output_type": "stream",
          "name": "stdout",
          "text": [
            "vektor eigen matriks A =  [[-0.23197069 -0.78583024  0.40824829]\n",
            " [-0.52532209 -0.08675134 -0.81649658]\n",
            " [-0.8186735   0.61232756  0.40824829]]\n"
          ]
        }
      ]
    },
    {
      "cell_type": "code",
      "source": [
        "e_vec = np.linalg.eig(A)[1][:, 0] #Menagambil eigen vector pertama ([-0.23197, -0.52532209, -0.8186735  ])\n",
        "e_val = np.linalg.eig(A)[0][0] #Mengambil eigen value pertama (1.61168440e+01)"
      ],
      "metadata": {
        "id": "2glW3oBuEpiz"
      },
      "execution_count": 18,
      "outputs": []
    },
    {
      "cell_type": "code",
      "source": [
        "print(np.matmul(A, e_vec)) #hasil A * eigen vector"
      ],
      "metadata": {
        "colab": {
          "base_uri": "https://localhost:8080/"
        },
        "id": "ricy5KwVE-ht",
        "outputId": "23834bd9-054e-49cd-a25a-86ad8aec1de7"
      },
      "execution_count": 19,
      "outputs": [
        {
          "output_type": "stream",
          "name": "stdout",
          "text": [
            "[ -3.73863537  -8.46653421 -13.19443305]\n"
          ]
        }
      ]
    },
    {
      "cell_type": "code",
      "source": [
        "print(e_val*e_vec) #hasil eigen value * eigen vector (Hasilnya sama)"
      ],
      "metadata": {
        "colab": {
          "base_uri": "https://localhost:8080/"
        },
        "id": "3M2QmuhYFBju",
        "outputId": "4c61fa67-fb47-4d6d-9d3c-261bc2cf30fc"
      },
      "execution_count": 20,
      "outputs": [
        {
          "output_type": "stream",
          "name": "stdout",
          "text": [
            "[ -3.73863537  -8.46653421 -13.19443305]\n"
          ]
        }
      ]
    },
    {
      "cell_type": "markdown",
      "metadata": {
        "id": "kjS8YZLAMXB_"
      },
      "source": [
        "### Latihan-4 (Operasi matriks)"
      ]
    },
    {
      "cell_type": "code",
      "metadata": {
        "id": "RIH4ROFmGuip"
      },
      "source": [
        "A = np.array([[1, 2], [7,8]])\n",
        "B = np.array([[3, 5], [1,6]])"
      ],
      "execution_count": 21,
      "outputs": []
    },
    {
      "cell_type": "markdown",
      "metadata": {
        "id": "dj6lY65jLBqx"
      },
      "source": [
        "Hitunglah:\n",
        "*   2*A\n",
        "*   2+A\n",
        "*   A+B\n",
        "*   A-B\n",
        "*   determinan A\n",
        "*   invers dari B, simpan jadi matriks D\n",
        "*   transpose D\n",
        "*   nilai eigen dan vektor eigen dari A dan B\n",
        "\n",
        "\n",
        "\n",
        "\n",
        "\n"
      ]
    },
    {
      "cell_type": "code",
      "metadata": {
        "id": "zkywTKVELriJ",
        "colab": {
          "base_uri": "https://localhost:8080/"
        },
        "outputId": "6dd9b924-0cc3-41c7-d7e9-7f18313244ff"
      },
      "source": [
        "#Ketik Kode disini\n",
        "print(\"Hasil dari 2*A : \", 2*A)\n",
        "print(\"Hasil dari 2+A : \", 2+A)\n",
        "print(\"Hasil dari A+B : \", A+B)\n",
        "print(\"Hasil dari Determinan A : \", np.linalg.det(A))\n",
        "print(\"Hasil dari invers B : \", np.linalg.inv(B))\n",
        "D = np.linalg.inv(B)\n",
        "print(\"Hasil dari invers B Ditaruh dalam Matriks D : \",D )\n",
        "print(\"Hasil Transpose D : \",D.transpose())\n",
        "print(\"Hasil dari A dan B : \",np.matmul(A,B))\n",
        "AB = np.matmul(A,B)\n",
        "print(\"Hasil Eigen AB : \",np.linalg.eig(AB) )"
      ],
      "execution_count": 31,
      "outputs": [
        {
          "output_type": "stream",
          "name": "stdout",
          "text": [
            "Hasil dari 2*A :  [[ 2  4]\n",
            " [14 16]]\n",
            "Hasil dari 2+A :  [[ 3  4]\n",
            " [ 9 10]]\n",
            "Hasil dari A+B :  [[ 4  7]\n",
            " [ 8 14]]\n",
            "Hasil dari Determinan A :  -6.0\n",
            "Hasil dari invers B :  [[ 0.46153846 -0.38461538]\n",
            " [-0.07692308  0.23076923]]\n",
            "Hasil dari invers B Ditaruh dalam Matriks D :  [[ 0.46153846 -0.38461538]\n",
            " [-0.07692308  0.23076923]]\n",
            "Hasil Transpose D :  [[ 0.46153846 -0.07692308]\n",
            " [-0.38461538  0.23076923]]\n",
            "Hasil dari A dan B :  [[ 5 17]\n",
            " [29 83]]\n",
            "Hasil Eigen AB :  (array([-0.87761134, 88.87761134]), array([[-0.94510637, -0.19863753],\n",
            "       [ 0.32676282, -0.98007302]]))\n"
          ]
        }
      ]
    },
    {
      "cell_type": "markdown",
      "metadata": {
        "id": "7NwMsWC-MQgG"
      },
      "source": [
        "Apa perbedaan dari B*D (perkalian antar entry di B dan D) dan BD (perkalian matriks B dan D)? "
      ]
    },
    {
      "cell_type": "code",
      "metadata": {
        "id": "0_PrzTpUMgQ8"
      },
      "source": [
        "#Tunjukkan bedanya di kodingan di bawah ini\n"
      ],
      "execution_count": 23,
      "outputs": []
    },
    {
      "cell_type": "code",
      "source": [
        "print(\"Hasil Perkalian Entry B*D :\",B*D)\n",
        "print(\"Hasil Perkalian Entry BD :\", np.matmul(B,D))"
      ],
      "metadata": {
        "id": "JiEA8Y-S_hrM",
        "colab": {
          "base_uri": "https://localhost:8080/"
        },
        "outputId": "f9d89d6e-f3b5-4e23-d87c-a0c4599736ad"
      },
      "execution_count": 33,
      "outputs": [
        {
          "output_type": "stream",
          "name": "stdout",
          "text": [
            "Hasil Perkalian Entry B*D : [[ 1.38461538 -1.92307692]\n",
            " [-0.07692308  1.38461538]]\n",
            "Hasil Perkalian Entry BD : [[ 1.00000000e+00 -1.11022302e-16]\n",
            " [ 1.11022302e-16  1.00000000e+00]]\n"
          ]
        }
      ]
    },
    {
      "cell_type": "markdown",
      "metadata": {
        "id": "633JPFjMTk3Y"
      },
      "source": [
        "output jawaban: \n",
        "\n",
        "perkalian entry = [[ 1.38461538, -1.92307692], [-0.07692308,  1.38461538]]\n",
        "\n",
        "perkalian matriks = [[ 1.00000000e+00, -1.11022302e-16],\n",
        "       [ 1.11022302e-16,  1.00000000e+00]]\n"
      ]
    }
  ]
}