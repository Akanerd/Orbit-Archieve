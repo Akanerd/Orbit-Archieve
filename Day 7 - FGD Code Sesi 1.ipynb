{
  "cells": [
    {
      "cell_type": "code",
      "execution_count": null,
      "id": "7180fd21",
      "metadata": {
        "scrolled": true,
        "id": "7180fd21",
        "outputId": "98347b17-2e9b-4a96-c7f1-183af5f75445"
      },
      "outputs": [
        {
          "name": "stdout",
          "output_type": "stream",
          "text": [
            "Belajar Python itu menyenangkan\n",
            "Belajar Python itu menyenangkan\n",
            "Belajar Python itu menyenangkan\n",
            "Belajar Python itu menyenangkan\n",
            "Belajar Python itu menyenangkan\n",
            "Belajar Python itu menyenangkan\n",
            "Belajar Python itu menyenangkan\n",
            "Belajar Python itu menyenangkan\n",
            "Belajar Python itu menyenangkan\n",
            "Belajar Python itu menyenangkan\n"
          ]
        }
      ],
      "source": [
        "def cetak_10x():\n",
        "    for i in range(10):\n",
        "         print(\"Belajar Python itu menyenangkan\")\n",
        "\n",
        "#memanggil fungsi\n",
        "cetak_10x()"
      ]
    },
    {
      "cell_type": "code",
      "execution_count": null,
      "id": "7338518f",
      "metadata": {
        "id": "7338518f",
        "outputId": "b4cc9bbd-1523-4109-f6dd-a52e67b22d08"
      },
      "outputs": [
        {
          "name": "stdout",
          "output_type": "stream",
          "text": [
            "Belajar pemrograman dapat mengasah logika berfikir\n",
            "Belajar pemrograman dapat mengasah logika berfikir\n",
            "Belajar pemrograman dapat mengasah logika berfikir\n",
            "Belajar pemrograman dapat mengasah logika berfikir\n",
            "Belajar pemrograman dapat mengasah logika berfikir\n",
            "Belajar pemrograman dapat mengasah logika berfikir\n",
            "Belajar pemrograman dapat mengasah logika berfikir\n",
            "Belajar pemrograman dapat mengasah logika berfikir\n",
            "Belajar pemrograman dapat mengasah logika berfikir\n",
            "Belajar pemrograman dapat mengasah logika berfikir\n"
          ]
        }
      ],
      "source": [
        "def cetak_apapun_10x(teks):\n",
        "    for i in range(10):\n",
        "         print(teks)\n",
        "\n",
        "#memanggil fungsi\n",
        "cetak_apapun_10x(\"Belajar pemrograman dapat mengasah logika berfikir\")"
      ]
    },
    {
      "cell_type": "code",
      "execution_count": null,
      "id": "f321be38",
      "metadata": {
        "id": "f321be38",
        "outputId": "4026b76e-079d-4819-a927-42da7d01d77a"
      },
      "outputs": [
        {
          "name": "stdout",
          "output_type": "stream",
          "text": [
            "Masukkan Sesuatu:Cara terbaik belajar pemrograman adalah mempelajari teori diiringi praktek dan memperbanyak latihan\n",
            "Cara terbaik belajar pemrograman adalah mempelajari teori diiringi praktek dan memperbanyak latihan\n",
            "Cara terbaik belajar pemrograman adalah mempelajari teori diiringi praktek dan memperbanyak latihan\n",
            "Cara terbaik belajar pemrograman adalah mempelajari teori diiringi praktek dan memperbanyak latihan\n",
            "Cara terbaik belajar pemrograman adalah mempelajari teori diiringi praktek dan memperbanyak latihan\n",
            "Cara terbaik belajar pemrograman adalah mempelajari teori diiringi praktek dan memperbanyak latihan\n",
            "Cara terbaik belajar pemrograman adalah mempelajari teori diiringi praktek dan memperbanyak latihan\n",
            "Cara terbaik belajar pemrograman adalah mempelajari teori diiringi praktek dan memperbanyak latihan\n",
            "Cara terbaik belajar pemrograman adalah mempelajari teori diiringi praktek dan memperbanyak latihan\n",
            "Cara terbaik belajar pemrograman adalah mempelajari teori diiringi praktek dan memperbanyak latihan\n",
            "Cara terbaik belajar pemrograman adalah mempelajari teori diiringi praktek dan memperbanyak latihan\n"
          ]
        }
      ],
      "source": [
        "def cetak_apapun_10x_dengan_input():\n",
        "    teks = input('Masukkan Sesuatu:')\n",
        "    for i in range(10):\n",
        "         print(teks)\n",
        "\n",
        "#memanggil fungsi\n",
        "cetak_apapun_10x_dengan_input()"
      ]
    },
    {
      "cell_type": "code",
      "execution_count": null,
      "id": "4af7dabb",
      "metadata": {
        "id": "4af7dabb",
        "outputId": "031e215a-f00f-46a2-85c8-8d3bf7d62f75"
      },
      "outputs": [
        {
          "name": "stdout",
          "output_type": "stream",
          "text": [
            "Selamat belajar python, jangan lupa perbanyak latihan yaa\n",
            "Selamat belajar python, jangan lupa perbanyak latihan yaa\n",
            "Selamat belajar python, jangan lupa perbanyak latihan yaa\n",
            "Selamat belajar python, jangan lupa perbanyak latihan yaa\n",
            "Selamat belajar python, jangan lupa perbanyak latihan yaa\n",
            "Selamat belajar python, jangan lupa perbanyak latihan yaa\n",
            "Selamat belajar python, jangan lupa perbanyak latihan yaa\n",
            "Selamat belajar python, jangan lupa perbanyak latihan yaa\n",
            "Selamat belajar python, jangan lupa perbanyak latihan yaa\n",
            "Selamat belajar python, jangan lupa perbanyak latihan yaa\n"
          ]
        }
      ],
      "source": [
        "def cetak_apapun_10x_dengan_default(teks = \"Selamat belajar python, jangan lupa perbanyak latihan yaa\"):\n",
        "    for i in range(10):\n",
        "         print(teks)\n",
        "\n",
        "#memanggil fungsi\n",
        "cetak_apapun_10x_dengan_default()"
      ]
    },
    {
      "cell_type": "code",
      "execution_count": null,
      "id": "3e87bb50",
      "metadata": {
        "id": "3e87bb50",
        "outputId": "be75a126-1728-4bff-e661-a96939e0df18"
      },
      "outputs": [
        {
          "name": "stdout",
          "output_type": "stream",
          "text": [
            "Oh senangnya, aku senang sekali :D\n",
            "Oh senangnya, aku senang sekali :D\n",
            "Oh senangnya, aku senang sekali :D\n",
            "Oh senangnya, aku senang sekali :D\n",
            "Oh senangnya, aku senang sekali :D\n",
            "Oh senangnya, aku senang sekali :D\n",
            "Oh senangnya, aku senang sekali :D\n",
            "Oh senangnya, aku senang sekali :D\n",
            "Oh senangnya, aku senang sekali :D\n",
            "Oh senangnya, aku senang sekali :D\n"
          ]
        }
      ],
      "source": [
        "cetak_apapun_10x_dengan_default(\"Oh senangnya, aku senang sekali :D\")"
      ]
    },
    {
      "cell_type": "code",
      "execution_count": null,
      "id": "faa03a92",
      "metadata": {
        "id": "faa03a92",
        "outputId": "415d63aa-bd7d-4ad3-bc69-b324c6956b66"
      },
      "outputs": [
        {
          "name": "stdout",
          "output_type": "stream",
          "text": [
            "Selamat belajar python, jangan lupa perbanyak latihan yaa\n",
            "Selamat belajar python, jangan lupa perbanyak latihan yaa\n",
            "Selamat belajar python, jangan lupa perbanyak latihan yaa\n",
            "Selamat belajar python, jangan lupa perbanyak latihan yaa\n",
            "Selamat belajar python, jangan lupa perbanyak latihan yaa\n",
            "Selamat belajar python, jangan lupa perbanyak latihan yaa\n",
            "Selamat belajar python, jangan lupa perbanyak latihan yaa\n",
            "Selamat belajar python, jangan lupa perbanyak latihan yaa\n",
            "Selamat belajar python, jangan lupa perbanyak latihan yaa\n",
            "Selamat belajar python, jangan lupa perbanyak latihan yaa\n"
          ]
        }
      ],
      "source": [
        "def cetak_apapun_10x_dengan_default(teks = \"Selamat belajar python, jangan lupa perbanyak latihan yaa\"):\n",
        "    for i in range(10):\n",
        "         print(teks)\n",
        "\n",
        "#memanggil fungsi\n",
        "cetak_apapun_10x_dengan_default()"
      ]
    },
    {
      "cell_type": "code",
      "execution_count": null,
      "id": "86a9b996",
      "metadata": {
        "id": "86a9b996",
        "outputId": "ab8cfef7-da7d-4854-96c2-fadd8f6c2489"
      },
      "outputs": [
        {
          "name": "stdout",
          "output_type": "stream",
          "text": [
            "Luas Persegi: 85.192900\n",
            "Luas Persegi: 144.000000\n",
            "Luas Persegi: 169.000000\n"
          ]
        }
      ],
      "source": [
        "def hitung_luas_persegi(panjang_sisi):\n",
        "    luas = panjang_sisi**2\n",
        "    print (\"Luas Persegi: %f\" % luas)\n",
        "\n",
        "# memanggil fungsi\n",
        "hitung_luas_persegi(9.23)\n",
        "hitung_luas_persegi(12.0)\n",
        "hitung_luas_persegi(13)"
      ]
    },
    {
      "cell_type": "code",
      "execution_count": null,
      "id": "a2e46628",
      "metadata": {
        "id": "a2e46628",
        "outputId": "aff455b1-3f3f-43a3-bed8-90cdddcee65b"
      },
      "outputs": [
        {
          "name": "stdout",
          "output_type": "stream",
          "text": [
            "Luas Persegi: 85.192900\n",
            "Luas Persegi: 144.000000\n",
            "Luas Persegi: 169.000000\n",
            "Luas Persegi: 85.192900\n"
          ]
        },
        {
          "data": {
            "text/plain": [
              "NoneType"
            ]
          },
          "execution_count": 1,
          "metadata": {},
          "output_type": "execute_result"
        }
      ],
      "source": [
        "def hitung_luas_persegi(panjang_sisi):\n",
        "    luas = panjang_sisi**2\n",
        "    print (\"Luas Persegi: %f\" % luas)\n",
        "\n",
        "# memanggil fungsi\n",
        "hitung_luas_persegi(9.23)\n",
        "hitung_luas_persegi(12.0)\n",
        "hitung_luas_persegi(13)\n",
        "\n",
        "tanpa_kembalian = hitung_luas_persegi(9.23)\n",
        "type(tanpa_kembalian)"
      ]
    },
    {
      "cell_type": "code",
      "execution_count": 8,
      "id": "2ca2b465",
      "metadata": {
        "id": "2ca2b465",
        "outputId": "ad55e997-9c58-4568-f23b-ea4958dee0d6",
        "colab": {
          "base_uri": "https://localhost:8080/"
        }
      },
      "outputs": [
        {
          "output_type": "stream",
          "name": "stdout",
          "text": [
            "Luas Persegi panjang: 40.000000\n",
            "Luas Persegi panjang: 43.856800\n"
          ]
        },
        {
          "output_type": "execute_result",
          "data": {
            "text/plain": [
              "43.8568"
            ]
          },
          "metadata": {},
          "execution_count": 8
        }
      ],
      "source": [
        "def hitung_luas_persegi_panjang(panjang,lebar):\n",
        "    luas = panjang*lebar\n",
        "    print (\"Luas Persegi panjang: %f\" % luas)\n",
        "    return luas\n",
        "\n",
        "# memanggil fungsi\n",
        "hitung_luas_persegi_panjang(5,8)\n",
        "hitung_luas_persegi_panjang(5.2,8.434)"
      ]
    },
    {
      "cell_type": "code",
      "execution_count": 9,
      "id": "57106f9e",
      "metadata": {
        "id": "57106f9e",
        "outputId": "2a069de5-b32c-431f-8dc0-585a09b8e208",
        "colab": {
          "base_uri": "https://localhost:8080/"
        }
      },
      "outputs": [
        {
          "output_type": "stream",
          "name": "stdout",
          "text": [
            "Luas Persegi panjang: 40.000000\n",
            "Luas Persegi panjang: 43.856800\n",
            "Luas Persegi panjang: 40.000000\n"
          ]
        },
        {
          "output_type": "execute_result",
          "data": {
            "text/plain": [
              "int"
            ]
          },
          "metadata": {},
          "execution_count": 9
        }
      ],
      "source": [
        "def hitung_luas_persegi_panjang(panjang,lebar):\n",
        "    luas = panjang*lebar\n",
        "    print (\"Luas Persegi panjang: %f\" % luas)\n",
        "    return luas\n",
        "\n",
        "# memanggil fungsi\n",
        "hitung_luas_persegi_panjang(5,8)\n",
        "hitung_luas_persegi_panjang(5.2,8.434)\n",
        "\n",
        "tanpa_kembalian = hitung_luas_persegi_panjang(5,8)\n",
        "type(tanpa_kembalian)"
      ]
    },
    {
      "cell_type": "code",
      "source": [
        "def hitung_luas_persegi_panjang_dengan_kembalian(panjang,lebar):\n",
        "    luas = panjang*lebar\n",
        "    print (\"Luas Persegi panjang: %f\" % luas)\n",
        "    return luas\n",
        "def hitung_luas_persegi_panjang_tanpa_kembalian(panjang,lebar):\n",
        "    luas = panjang*lebar\n",
        "    print (\"Luas Persegi panjang: %f\" % luas)\n",
        "    \n",
        "# memanggil fungsi\n",
        "tanpa_kembalian = hitung_luas_persegi_panjang_tanpa_kembalian(8,8)\n",
        "type(tanpa_kembalian)\n",
        "dengan_kembalian = hitung_luas_persegi_panjang_dengan_kembalian(40.2,8)\n",
        "type(dengan_kembalian)"
      ],
      "metadata": {
        "id": "sZq4tzTBIdN7",
        "outputId": "5887e5e9-0a1d-40cc-c827-a92c3d646ebe",
        "colab": {
          "base_uri": "https://localhost:8080/"
        }
      },
      "id": "sZq4tzTBIdN7",
      "execution_count": 10,
      "outputs": [
        {
          "output_type": "stream",
          "name": "stdout",
          "text": [
            "Luas Persegi panjang: 64.000000\n",
            "Luas Persegi panjang: 321.600000\n"
          ]
        },
        {
          "output_type": "execute_result",
          "data": {
            "text/plain": [
              "float"
            ]
          },
          "metadata": {},
          "execution_count": 10
        }
      ]
    }
  ],
  "metadata": {
    "kernelspec": {
      "display_name": "Python 3 (ipykernel)",
      "language": "python",
      "name": "python3"
    },
    "language_info": {
      "codemirror_mode": {
        "name": "ipython",
        "version": 3
      },
      "file_extension": ".py",
      "mimetype": "text/x-python",
      "name": "python",
      "nbconvert_exporter": "python",
      "pygments_lexer": "ipython3",
      "version": "3.9.7"
    },
    "colab": {
      "name": "Day 7 - FGD Code Sesi 1.ipynb",
      "provenance": []
    }
  },
  "nbformat": 4,
  "nbformat_minor": 5
}