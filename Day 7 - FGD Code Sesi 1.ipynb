{
 "cells": [
  {
   "cell_type": "code",
   "execution_count": 1,
   "id": "7180fd21",
   "metadata": {
    "scrolled": true
   },
   "outputs": [
    {
     "name": "stdout",
     "output_type": "stream",
     "text": [
      "Belajar Python itu menyenangkan\n",
      "Belajar Python itu menyenangkan\n",
      "Belajar Python itu menyenangkan\n",
      "Belajar Python itu menyenangkan\n",
      "Belajar Python itu menyenangkan\n",
      "Belajar Python itu menyenangkan\n",
      "Belajar Python itu menyenangkan\n",
      "Belajar Python itu menyenangkan\n",
      "Belajar Python itu menyenangkan\n",
      "Belajar Python itu menyenangkan\n"
     ]
    }
   ],
   "source": [
    "def cetak_10x():\n",
    "    for i in range(10):\n",
    "         print(\"Belajar Python itu menyenangkan\")\n",
    "\n",
    "#memanggil fungsi\n",
    "cetak_10x()"
   ]
  },
  {
   "cell_type": "code",
   "execution_count": 2,
   "id": "7338518f",
   "metadata": {},
   "outputs": [
    {
     "name": "stdout",
     "output_type": "stream",
     "text": [
      "Belajar pemrograman dapat mengasah logika berfikir\n",
      "Belajar pemrograman dapat mengasah logika berfikir\n",
      "Belajar pemrograman dapat mengasah logika berfikir\n",
      "Belajar pemrograman dapat mengasah logika berfikir\n",
      "Belajar pemrograman dapat mengasah logika berfikir\n",
      "Belajar pemrograman dapat mengasah logika berfikir\n",
      "Belajar pemrograman dapat mengasah logika berfikir\n",
      "Belajar pemrograman dapat mengasah logika berfikir\n",
      "Belajar pemrograman dapat mengasah logika berfikir\n",
      "Belajar pemrograman dapat mengasah logika berfikir\n"
     ]
    }
   ],
   "source": [
    "def cetak_apapun_10x(teks):\n",
    "    for i in range(10):\n",
    "         print(teks)\n",
    "\n",
    "#memanggil fungsi\n",
    "cetak_apapun_10x(\"Belajar pemrograman dapat mengasah logika berfikir\")"
   ]
  },
  {
   "cell_type": "code",
   "execution_count": 3,
   "id": "f321be38",
   "metadata": {},
   "outputs": [
    {
     "name": "stdout",
     "output_type": "stream",
     "text": [
      "Masukkan Sesuatu:Cara terbaik belajar pemrograman adalah mempelajari teori diiringi praktek dan memperbanyak latihan\n",
      "Cara terbaik belajar pemrograman adalah mempelajari teori diiringi praktek dan memperbanyak latihan\n",
      "Cara terbaik belajar pemrograman adalah mempelajari teori diiringi praktek dan memperbanyak latihan\n",
      "Cara terbaik belajar pemrograman adalah mempelajari teori diiringi praktek dan memperbanyak latihan\n",
      "Cara terbaik belajar pemrograman adalah mempelajari teori diiringi praktek dan memperbanyak latihan\n",
      "Cara terbaik belajar pemrograman adalah mempelajari teori diiringi praktek dan memperbanyak latihan\n",
      "Cara terbaik belajar pemrograman adalah mempelajari teori diiringi praktek dan memperbanyak latihan\n",
      "Cara terbaik belajar pemrograman adalah mempelajari teori diiringi praktek dan memperbanyak latihan\n",
      "Cara terbaik belajar pemrograman adalah mempelajari teori diiringi praktek dan memperbanyak latihan\n",
      "Cara terbaik belajar pemrograman adalah mempelajari teori diiringi praktek dan memperbanyak latihan\n",
      "Cara terbaik belajar pemrograman adalah mempelajari teori diiringi praktek dan memperbanyak latihan\n"
     ]
    }
   ],
   "source": [
    "def cetak_apapun_10x_dengan_input():\n",
    "    teks = input('Masukkan Sesuatu:')\n",
    "    for i in range(10):\n",
    "         print(teks)\n",
    "\n",
    "#memanggil fungsi\n",
    "cetak_apapun_10x_dengan_input()"
   ]
  },
  {
   "cell_type": "code",
   "execution_count": 4,
   "id": "4af7dabb",
   "metadata": {},
   "outputs": [
    {
     "name": "stdout",
     "output_type": "stream",
     "text": [
      "Selamat belajar python, jangan lupa perbanyak latihan yaa\n",
      "Selamat belajar python, jangan lupa perbanyak latihan yaa\n",
      "Selamat belajar python, jangan lupa perbanyak latihan yaa\n",
      "Selamat belajar python, jangan lupa perbanyak latihan yaa\n",
      "Selamat belajar python, jangan lupa perbanyak latihan yaa\n",
      "Selamat belajar python, jangan lupa perbanyak latihan yaa\n",
      "Selamat belajar python, jangan lupa perbanyak latihan yaa\n",
      "Selamat belajar python, jangan lupa perbanyak latihan yaa\n",
      "Selamat belajar python, jangan lupa perbanyak latihan yaa\n",
      "Selamat belajar python, jangan lupa perbanyak latihan yaa\n"
     ]
    }
   ],
   "source": [
    "def cetak_apapun_10x_dengan_default(teks = \"Selamat belajar python, jangan lupa perbanyak latihan yaa\"):\n",
    "    for i in range(10):\n",
    "         print(teks)\n",
    "\n",
    "#memanggil fungsi\n",
    "cetak_apapun_10x_dengan_default()"
   ]
  },
  {
   "cell_type": "code",
   "execution_count": 5,
   "id": "3e87bb50",
   "metadata": {},
   "outputs": [
    {
     "name": "stdout",
     "output_type": "stream",
     "text": [
      "Oh senangnya, aku senang sekali :D\n",
      "Oh senangnya, aku senang sekali :D\n",
      "Oh senangnya, aku senang sekali :D\n",
      "Oh senangnya, aku senang sekali :D\n",
      "Oh senangnya, aku senang sekali :D\n",
      "Oh senangnya, aku senang sekali :D\n",
      "Oh senangnya, aku senang sekali :D\n",
      "Oh senangnya, aku senang sekali :D\n",
      "Oh senangnya, aku senang sekali :D\n",
      "Oh senangnya, aku senang sekali :D\n"
     ]
    }
   ],
   "source": [
    "cetak_apapun_10x_dengan_default(\"Oh senangnya, aku senang sekali :D\")"
   ]
  },
  {
   "cell_type": "code",
   "execution_count": 6,
   "id": "faa03a92",
   "metadata": {},
   "outputs": [
    {
     "name": "stdout",
     "output_type": "stream",
     "text": [
      "Selamat belajar python, jangan lupa perbanyak latihan yaa\n",
      "Selamat belajar python, jangan lupa perbanyak latihan yaa\n",
      "Selamat belajar python, jangan lupa perbanyak latihan yaa\n",
      "Selamat belajar python, jangan lupa perbanyak latihan yaa\n",
      "Selamat belajar python, jangan lupa perbanyak latihan yaa\n",
      "Selamat belajar python, jangan lupa perbanyak latihan yaa\n",
      "Selamat belajar python, jangan lupa perbanyak latihan yaa\n",
      "Selamat belajar python, jangan lupa perbanyak latihan yaa\n",
      "Selamat belajar python, jangan lupa perbanyak latihan yaa\n",
      "Selamat belajar python, jangan lupa perbanyak latihan yaa\n"
     ]
    }
   ],
   "source": [
    "def cetak_apapun_10x_dengan_default(teks = \"Selamat belajar python, jangan lupa perbanyak latihan yaa\"):\n",
    "    for i in range(10):\n",
    "         print(teks)\n",
    "\n",
    "#memanggil fungsi\n",
    "cetak_apapun_10x_dengan_default()"
   ]
  },
  {
   "cell_type": "code",
   "execution_count": 7,
   "id": "86a9b996",
   "metadata": {},
   "outputs": [
    {
     "name": "stdout",
     "output_type": "stream",
     "text": [
      "Luas Persegi: 85.192900\n",
      "Luas Persegi: 144.000000\n",
      "Luas Persegi: 169.000000\n"
     ]
    }
   ],
   "source": [
    "def hitung_luas_persegi(panjang_sisi):\n",
    "    luas = panjang_sisi**2\n",
    "    print (\"Luas Persegi: %f\" % luas)\n",
    "\n",
    "# memanggil fungsi\n",
    "hitung_luas_persegi(9.23)\n",
    "hitung_luas_persegi(12.0)\n",
    "hitung_luas_persegi(13)"
   ]
  },
  {
   "cell_type": "code",
   "execution_count": 8,
   "id": "a2e46628",
   "metadata": {},
   "outputs": [
    {
     "name": "stdout",
     "output_type": "stream",
     "text": [
      "Luas Persegi: 85.192900\n",
      "Luas Persegi: 144.000000\n",
      "Luas Persegi: 169.000000\n"
     ]
    },
    {
     "data": {
      "text/plain": [
       "function"
      ]
     },
     "execution_count": 8,
     "metadata": {},
     "output_type": "execute_result"
    }
   ],
   "source": [
    "def hitung_luas_persegi(panjang_sisi):\n",
    "    luas = panjang_sisi**2\n",
    "    print (\"Luas Persegi: %f\" % luas)\n",
    "\n",
    "# memanggil fungsi\n",
    "hitung_luas_persegi(9.23)\n",
    "hitung_luas_persegi(12.0)\n",
    "hitung_luas_persegi(13)\n",
    "\n",
    "tanpa_kembalian = hitung_luas_persegi\n",
    "type(tanpa_kembalian)"
   ]
  },
  {
   "cell_type": "code",
   "execution_count": 9,
   "id": "2ca2b465",
   "metadata": {},
   "outputs": [
    {
     "name": "stdout",
     "output_type": "stream",
     "text": [
      "Luas Persegi: 40.000000\n",
      "Luas Persegi: 43.856800\n"
     ]
    },
    {
     "data": {
      "text/plain": [
       "43.8568"
      ]
     },
     "execution_count": 9,
     "metadata": {},
     "output_type": "execute_result"
    }
   ],
   "source": [
    "def hitung_luas_persegi_panjang(panjang,lebar):\n",
    "    luas = panjang*lebar\n",
    "    print (\"Luas Persegi: %f\" % luas)\n",
    "    return luas\n",
    "\n",
    "# memanggil fungsi\n",
    "hitung_luas_persegi_panjang(5,8)\n",
    "hitung_luas_persegi_panjang(5.2,8.434)"
   ]
  },
  {
   "cell_type": "code",
   "execution_count": 10,
   "id": "57106f9e",
   "metadata": {},
   "outputs": [
    {
     "name": "stdout",
     "output_type": "stream",
     "text": [
      "Luas Persegi: 40.000000\n",
      "Luas Persegi: 43.856800\n"
     ]
    },
    {
     "data": {
      "text/plain": [
       "function"
      ]
     },
     "execution_count": 10,
     "metadata": {},
     "output_type": "execute_result"
    }
   ],
   "source": [
    "def hitung_luas_persegi_panjang(panjang,lebar):\n",
    "    luas = panjang*lebar\n",
    "    print (\"Luas Persegi: %f\" % luas)\n",
    "    return luas\n",
    "\n",
    "# memanggil fungsi\n",
    "hitung_luas_persegi_panjang(5,8)\n",
    "hitung_luas_persegi_panjang(5.2,8.434)\n",
    "\n",
    "tanpa_kembalian = hitung_luas_persegi_panjang\n",
    "type(tanpa_kembalian)"
   ]
  }
 ],
 "metadata": {
  "kernelspec": {
   "display_name": "Python 3 (ipykernel)",
   "language": "python",
   "name": "python3"
  },
  "language_info": {
   "codemirror_mode": {
    "name": "ipython",
    "version": 3
   },
   "file_extension": ".py",
   "mimetype": "text/x-python",
   "name": "python",
   "nbconvert_exporter": "python",
   "pygments_lexer": "ipython3",
   "version": "3.9.7"
  }
 },
 "nbformat": 4,
 "nbformat_minor": 5
}
