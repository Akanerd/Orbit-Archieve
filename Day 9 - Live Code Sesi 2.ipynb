{
  "nbformat": 4,
  "nbformat_minor": 0,
  "metadata": {
    "colab": {
      "name": "Day 9 - Live Code Sesi 2.ipynb",
      "provenance": [],
      "collapsed_sections": [],
      "authorship_tag": "ABX9TyM8lfZOL8s/wv6xDbUYDVPx",
      "include_colab_link": true
    },
    "kernelspec": {
      "name": "python3",
      "display_name": "Python 3"
    },
    "language_info": {
      "name": "python"
    }
  },
  "cells": [
    {
      "cell_type": "markdown",
      "metadata": {
        "id": "view-in-github",
        "colab_type": "text"
      },
      "source": [
        "<a href=\"https://colab.research.google.com/github/Akanerd/Orbit-Archieve/blob/main/Day%209%20-%20Live%20Code%20Sesi%202.ipynb\" target=\"_parent\"><img src=\"https://colab.research.google.com/assets/colab-badge.svg\" alt=\"Open In Colab\"/></a>"
      ]
    },
    {
      "cell_type": "markdown",
      "source": [
        "# **Numpy dengan Python**"
      ],
      "metadata": {
        "id": "qqV8wKpkMzJl"
      }
    },
    {
      "cell_type": "markdown",
      "source": [
        "Import Library Numpy"
      ],
      "metadata": {
        "id": "HP9SO7Y-Mv7b"
      }
    },
    {
      "cell_type": "code",
      "execution_count": 1,
      "metadata": {
        "id": "Sd5pn5mTLHn4"
      },
      "outputs": [],
      "source": [
        "import numpy as np"
      ]
    },
    {
      "cell_type": "markdown",
      "source": [
        "Inisialisasi Array dengan Numpy"
      ],
      "metadata": {
        "id": "UcfJDNAeMq7f"
      }
    },
    {
      "cell_type": "code",
      "source": [
        "a = np.array([1,3,5,9,11])\n",
        "b = np.array([[1,3,5],[2,4,6],[7,7,9]])\n",
        "c = np.array([[1,3],[2,4],[3,5],[4,6]])\n",
        "\n",
        "print(a)\n",
        "print(a.size)\n",
        "print(a.ndim)\n",
        "print(a.shape)\n",
        "print(b)\n",
        "print(b.size)\n",
        "print(b.ndim)\n",
        "print(b.shape)\n",
        "print(c)\n",
        "print(c.size)\n",
        "print(c.ndim)\n",
        "print(c.shape)"
      ],
      "metadata": {
        "colab": {
          "base_uri": "https://localhost:8080/"
        },
        "id": "0eT0vRJgLO33",
        "outputId": "a2f7d6b3-874e-4c0d-9ef1-d8f1a840d5b5"
      },
      "execution_count": 2,
      "outputs": [
        {
          "output_type": "stream",
          "name": "stdout",
          "text": [
            "[ 1  3  5  9 11]\n",
            "5\n",
            "1\n",
            "(5,)\n",
            "[[1 3 5]\n",
            " [2 4 6]\n",
            " [7 7 9]]\n",
            "9\n",
            "2\n",
            "(3, 3)\n",
            "[[1 3]\n",
            " [2 4]\n",
            " [3 5]\n",
            " [4 6]]\n",
            "8\n",
            "2\n",
            "(4, 2)\n"
          ]
        }
      ]
    },
    {
      "cell_type": "markdown",
      "source": [
        "Slicing dengan Numpy"
      ],
      "metadata": {
        "id": "AyuN-AVvMMGr"
      }
    },
    {
      "cell_type": "code",
      "source": [
        "print(a[1:])\n",
        "print(a[:4])"
      ],
      "metadata": {
        "colab": {
          "base_uri": "https://localhost:8080/"
        },
        "id": "IMYxW1iQMLbs",
        "outputId": "d6e3345e-fa6f-4561-9c33-18d633ea3444"
      },
      "execution_count": 3,
      "outputs": [
        {
          "output_type": "stream",
          "name": "stdout",
          "text": [
            "[ 3  5  9 11]\n",
            "[1 3 5 9]\n"
          ]
        }
      ]
    },
    {
      "cell_type": "markdown",
      "source": [
        "Indexing Array 2d dengan Numpy"
      ],
      "metadata": {
        "id": "l_wJStyGNMoS"
      }
    },
    {
      "cell_type": "code",
      "source": [
        "print(b[0][2])\n",
        "print(b[2,0])\n",
        "print(b[0:,2])"
      ],
      "metadata": {
        "colab": {
          "base_uri": "https://localhost:8080/"
        },
        "id": "CQj1tvFQNPm-",
        "outputId": "1efc3b9d-0a7c-4f51-a590-1b5d18ac509d"
      },
      "execution_count": 6,
      "outputs": [
        {
          "output_type": "stream",
          "name": "stdout",
          "text": [
            "5\n",
            "7\n",
            "[5 6 9]\n"
          ]
        }
      ]
    },
    {
      "cell_type": "markdown",
      "source": [
        "# **Fundamental of Machine learning**\n"
      ],
      "metadata": {
        "id": "caKzSseCM5QA"
      }
    },
    {
      "cell_type": "code",
      "source": [
        "print()"
      ],
      "metadata": {
        "id": "AgZbixPANAMn"
      },
      "execution_count": null,
      "outputs": []
    }
  ]
}