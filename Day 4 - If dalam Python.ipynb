{
  "nbformat": 4,
  "nbformat_minor": 0,
  "metadata": {
    "colab": {
      "name": "Day 4 - If dalam Python.ipynb",
      "provenance": [],
      "authorship_tag": "ABX9TyNvd5ZDtV8oG8Hdi68FNJbz",
      "include_colab_link": true
    },
    "kernelspec": {
      "name": "python3",
      "display_name": "Python 3"
    },
    "language_info": {
      "name": "python"
    }
  },
  "cells": [
    {
      "cell_type": "markdown",
      "metadata": {
        "id": "view-in-github",
        "colab_type": "text"
      },
      "source": [
        "<a href=\"https://colab.research.google.com/github/Akanerd/Orbit-Archieve/blob/main/Day%204%20-%20If%20dalam%20Python.ipynb\" target=\"_parent\"><img src=\"https://colab.research.google.com/assets/colab-badge.svg\" alt=\"Open In Colab\"/></a>"
      ]
    },
    {
      "cell_type": "markdown",
      "source": [
        "# If dalam Python"
      ],
      "metadata": {
        "id": "kW4l91LcQjai"
      }
    },
    {
      "cell_type": "markdown",
      "source": [
        "Pengambilan keputusan (kondisi if) digunakan untuk mengantisipasi kondisi yang terjadi saat jalannya program dan menentukan tindakan apa yang akan diambil sesuai dengan kondisi\n",
        "Pada Python sendiri terdapat beberapa statement/kondisi diantaranya adalah\n",
        "\n",
        "1.   **If**\n",
        "2.   **Else**\n",
        "3.   **Elif**\n",
        "\n",
        "Dimana kondisi if digunakan untuk mengeksekusi kode jika kode bernilai benar true sedangkan jika kondisi bernilai salah maka statement/kondisi if tidak akan dieksekusi. \n",
        "\n"
      ],
      "metadata": {
        "id": "T777izSNQplo"
      }
    },
    {
      "cell_type": "code",
      "execution_count": 2,
      "metadata": {
        "id": "SOwLIEqZQKzC"
      },
      "outputs": [],
      "source": [
        "a = 3900\n",
        "b = 3900\n",
        "\n",
        "if b > a :\n",
        "  print(\"Yep!\") # pada studi kasus seperti ini tidak akan menampilkan apa-apa"
      ]
    },
    {
      "cell_type": "code",
      "source": [
        "a = 10\n",
        "b = 30\n",
        "\n",
        "if b > a :\n",
        "  print(\"Yep!\") # pada studi kasus seperti maka akan mencetak Yep!"
      ],
      "metadata": {
        "colab": {
          "base_uri": "https://localhost:8080/"
        },
        "id": "PNKlDlSZSDsA",
        "outputId": "99df349f-d048-4542-da9e-931916b87eb2"
      },
      "execution_count": 1,
      "outputs": [
        {
          "output_type": "stream",
          "name": "stdout",
          "text": [
            "Yep!\n"
          ]
        }
      ]
    },
    {
      "cell_type": "code",
      "source": [
        "# kondisi if adalah kondisi yang akan dieksekusi oleh program jika bernilai benar atau True\n",
        "z = 9\n",
        "\n",
        "# jika kondisi benar/true maka program akan mengeksekusi perintah dibawahnya \n",
        "if(z > 8):\n",
        "  print(\"Sembilan lebih besar dari angka Delapan\") # kondisi benar maka dieksekusi\n"
      ],
      "metadata": {
        "colab": {
          "base_uri": "https://localhost:8080/"
        },
        "id": "1XUCqZhJSN6n",
        "outputId": "89cf4b23-b215-4023-8672-f5d7add30b25"
      },
      "execution_count": 3,
      "outputs": [
        {
          "output_type": "stream",
          "name": "stdout",
          "text": [
            "Sembilan lebih besar dari angka Delapan\n"
          ]
        }
      ]
    },
    {
      "cell_type": "code",
      "source": [
        "# Jika kondisi salah/false maka program tidak akan mengeksekusi perintah dibawahnya\n",
        "if (z>7):\n",
        "  print(\"Sembilan lebih besar dari angka sepuluh\") # Kondisi Salah, maka tidak tereksekusi"
      ],
      "metadata": {
        "colab": {
          "base_uri": "https://localhost:8080/"
        },
        "id": "yzBBCq7wV3gW",
        "outputId": "f8a5bdc1-e692-4150-a329-1dd0cac406f1"
      },
      "execution_count": 4,
      "outputs": [
        {
          "output_type": "stream",
          "name": "stdout",
          "text": [
            "Sembilan lebih besar dari angka sepuluh\n"
          ]
        }
      ]
    },
    {
      "cell_type": "code",
      "source": [
        "import math # Import module math\n",
        "math.sin(90) # mencari nilai sin 90"
      ],
      "metadata": {
        "colab": {
          "base_uri": "https://localhost:8080/"
        },
        "id": "8mMAyqfYclNH",
        "outputId": "039a988c-f2d4-41b3-a914-2e567735ad75"
      },
      "execution_count": 5,
      "outputs": [
        {
          "output_type": "execute_result",
          "data": {
            "text/plain": [
              "0.8939966636005579"
            ]
          },
          "metadata": {},
          "execution_count": 5
        }
      ]
    },
    {
      "cell_type": "code",
      "source": [
        "import math # Import module math\n",
        "math.cos(90) # mencari nilai cos 90"
      ],
      "metadata": {
        "colab": {
          "base_uri": "https://localhost:8080/"
        },
        "id": "xfbCylyycvX-",
        "outputId": "8838b2f0-f959-4f5c-8e17-682ebf498c87"
      },
      "execution_count": 6,
      "outputs": [
        {
          "output_type": "execute_result",
          "data": {
            "text/plain": [
              "-0.4480736161291701"
            ]
          },
          "metadata": {},
          "execution_count": 6
        }
      ]
    },
    {
      "cell_type": "code",
      "source": [
        "import math\n",
        "a = math.sin (90)\n",
        "b = math.cos (30)\n",
        "\n",
        "if a > b :\n",
        "  print(\"a lebih besar dari b\")\n",
        "if a < b :\n",
        "  print(\"a lebih kecil dari b\")\n",
        "if b < a :\n",
        "  print(\"b lebih kecil dari a\")"
      ],
      "metadata": {
        "colab": {
          "base_uri": "https://localhost:8080/"
        },
        "id": "YZaICwbDcz6g",
        "outputId": "83290a85-e2c5-466d-bf88-8ac2c24b4ca0"
      },
      "execution_count": 8,
      "outputs": [
        {
          "output_type": "stream",
          "name": "stdout",
          "text": [
            "a lebih besar dari b\n",
            "b lebih kecil dari a\n"
          ]
        }
      ]
    }
  ]
}