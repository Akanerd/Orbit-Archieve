{
 "cells": [
  {
   "cell_type": "markdown",
   "metadata": {},
   "source": [
    "# Module 4\n",
    "## Section: Logistic Regression"
   ]
  },
  {
   "cell_type": "markdown",
   "metadata": {},
   "source": [
    "## Lab 1: Introduction to Logistic Regression"
   ]
  },
  {
   "cell_type": "markdown",
   "metadata": {},
   "source": [
    "<br><br><br><br>\n",
    "\n",
    "## Objective\n",
    "\n",
    "- Can a Linear Regression model be used to solve a classification problem?\n",
    "- What is a Decision Boundary?\n",
    "- Sigmoid Function\n",
    "    - Intuition\n",
    "    - Simple Modifications\n",
    "    - Interpretation\n",
    "- Decision Boundary Intuition with Examples\n",
    "- Enter Logistic Regression"
   ]
  },
  {
   "cell_type": "code",
   "execution_count": 1,
   "metadata": {
    "slideshow": {
     "slide_type": "subslide"
    }
   },
   "outputs": [],
   "source": [
    "# Importing Libraries\n",
    "import numpy as np\n",
    "import matplotlib.pyplot as plt\n",
    "# import seaborn as sns\n",
    "import pandas as pd\n",
    "from sklearn.model_selection import train_test_split\n",
    "%matplotlib inline\n",
    "from sklearn.datasets import make_classification\n",
    "X, y = make_classification(n_samples=10, n_features=1, n_informative=1, n_redundant=0 , n_clusters_per_class=1, flip_y=0, random_state=7)"
   ]
  },
  {
   "cell_type": "code",
   "execution_count": 2,
   "metadata": {
    "scrolled": true,
    "slideshow": {
     "slide_type": "subslide"
    }
   },
   "outputs": [
    {
     "data": {
      "image/png": "[encoded data removed]",
      "text/plain": [
       "<Figure size 720x432 with 1 Axes>"
      ]
     },
     "metadata": {
      "needs_background": "light"
     },
     "output_type": "display_data"
    }
   ],
   "source": [
    "# Plotting \n",
    "plt.figure(figsize=(10,6))\n",
    "plt.scatter(X, y, c='r', marker='x')\n",
    "plt.ylabel(\"Malignant Tumor {1: Yes  0: No}\")\n",
    "plt.xlabel(\"Tumor Size\")\n",
    "plt.show()"
   ]
  },
  {
   "cell_type": "markdown",
   "metadata": {
    "slideshow": {
     "slide_type": "subslide"
    }
   },
   "source": [
    "<br><br><br><br>\n",
    "### What type of Problem is this? \n",
    "***\n",
    " - The output, \"y\" has two **categories** i.e. 1 (Yes) or 0 (No) \n",
    " \n",
    " - Thus, as we have learnt before, this is a **Classification Problem** where we are using our dependent variables, in this case Tumor Size, and are getting a **binary** output, 1 (Yes) or 0 (No)! \n",
    " \n",
    " - Let's approach this problem with what we've learnt so far"
   ]
  },
  {
   "cell_type": "markdown",
   "metadata": {
    "slideshow": {
     "slide_type": "subslide"
    }
   },
   "source": [
    "<br><br><br><br>\n",
    "### The Problem Explained\n",
    "***\n",
    " - We have a dataset which has details about the loan approval.\n",
    " - Through the dataset, we basically want to find out that using different characteristics, do loans get approved {1: Yes} or not {0: No}\n",
    " - This is, in essence, nothing but a classification problem. \n",
    " \n",
    " - We wanted to check, before applying, whether our request would be approved after we fit the **right model** on the data! \n",
    " - But before we do that, let's build our intution on the '*model building*' part using the Tumor data! You will see how comprehensive this approach is"
   ]
  },
  {
   "cell_type": "markdown",
   "metadata": {
    "slideshow": {
     "slide_type": "subslide"
    }
   },
   "source": [
    "<br><br><br><br>\n",
    "## Can Linear Regression be used to solve a classification problem?\n",
    "***\n",
    "\n",
    "* Lets try and apply the same Linear Regression model we learned to solve the problem of classification on a dataset."
   ]
  },
  {
   "cell_type": "code",
   "execution_count": 3,
   "metadata": {
    "slideshow": {
     "slide_type": "subslide"
    }
   },
   "outputs": [
    {
     "data": {
      "text/plain": [
       "LinearRegression()"
      ]
     },
     "execution_count": 3,
     "metadata": {},
     "output_type": "execute_result"
    }
   ],
   "source": [
    "from sklearn.linear_model import LinearRegression\n",
    "lm = LinearRegression()\n",
    "lm.fit(X, y)"
   ]
  },
  {
   "cell_type": "code",
   "execution_count": 4,
   "metadata": {
    "slideshow": {
     "slide_type": "subslide"
    }
   },
   "outputs": [],
   "source": [
    "z = np.linspace(-2, 2, 1000)\n",
    "z_predict = lm.intercept_ + (lm.coef_ * z)"
   ]
  },
  {
   "cell_type": "code",
   "execution_count": 5,
   "metadata": {
    "scrolled": false,
    "slideshow": {
     "slide_type": "subslide"
    }
   },
   "outputs": [
    {
     "data": {
      "image/png": "[encoded data removed]",
      "text/plain": [
       "<Figure size 720x432 with 1 Axes>"
      ]
     },
     "metadata": {
      "needs_background": "light"
     },
     "output_type": "display_data"
    }
   ],
   "source": [
    "plt.figure(figsize=(10,6))\n",
    "plt.scatter(X, y, c='r', marker='x')\n",
    "plt.plot(z, z_predict)\n",
    "plt.ylabel(\"Presence of Cancer {1: Yes  0: No}\")\n",
    "plt.xlabel(\"Tumor Size\")\n",
    "plt.show()"
   ]
  },
  {
   "cell_type": "markdown",
   "metadata": {
    "slideshow": {
     "slide_type": "subslide"
    }
   },
   "source": [
    "### Intuition behind the Decision Boundary\n",
    "***\n",
    "* We have fitted a linear regression model which is represented by the blue line\n",
    "* How do we convert a continuous output into a discrete one?\n",
    "* One way we can do is using a threshold value for the linear regression output\n",
    "\n",
    "\n",
    "* Our output is either 1 or 0, and since we can even get predicted values between 0 and 1 like 0.2, 0.6, etc. (The regression line), we need to come up with a method where our output (0.2, 0.6, etc) is **transformed** to either **0** or **1**\n",
    "\n",
    "\n",
    "* A reasonable threshold to keep for a 0-1 problem is 0.5. So, if our predicted value (y) is **greater than 0.5** then we assign a **\"1\"** to it \n",
    "* If y is **less than 0.5** then we assign a **\"0\"** to it\n"
   ]
  },
  {
   "cell_type": "markdown",
   "metadata": {
    "slideshow": {
     "slide_type": "slide"
    }
   },
   "source": [
    "<br><br><br><br>\n",
    "## What is Decision Boundary?\n",
    "***\n",
    "\n",
    "* Tracing the line of y = 0.5 all the way to it's corresponding x - value (See graph below) we can get to know this \"Threshold\" value\n",
    "\n",
    "* This \"Threshold Value\" is x = __\n",
    "\n",
    "* This means that if x > _ then y > 0.5 (i.e. y = 1) \n",
    "\n",
    "* If x < _ then y < 0.5 (i.e. y = 0)\n",
    "\n",
    "* Therefore, this vertical line (x = _ ) which separates the 2 classes (y = 1 & 0) ---> **Decision Boundary**"
   ]
  },
  {
   "cell_type": "code",
   "execution_count": 6,
   "metadata": {
    "slideshow": {
     "slide_type": "subslide"
    }
   },
   "outputs": [
    {
     "data": {
      "text/plain": [
       "Text(0, 0.5, 'Target')"
      ]
     },
     "execution_count": 6,
     "metadata": {},
     "output_type": "execute_result"
    },
    {
     "data": {
      "image/png": "[encoded data removed]",
      "text/plain": [
       "<Figure size 720x432 with 1 Axes>"
      ]
     },
     "metadata": {
      "needs_background": "light"
     },
     "output_type": "display_data"
    }
   ],
   "source": [
    "x_critical = (0.5 - lm.intercept_)/ lm.coef_\n",
    "\n",
    "plt.figure(figsize=(10,6))\n",
    "plt.scatter(X, y, c='r', marker='x')\n",
    "plt.plot(z, z_predict)\n",
    "plt.axvline(x=x_critical, color='r', linestyle='--')\n",
    "plt.axhline(y=0.5, color='g', linestyle='--')\n",
    "plt.xlabel('Feature')\n",
    "plt.ylabel('Target')"
   ]
  },
  {
   "cell_type": "markdown",
   "metadata": {
    "slideshow": {
     "slide_type": "subslide"
    }
   },
   "source": [
    "<br><br><br><br>\n",
    "### Linear Regression - Not a Good Idea\n",
    "***\n",
    "* The problem with this approach is that Linear Regression isn't robust to outliers and it changes the fit drastically in the presence of an outlier\n",
    "\n",
    "\n",
    "* We'll add an outlier and keep the same threshold as before to see the difference."
   ]
  },
  {
   "cell_type": "code",
   "execution_count": 7,
   "metadata": {
    "scrolled": true,
    "slideshow": {
     "slide_type": "subslide"
    }
   },
   "outputs": [],
   "source": [
    "new_obs = 20\n",
    "X = np.vstack([X, new_obs])\n",
    "y = np.append(y, 1)\n",
    "lm = LinearRegression()\n",
    "lm.fit(X, y)\n",
    "z = np.linspace(-2, new_obs, 1000)\n",
    "z_predict = lm.intercept_ + (lm.coef_ * z)\n",
    "x_critical2 = (0.5 - lm.intercept_)/ lm.coef_"
   ]
  },
  {
   "cell_type": "code",
   "execution_count": 8,
   "metadata": {
    "scrolled": false,
    "slideshow": {
     "slide_type": "subslide"
    }
   },
   "outputs": [
    {
     "data": {
      "image/png": "[encoded data removed]",
      "text/plain": [
       "<Figure size 720x432 with 1 Axes>"
      ]
     },
     "metadata": {
      "needs_background": "light"
     },
     "output_type": "display_data"
    }
   ],
   "source": [
    "plt.figure(figsize=(10,6))\n",
    "plt.scatter(X, y, c='r', marker='x')\n",
    "plt.plot(z, z_predict)\n",
    "plt.axvline(x=x_critical, color='r', linestyle='--')\n",
    "plt.axvline(x=x_critical2, color='y', linestyle='--')\n",
    "plt.xlabel('Feature')\n",
    "plt.ylabel('Target')\n",
    "plt.show()"
   ]
  },
  {
   "cell_type": "markdown",
   "metadata": {
    "slideshow": {
     "slide_type": "slide"
    }
   },
   "source": [
    "<br><br><br><br>\n",
    "### Linear Regression - Not a Good Idea \n",
    "***\n",
    "* We see that our Decision Boundary has shifted to the right. As a result we get some incorrect predicted \"y-values\" (the one's left of the boundary) \n",
    "\n",
    "* Since the data is labeled we know that they're originally = \"1\". But being on the left of the decision boundary indicates that they should be assigned a \"0\"\n",
    "\n",
    "* Thus Linear Regression is not suitable for classification tasks as it is highly sensitive to outliers\n",
    "\n",
    "* We clearly need a better model to solve the problem of classification"
   ]
  },
  {
   "cell_type": "markdown",
   "metadata": {
    "slideshow": {
     "slide_type": "slide"
    }
   },
   "source": [
    "<br><br><br><br><br><br><br><br>\n",
    "## Enter Logistic Regression\n",
    "***\n",
    "* To overcome the limitations of Linear Regression we'll use another model suitable for classification i.e., Logistic Regression.\n",
    "\n",
    "\n",
    "* What do we need? \n",
    "  - We need 0 <= y <= 1\n",
    "  \n",
    "* For this purpose we need to use a different function (and not the Linear Regression \"y = mx + b\")\n",
    "\n",
    "* This function is the **Sigmoid Function**\n"
   ]
  },
  {
   "cell_type": "markdown",
   "metadata": {
    "slideshow": {
     "slide_type": "slide"
    }
   },
   "source": [
    "<br><br><br><br>\n",
    "## Sigmoid function\n",
    "***\n",
    "* We need to get the values in the range of (0,1) \n",
    "\n",
    "* Let's have a look at the graph of the Sigmoid Function and then get into building the intuition\n",
    "***\n",
    "\n",
    "<center><img src=\"https://raw.githubusercontent.com/bluedataconsulting/AIMasteryProgram/main/Lab_Exercises/Module4/images/sigmoid.png\" alt=\"Oh Chris\" style=\"width: 275px;\"/></center>"
   ]
  },
  {
   "cell_type": "markdown",
   "metadata": {
    "slideshow": {
     "slide_type": "slide"
    }
   },
   "source": [
    "## Intuition\n",
    "***\n",
    " - The function above is $g(z) = \\frac {1} {(1 + e^(-z))}$   for values of t ranging from - infinity , + infinity\n",
    " \n",
    " - $g(z)$ is also called as \"Sigmoid of 'z' or just sig(z)\"\n",
    " \n",
    " - Again, let's start by plugging in the extremes of it's range\n",
    " \n",
    " $g(-infinity) = \\frac {1} {(1 + infinity)} = ~0$\n",
    " \n",
    " \n",
    "   $g( infinity) = \\frac {1} {(1 + ~0)} = ~1$\n",
    " \n",
    " - No matter what value \"z\" takes, we will always get an answer in the range of **[0,1]**"
   ]
  },
  {
   "cell_type": "markdown",
   "metadata": {
    "slideshow": {
     "slide_type": "subslide"
    }
   },
   "source": [
    "<br><br><br><br>\n",
    "### Simple Modifications\n",
    "***\n",
    "\n",
    " - Now, instead of sig(z) let's consider sig(y) **where y ---> our response**\n",
    " \n",
    " - But as discussed before; $y = \\theta_0 + \\theta_1(x1) + \\theta_2(x_2) + .. + \\theta_n(x_n)$\n",
    " \n",
    " - Thus, $g(y) = g(h_{\\theta}(x)) = 1/(1 + e^{-(\\theta* X)})$"
   ]
  },
  {
   "cell_type": "markdown",
   "metadata": {
    "slideshow": {
     "slide_type": "subslide"
    }
   },
   "source": [
    "<br><br><br><br>\n",
    "### Interpretation - Let's put it simply\n",
    "***\n",
    "In essence: \n",
    "\n",
    " - $h_θ(x)$ is the ** Estimated Probability that y = 1 on input \"X\"** \n",
    " \n",
    " - Example: $h_θ(x)$ = 0.7 in our Tumor problem **MEANS** there is a 70% chance of Tumor being **Malignant**\n",
    " \n",
    " - Thus, mathematically, $h_θ(x)$ = P(y=1 | x; θ) means that **Probability that y = 1 given X and parameterized by θ**\n",
    " \n",
    " - Thus **P(y=1 | x;θ) + P(y=0 | x;θ) = 1**\n",
    "\n"
   ]
  },
  {
   "cell_type": "markdown",
   "metadata": {
    "slideshow": {
     "slide_type": "subslide"
    }
   },
   "source": [
    "<br><br><br><br>\n",
    "### Decision Boundary Intuition with Examples\n",
    "***\n",
    "\n",
    "We can see that g(z) >= 0.5 when z >= 0\n",
    "\n",
    "Thus $h_θ(x)$ = g(θ*X)) >= 0.5 whenever θ x $X$ >= 0\n",
    "\n",
    "<center><img src=\"https://raw.githubusercontent.com/bluedataconsulting/AIMasteryProgram/main/Lab_Exercises/Module4/images/sigmoid.png\" alt=\"Oh Chris\" style=\"width: 275px;\"/></center>"
   ]
  },
  {
   "cell_type": "markdown",
   "metadata": {
    "slideshow": {
     "slide_type": "subslide"
    }
   },
   "source": [
    " - Consider: $h_θ(x) = g(θ_0 + θ_1x_1 + θ_2x_2)$\n",
    "\n",
    " - The graph below shows y - values (0 when \"O\" & 1 when \"X\") given values of $x_1$& $x_2$\n",
    "***\n",
    "<center><img src=\"https://raw.githubusercontent.com/bluedataconsulting/AIMasteryProgram/main/Lab_Exercises/Module4/images/logistic_regression.png\" alt=\"Math\" style=\"width: 275px;\"/></center>"
   ]
  },
  {
   "cell_type": "markdown",
   "metadata": {
    "slideshow": {
     "slide_type": "subslide"
    }
   },
   "source": [
    "So, for example  $θ_0 = -3, θ_1 = 1, θ_2 = 1$\n",
    "     \n",
    "So our parameter vector is a column vector with the above values\n",
    "   - So, $θ^T$  = [-3,1,1]\n",
    "   \n",
    "Thus the z here becomes θ x $X$\n"
   ]
  },
  {
   "cell_type": "code",
   "execution_count": 9,
   "metadata": {
    "slideshow": {
     "slide_type": "subslide"
    }
   },
   "outputs": [
    {
     "data": {
      "text/plain": [
       "LogisticRegression()"
      ]
     },
     "execution_count": 9,
     "metadata": {},
     "output_type": "execute_result"
    }
   ],
   "source": [
    "from sklearn.linear_model import LogisticRegression\n",
    "clf = LogisticRegression()\n",
    "\n",
    "X, y = make_classification(n_samples=10, n_features=1, n_informative=1, n_redundant=0 , n_clusters_per_class=1, flip_y=0, random_state=7)\n",
    "clf = LogisticRegression()\n",
    "clf.fit(X, y)"
   ]
  },
  {
   "cell_type": "code",
   "execution_count": 10,
   "metadata": {
    "scrolled": false,
    "slideshow": {
     "slide_type": "subslide"
    }
   },
   "outputs": [
    {
     "data": {
      "text/plain": [
       "Text(0, 0.5, 'Target')"
      ]
     },
     "execution_count": 10,
     "metadata": {},
     "output_type": "execute_result"
    },
    {
     "data": {
      "image/png": "[encoded data removed]",
      "text/plain": [
       "<Figure size 720x432 with 1 Axes>"
      ]
     },
     "metadata": {
      "needs_background": "light"
     },
     "output_type": "display_data"
    }
   ],
   "source": [
    "plt.figure(figsize=(10,6))\n",
    "plt.scatter(X, y, c='r', marker='x')\n",
    "xt = np.linspace(-3, 3, 1000).reshape(1000,1)\n",
    "yt = clf.predict(xt)\n",
    "plt.plot(xt, yt)\n",
    "plt.xlabel('Feature')\n",
    "plt.ylabel('Target')"
   ]
  },
  {
   "cell_type": "markdown",
   "metadata": {
    "slideshow": {
     "slide_type": "subslide"
    }
   },
   "source": [
    "* In the case with no outliers Logistic Regression does a good job in seperating the classes\n",
    "* We'll add an outlier and check if it still manages to do the same"
   ]
  },
  {
   "cell_type": "code",
   "execution_count": 11,
   "metadata": {
    "slideshow": {
     "slide_type": "subslide"
    }
   },
   "outputs": [
    {
     "data": {
      "text/plain": [
       "LogisticRegression()"
      ]
     },
     "execution_count": 11,
     "metadata": {},
     "output_type": "execute_result"
    }
   ],
   "source": [
    "new_obs = 20\n",
    "X = np.vstack([X, new_obs])\n",
    "y = np.append(y, 1)\n",
    "clf.fit(X, y)"
   ]
  },
  {
   "cell_type": "code",
   "execution_count": 12,
   "metadata": {
    "slideshow": {
     "slide_type": "subslide"
    }
   },
   "outputs": [
    {
     "data": {
      "text/plain": [
       "Text(0, 0.5, 'Target')"
      ]
     },
     "execution_count": 12,
     "metadata": {},
     "output_type": "execute_result"
    },
    {
     "data": {
      "image/png": "[encoded data removed]",
      "text/plain": [
       "<Figure size 720x432 with 1 Axes>"
      ]
     },
     "metadata": {
      "needs_background": "light"
     },
     "output_type": "display_data"
    }
   ],
   "source": [
    "plt.figure(figsize=(10,6))\n",
    "plt.scatter(X, y, c='r', marker='x')\n",
    "xt = np.linspace(-5, 25, 1000).reshape(1000,1)\n",
    "yt = clf.predict(xt)\n",
    "plt.plot(xt, yt)\n",
    "plt.xlabel('Feature')\n",
    "plt.ylabel('Target')"
   ]
  },
  {
   "cell_type": "markdown",
   "metadata": {
    "slideshow": {
     "slide_type": "subslide"
    }
   },
   "source": [
    "* Even after adding outliers LR seperates the classes well.\n",
    "* Thus its much more suitable for classification.\n"
   ]
  },
  {
   "cell_type": "markdown",
   "metadata": {},
   "source": [
    "### Thank you!"
   ]
  }
 ],
 "metadata": {
  "anaconda-cloud": {},
  "celltoolbar": "Slideshow",
  "kernelspec": {
   "display_name": "Python 3",
   "language": "python",
   "name": "python3"
  },
  "language_info": {
   "codemirror_mode": {
    "name": "ipython",
    "version": 3
   },
   "file_extension": ".py",
   "mimetype": "text/x-python",
   "name": "python",
   "nbconvert_exporter": "python",
   "pygments_lexer": "ipython3",
   "version": "3.8.8"
  },
  "widgets": {
   "state": {},
   "version": "1.1.2"
  }
 },
 "nbformat": 4,
 "nbformat_minor": 2
}
