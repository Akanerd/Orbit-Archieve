{
  "nbformat": 4,
  "nbformat_minor": 0,
  "metadata": {
    "colab": {
      "name": "Day 3 - String dalam Python.ipynb",
      "provenance": [],
      "authorship_tag": "ABX9TyPkcQbmF/wMFY9Sbk+ohSac",
      "include_colab_link": true
    },
    "kernelspec": {
      "name": "python3",
      "display_name": "Python 3"
    },
    "language_info": {
      "name": "python"
    }
  },
  "cells": [
    {
      "cell_type": "markdown",
      "metadata": {
        "id": "view-in-github",
        "colab_type": "text"
      },
      "source": [
        "<a href=\"https://colab.research.google.com/github/Akanerd/Orbit-Archieve/blob/main/Day_3_String_dalam_Python.ipynb\" target=\"_parent\"><img src=\"https://colab.research.google.com/assets/colab-badge.svg\" alt=\"Open In Colab\"/></a>"
      ]
    },
    {
      "cell_type": "markdown",
      "source": [
        "# String dalam Python"
      ],
      "metadata": {
        "id": "xFH3wdNk1qjX"
      }
    },
    {
      "cell_type": "code",
      "execution_count": 1,
      "metadata": {
        "id": "5LGdg4MF07k8"
      },
      "outputs": [],
      "source": [
        "# String\n",
        "# Menyatakan karakter/kalimat berupa huruf, angka, dll (diapit tanda \"\" atau '')"
      ]
    },
    {
      "cell_type": "code",
      "source": [
        "\"Belajar Python\" # Kutip dua"
      ],
      "metadata": {
        "id": "JDpLThk61UTp"
      },
      "execution_count": null,
      "outputs": []
    },
    {
      "cell_type": "code",
      "source": [
        "'Belajar Python Dasar' # kutip satu"
      ],
      "metadata": {
        "id": "_ITsGyCX12l_"
      },
      "execution_count": null,
      "outputs": []
    },
    {
      "cell_type": "code",
      "source": [
        "# Mengakses nilai string\n",
        "# Variabel nama dengan value Jhoni Jhoni\n",
        "\n",
        "# J H O N I   J H O N I\n",
        "# 0 1 2 3 4 5 6 7 8 9 10\n",
        "name = (\"Jhoni Jhoni\");\n",
        "print(\"name[0]: \", name[1])\n",
        "print(\"name[0]: \",name[0:5])"
      ],
      "metadata": {
        "colab": {
          "base_uri": "https://localhost:8080/"
        },
        "id": "U7pZwtZm18bz",
        "outputId": "0785c394-4ac8-4c15-d654-d7d11e41872a"
      },
      "execution_count": 4,
      "outputs": [
        {
          "output_type": "stream",
          "name": "stdout",
          "text": [
            "name[0]:  h\n",
            "name[0]:  Jhoni\n"
          ]
        }
      ]
    },
    {
      "cell_type": "code",
      "source": [
        "# Belajar String \n",
        "# Mengakses Nilai String\n",
        "a = (\"Orbit Future Academy\")\n",
        "#     O r b i t\n",
        "#     0 1 2 3 4 5\n",
        "b = (\"Pendidikan Ai di Indonesia\")\n",
        "print(\"Belajar Ai\",b[14:16],a[0:5])"
      ],
      "metadata": {
        "colab": {
          "base_uri": "https://localhost:8080/"
        },
        "id": "xvXm3rvM2Ajh",
        "outputId": "33744ad8-c09e-4468-f0b0-19657451916b"
      },
      "execution_count": 18,
      "outputs": [
        {
          "output_type": "stream",
          "name": "stdout",
          "text": [
            "Belajar Ai di Orbit\n"
          ]
        }
      ]
    },
    {
      "cell_type": "code",
      "source": [
        "# Mengupdate String\n",
        "message = 'Hello World'\n",
        "\n",
        "# H e l l o\n",
        "# 1 2 3 4 5\n",
        "\n",
        "# :6 array sebelum 6\n",
        "# 6: array setelah 6\n",
        "print(\"Updated String : \",message[:6] + 'Python')"
      ],
      "metadata": {
        "colab": {
          "base_uri": "https://localhost:8080/"
        },
        "id": "fCwqc9sq2_sD",
        "outputId": "d77514cf-ec88-4671-fb4e-13e1df3c6150"
      },
      "execution_count": 22,
      "outputs": [
        {
          "output_type": "stream",
          "name": "stdout",
          "text": [
            "Updated String :  Hello Python\n"
          ]
        }
      ]
    },
    {
      "cell_type": "code",
      "source": [
        "# Penjumlahan String\n",
        "a = \"Hello\"\n",
        "b = \"World\"\n",
        "c = a + b\n",
        "print(c)"
      ],
      "metadata": {
        "colab": {
          "base_uri": "https://localhost:8080/"
        },
        "id": "x-zYLuxM5Z_W",
        "outputId": "dd70035a-7070-4e28-b75d-e0c7efe77ae8"
      },
      "execution_count": 23,
      "outputs": [
        {
          "output_type": "stream",
          "name": "stdout",
          "text": [
            "HelloWorld\n"
          ]
        }
      ]
    },
    {
      "cell_type": "code",
      "source": [
        "# Format String\n",
        "umur = \"Dua satu\"\n",
        "txt = \"Nama saya Hafizh, umur saya \" + umur\n",
        "print(txt)"
      ],
      "metadata": {
        "colab": {
          "base_uri": "https://localhost:8080/"
        },
        "id": "jUhJF6co55kh",
        "outputId": "6ee90aa1-9570-49c2-b885-57e45a366900"
      },
      "execution_count": 25,
      "outputs": [
        {
          "output_type": "stream",
          "name": "stdout",
          "text": [
            "Nama saya Hafizh, umur saya Dua satu\n"
          ]
        }
      ]
    },
    {
      "cell_type": "code",
      "source": [
        "# Format String\n",
        "# Gabungan antara String & Integer\n",
        "age = 21\n",
        "txt = \"Nama saya Hafizh, Umur saya {} \"\n",
        "print(txt.format(age))"
      ],
      "metadata": {
        "colab": {
          "base_uri": "https://localhost:8080/"
        },
        "id": "VBa7MvDn6CO1",
        "outputId": "6872d8eb-6e3c-4120-dc2c-730bf440877f"
      },
      "execution_count": 28,
      "outputs": [
        {
          "output_type": "stream",
          "name": "stdout",
          "text": [
            "Nama saya Hafizh, Umur saya 21 \n"
          ]
        }
      ]
    },
    {
      "cell_type": "code",
      "source": [
        ""
      ],
      "metadata": {
        "id": "mAuz1j_a6W0J"
      },
      "execution_count": null,
      "outputs": []
    }
  ]
}