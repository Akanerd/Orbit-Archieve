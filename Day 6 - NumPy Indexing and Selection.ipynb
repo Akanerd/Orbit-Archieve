{
  "nbformat": 4,
  "nbformat_minor": 0,
  "metadata": {
    "colab": {
      "name": "Day 6 -  NumPy Indexing and Selection.ipynb",
      "provenance": [],
      "authorship_tag": "ABX9TyM9n0DrU7qts1H6zem0ay8u",
      "include_colab_link": true
    },
    "kernelspec": {
      "name": "python3",
      "display_name": "Python 3"
    },
    "language_info": {
      "name": "python"
    }
  },
  "cells": [
    {
      "cell_type": "markdown",
      "metadata": {
        "id": "view-in-github",
        "colab_type": "text"
      },
      "source": [
        "<a href=\"https://colab.research.google.com/github/Akanerd/Orbit-Archieve/blob/main/Day%206%20-%20NumPy%20Indexing%20and%20Selection.ipynb\" target=\"_parent\"><img src=\"https://colab.research.google.com/assets/colab-badge.svg\" alt=\"Open In Colab\"/></a>"
      ]
    },
    {
      "cell_type": "markdown",
      "source": [
        "#**NumPy Indexing and Selection**"
      ],
      "metadata": {
        "id": "_y68FlpHmQsk"
      }
    },
    {
      "cell_type": "code",
      "execution_count": null,
      "metadata": {
        "id": "PNFyQBRIk94O"
      },
      "outputs": [],
      "source": [
        "import numpy as np"
      ]
    },
    {
      "cell_type": "code",
      "source": [
        "# Membuat sample array\n",
        "arr = np.arange(0,11)\n",
        "# show\n",
        "arr"
      ],
      "metadata": {
        "colab": {
          "base_uri": "https://localhost:8080/"
        },
        "id": "ZpnsOsQLlW_j",
        "outputId": "e0575c3e-9e66-4efa-c1d0-fb4543b41bfa"
      },
      "execution_count": null,
      "outputs": [
        {
          "output_type": "execute_result",
          "data": {
            "text/plain": [
              "array([ 0,  1,  2,  3,  4,  5,  6,  7,  8,  9, 10])"
            ]
          },
          "metadata": {},
          "execution_count": 6
        }
      ]
    },
    {
      "cell_type": "markdown",
      "source": [
        "#**Indexing**"
      ],
      "metadata": {
        "id": "NOj8Do-vmIRt"
      }
    },
    {
      "cell_type": "code",
      "source": [
        "# Mendapatkan nilai pada indeks\n",
        "arr[7]"
      ],
      "metadata": {
        "colab": {
          "base_uri": "https://localhost:8080/"
        },
        "id": "SiXJFSVwmG72",
        "outputId": "1f25fc84-b3d0-4442-da4e-ac2f26925aa5"
      },
      "execution_count": null,
      "outputs": [
        {
          "output_type": "execute_result",
          "data": {
            "text/plain": [
              "7"
            ]
          },
          "metadata": {},
          "execution_count": 7
        }
      ]
    },
    {
      "cell_type": "code",
      "source": [
        "# Mendapatkan nilai pada range 1 hingga 5\n",
        "# kenapa 5 tidak termasuk karena yang dipanggil adalah indeks 1 hingga indeks \n",
        "# sebelum 5\n",
        "arr[1:5]"
      ],
      "metadata": {
        "colab": {
          "base_uri": "https://localhost:8080/"
        },
        "id": "tReb_xaEmhVt",
        "outputId": "3156b59c-52c2-44db-9118-0d4b84dcbdeb"
      },
      "execution_count": null,
      "outputs": [
        {
          "output_type": "execute_result",
          "data": {
            "text/plain": [
              "array([1, 2, 3, 4])"
            ]
          },
          "metadata": {},
          "execution_count": 11
        }
      ]
    },
    {
      "cell_type": "code",
      "source": [
        "arr[0:5]"
      ],
      "metadata": {
        "colab": {
          "base_uri": "https://localhost:8080/"
        },
        "id": "YOl_oWBxmzpG",
        "outputId": "74afb2f8-4cfa-4715-d0b2-298b35e5be66"
      },
      "execution_count": null,
      "outputs": [
        {
          "output_type": "execute_result",
          "data": {
            "text/plain": [
              "array([0, 1, 2, 3, 4])"
            ]
          },
          "metadata": {},
          "execution_count": 12
        }
      ]
    },
    {
      "cell_type": "markdown",
      "source": [
        "# **BroadCasting**\n",
        "\n",
        "> Numpy arrays memiliki kemampuan untuk melakukan broadcast/ broadcasting\n",
        "\n"
      ],
      "metadata": {
        "id": "Us9RJUPVnGF0"
      }
    },
    {
      "cell_type": "code",
      "source": [
        "# Menetapkan nilai dengan rentang indeks (contoh broadcast)\n",
        "arr[0:5] = 100\n",
        "#show\n",
        "arr"
      ],
      "metadata": {
        "colab": {
          "base_uri": "https://localhost:8080/"
        },
        "id": "wWI-OtxinJAk",
        "outputId": "e565ea6d-3a6a-4672-85a6-6d6a78470279"
      },
      "execution_count": null,
      "outputs": [
        {
          "output_type": "execute_result",
          "data": {
            "text/plain": [
              "array([100, 100, 100, 100, 100,   5,   6,   7,   8,   9,  10])"
            ]
          },
          "metadata": {},
          "execution_count": 15
        }
      ]
    },
    {
      "cell_type": "code",
      "source": [
        "# Mengatur ulang array\n",
        "arr = np.arange(0,11)\n",
        "# Show\n",
        "arr"
      ],
      "metadata": {
        "colab": {
          "base_uri": "https://localhost:8080/"
        },
        "id": "ISG9ayXGox4l",
        "outputId": "2e8d1096-1b92-4e80-ca7b-5a24a54ac10c"
      },
      "execution_count": null,
      "outputs": [
        {
          "output_type": "execute_result",
          "data": {
            "text/plain": [
              "array([ 0,  1,  2,  3,  4,  5,  6,  7,  8,  9, 10])"
            ]
          },
          "metadata": {},
          "execution_count": 20
        }
      ]
    },
    {
      "cell_type": "markdown",
      "source": [
        "\n",
        "\n",
        "> Data dicopy terdahulu agar memiliki backup untuk yang asli\n",
        "\n",
        "\n"
      ],
      "metadata": {
        "id": "SQd59h4SsZOd"
      }
    },
    {
      "cell_type": "code",
      "source": [
        "# Mendapatkan salinan (copy) dari array asli\n",
        "ArrCopy = arr.copy()\n",
        "ArrCopy"
      ],
      "metadata": {
        "colab": {
          "base_uri": "https://localhost:8080/"
        },
        "id": "KKxKkMR4rx4t",
        "outputId": "52723994-8218-4b80-ee9f-0cfb5f5d45a1"
      },
      "execution_count": null,
      "outputs": [
        {
          "output_type": "execute_result",
          "data": {
            "text/plain": [
              "array([ 0,  1,  2,  3,  4,  5,  6,  7,  8,  9, 10])"
            ]
          },
          "metadata": {},
          "execution_count": 21
        }
      ]
    },
    {
      "cell_type": "code",
      "source": [
        "# Slicing \n",
        "SliceOfArray = arr[0:6]\n",
        "# Menampilkan slice\n",
        "SliceOfArray"
      ],
      "metadata": {
        "colab": {
          "base_uri": "https://localhost:8080/"
        },
        "id": "b7Ed6yPWqL12",
        "outputId": "107cb4f4-efa7-4e84-db07-bd04343a9f76"
      },
      "execution_count": null,
      "outputs": [
        {
          "output_type": "execute_result",
          "data": {
            "text/plain": [
              "array([0, 1, 2, 3, 4, 5])"
            ]
          },
          "metadata": {},
          "execution_count": 22
        }
      ]
    },
    {
      "cell_type": "code",
      "source": [
        "# Mengubah Slice \n",
        "SliceOfArray[:]=99\n",
        "# Menampilkan Slice\n",
        "SliceOfArray"
      ],
      "metadata": {
        "colab": {
          "base_uri": "https://localhost:8080/"
        },
        "id": "azvlO3A4qcrc",
        "outputId": "a0d88b0c-23b6-4d62-96b4-c95faa81908c"
      },
      "execution_count": null,
      "outputs": [
        {
          "output_type": "execute_result",
          "data": {
            "text/plain": [
              "array([99, 99, 99, 99, 99, 99])"
            ]
          },
          "metadata": {},
          "execution_count": 23
        }
      ]
    },
    {
      "cell_type": "code",
      "source": [
        "# Memanggil array asli kembali\n",
        "# Terjadi peruahan pada array asli\n",
        "arr"
      ],
      "metadata": {
        "colab": {
          "base_uri": "https://localhost:8080/"
        },
        "id": "AbNNOMxQq_3F",
        "outputId": "f440d31e-dd9c-4d97-e840-908ebe387acd"
      },
      "execution_count": null,
      "outputs": [
        {
          "output_type": "execute_result",
          "data": {
            "text/plain": [
              "array([99, 99, 99, 99, 99, 99,  6,  7,  8,  9, 10])"
            ]
          },
          "metadata": {},
          "execution_count": 24
        }
      ]
    }
  ]
}