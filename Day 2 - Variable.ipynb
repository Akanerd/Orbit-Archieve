{
  "nbformat": 4,
  "nbformat_minor": 0,
  "metadata": {
    "colab": {
      "name": "Variable.ipynb",
      "provenance": [],
      "authorship_tag": "ABX9TyN6456kr5fghAY+f63sQRXr",
      "include_colab_link": true
    },
    "kernelspec": {
      "name": "python3",
      "display_name": "Python 3"
    },
    "language_info": {
      "name": "python"
    }
  },
  "cells": [
    {
      "cell_type": "markdown",
      "metadata": {
        "id": "view-in-github",
        "colab_type": "text"
      },
      "source": [
        "<a href=\"https://colab.research.google.com/github/Akanerd/Orbit-Archieve/blob/main/Day%202%20-%20Variable.ipynb\" target=\"_parent\"><img src=\"https://colab.research.google.com/assets/colab-badge.svg\" alt=\"Open In Colab\"/></a>"
      ]
    },
    {
      "cell_type": "code",
      "execution_count": 1,
      "metadata": {
        "id": "3CLuN9jwA2J6",
        "colab": {
          "base_uri": "https://localhost:8080/"
        },
        "outputId": "b77c9ac8-420b-4c5b-874d-e83aa0facff4"
      },
      "outputs": [
        {
          "output_type": "stream",
          "name": "stdout",
          "text": [
            "5\n",
            "John\n"
          ]
        }
      ],
      "source": [
        "# Membuat variabel\n",
        "x = 5\n",
        "y = 'John'\n",
        "print(x)\n",
        "print(y)"
      ]
    },
    {
      "cell_type": "code",
      "source": [
        "# Nilai pada variabel\n",
        "z = 10\n",
        "z = \"Joe\"\n",
        "z = 20\n",
        "print(z) # value z sama dengan value variabel a"
      ],
      "metadata": {
        "colab": {
          "base_uri": "https://localhost:8080/"
        },
        "id": "c0svx_FkF4p2",
        "outputId": "e9868d09-ed5e-45b3-d98d-b2299b8225b2"
      },
      "execution_count": 4,
      "outputs": [
        {
          "output_type": "stream",
          "name": "stdout",
          "text": [
            "20\n"
          ]
        }
      ]
    },
    {
      "cell_type": "code",
      "source": [
        "a = z # value a sama dengan value variabel z\n",
        "print(a)"
      ],
      "metadata": {
        "colab": {
          "base_uri": "https://localhost:8080/"
        },
        "id": "ekbpv5-CGNEZ",
        "outputId": "9c97a896-2fec-477f-eb48-7bab140c6a3b"
      },
      "execution_count": 5,
      "outputs": [
        {
          "output_type": "stream",
          "name": "stdout",
          "text": [
            "20\n"
          ]
        }
      ]
    },
    {
      "cell_type": "code",
      "source": [
        "b = x\n",
        "c = y\n",
        "print(b,y) "
      ],
      "metadata": {
        "colab": {
          "base_uri": "https://localhost:8080/"
        },
        "id": "ohkrrufBGzNY",
        "outputId": "972166e1-f738-4a7d-9ca7-f2c3555f868f"
      },
      "execution_count": 6,
      "outputs": [
        {
          "output_type": "stream",
          "name": "stdout",
          "text": [
            "5 John\n"
          ]
        }
      ]
    },
    {
      "cell_type": "code",
      "source": [
        "# Casting variabel\n",
        "x = str(3)\n",
        "y = int(3)\n",
        "z = float(3)\n",
        "print(x, y , z)"
      ],
      "metadata": {
        "colab": {
          "base_uri": "https://localhost:8080/"
        },
        "id": "JYLqxAZWG5Yx",
        "outputId": "a51583d5-6b66-4735-dd0f-2553efe5e624"
      },
      "execution_count": 7,
      "outputs": [
        {
          "output_type": "stream",
          "name": "stdout",
          "text": [
            "3 3 3.0\n"
          ]
        }
      ]
    },
    {
      "cell_type": "code",
      "source": [
        "# Cek tipe data\n",
        "# Case Sensitive\n",
        "x_1 = 5\n",
        "y_1 = \"John\"\n",
        "print(x_1)\n",
        "#print(y-1) akan error karena karakteristik case sensitive"
      ],
      "metadata": {
        "id": "UOAqNX0RG-Lh"
      },
      "execution_count": 8,
      "outputs": []
    },
    {
      "cell_type": "code",
      "source": [
        "print(y-1) # nama variabel y telah disebutkan sebelumnya dengan value dari variabel y adalah 3"
      ],
      "metadata": {
        "colab": {
          "base_uri": "https://localhost:8080/"
        },
        "id": "jugQqymXHbff",
        "outputId": "5158fcf2-1fa9-4a3d-ab18-f0fdc350e8e3"
      },
      "execution_count": 9,
      "outputs": [
        {
          "output_type": "stream",
          "name": "stdout",
          "text": [
            "2\n"
          ]
        }
      ]
    },
    {
      "cell_type": "code",
      "source": [
        "var_1 = 10\n",
        "var_2 = 10\n",
        "print(var_1, var_2)"
      ],
      "metadata": {
        "colab": {
          "base_uri": "https://localhost:8080/"
        },
        "id": "X9kKo0fVIXNL",
        "outputId": "d4e8bd7f-8c33-4f4a-8d2a-5353c7964a2f"
      },
      "execution_count": 10,
      "outputs": [
        {
          "output_type": "stream",
          "name": "stdout",
          "text": [
            "10 10\n"
          ]
        }
      ]
    },
    {
      "cell_type": "code",
      "source": [
        "#variabel nama\n",
        "#Aturan penamaan suatu variabel\n",
        "pengaturan_nama_variabel = 10   # Snake Case\n",
        "PengaturanNamaVariabel   = 10   # Camel Case (saran)"
      ],
      "metadata": {
        "id": "1FojkIbjImdG"
      },
      "execution_count": 12,
      "outputs": []
    }
  ]
}