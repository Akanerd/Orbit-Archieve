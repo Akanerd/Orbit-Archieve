{
  "nbformat": 4,
  "nbformat_minor": 0,
  "metadata": {
    "colab": {
      "name": "Day 3 - List dalam Python.ipynb",
      "provenance": [],
      "collapsed_sections": [],
      "authorship_tag": "ABX9TyOh3BvUZtlnLTchoJtEL3MQ",
      "include_colab_link": true
    },
    "kernelspec": {
      "name": "python3",
      "display_name": "Python 3"
    },
    "language_info": {
      "name": "python"
    }
  },
  "cells": [
    {
      "cell_type": "markdown",
      "metadata": {
        "id": "view-in-github",
        "colab_type": "text"
      },
      "source": [
        "<a href=\"https://colab.research.google.com/github/Akanerd/Orbit-Archieve/blob/main/Day_3_List_dalam_Python.ipynb\" target=\"_parent\"><img src=\"https://colab.research.google.com/assets/colab-badge.svg\" alt=\"Open In Colab\"/></a>"
      ]
    },
    {
      "cell_type": "markdown",
      "source": [
        "# List dalam Python"
      ],
      "metadata": {
        "id": "8wKyRAlLNMrk"
      }
    },
    {
      "cell_type": "code",
      "execution_count": null,
      "metadata": {
        "colab": {
          "base_uri": "https://localhost:8080/"
        },
        "id": "22J3kqQ-KlHk",
        "outputId": "f27f1824-2e81-482b-ecab-fbdeb34e45e8"
      },
      "outputs": [
        {
          "output_type": "stream",
          "name": "stdout",
          "text": [
            "['Ayam', 'Bebek', 'Kambing']\n"
          ]
        }
      ],
      "source": [
        "# Membuat List \n",
        "My_list = ['Ayam','Bebek','Kambing']\n",
        "print(My_list)"
      ]
    },
    {
      "cell_type": "code",
      "source": [
        "#Mengakses List\n",
        "My_list = ['Ayam','Bebek','Kambing']\n",
        "print(My_list[1])\n",
        "print(My_list[:2])\n",
        "print(My_list[1:])\n",
        "print(My_list[-1])\n",
        "print(My_list[0:2])"
      ],
      "metadata": {
        "colab": {
          "base_uri": "https://localhost:8080/"
        },
        "id": "ZNVn-1_nNB3J",
        "outputId": "d6946f49-8d87-4d0b-c439-6d2e566befc9"
      },
      "execution_count": null,
      "outputs": [
        {
          "output_type": "stream",
          "name": "stdout",
          "text": [
            "Bebek\n",
            "['Ayam', 'Bebek']\n",
            "['Bebek', 'Kambing']\n",
            "Kambing\n",
            "['Ayam', 'Bebek']\n"
          ]
        }
      ]
    },
    {
      "cell_type": "code",
      "source": [
        "#Mengubah List\n",
        "My_list = ['Ayam','Bebek','Kambing']\n",
        "My_list[1] = \"Domba\"\n",
        "print(My_list)"
      ],
      "metadata": {
        "colab": {
          "base_uri": "https://localhost:8080/"
        },
        "id": "85BlcwHFNquA",
        "outputId": "a8f2597c-4e68-4b5e-b861-32fab0064d8c"
      },
      "execution_count": null,
      "outputs": [
        {
          "output_type": "stream",
          "name": "stdout",
          "text": [
            "['Ayam', 'Domba', 'Kambing']\n"
          ]
        }
      ]
    },
    {
      "cell_type": "code",
      "source": [
        "#Menambah Item pada List\n",
        "#append\n",
        "\n",
        "My_list = ['Ayam','Bebek','Kambing']\n",
        "My_list.append('Sapi')\n",
        "print(My_list)"
      ],
      "metadata": {
        "colab": {
          "base_uri": "https://localhost:8080/"
        },
        "id": "K6vrdhUFPOnX",
        "outputId": "aa01213a-c6ef-4291-999c-3701763f78a0"
      },
      "execution_count": null,
      "outputs": [
        {
          "output_type": "stream",
          "name": "stdout",
          "text": [
            "['Ayam', 'Bebek', 'Kambing', 'Sapi']\n"
          ]
        }
      ]
    },
    {
      "cell_type": "code",
      "source": [
        "# Insert Item pada List \n",
        "# Perbedaannya dengan append, Insert dapat menambahkan item berdasarkan Indeks array\n",
        "\n",
        "My_list = ['Ayam','Bebek','Kambing']\n",
        "My_list.insert(2,'Unta')\n",
        "print(My_list)"
      ],
      "metadata": {
        "colab": {
          "base_uri": "https://localhost:8080/"
        },
        "id": "ENtbZzshPmma",
        "outputId": "290f2ed7-b6af-475f-9a77-ad93a4f58394"
      },
      "execution_count": 2,
      "outputs": [
        {
          "output_type": "stream",
          "name": "stdout",
          "text": [
            "['Ayam', 'Bebek', 'Unta', 'Kambing']\n"
          ]
        }
      ]
    },
    {
      "cell_type": "code",
      "source": [
        "My_list = ['Ayam','Bebek','Kambing']\n",
        "My_list.insert(0,'Unta')\n",
        "print(My_list)"
      ],
      "metadata": {
        "colab": {
          "base_uri": "https://localhost:8080/"
        },
        "id": "0mCv9j3KmjV1",
        "outputId": "37b12bbe-17bc-41d4-8a1d-6e190a02656e"
      },
      "execution_count": 4,
      "outputs": [
        {
          "output_type": "stream",
          "name": "stdout",
          "text": [
            "['Unta', 'Ayam', 'Bebek', 'Kambing']\n"
          ]
        }
      ]
    },
    {
      "cell_type": "code",
      "source": [
        "# Ekstend List \n",
        "My_list = ['Ayam','Bebek','Kambing']\n",
        "List_baru = ['Ikan','Udang','Kepiting']\n",
        "My_list.extend(List_baru)\n",
        "print(My_list)"
      ],
      "metadata": {
        "colab": {
          "base_uri": "https://localhost:8080/"
        },
        "id": "v1Eq0VK4nyIW",
        "outputId": "8ea85660-2aa9-42e7-84d9-07b6df5a4d1e"
      },
      "execution_count": 6,
      "outputs": [
        {
          "output_type": "stream",
          "name": "stdout",
          "text": [
            "['Ayam', 'Bebek', 'Kambing', 'Ikan', 'Udang', 'Kepiting']\n"
          ]
        }
      ]
    },
    {
      "cell_type": "code",
      "source": [
        "# Remove Item pada list berdasarkan value\n",
        "My_list = ['Ayam','Bebek','Kambing'] \n",
        "My_list.remove('Ayam')\n",
        "print(My_list)"
      ],
      "metadata": {
        "colab": {
          "base_uri": "https://localhost:8080/"
        },
        "id": "OcA_XhLJoNtN",
        "outputId": "4cdc3480-9a75-4f55-e473-74960a9644b2"
      },
      "execution_count": 7,
      "outputs": [
        {
          "output_type": "stream",
          "name": "stdout",
          "text": [
            "['Bebek', 'Kambing']\n"
          ]
        }
      ]
    },
    {
      "cell_type": "code",
      "source": [
        "# Remove Item pada list berdasarkan indeks array\n",
        "My_list = ['Ayam','Bebek','Kambing'] \n",
        "My_list.pop(1)\n",
        "print(My_list)"
      ],
      "metadata": {
        "colab": {
          "base_uri": "https://localhost:8080/"
        },
        "id": "_-sVHamNpT_f",
        "outputId": "4818109f-2bd5-48c6-f200-da8af1a690b1"
      },
      "execution_count": 8,
      "outputs": [
        {
          "output_type": "stream",
          "name": "stdout",
          "text": [
            "['Ayam', 'Kambing']\n"
          ]
        }
      ]
    }
  ]
}