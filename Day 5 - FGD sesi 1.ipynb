{
  "nbformat": 4,
  "nbformat_minor": 0,
  "metadata": {
    "colab": {
      "name": "Day 5  - FGD sesi 1.ipynb",
      "provenance": [],
      "authorship_tag": "ABX9TyO6McqVRJ7BhQzNG35p5+e+",
      "include_colab_link": true
    },
    "kernelspec": {
      "name": "python3",
      "display_name": "Python 3"
    },
    "language_info": {
      "name": "python"
    }
  },
  "cells": [
    {
      "cell_type": "markdown",
      "metadata": {
        "id": "view-in-github",
        "colab_type": "text"
      },
      "source": [
        "<a href=\"https://colab.research.google.com/github/Akanerd/Orbit-Archieve/blob/Quiz/Day%205%20-%20FGD%20sesi%201.ipynb\" target=\"_parent\"><img src=\"https://colab.research.google.com/assets/colab-badge.svg\" alt=\"Open In Colab\"/></a>"
      ]
    },
    {
      "cell_type": "markdown",
      "source": [
        "#**FGD sesi 1 - Dokumentasi Code**"
      ],
      "metadata": {
        "id": "QWpnyZN1gl3G"
      }
    },
    {
      "cell_type": "code",
      "execution_count": 1,
      "metadata": {
        "colab": {
          "base_uri": "https://localhost:8080/"
        },
        "id": "miLrS2g4gWLb",
        "outputId": "1da7cd1d-ed98-4cb6-beac-3d9aaca9354d"
      },
      "outputs": [
        {
          "output_type": "stream",
          "name": "stdout",
          "text": [
            "9\n"
          ]
        }
      ],
      "source": [
        "x = 3\n",
        "y = x*x\n",
        "print(y)"
      ]
    },
    {
      "cell_type": "code",
      "source": [
        "# Ini adalah komentar\n",
        "# Nama Saya\n",
        "# nama = \"Siapa\"\n",
        "# print(nama)\n",
        "# print(type(nama))\n",
        "\n",
        "print('Test')"
      ],
      "metadata": {
        "colab": {
          "base_uri": "https://localhost:8080/"
        },
        "id": "pMtWZs_-g4Sj",
        "outputId": "97d8c37e-b9ef-4997-c291-b7534130e735"
      },
      "execution_count": 2,
      "outputs": [
        {
          "output_type": "stream",
          "name": "stdout",
          "text": [
            "Test\n"
          ]
        }
      ]
    },
    {
      "cell_type": "code",
      "source": [
        "cars = 90\n",
        "kilometres = 27.67\n",
        "name = \"Rion\"\n",
        "bl = \"False\"\n",
        "comp = 8 +5j\n",
        "\n",
        "print(cars);print(type(cars))\n",
        "print(kilometres);print(type(kilometres))\n",
        "print(name);print(type(name))\n",
        "print(bl);print(type(bl))\n",
        "print(comp);print(type(comp))\n"
      ],
      "metadata": {
        "colab": {
          "base_uri": "https://localhost:8080/"
        },
        "id": "zb_epDEXhQoM",
        "outputId": "5474c4f8-d023-48f5-9bde-f513f3e5a46a"
      },
      "execution_count": 3,
      "outputs": [
        {
          "output_type": "stream",
          "name": "stdout",
          "text": [
            "90\n",
            "<class 'int'>\n",
            "27.67\n",
            "<class 'float'>\n",
            "Rion\n",
            "<class 'str'>\n",
            "False\n",
            "<class 'str'>\n",
            "(8+5j)\n",
            "<class 'complex'>\n"
          ]
        }
      ]
    }
  ]
}