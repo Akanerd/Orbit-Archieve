{
  "cells": [
    {
      "cell_type": "markdown",
      "metadata": {
        "id": "view-in-github",
        "colab_type": "text"
      },
      "source": [
        "<a href=\"https://colab.research.google.com/github/Akanerd/Orbit-Archieve/blob/main/Day%2014%20-%20FGD%20Live%20Code%20Sesi%202%20Naive%20Bayes.ipynb\" target=\"_parent\"><img src=\"https://colab.research.google.com/assets/colab-badge.svg\" alt=\"Open In Colab\"/></a>"
      ]
    },
    {
      "cell_type": "code",
      "execution_count": 1,
      "id": "5fec50e2",
      "metadata": {
        "id": "5fec50e2"
      },
      "outputs": [],
      "source": [
        "import numpy as np\n",
        "import pandas as pd\n",
        "from matplotlib.ticker import NullFormatter\n",
        "import matplotlib.ticker as ticker\n",
        "import itertools\n",
        "from sklearn import preprocessing\n",
        "from sklearn.datasets import load_iris\n",
        "%matplotlib inline"
      ]
    },
    {
      "cell_type": "code",
      "execution_count": 2,
      "id": "0e1dd931",
      "metadata": {
        "id": "0e1dd931"
      },
      "outputs": [],
      "source": [
        "outlook=['Sunny','Sunny','Overcast','Rainy','Rainy','Rainy','Overcast','Sunny','Sunny','Rainy','Sunny','Overcast','Overcast','Rainy']\n",
        "temp = ['Hot','Hot','Hot','Mild','Cool','Cool','Cool','Mild','Cool','Mild','Mild','Mild','Hot','Mild']\n",
        "humidity = ['High','High','High','High','Normal','Normal','Normal','High','Normal','Normal','Normal','High','Normal','High']\n",
        "windy = ['False','True','False','False','False','True','True','False','False','False','True','True','False','True']\n",
        "\n",
        "play = ['No','No','Yes','Yes','Yes','No','Yes','No','Yes','Yes','Yes','Yes','Yes','No']\n"
      ]
    },
    {
      "cell_type": "code",
      "execution_count": 3,
      "id": "7df426a0",
      "metadata": {
        "id": "7df426a0"
      },
      "outputs": [],
      "source": [
        "from sklearn import preprocessing\n",
        "\n",
        "le = preprocessing.LabelEncoder()\n",
        "\n",
        "outlook_encoded=le.fit_transform(outlook)\n",
        "temp_encoded=le.fit_transform(temp)\n",
        "humidity_encoded=le.fit_transform(humidity)\n",
        "windy_encoded=le.fit_transform(windy)\n",
        "\n",
        "label = le.fit_transform(play)"
      ]
    },
    {
      "cell_type": "code",
      "execution_count": 4,
      "id": "c241eb59",
      "metadata": {
        "colab": {
          "base_uri": "https://localhost:8080/"
        },
        "id": "c241eb59",
        "outputId": "56f47522-baa4-49bf-c4be-c42493e6bc0e"
      },
      "outputs": [
        {
          "output_type": "stream",
          "name": "stdout",
          "text": [
            "[2 2 0 1 1 1 0 2 2 1 2 0 0 1]\n",
            "[1 1 1 2 0 0 0 2 0 2 2 2 1 2]\n",
            "[0 0 0 0 1 1 1 0 1 1 1 0 1 0]\n",
            "[0 1 0 0 0 1 1 0 0 0 1 1 0 1]\n",
            "[0 0 1 1 1 0 1 0 1 1 1 1 1 0]\n"
          ]
        }
      ],
      "source": [
        "print(outlook_encoded)\n",
        "print(temp_encoded)\n",
        "print(humidity_encoded)\n",
        "print(windy_encoded)\n",
        "\n",
        "print(label)"
      ]
    },
    {
      "cell_type": "code",
      "execution_count": 5,
      "id": "0274009e",
      "metadata": {
        "id": "0274009e"
      },
      "outputs": [],
      "source": [
        "features =np.column_stack([outlook_encoded,temp_encoded,humidity_encoded,windy_encoded])"
      ]
    },
    {
      "cell_type": "code",
      "execution_count": 6,
      "id": "2ece9356",
      "metadata": {
        "colab": {
          "base_uri": "https://localhost:8080/"
        },
        "id": "2ece9356",
        "outputId": "8a49c08d-62a7-47fe-b7b2-7d3fdf8bf1e7"
      },
      "outputs": [
        {
          "output_type": "stream",
          "name": "stdout",
          "text": [
            "Predicted Value [1]\n"
          ]
        }
      ],
      "source": [
        "from sklearn.naive_bayes import GaussianNB\n",
        "\n",
        "model = GaussianNB()\n",
        "model.fit(features,label)\n",
        "\n",
        "predict = model.predict([[0,2,0,1]])\n",
        "print(\"Predicted Value\",predict)"
      ]
    }
  ],
  "metadata": {
    "kernelspec": {
      "display_name": "Python 3",
      "language": "python",
      "name": "python3"
    },
    "language_info": {
      "codemirror_mode": {
        "name": "ipython",
        "version": 3
      },
      "file_extension": ".py",
      "mimetype": "text/x-python",
      "name": "python",
      "nbconvert_exporter": "python",
      "pygments_lexer": "ipython3",
      "version": "3.8.8"
    },
    "colab": {
      "name": "Day 14 - FGD Live Code Sesi 2 Naive Bayes.ipynb",
      "provenance": [],
      "include_colab_link": true
    }
  },
  "nbformat": 4,
  "nbformat_minor": 5
}