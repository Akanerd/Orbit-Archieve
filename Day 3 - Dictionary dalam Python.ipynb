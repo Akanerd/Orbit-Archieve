{
  "nbformat": 4,
  "nbformat_minor": 0,
  "metadata": {
    "colab": {
      "name": "Day 3 - Dictionary dalam Python.ipynb",
      "provenance": [],
      "authorship_tag": "ABX9TyMYMLahjejEnLNJlQHkRswh",
      "include_colab_link": true
    },
    "kernelspec": {
      "name": "python3",
      "display_name": "Python 3"
    },
    "language_info": {
      "name": "python"
    }
  },
  "cells": [
    {
      "cell_type": "markdown",
      "metadata": {
        "id": "view-in-github",
        "colab_type": "text"
      },
      "source": [
        "<a href=\"https://colab.research.google.com/github/Akanerd/Orbit-Archieve/blob/main/Day%203%20-%20Dictionary%20dalam%20Python.ipynb\" target=\"_parent\"><img src=\"https://colab.research.google.com/assets/colab-badge.svg\" alt=\"Open In Colab\"/></a>"
      ]
    },
    {
      "cell_type": "markdown",
      "source": [
        "# Disctionary"
      ],
      "metadata": {
        "id": "cbcKEdeyFVSm"
      }
    },
    {
      "cell_type": "markdown",
      "source": [
        "Dictionary Python dengan list ataupun tuple. Karean setiap urutannya berisi key dan value. Setiap key dipisahkan dari value dari value-nya oleh titik dua (:),  item dipisahkan leh koma, dan semuanya tertutup dalam kurung kurawal. Dictionary kosong tanpa barang ditulis hanya dengan dua kurung kurawal seperti ini{}."
      ],
      "metadata": {
        "id": "K5-aoVp1FaXg"
      }
    },
    {
      "cell_type": "code",
      "execution_count": null,
      "metadata": {
        "colab": {
          "base_uri": "https://localhost:8080/"
        },
        "id": "nlyVP0t4FDN8",
        "outputId": "e00ab6fe-c9ed-4035-ea02-bb4cd190f83d"
      },
      "outputs": [
        {
          "output_type": "stream",
          "name": "stdout",
          "text": [
            "{'brand': 'Orbit Future Academy', 'model': 'Edutech', 'year': 2021}\n"
          ]
        }
      ],
      "source": [
        "kamus = {\n",
        "    \"brand\" : \"Orbit Future Academy\",\n",
        "    \"model\" : \"Edutech\",\n",
        "    \"year\"  : 2021\n",
        "}\n",
        "print(kamus)"
      ]
    },
    {
      "cell_type": "code",
      "source": [
        "# Contoh cara membuat dictionary pada python\n",
        "dict = {'Nama':'Zahra','Umur':'21','Jurusan':'Ilmu Komputer'}\n",
        "print(\"dict['Nama']\", dict['Nama'])\n",
        "print(\"dict['Umur']\", dict['Umur'])"
      ],
      "metadata": {
        "colab": {
          "base_uri": "https://localhost:8080/"
        },
        "id": "boejVdZyIaEX",
        "outputId": "be86ed27-d636-40a1-a464-82402759d7b1"
      },
      "execution_count": null,
      "outputs": [
        {
          "output_type": "stream",
          "name": "stdout",
          "text": [
            "dict['Nama'] Zahra\n",
            "dict['Umur'] 21\n"
          ]
        }
      ]
    },
    {
      "cell_type": "code",
      "source": [
        "# Update dictionar python\n",
        "dict = {'Nama':'Zahra','Umur':23,'Jurusan':'Ilmu Komputer'}\n",
        "dict['umur'] = 20 # Mengubah entri yang sudah ada\n",
        "dict['kursus'] = \"Orbit Future Academy\" # Menambah entri baru\n",
        "\n",
        "print(\"dict['umur']\", dict['umur'])\n",
        "print(\"dict['kursus']\", dict['kursus'])"
      ],
      "metadata": {
        "colab": {
          "base_uri": "https://localhost:8080/"
        },
        "id": "d_ALJfoYK_1P",
        "outputId": "e69b5615-9b3c-4a48-fc21-1b1e09bd4c0d"
      },
      "execution_count": null,
      "outputs": [
        {
          "output_type": "stream",
          "name": "stdout",
          "text": [
            "dict['umur'] 20\n",
            "dict['kursus'] Orbit Future Academy\n"
          ]
        }
      ]
    }
  ]
}