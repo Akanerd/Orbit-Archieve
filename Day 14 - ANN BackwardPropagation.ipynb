{
  "nbformat": 4,
  "nbformat_minor": 0,
  "metadata": {
    "colab": {
      "name": "Untitled20.ipynb",
      "provenance": [],
      "collapsed_sections": []
    },
    "kernelspec": {
      "name": "python3",
      "display_name": "Python 3"
    },
    "language_info": {
      "name": "python"
    }
  },
  "cells": [
    {
      "cell_type": "code",
      "source": [
        "import random\n",
        "import numpy as np\n",
        " \n",
        "# helpers\n",
        "def sigmoid(z):\n",
        "    return 1.0/(1.0+np.exp(-z))\n",
        " \n",
        "def sigmoid_prime(z):\n",
        "    return sigmoid(z)*(1-sigmoid(z))\n",
        " \n",
        "class Network:\n",
        "    # sizes is a list of the number of nodes in each layer\n",
        "    def __init__(self, sizes):\n",
        "        self.num_layers = len(sizes)\n",
        "        self.sizes = sizes\n",
        "        self.biases = [np.random.randn(y, 1) for y in sizes[1:]]\n",
        "        self.weights = [np.random.randn(y, x) for x,y in zip(sizes[:-1], sizes[1:])]\n",
        "       \n",
        "    def feedforward(self, a):\n",
        "        for b, w in zip(self.biases, self.weights):\n",
        "            a = sigmoid(np.dot(w, a) + b)\n",
        "        return a\n",
        "   \n",
        "    def SGD(self, training_data, epochs, mini_batch_size, eta, test_data=None):\n",
        "        training_data = list(training_data)\n",
        "        samples = len(training_data)\n",
        "       \n",
        "        if test_data:\n",
        "            test_data = list(test_data)\n",
        "            n_test = len(test_data)\n",
        "       \n",
        "        for j in range(epochs):\n",
        "            random.shuffle(training_data)\n",
        "            mini_batches = [training_data[k:k+mini_batch_size]\n",
        "                            for k in range(0, samples, mini_batch_size)]\n",
        "            for mini_batch in mini_batches:\n",
        "                self.update_mini_batch(mini_batch, eta)\n",
        "            if test_data:\n",
        "                print(f\"Epoch {j}: {self.evaluate(test_data)} / {n_test}\")\n",
        "            else:\n",
        "                print(f\"Epoch {j} complete\")\n",
        "   \n",
        "    def cost_derivative(self, output_activations, y):\n",
        "        return(output_activations - y)\n",
        "   \n",
        "    def backprop(self, x, y):\n",
        "        nabla_b = [np.zeros(b.shape) for b in self.biases]\n",
        "        nabla_w = [np.zeros(w.shape) for w in self.weights]\n",
        "        # feedforward\n",
        "        activation = x\n",
        "        activations = [x] # stores activations layer by layer\n",
        "        zs = [] # stores z vectors layer by layer\n",
        "        for b, w in zip(self.biases, self.weights):\n",
        "            z = np.dot(w, activation) + b\n",
        "            zs.append(z)\n",
        "            activation = sigmoid(z)\n",
        "            activations.append(activation)\n",
        "       \n",
        "        # backward pass\n",
        "        delta = self.cost_derivative(activations[-1], y) * sigmoid_prime(zs[-1])\n",
        "        nabla_b[-1] = delta\n",
        "        nabla_w[-1] = np.dot(delta, activations[-2].transpose())\n",
        "       \n",
        "        for _layer in range(2, self.num_layers):\n",
        "            z = zs[-_layer]\n",
        "            sp = sigmoid_prime(z)\n",
        "            delta = np.dot(self.weights[-_layer+1].transpose(), delta) * sp\n",
        "            nabla_b[-_layer] = delta\n",
        "            nabla_w[-_layer] = np.dot(delta, activations[-_layer-1].transpose())\n",
        "        return (nabla_b, nabla_w)\n",
        "   \n",
        "    def update_mini_batch(self, mini_batch, eta):\n",
        "        nabla_b = [np.zeros(b.shape) for b in self.biases]\n",
        "        nabla_w = [np.zeros(w.shape) for w in self.weights]\n",
        "        for x, y in mini_batch:\n",
        "            delta_nabla_b, delta_nabla_w = self.backprop(x, y)\n",
        "            nabla_b = [nb + dnb for nb, dnb in zip(nabla_b, delta_nabla_b)]\n",
        "            nabla_w = [nw + dnw for nw, dnw in zip(nabla_w, delta_nabla_w)]\n",
        "        self.weights = [w-(eta/len(mini_batch))*nw\n",
        "                        for w, nw in zip(self.weights, nabla_w)]\n",
        "        self.biases = [b-(eta/len(mini_batch))*nb\n",
        "                       for b, nb in zip(self.biases, nabla_b)]\n",
        "       \n",
        "    def evaluate(self, test_data):\n",
        "        test_results = [(np.argmax(self.feedforward(x)), y)\n",
        "                        for (x, y) in test_data]\n",
        "        return sum(int(y[x]) for (x, y) in test_results)"
      ],
      "metadata": {
        "id": "3D0ZQPQLLN_x"
      },
      "execution_count": null,
      "outputs": []
    },
    {
      "cell_type": "code",
      "source": [
        "import pickle\n",
        "import gzip\n",
        " \n",
        "import numpy as np\n",
        " \n",
        "def load_data():\n",
        "    with gzip.open('mnist.pkl.gz', 'rb') as f:\n",
        "        training_data, validation_data, test_data = pickle.load(f, encoding='latin1')\n",
        "    return (training_data, validation_data, test_data)\n",
        " \n",
        "def one_hot_encode(y):\n",
        "    encoded = np.zeros((10, 1))\n",
        "    encoded[y] = 1.0\n",
        "    return encoded\n",
        " \n",
        "def load_data_together():\n",
        "    train, validate, test = load_data()\n",
        "    train_x = [np.reshape(x, (784, 1)) for x in train[0]]\n",
        "    train_y = [one_hot_encode(y) for y in train[1]]\n",
        "    training_data = zip(train_x, train_y)\n",
        "    validate_x = [np.reshape(x, (784, 1)) for x in validate[0]]\n",
        "    validate_y = [one_hot_encode(y) for y in validate[1]]\n",
        "    validation_data = zip(validate_x, validate_y)\n",
        "    test_x = [np.reshape(x, (784, 1)) for x in test[0]]\n",
        "    test_y = [one_hot_encode(y) for y in test[1]]\n",
        "    testing_data = zip(test_x, test_y)\n",
        "    return (training_data, validation_data, testing_data)"
      ],
      "metadata": {
        "id": "gKFqURuOKVqN"
      },
      "execution_count": null,
      "outputs": []
    },
    {
      "cell_type": "code",
      "source": [
        "training_data, validation_data, test_data = load_data_together()\n",
        " \n",
        "net = Network([784, 30, 10])\n",
        "net.SGD(training_data, 10, 10, 3.0, test_data=test_data)"
      ],
      "metadata": {
        "colab": {
          "base_uri": "https://localhost:8080/"
        },
        "id": "s7DixVbbKXpO",
        "outputId": "c24ae236-c39b-466a-80fd-4b706559e0da"
      },
      "execution_count": null,
      "outputs": [
        {
          "output_type": "stream",
          "name": "stdout",
          "text": [
            "Epoch 0: 9100 / 10000\n",
            "Epoch 1: 9230 / 10000\n",
            "Epoch 2: 9297 / 10000\n",
            "Epoch 3: 9348 / 10000\n",
            "Epoch 4: 9341 / 10000\n",
            "Epoch 5: 9374 / 10000\n",
            "Epoch 6: 9381 / 10000\n",
            "Epoch 7: 9438 / 10000\n",
            "Epoch 8: 9467 / 10000\n",
            "Epoch 9: 9418 / 10000\n"
          ]
        }
      ]
    }
  ]
}