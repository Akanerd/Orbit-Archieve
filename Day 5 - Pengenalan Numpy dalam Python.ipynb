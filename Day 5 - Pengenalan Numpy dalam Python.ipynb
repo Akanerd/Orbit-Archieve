{
 "cells": [
  {
   "cell_type": "markdown",
   "id": "6b9b3055",
   "metadata": {},
   "source": [
    "# Pengenalan Numpy, Pandas, Matplotlib\n",
    "## Numpy"
   ]
  },
  {
   "cell_type": "markdown",
   "id": "52fca506",
   "metadata": {},
   "source": [
    " * NumPy (Numerical Python) adalah library Python yang fokus pada scientific computing\n",
    " * NumPy memiliki kemampuan untuk membentuk objek N-dimensional yang mirip dengan list  pada Python\n",
    " * Keunggulan Numpy array dibandingkan pada Python adalah konsumsi yang lebih kecil serta runtime yang lebih cepat\n",
    " * NumPy juga memudahkan kita pada Aljabar Linear, terutama operasi pada vector(1-d array) dan Matrix(2-d Array)"
   ]
  },
  {
   "cell_type": "code",
   "execution_count": 2,
   "id": "7ea8c0db",
   "metadata": {},
   "outputs": [
    {
     "name": "stdout",
     "output_type": "stream",
     "text": [
      "[1, 2, 3, 2, 4, 5]\n"
     ]
    }
   ],
   "source": [
    "# Di berikan duab buah list\n",
    "# dengan nama list 1 dan list 2\n",
    "\n",
    "List1 = [1,2,3]\n",
    "List2 = [2,4,5]\n",
    "\n",
    "# penjumlahan List\n",
    "Sum = List1 + List2\n",
    "print(Sum)"
   ]
  },
  {
   "cell_type": "markdown",
   "id": "d8cd5350",
   "metadata": {},
   "source": [
    "Kita berharap penjumlahan, tapi malah penggabungan yang terjadi apabila menggunakan list"
   ]
  },
  {
   "cell_type": "code",
   "execution_count": 4,
   "id": "e8ec8f51",
   "metadata": {},
   "outputs": [
    {
     "data": {
      "text/plain": [
       "[5, 7, 9, 1, 3, 5]"
      ]
     },
     "execution_count": 4,
     "metadata": {},
     "output_type": "execute_result"
    }
   ],
   "source": [
    "# Numpy vs List\n",
    "# Problem pada list di Python\n",
    "# List pada python tidak mendukung penuh kemudahan scientific computing\n",
    "# Sebagai contoh kita akan lakukan operasi penjumlahan pada 2 list\n",
    "\n",
    "arr1 = [5,7,9]\n",
    "arr2 = [1,3,5]\n",
    "arr1 + arr2"
   ]
  },
  {
   "cell_type": "code",
   "execution_count": 6,
   "id": "5ff50f6c",
   "metadata": {},
   "outputs": [
    {
     "data": {
      "text/plain": [
       "[6, 10, 14]"
      ]
     },
     "execution_count": 6,
     "metadata": {},
     "output_type": "execute_result"
    }
   ],
   "source": [
    "# Jika ingin melakukan penjumlahan bisa dilakukan dengan iterasi \n",
    "result = []\n",
    "for first,second in zip(arr1,arr2):\n",
    "    result.append(first + second)\n",
    "result\n"
   ]
  },
  {
   "cell_type": "markdown",
   "id": "8cc8fd79",
   "metadata": {},
   "source": [
    "Ketika kita ingin menjumlahkan tiap elemen pada list a dan list b, hasilnya dengan operator + adalah penggabungan keduanya. Tentu tidak sesuai dengan yang diharapkan, maka kita harus menggunakan perulangan for untuk menambahkan tiap elemen pada list a dan list b. Proses penjumlahan list yang menggunakan perulang for membutuhkan waktu yang lama dan tidak efisien dari sisi penulisan code."
   ]
  },
  {
   "cell_type": "code",
   "execution_count": 7,
   "id": "a0cf590c",
   "metadata": {},
   "outputs": [],
   "source": [
    "# Numpy sebagai solusi\n",
    "# Mengenal NumPy\n",
    "# tahap pertama import library Numpy\n",
    "import numpy as np"
   ]
  },
  {
   "cell_type": "code",
   "execution_count": 8,
   "id": "0d865483",
   "metadata": {},
   "outputs": [
    {
     "data": {
      "text/plain": [
       "array([1, 2, 3])"
      ]
     },
     "execution_count": 8,
     "metadata": {},
     "output_type": "execute_result"
    }
   ],
   "source": [
    "# Belajar array\n",
    "# Membuat array\n",
    "\n",
    "BelajarArray = np.array([1,2,3])\n",
    "BelajarArray"
   ]
  },
  {
   "cell_type": "code",
   "execution_count": 9,
   "id": "f6ab60c6",
   "metadata": {},
   "outputs": [
    {
     "name": "stdout",
     "output_type": "stream",
     "text": [
      "<class 'numpy.ndarray'>\n"
     ]
    }
   ],
   "source": [
    "print(type(BelajarArray))"
   ]
  },
  {
   "cell_type": "markdown",
   "id": "3cab44e3",
   "metadata": {},
   "source": [
    "Untuk membuat sebuah array, kita menngunakan fungsi array() yangterdapat pada Numpy, ini sama seperti saat kita menggunakan fungsi math() untuk operasi math ketika memanggil math seperti contoh sebelum-sebelumnya"
   ]
  },
  {
   "cell_type": "code",
   "execution_count": 10,
   "id": "b8d4c407",
   "metadata": {},
   "outputs": [
    {
     "name": "stdout",
     "output_type": "stream",
     "text": [
      "0.8939966636005579\n"
     ]
    }
   ],
   "source": [
    "# memanggil funsi math()\n",
    "import math\n",
    "FungsiMath = math.sin(90)\n",
    "print(FungsiMath)"
   ]
  },
  {
   "cell_type": "code",
   "execution_count": 11,
   "id": "954e3021",
   "metadata": {},
   "outputs": [
    {
     "data": {
      "text/plain": [
       "0.8939966636005579"
      ]
     },
     "execution_count": 11,
     "metadata": {},
     "output_type": "execute_result"
    }
   ],
   "source": [
    "import numpy as np\n",
    "np.sin(90)"
   ]
  },
  {
   "cell_type": "markdown",
   "id": "bc5d46c3",
   "metadata": {},
   "source": [
    "Pada NumPy terdapat Upcasting, yaitu ketika data element tidak sama makan dilakukan penyamaan tipe data pada yang lebih tinggi. Misalkan kita membuat array numeric dengan semua element  bertipe integer, kecuali 1 element bertipe float, maka otomatis akan dilakukan upcasting menjadi tipe float pada semua element array"
   ]
  },
  {
   "cell_type": "code",
   "execution_count": 12,
   "id": "d425564f",
   "metadata": {},
   "outputs": [
    {
     "data": {
      "text/plain": [
       "2"
      ]
     },
     "execution_count": 12,
     "metadata": {},
     "output_type": "execute_result"
    }
   ],
   "source": [
    "# Cek dimensi pada array\n",
    "import numpy as np\n",
    "c = np.array([[1,2,4,5],\n",
    "            [1,3,5,7]])\n",
    "c.ndim"
   ]
  },
  {
   "cell_type": "code",
   "execution_count": 13,
   "id": "0ddd0243",
   "metadata": {},
   "outputs": [
    {
     "data": {
      "text/plain": [
       "3"
      ]
     },
     "execution_count": 13,
     "metadata": {},
     "output_type": "execute_result"
    }
   ],
   "source": [
    "# Cek dimensi pada array\n",
    "import numpy as np\n",
    "d = np.array([[[1,2,4,5],\n",
    "              [1,3,5,7],\n",
    "              [1,2,3,6]]])\n",
    "d.ndim"
   ]
  }
 ],
 "metadata": {
  "kernelspec": {
   "display_name": "Python 3 (ipykernel)",
   "language": "python",
   "name": "python3"
  },
  "language_info": {
   "codemirror_mode": {
    "name": "ipython",
    "version": 3
   },
   "file_extension": ".py",
   "mimetype": "text/x-python",
   "name": "python",
   "nbconvert_exporter": "python",
   "pygments_lexer": "ipython3",
   "version": "3.9.7"
  }
 },
 "nbformat": 4,
 "nbformat_minor": 5
}
