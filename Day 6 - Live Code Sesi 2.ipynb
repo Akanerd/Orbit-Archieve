{
  "nbformat": 4,
  "nbformat_minor": 0,
  "metadata": {
    "colab": {
      "name": "Day 6 - Live Code Sesi 2.ipynb",
      "provenance": [],
      "collapsed_sections": [],
      "authorship_tag": "ABX9TyPAwHQGK+7E02QoGJhhID42",
      "include_colab_link": true
    },
    "kernelspec": {
      "name": "python3",
      "display_name": "Python 3"
    },
    "language_info": {
      "name": "python"
    }
  },
  "cells": [
    {
      "cell_type": "markdown",
      "metadata": {
        "id": "view-in-github",
        "colab_type": "text"
      },
      "source": [
        "<a href=\"https://colab.research.google.com/github/Akanerd/Orbit-Archieve/blob/main/Day%206%20-%20Live%20Code%20Sesi%202.ipynb\" target=\"_parent\"><img src=\"https://colab.research.google.com/assets/colab-badge.svg\" alt=\"Open In Colab\"/></a>"
      ]
    },
    {
      "cell_type": "markdown",
      "source": [
        "# **if Else**"
      ],
      "metadata": {
        "id": "GFUcLNTsU8ZU"
      }
    },
    {
      "cell_type": "code",
      "source": [
        "x = 40\n",
        "if x>= 20:\n",
        " print(\"Accept\")\n",
        "print(\"Coba\")"
      ],
      "metadata": {
        "colab": {
          "base_uri": "https://localhost:8080/"
        },
        "id": "JKHA7PzmTgPn",
        "outputId": "b152ea7c-ab57-4b7f-b97d-29250297c6fc"
      },
      "execution_count": 9,
      "outputs": [
        {
          "output_type": "stream",
          "name": "stdout",
          "text": [
            "Accept\n",
            "Coba\n"
          ]
        }
      ]
    },
    {
      "cell_type": "markdown",
      "source": [
        "# **If Else**"
      ],
      "metadata": {
        "id": "gJ1-s38yVEJC"
      }
    },
    {
      "cell_type": "code",
      "source": [
        "x = 60\n",
        "if x>=75:\n",
        "  print(\"lulus\")\n",
        "else:\n",
        "  print(\"Tidak Lulus\")"
      ],
      "metadata": {
        "colab": {
          "base_uri": "https://localhost:8080/"
        },
        "id": "bQXQnO48VHyE",
        "outputId": "cbdee16a-43a6-4c11-a258-568b76e2bf2d"
      },
      "execution_count": 10,
      "outputs": [
        {
          "output_type": "stream",
          "name": "stdout",
          "text": [
            "Tidak Lulus\n"
          ]
        }
      ]
    },
    {
      "cell_type": "markdown",
      "source": [
        "# **If Elif Else**"
      ],
      "metadata": {
        "id": "RdGqnVModuRX"
      }
    },
    {
      "cell_type": "code",
      "source": [
        "x = 7.5\n",
        "if x<4.5:\n",
        "  print(\"Low\")\n",
        "elif x<5.5:\n",
        "  print(\"Medium\")\n",
        "elif x<=7.5:\n",
        "  print(\"High\")\n",
        "else:\n",
        "  print(\"Over\")"
      ],
      "metadata": {
        "colab": {
          "base_uri": "https://localhost:8080/"
        },
        "id": "6N-sW2LkVt_c",
        "outputId": "76caa055-3fc1-4fe6-8a8a-16c975f99a18"
      },
      "execution_count": 11,
      "outputs": [
        {
          "output_type": "stream",
          "name": "stdout",
          "text": [
            "High\n"
          ]
        }
      ]
    },
    {
      "cell_type": "code",
      "source": [
        "for i in range(5,10):\n",
        " print(i)"
      ],
      "metadata": {
        "colab": {
          "base_uri": "https://localhost:8080/"
        },
        "id": "9LjFTY00dyQV",
        "outputId": "4beb61c3-987e-48ec-8f0d-da4dcbdb0d6b"
      },
      "execution_count": 13,
      "outputs": [
        {
          "output_type": "stream",
          "name": "stdout",
          "text": [
            "5\n",
            "6\n",
            "7\n",
            "8\n",
            "9\n"
          ]
        }
      ]
    },
    {
      "cell_type": "code",
      "source": [
        "for letter in \"Hello python\":\n",
        "  if letter == 'p':\n",
        "    pass # biasanya digunakan untuk menghitung kalkulasi tapi hanya dilewatkan\n",
        "print(\"yoi\")"
      ],
      "metadata": {
        "colab": {
          "base_uri": "https://localhost:8080/"
        },
        "id": "PYyWlpYQfpoU",
        "outputId": "27ee9b3e-8c37-4f34-9c30-c3dcb678c1e9"
      },
      "execution_count": 14,
      "outputs": [
        {
          "output_type": "stream",
          "name": "stdout",
          "text": [
            "yoi\n"
          ]
        }
      ]
    },
    {
      "cell_type": "code",
      "source": [
        "for letter in \"Hello python\":\n",
        "  if letter == 'p':\n",
        "    break\n",
        "  print(letter)"
      ],
      "metadata": {
        "colab": {
          "base_uri": "https://localhost:8080/"
        },
        "id": "zSw6dAkOibbd",
        "outputId": "41c5c91f-0151-447e-cee7-03ae90a91d29"
      },
      "execution_count": 16,
      "outputs": [
        {
          "output_type": "stream",
          "name": "stdout",
          "text": [
            "H\n",
            "e\n",
            "l\n",
            "l\n",
            "o\n",
            " \n"
          ]
        }
      ]
    },
    {
      "cell_type": "code",
      "source": [
        "for letter in \"Hello python\":\n",
        "  if letter == 'p':\n",
        "    continue\n",
        "  print(letter)"
      ],
      "metadata": {
        "colab": {
          "base_uri": "https://localhost:8080/"
        },
        "id": "jTirCWX4imYU",
        "outputId": "0c332be4-f820-4cfb-dfa1-3faafd5f7a1e"
      },
      "execution_count": 17,
      "outputs": [
        {
          "output_type": "stream",
          "name": "stdout",
          "text": [
            "H\n",
            "e\n",
            "l\n",
            "l\n",
            "o\n",
            " \n",
            "y\n",
            "t\n",
            "h\n",
            "o\n",
            "n\n"
          ]
        }
      ]
    },
    {
      "cell_type": "code",
      "source": [
        "mylist = [2,3,6,5,9]\n",
        "sqlist = [x**2 for x in mylist]\n",
        "print(sqlist)"
      ],
      "metadata": {
        "colab": {
          "base_uri": "https://localhost:8080/"
        },
        "id": "Pi6UUgAljVjU",
        "outputId": "a230189b-9546-4eab-d511-92f982682a0d"
      },
      "execution_count": 18,
      "outputs": [
        {
          "output_type": "stream",
          "name": "stdout",
          "text": [
            "[4, 9, 36, 25, 81]\n"
          ]
        }
      ]
    },
    {
      "cell_type": "code",
      "source": [
        "sqlist = [x**2 for x in mylist if x%2 ==0]\n",
        "print(sqlist)"
      ],
      "metadata": {
        "colab": {
          "base_uri": "https://localhost:8080/"
        },
        "id": "QnUuWg7rji-o",
        "outputId": "57a77330-f5cb-4945-da15-a20f7a5ddfa0"
      },
      "execution_count": 19,
      "outputs": [
        {
          "output_type": "stream",
          "name": "stdout",
          "text": [
            "[4, 36]\n"
          ]
        }
      ]
    },
    {
      "cell_type": "code",
      "source": [
        "sqlist = [x**2 if x%2 ==0 else x**3 for x in mylist ]\n",
        "print(sqlist)"
      ],
      "metadata": {
        "colab": {
          "base_uri": "https://localhost:8080/"
        },
        "id": "U4IFnJnlkLvE",
        "outputId": "c51e09e4-bf6e-44d4-f834-0eac6a4f07d8"
      },
      "execution_count": 20,
      "outputs": [
        {
          "output_type": "stream",
          "name": "stdout",
          "text": [
            "[4, 27, 36, 125, 729]\n"
          ]
        }
      ]
    },
    {
      "cell_type": "code",
      "source": [
        "dict ={\"apple\": 20,\"Strawbery\":30,\"grapes\":50,\"watermelon\":80}\n",
        "newdict = {key:value+10 for(key,value)in dict.items()}\n",
        "expensivedict ={key:value+10 for(key,value)in dict.items() if value<45}\n",
        "raisedict = {key:(value+10 if value < 45 else value) for(key,value)in dict.items()}\n",
        "print(newdict)\n",
        "print(expensivedict)\n",
        "print(raisedict)"
      ],
      "metadata": {
        "colab": {
          "base_uri": "https://localhost:8080/"
        },
        "id": "jsHlNpNLmOc0",
        "outputId": "5c596fe0-f21c-4c02-ee46-4fd27ffbb31a"
      },
      "execution_count": 24,
      "outputs": [
        {
          "output_type": "stream",
          "name": "stdout",
          "text": [
            "{'apple': 30, 'Strawbery': 40, 'grapes': 60, 'watermelon': 90}\n",
            "{'apple': 30, 'Strawbery': 40}\n",
            "{'apple': 30, 'Strawbery': 40, 'grapes': 50, 'watermelon': 80}\n"
          ]
        }
      ]
    }
  ]
}