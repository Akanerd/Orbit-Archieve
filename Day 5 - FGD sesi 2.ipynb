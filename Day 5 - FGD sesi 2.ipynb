{
  "cells": [
    {
      "cell_type": "markdown",
      "metadata": {
        "id": "USSmCJaNF5N0"
      },
      "source": [
        "# Module 1: Introduction to everything"
      ]
    },
    {
      "cell_type": "markdown",
      "metadata": {
        "id": "ajnI_PCqF5OB"
      },
      "source": [
        "## Lab 1: Getting Started with Python"
      ]
    },
    {
      "cell_type": "markdown",
      "metadata": {
        "id": "TK90oLFMF5OD"
      },
      "source": [
        "***"
      ]
    },
    {
      "cell_type": "markdown",
      "metadata": {
        "id": "8NnQJpSZF5OE"
      },
      "source": [
        "## About Python"
      ]
    },
    {
      "cell_type": "markdown",
      "metadata": {
        "id": "thmWHn50F5OG"
      },
      "source": [
        "\n",
        "\n",
        "Python is a\n",
        "\n",
        "- general purpose programming language\n",
        "- interpreted, not compiled\n",
        "- both **dynamically typed** _and_ **strongly typed**\n",
        "- supports multiple programming paradigms: object oriented, functional\n",
        "- comes in 2 main versions in use today: 2.7 and 3.x\n"
      ]
    },
    {
      "cell_type": "markdown",
      "metadata": {
        "id": "FJtdnkuqF5OI"
      },
      "source": [
        "## Why Python for Data Science?\n",
        "***\n",
        "\n",
        "Python is great for data science because:\n",
        "\n",
        "- general purpose programming language (as opposed to R)\n",
        "- faster idea to execution to deployment\n",
        "- battle-tested\n",
        "- mature ML libraries\n"
      ]
    },
    {
      "cell_type": "markdown",
      "metadata": {
        "id": "tA21Nt2TF5OL"
      },
      "source": [
        "<div class=\"alert alert-block alert-success\">And it is easy to learn !</div>\n"
      ]
    },
    {
      "cell_type": "markdown",
      "metadata": {
        "id": "wTsBdoMaF5OM"
      },
      "source": [
        "<br><br>"
      ]
    },
    {
      "cell_type": "markdown",
      "metadata": {
        "id": "rMH2PryQF5OP"
      },
      "source": [
        "\n",
        "\n",
        "## Python's Interactive Console : The Interpreter\n",
        "\n",
        "***\n",
        "- The Python interpreter is a console that allows interactive development\n",
        "- We are currently using the Jupyter notebook, which uses an advanced Python interpreter called IPython\n",
        "- This gives us much more power and flexibility\n",
        "\n",
        "**Let's try it out !**\n",
        "\n",
        "\n",
        "\n",
        "\n",
        "\n",
        "\n"
      ]
    },
    {
      "cell_type": "code",
      "execution_count": null,
      "metadata": {
        "id": "G8OFf5xCF5OR",
        "outputId": "b14a4b03-7511-41b9-c85b-a6866ed3f38f",
        "colab": {
          "base_uri": "https://localhost:8080/"
        }
      },
      "outputs": [
        {
          "output_type": "stream",
          "name": "stdout",
          "text": [
            "Hello World!\n"
          ]
        }
      ],
      "source": [
        "print(\"Hello World!\") #As usual with any language we start with with the print function"
      ]
    },
    {
      "cell_type": "markdown",
      "metadata": {
        "id": "mtvTw0YUF5OW"
      },
      "source": [
        "<br><br><br><br>"
      ]
    },
    {
      "cell_type": "markdown",
      "metadata": {
        "id": "XqVhByiRF5OY"
      },
      "source": [
        "# Objective\n",
        "***\n",
        "- **Python Basics**\n",
        "     - **Strings**\n",
        "      - Creating a String, variable assignments\n",
        "      - String Indexing & Slicing\n",
        "      - String Concatenation & Repetition\n",
        "      - Basic Built-in String Methods\n",
        "     - **Numbers**\n",
        "      - Types of Numbers\n",
        "      - Basic Arithmetic\n",
        "      \n",
        "\n",
        "\n",
        "- **Data Types & Data Structures**\n",
        "     - Lists\n",
        "     - Dictionaries\n",
        "     - Sets & Booleans\n",
        "\n",
        "\n",
        "- **Python Programming Constructs**\n",
        "     - Loops & Iterative Statements\n",
        "      - if,elif,else statements\n",
        "      - for loops, while loops\n",
        "     \n",
        "    "
      ]
    },
    {
      "cell_type": "markdown",
      "metadata": {
        "id": "6VvGhHflF5Ob"
      },
      "source": [
        "                                                                                                                                                                                 \n"
      ]
    },
    {
      "cell_type": "markdown",
      "metadata": {
        "id": "mDZDyKiXF5Oc"
      },
      "source": [
        "# Python Basics\n",
        "***\n",
        "Let's understand \n",
        "- Basic data types\n",
        "- Variables and Scoping\n",
        "- Modules, Packages and the **`import`** statement\n",
        "- Operators\n"
      ]
    },
    {
      "cell_type": "markdown",
      "metadata": {
        "id": "rmn6CM7lF5Oc"
      },
      "source": [
        "<br><br>"
      ]
    },
    {
      "cell_type": "markdown",
      "metadata": {
        "id": "deWLxsiSF5Od"
      },
      "source": [
        "\n",
        "\n",
        "## Strings\n",
        "***\n",
        "\n",
        "Strings are used in Python to record text information, such as name. Strings in Python are actually a *sequence*, which basically means Python keeps track of every element in the string as a sequence. For example, Python understands the string \"hello' to be a sequence of letters in a specific order. This means we will be able to use indexing to grab particular letters (like the first letter, or the last letter).\n",
        "\n",
        "This idea of a sequence is an important one in Python and we will touch upon it later on in the future.\n",
        "\n",
        "In this lecture we'll learn about the following:\n",
        "\n",
        "    1.) Creating Strings\n",
        "    2.) Printing Strings\n",
        "    3.) String Indexing and Slicing\n",
        "    4.) String Properties\n",
        "    5.) String Methods\n",
        "    6.) Print Formatting"
      ]
    },
    {
      "cell_type": "markdown",
      "metadata": {
        "id": "jycpgIz1F5Oe"
      },
      "source": [
        "\n",
        "\n",
        "### Creating a String\n",
        "***\n",
        "To create a string in Python you need to use either single quotes or double quotes. For example:"
      ]
    },
    {
      "cell_type": "code",
      "execution_count": null,
      "metadata": {
        "colab": {
          "base_uri": "https://localhost:8080/"
        },
        "id": "tPqvG8CgF5Of",
        "outputId": "136df887-2d2e-4df2-ac4f-490493b4de9d"
      },
      "outputs": [
        {
          "output_type": "stream",
          "name": "stdout",
          "text": [
            "hello\n",
            "\n",
            "This is also a string\n"
          ]
        }
      ],
      "source": [
        "# Single word\n",
        "print('hello')\n",
        "\n",
        "print() # Used to have a line space between two sentences. Try deleting this line & seeing the difference.\n",
        "\n",
        "# Entire phrase \n",
        "print(\"This is also a string\")"
      ]
    },
    {
      "cell_type": "markdown",
      "metadata": {
        "raw_mimetype": "text/markdown",
        "id": "8q1NEjIGF5Oh"
      },
      "source": [
        "<br><br><br><br><br><br>"
      ]
    },
    {
      "cell_type": "markdown",
      "metadata": {
        "id": "zUO3yfNcF5Oi"
      },
      "source": [
        "\n",
        "## Variables : Store your Value in me!\n",
        "***\n",
        "\n",
        "In the code below we begin to explore how we can use a variable to which a string can be assigned. \n",
        "\n",
        "This can be extremely useful in many cases, where you can call the variable instead of typing the string everytime. \n",
        "\n",
        "This not only makes our code clean but it also makes it less redundant. \n",
        "Example syntax to assign a value or expression to a variable,\n",
        "\n",
        "\n",
        "    variable_name = value or expression\n",
        "\n",
        "\n",
        "Now let's get coding!!. With the below block of code showing how to assign a string to variable.\n",
        "\n"
      ]
    },
    {
      "cell_type": "code",
      "execution_count": null,
      "metadata": {
        "ExecuteTime": {
          "end_time": "2017-09-25T05:48:54.171197Z",
          "start_time": "2017-09-25T05:48:54.160141Z"
        },
        "id": "FME_vnryF5Ok",
        "outputId": "ddb52d98-fc57-48aa-da0a-e32397e0d038",
        "colab": {
          "base_uri": "https://localhost:8080/"
        }
      },
      "outputs": [
        {
          "output_type": "stream",
          "name": "stdout",
          "text": [
            "New York\n",
            "<class 'str'>\n",
            "8\n"
          ]
        }
      ],
      "source": [
        "s = 'New York'\n",
        "\n",
        "print(s)\n",
        "\n",
        "print(type(s))\n",
        "\n",
        "print(len(s))  # what's the string length\n"
      ]
    },
    {
      "cell_type": "code",
      "source": [
        "x = \"  a  \"\n",
        "len(x)"
      ],
      "metadata": {
        "colab": {
          "base_uri": "https://localhost:8080/"
        },
        "id": "O7J13CUJL120",
        "outputId": "50db6913-38e2-42ec-fea5-aca7dce6010d"
      },
      "execution_count": null,
      "outputs": [
        {
          "output_type": "execute_result",
          "data": {
            "text/plain": [
              "5"
            ]
          },
          "metadata": {},
          "execution_count": 4
        }
      ]
    },
    {
      "cell_type": "markdown",
      "metadata": {
        "id": "JIqESv9eF5Ol"
      },
      "source": [
        "<br><br><br><br><br><br><br><br>\n",
        "### String Indexing\n",
        "***\n",
        "We know strings are a sequence, which means Python can use indexes to call parts of the sequence. Let's learn how this works.\n",
        "\n",
        "In Python, we use brackets [] after an object to call its index. We should also note that indexing starts at 0 for Python. Let's create a new object called s and the walk through a few examples of indexing."
      ]
    },
    {
      "cell_type": "code",
      "execution_count": null,
      "metadata": {
        "id": "nVGuu8zRF5Om"
      },
      "outputs": [],
      "source": [
        "# Assign s as a string\n",
        "s = 'Hello World'"
      ]
    },
    {
      "cell_type": "code",
      "source": [
        "s[-5:]"
      ],
      "metadata": {
        "colab": {
          "base_uri": "https://localhost:8080/",
          "height": 35
        },
        "id": "c79lYqisMUaR",
        "outputId": "2121297b-2327-4961-e06b-fa13b7003433"
      },
      "execution_count": null,
      "outputs": [
        {
          "output_type": "execute_result",
          "data": {
            "application/vnd.google.colaboratory.intrinsic+json": {
              "type": "string"
            },
            "text/plain": [
              "'World'"
            ]
          },
          "metadata": {},
          "execution_count": 6
        }
      ]
    },
    {
      "cell_type": "code",
      "execution_count": null,
      "metadata": {
        "id": "fjXHOrxRF5On",
        "outputId": "afb9676b-cc89-447d-e061-e840a8a178ef",
        "colab": {
          "base_uri": "https://localhost:8080/"
        }
      },
      "outputs": [
        {
          "output_type": "stream",
          "name": "stdout",
          "text": [
            "Hello World\n",
            "\n",
            "H\n",
            "\n",
            "e\n"
          ]
        }
      ],
      "source": [
        "# Print the object\n",
        "print(s) \n",
        "\n",
        "print()  \n",
        "\n",
        "# Show first element (in this case a letter)\n",
        "print(s[0])\n",
        "\n",
        "print()\n",
        "\n",
        "# Show the second element (also a letter)\n",
        "print(s[1])"
      ]
    },
    {
      "cell_type": "markdown",
      "metadata": {
        "id": "rPjg0v69F5Op"
      },
      "source": [
        "<br><br>\n",
        "## String Concatenation and Repetition\n",
        "\n",
        "***\n",
        "**String Concatenation** is a process to combine two strings. It is done using the '+' operator. \n",
        "\n",
        "**String Repetition** is a process of repeating a same string multiple times\n",
        "\n",
        "The examples of the above concepts is as follows."
      ]
    },
    {
      "cell_type": "code",
      "execution_count": null,
      "metadata": {
        "ExecuteTime": {
          "end_time": "2017-09-25T05:48:56.114365Z",
          "start_time": "2017-09-25T05:48:56.105824Z"
        },
        "id": "Dt9cTjjfF5Oq",
        "outputId": "afef49f9-0104-4f15-9fe8-8d443df18187",
        "colab": {
          "base_uri": "https://localhost:8080/"
        }
      },
      "outputs": [
        {
          "output_type": "stream",
          "name": "stdout",
          "text": [
            "Hello World\n"
          ]
        }
      ],
      "source": [
        "# concatenation (addition)\n",
        "\n",
        "s1 = 'Hello'\n",
        "s2 = \"World\"\n",
        "print(s1 + \" \" + s2)"
      ]
    },
    {
      "cell_type": "code",
      "execution_count": null,
      "metadata": {
        "ExecuteTime": {
          "end_time": "2017-09-25T05:48:56.705418Z",
          "start_time": "2017-09-25T05:48:56.698786Z"
        },
        "id": "ruDvte92F5Or",
        "outputId": "55a54025-e7e2-430b-df4b-44b292e93cc9",
        "colab": {
          "base_uri": "https://localhost:8080/"
        }
      },
      "outputs": [
        {
          "output_type": "stream",
          "name": "stdout",
          "text": [
            "Hello_Hello_Hello_\n",
            "----------\n"
          ]
        }
      ],
      "source": [
        "# repetition (multiplication)\n",
        "\n",
        "print(\"Hello_\" * 3)\n",
        "print(\"-\" * 10)"
      ]
    },
    {
      "cell_type": "markdown",
      "metadata": {
        "id": "9utWysCWF5Os"
      },
      "source": [
        "\n",
        "<br><br>\n",
        "## String Slicing & Indexing\n",
        "***\n",
        "**String Indexing** is used to to select the letter at a particular index/position. \n",
        "\n",
        "**String Slicing** is a process to select a subset of an entire string\n",
        "\n",
        "The examples of the above stated are as follows"
      ]
    },
    {
      "cell_type": "code",
      "execution_count": null,
      "metadata": {
        "ExecuteTime": {
          "end_time": "2017-09-25T05:49:04.320983Z",
          "start_time": "2017-09-25T05:49:04.295626Z"
        },
        "id": "j-L-JKCYF5Ot"
      },
      "outputs": [],
      "source": [
        "s = \"Namaste World\"\n"
      ]
    },
    {
      "cell_type": "code",
      "source": [
        "# print sub strings\n",
        "print(s[1])     #This is indexing.\n",
        "print(s[6:11])  #This is known as slicing.\n",
        "print(s[-5:])\n",
        "\n",
        "# test substring membership\n",
        "print(\"Wor\" in s)"
      ],
      "metadata": {
        "colab": {
          "base_uri": "https://localhost:8080/"
        },
        "id": "bOay0nFYNU_J",
        "outputId": "804510dc-f60c-45c6-8ef9-aad652feed78"
      },
      "execution_count": null,
      "outputs": [
        {
          "output_type": "stream",
          "name": "stdout",
          "text": [
            "a\n",
            "e Wor\n",
            "World\n",
            "True\n"
          ]
        }
      ]
    },
    {
      "cell_type": "code",
      "source": [
        "print(\"nirwan\" in s)"
      ],
      "metadata": {
        "colab": {
          "base_uri": "https://localhost:8080/"
        },
        "id": "GpazB3QNNrW9",
        "outputId": "cf132da9-203f-4c0a-f96c-065806257da0"
      },
      "execution_count": null,
      "outputs": [
        {
          "output_type": "stream",
          "name": "stdout",
          "text": [
            "False\n"
          ]
        }
      ]
    },
    {
      "cell_type": "markdown",
      "metadata": {
        "id": "uZLGG1uEF5Ot"
      },
      "source": [
        "Note the above slicing. Here we're telling Python to grab everything from 6 up to 10 and from fifth last to second last. You'll notice this a lot in Python, where statements and are usually in the context of \"up to, but not including\"."
      ]
    },
    {
      "cell_type": "markdown",
      "metadata": {
        "ExecuteTime": {
          "end_time": "2017-09-19T11:18:05.674928Z",
          "start_time": "2017-09-19T11:18:05.661334Z"
        },
        "id": "WPOMuMP7F5Ou"
      },
      "source": [
        "<br><br><br><br>\n",
        "## Basic Built-in String methods\n",
        "\n",
        "***\n",
        "Objects in Python usually have built-in methods. These methods are functions inside the object (we will learn about these in much more depth later) that can perform actions or commands on the object itself.\n",
        "\n",
        "We call methods with a period and then the method name. Methods are in the form:\n",
        "\n",
        "object.method(parameters)\n",
        "\n",
        "Where parameters are extra arguments we can pass into the method. Don't worry if the details don't make 100% sense right now.\n",
        "\n",
        "Later on we will be creating our own objects and functions!\n",
        "\n",
        "Here are some examples of built-in methods in strings:"
      ]
    },
    {
      "cell_type": "code",
      "execution_count": null,
      "metadata": {
        "ExecuteTime": {
          "end_time": "2017-09-20T09:29:42.931594Z",
          "start_time": "2017-09-20T09:29:42.922130Z"
        },
        "id": "5Jyw6nalF5Ou",
        "outputId": "d584f2f2-51dd-479d-9b25-5ca772bcbaf1",
        "colab": {
          "base_uri": "https://localhost:8080/"
        }
      },
      "outputs": [
        {
          "output_type": "stream",
          "name": "stdout",
          "text": [
            "HELLO WORLD\n",
            "hello world\n"
          ]
        }
      ],
      "source": [
        "s = \"Hello World\"\n",
        "\n",
        "print(s.upper()) ## Convert all the element of the string to Upper case..!!\n",
        "print(s.lower()) ## Convert all the element of the string to Lower case..!!"
      ]
    },
    {
      "cell_type": "code",
      "source": [
        "s.title()"
      ],
      "metadata": {
        "colab": {
          "base_uri": "https://localhost:8080/",
          "height": 35
        },
        "id": "87pNmmYnN-ql",
        "outputId": "83d28900-3ec3-4346-dc56-a88455c69e17"
      },
      "execution_count": null,
      "outputs": [
        {
          "output_type": "execute_result",
          "data": {
            "application/vnd.google.colaboratory.intrinsic+json": {
              "type": "string"
            },
            "text/plain": [
              "'Hello World'"
            ]
          },
          "metadata": {},
          "execution_count": 14
        }
      ]
    },
    {
      "cell_type": "markdown",
      "metadata": {
        "ExecuteTime": {
          "end_time": "2017-09-19T11:18:05.674928Z",
          "start_time": "2017-09-19T11:18:05.661334Z"
        },
        "id": "_bZkZvG1F5Ov"
      },
      "source": [
        "<br><br><br><br>\n",
        "## Print Formatting\n",
        "\n",
        "We can use the .format() method to add formatted objects to printed string statements. \n",
        "\n",
        "The easiest way to show this is through an example:"
      ]
    },
    {
      "cell_type": "code",
      "execution_count": null,
      "metadata": {
        "ExecuteTime": {
          "end_time": "2017-09-25T05:49:13.537471Z",
          "start_time": "2017-09-25T05:49:13.527853Z"
        },
        "id": "UEuh4TNfF5Ow",
        "outputId": "4904ef34-a277-4eee-96f9-22ea3c0e149f",
        "colab": {
          "base_uri": "https://localhost:8080/"
        }
      },
      "outputs": [
        {
          "output_type": "stream",
          "name": "stdout",
          "text": [
            "My name is Einstein, my age is 22, and it is True that I am married\n",
            "My name is Einstein, my age is 22, and it is True that I am married\n"
          ]
        }
      ],
      "source": [
        "name = \"Einstein\"\n",
        "age = 22\n",
        "married = True\n",
        "\n",
        "print(\"My name is %s, my age is %s, and it is %s that I am married\" % (name, age, married))\n",
        "\n",
        "print(\"My name is {}, my age is {}, and it is {} that I am married\".format(name, age, married))"
      ]
    },
    {
      "cell_type": "markdown",
      "metadata": {
        "id": "s72OZkKSF5Ox"
      },
      "source": [
        "<br><br>"
      ]
    },
    {
      "cell_type": "markdown",
      "metadata": {
        "id": "-JiuEE5pF5Ox"
      },
      "source": [
        "\n",
        "\n",
        "## Numbers \n",
        "***\n",
        "\n",
        "\n",
        "Having worked with string we will turn our attention to numbers\n",
        "\n",
        "We'll learn about the following topics:\n",
        "\n",
        "    1.) Types of Numbers in Python\n",
        "    2.) Basic Arithmetic\n",
        "    3.) Object Assignment in Python"
      ]
    },
    {
      "cell_type": "markdown",
      "metadata": {
        "id": "adLqdslIF5Oy"
      },
      "source": [
        "    "
      ]
    },
    {
      "cell_type": "markdown",
      "metadata": {
        "id": "-Sw_MQSOF5Oz"
      },
      "source": [
        "<br><br><br><br>\n",
        "## Types of numbers\n",
        "***\n",
        "Python has various \"types\" of numbers (numeric literals). We'll mainly focus on integers and floating point numbers.\n",
        "\n",
        "Integers are just whole numbers, positive or negative. For example: 2 and -2 are examples of integers.\n",
        "\n",
        "Floating point numbers in Python are notable because they have a decimal point in them, or use an exponential (e) to define the number. For example 2.0 and -2.1 are examples of floating point numbers. 4E2 (4 times 10 to the power of 2) is also an example of a floating point number in Python.\n",
        "\n",
        "Throughout this course we will be mainly working with integers or simple float number types.\n",
        "\n",
        "Here is a table of the two main types we will spend most of our time working with some examples:\n",
        "\n",
        "<table>\n",
        "<tr>\n",
        "    <th>Examples</th> \n",
        "    <th>Number \"Type\"</th>\n",
        "</tr>\n",
        "\n",
        "<tr>\n",
        "    <td>1,2,-5,1000</td>\n",
        "    <td>Integers</td> \n",
        "</tr>\n",
        "\n",
        "<tr>\n",
        "    <td>1.2,-0.5,2e2,3E2</td> \n",
        "    <td>Floating-point numbers</td> \n",
        "</tr>\n",
        " </table>"
      ]
    },
    {
      "cell_type": "markdown",
      "metadata": {
        "id": "NWqL1DeIF5Oz"
      },
      "source": [
        "Now let's start with some basic arithmetic."
      ]
    },
    {
      "cell_type": "markdown",
      "metadata": {
        "id": "GFdUt5ngF5O0"
      },
      "source": [
        "## Basic Arithmetic"
      ]
    },
    {
      "cell_type": "code",
      "execution_count": null,
      "metadata": {
        "id": "JA0fBqQnF5O0",
        "outputId": "94ce8417-cccb-4ba7-ea1a-047263f0f1ae",
        "colab": {
          "base_uri": "https://localhost:8080/"
        }
      },
      "outputs": [
        {
          "output_type": "stream",
          "name": "stdout",
          "text": [
            "3\n",
            "1\n",
            "4\n",
            "1.5\n"
          ]
        }
      ],
      "source": [
        "# Addition\n",
        "print(2+1)\n",
        "\n",
        "# Subtraction\n",
        "print(2-1)\n",
        "\n",
        "# Multiplication\n",
        "print(2*2)\n",
        "\n",
        "# Division\n",
        "print(3/2)"
      ]
    },
    {
      "cell_type": "code",
      "source": [
        "print(2**3)"
      ],
      "metadata": {
        "colab": {
          "base_uri": "https://localhost:8080/"
        },
        "id": "yvXQdmMWPEJh",
        "outputId": "f7e5879e-8ebf-46a8-b065-03ea1c2bae61"
      },
      "execution_count": null,
      "outputs": [
        {
          "output_type": "stream",
          "name": "stdout",
          "text": [
            "8\n"
          ]
        }
      ]
    },
    {
      "cell_type": "markdown",
      "metadata": {
        "id": "Y52CsdiIF5O1"
      },
      "source": [
        "## Arithmetic continued"
      ]
    },
    {
      "cell_type": "code",
      "execution_count": null,
      "metadata": {
        "id": "dkyZ9tFMF5O1",
        "outputId": "892a1b83-bac2-4141-b019-a3f106011b59",
        "colab": {
          "base_uri": "https://localhost:8080/"
        }
      },
      "outputs": [
        {
          "output_type": "execute_result",
          "data": {
            "text/plain": [
              "8"
            ]
          },
          "metadata": {},
          "execution_count": 18
        }
      ],
      "source": [
        "# Powers\n",
        "2**3"
      ]
    },
    {
      "cell_type": "code",
      "execution_count": null,
      "metadata": {
        "id": "vNQHHR4iF5O2",
        "outputId": "7724fd7f-902f-477f-d227-ac802372de31",
        "colab": {
          "base_uri": "https://localhost:8080/"
        }
      },
      "outputs": [
        {
          "output_type": "execute_result",
          "data": {
            "text/plain": [
              "123"
            ]
          },
          "metadata": {},
          "execution_count": 19
        }
      ],
      "source": [
        "# Order of Operations followed in Python\n",
        "(2 + 10) * 10 + 3"
      ]
    },
    {
      "cell_type": "code",
      "execution_count": null,
      "metadata": {
        "id": "MSBS3KXIF5O3",
        "outputId": "73d8256a-fc67-4cbd-c076-886f8eb0808d",
        "colab": {
          "base_uri": "https://localhost:8080/"
        }
      },
      "outputs": [
        {
          "output_type": "execute_result",
          "data": {
            "text/plain": [
              "156"
            ]
          },
          "metadata": {},
          "execution_count": 20
        }
      ],
      "source": [
        "# Can use parenthesis to specify orders\n",
        "(2+10) * (10+3)"
      ]
    },
    {
      "cell_type": "markdown",
      "metadata": {
        "id": "GPoLsG72F5O3"
      },
      "source": [
        "\n",
        "\n",
        "## Variable Assignments\n",
        "***\n",
        "Now that we've seen how to use numbers in Python as a calculator let's see how we can assign names and create variables.\n",
        "\n",
        "We use a single equals sign to assign labels to variables. Let's see a few examples of how we can do this."
      ]
    },
    {
      "cell_type": "code",
      "execution_count": null,
      "metadata": {
        "id": "uC6zsU1QF5O4"
      },
      "outputs": [],
      "source": [
        "# Let's create an object called \"a\" and assign it the number 5\n",
        "a = 5"
      ]
    },
    {
      "cell_type": "markdown",
      "metadata": {
        "id": "y6vA8lDRF5O4"
      },
      "source": [
        "Now if I call *a* in my Python script, Python will treat it as the number 5."
      ]
    },
    {
      "cell_type": "code",
      "execution_count": null,
      "metadata": {
        "id": "mGbBw7ZBF5O5"
      },
      "outputs": [],
      "source": [
        "# Adding the objects\n",
        "b = a+a"
      ]
    },
    {
      "cell_type": "markdown",
      "metadata": {
        "id": "bP0xt1NjF5O6"
      },
      "source": [
        "What happens on reassignment? Will Python let us write it over?"
      ]
    },
    {
      "cell_type": "code",
      "execution_count": null,
      "metadata": {
        "id": "EIjXtDo9F5O7"
      },
      "outputs": [],
      "source": [
        "# Reassignment\n",
        "a = 15"
      ]
    },
    {
      "cell_type": "code",
      "execution_count": null,
      "metadata": {
        "id": "8i5HROy7F5O8",
        "outputId": "fbf9110f-7698-457c-cc9b-d011445c619b",
        "colab": {
          "base_uri": "https://localhost:8080/"
        }
      },
      "outputs": [
        {
          "output_type": "execute_result",
          "data": {
            "text/plain": [
              "10"
            ]
          },
          "metadata": {},
          "execution_count": 51
        }
      ],
      "source": [
        "# Check\n",
        "b"
      ]
    },
    {
      "cell_type": "markdown",
      "metadata": {
        "id": "szWPX0RHF5O8"
      },
      "source": [
        "<br><br><br><br>"
      ]
    },
    {
      "cell_type": "markdown",
      "metadata": {
        "id": "wdMQh1CjF5O9"
      },
      "source": [
        "#  Data Types & Data Structures\n",
        "***\n",
        "- Everything in Python is an \"object\", including integers/floats\n",
        "- Most common and important types (classes)\n",
        "    - \"Single value\": None, int, float, bool, str, complex\n",
        "    - \"Multiple values\": list, tuple, set, dict\n",
        "\n",
        "\n",
        "- Single/Multiple isn't a real distinction, this is for explanation\n",
        "- There are many others, but these are most frequently used"
      ]
    },
    {
      "cell_type": "markdown",
      "metadata": {
        "id": "7bZbpLaLF5O9"
      },
      "source": [
        "### Identifying Data Types\n"
      ]
    },
    {
      "cell_type": "code",
      "execution_count": null,
      "metadata": {
        "ExecuteTime": {
          "end_time": "2017-09-25T05:47:32.052311Z",
          "start_time": "2017-09-25T05:47:32.041864Z"
        },
        "id": "6bTThKwmF5O-",
        "outputId": "23cdbb27-b007-4749-d530-40990f32f8b3",
        "colab": {
          "base_uri": "https://localhost:8080/"
        }
      },
      "outputs": [
        {
          "output_type": "stream",
          "name": "stdout",
          "text": [
            "<class 'int'>\n",
            "<class 'float'>\n"
          ]
        }
      ],
      "source": [
        "a = 42\n",
        "b = 32.30\n",
        "\n",
        "print(type(a))#gets type of a\n",
        "print(type(b))#gets type of b"
      ]
    },
    {
      "cell_type": "markdown",
      "metadata": {
        "id": "JxT-Zl_uF5O-"
      },
      "source": [
        "\n",
        "\n",
        "### Single Value Types\n",
        "***\n",
        "- int: Integers\n",
        "- float: Floating point numbers\n",
        "- bool: Boolean values (True, False)\n",
        "- complex: Complex numbers\n",
        "- str: String"
      ]
    },
    {
      "cell_type": "markdown",
      "metadata": {
        "id": "LfIApBvNF5O_"
      },
      "source": [
        "<br><br><br><br>\n",
        "\n",
        "## Lists\n",
        "***\n",
        "Lists can be thought of the most general version of a *sequence* in Python. \n",
        "\n",
        "Unlike strings, they are mutable, meaning the elements inside a list can be changed!\n",
        "\n",
        "In this section we will learn about:\n",
        "\n",
        "\n",
        "    1.) Creating lists\n",
        "    2.) Indexing and Slicing Lists\n",
        "    3.) Basic List Methods\n",
        "    4.) Nesting Lists\n",
        "    5.) Introduction to List Comprehensions\n",
        "\n",
        "\n",
        "Lists are constructed with brackets [] and commas separating every element in the list.\n",
        "\n",
        "Let's go ahead and see how we can construct lists!"
      ]
    },
    {
      "cell_type": "code",
      "execution_count": null,
      "metadata": {
        "id": "T3747cs7F5PA"
      },
      "outputs": [],
      "source": [
        "# Assign a list to an variable named my_list\n",
        "my_list = [1,2,3]\n"
      ]
    },
    {
      "cell_type": "markdown",
      "metadata": {
        "id": "R40Xb_r3F5PB"
      },
      "source": [
        "We just created a list of integers, but lists can actually hold different object types. For example:"
      ]
    },
    {
      "cell_type": "code",
      "execution_count": null,
      "metadata": {
        "id": "soEU_cz0F5PB"
      },
      "outputs": [],
      "source": [
        "my_list = ['A string',23,100.232,'o']\n"
      ]
    },
    {
      "cell_type": "markdown",
      "metadata": {
        "id": "BM_7Ui4xF5PB"
      },
      "source": [
        "Just like strings, the len() function will tell you how many items are in the sequence of the list."
      ]
    },
    {
      "cell_type": "code",
      "execution_count": null,
      "metadata": {
        "id": "rmY_Jvg9F5PC",
        "outputId": "d0f2fb95-dc35-44b5-c06d-720cb9b63813",
        "colab": {
          "base_uri": "https://localhost:8080/"
        }
      },
      "outputs": [
        {
          "output_type": "execute_result",
          "data": {
            "text/plain": [
              "4"
            ]
          },
          "metadata": {},
          "execution_count": 55
        }
      ],
      "source": [
        "len(my_list)"
      ]
    },
    {
      "cell_type": "markdown",
      "metadata": {
        "id": "qfhujwX8F5PD"
      },
      "source": [
        "\n",
        "### Adding New Elements to a list\n",
        "***\n",
        "We use two special commands to add new elements to a list. Let's make a new list to remind ourselves of how this works:"
      ]
    },
    {
      "cell_type": "code",
      "execution_count": null,
      "metadata": {
        "id": "VMnOcSc3F5PD"
      },
      "outputs": [],
      "source": [
        "my_list = ['one','two','three',4,5]"
      ]
    },
    {
      "cell_type": "code",
      "execution_count": null,
      "metadata": {
        "ExecuteTime": {
          "end_time": "2017-09-25T05:47:35.345981Z",
          "start_time": "2017-09-25T05:47:35.338482Z"
        },
        "id": "Y9oh9dR5F5PE",
        "outputId": "2de3d983-4064-42b5-b212-b8df7b702df6",
        "colab": {
          "base_uri": "https://localhost:8080/"
        }
      },
      "outputs": [
        {
          "output_type": "stream",
          "name": "stdout",
          "text": [
            "[1, 2.3, ['a', 'b'], 'New York', 3.1]\n"
          ]
        }
      ],
      "source": [
        "# append a value to the end of the list\n",
        "l = [1, 2.3, ['a', 'b'], 'New York']\n",
        "l.append(3.1)\n",
        "print(l)"
      ]
    },
    {
      "cell_type": "code",
      "source": [
        "l.append('saya')"
      ],
      "metadata": {
        "id": "ZGvwHhWaRFzL"
      },
      "execution_count": null,
      "outputs": []
    },
    {
      "cell_type": "code",
      "source": [
        "l"
      ],
      "metadata": {
        "colab": {
          "base_uri": "https://localhost:8080/"
        },
        "id": "Z8G9yRYeRJNl",
        "outputId": "94a5515f-0663-4889-bd74-1d5f1d20b6bb"
      },
      "execution_count": null,
      "outputs": [
        {
          "output_type": "execute_result",
          "data": {
            "text/plain": [
              "[1, 2.3, ['a', 'b'], 'New York', 3.1, 'saya']"
            ]
          },
          "metadata": {},
          "execution_count": 59
        }
      ]
    },
    {
      "cell_type": "code",
      "execution_count": null,
      "metadata": {
        "ExecuteTime": {
          "end_time": "2017-09-25T05:47:36.261839Z",
          "start_time": "2017-09-25T05:47:36.253351Z"
        },
        "id": "fmD6iSs2F5PE",
        "outputId": "e76fa1ac-999c-4480-ddda-9bd5437036ef",
        "colab": {
          "base_uri": "https://localhost:8080/"
        }
      },
      "outputs": [
        {
          "output_type": "stream",
          "name": "stdout",
          "text": [
            "[1, 2, 3, 4, 5, 6]\n"
          ]
        }
      ],
      "source": [
        "# extend a list with another list. \n",
        "l = [1, 2, 3]\n",
        "m = [4, 5, 6]\n",
        "l.extend(m)\n",
        "print(l)"
      ]
    },
    {
      "cell_type": "markdown",
      "metadata": {
        "ExecuteTime": {
          "end_time": "2017-09-19T11:49:42.542856Z",
          "start_time": "2017-09-19T11:49:42.534053Z"
        },
        "id": "PQf1HVB1F5PF"
      },
      "source": [
        "\n",
        "## Slicing\n",
        "***\n",
        "Slicing is used to access individual elements or a rage of elements in a list. \n",
        "\n",
        "Python supports \"slicing\" indexable sequences. The syntax for slicing lists is:\n",
        "\n",
        "- `list_object[start:end:step]` or\n",
        "- `list_object[start:end]`\n",
        "\n",
        "start and end are indices (start inclusive, end exclusive). All slicing values are optional."
      ]
    },
    {
      "cell_type": "code",
      "execution_count": null,
      "metadata": {
        "ExecuteTime": {
          "end_time": "2017-09-25T05:47:39.225276Z",
          "start_time": "2017-09-25T05:47:39.204399Z"
        },
        "id": "X7d_43FSF5PG",
        "outputId": "654284b9-b3d2-4407-97ad-22af28a31504",
        "colab": {
          "base_uri": "https://localhost:8080/"
        }
      },
      "outputs": [
        {
          "output_type": "stream",
          "name": "stdout",
          "text": [
            "[0, 1, 2, 3, 4, 5, 6, 7, 8, 9]\n",
            "elements from index 4 to 7: [4, 5, 6]\n",
            "alternate elements, starting at index 0: [0, 2, 4, 6, 8]\n",
            "every third element, starting at index 1: [1, 4, 7]\n"
          ]
        }
      ],
      "source": [
        "lst = list(range(10)) # create a list containing 10 numbers starting from 0 \n",
        "print(lst)\n",
        "\n",
        "print(\"elements from index 4 to 7:\", lst[4:7])\n",
        "print(\"alternate elements, starting at index 0:\", lst[0::2])\n",
        "# prints elements from index 0 till last index with a step of 2\n",
        "\n",
        "print(\"every third element, starting at index 1:\", lst[1::3]) \n",
        "# prints elements from index 1 till last index with a step of 3\n"
      ]
    },
    {
      "cell_type": "code",
      "source": [
        "l = ['1','satu',1]\n",
        "l.insert(2,'4')\n",
        "l"
      ],
      "metadata": {
        "colab": {
          "base_uri": "https://localhost:8080/"
        },
        "id": "LDHcSukUR0--",
        "outputId": "43e2dc3f-558c-4c42-899f-2092768deeee"
      },
      "execution_count": null,
      "outputs": [
        {
          "output_type": "execute_result",
          "data": {
            "text/plain": [
              "['1', 'satu', '4', 1]"
            ]
          },
          "metadata": {},
          "execution_count": 66
        }
      ]
    },
    {
      "cell_type": "markdown",
      "metadata": {
        "id": "w7_52ePzF5PG"
      },
      "source": [
        "<div class=\"alert alert-block alert-success\">**Other `list` operations**</div>\n",
        "\n",
        "***\n",
        "- **`.append`**: add element to end of list\n",
        "- **`.insert`**: insert element at given index\n",
        "- **`.extend`**: extend one list with another list"
      ]
    },
    {
      "cell_type": "markdown",
      "metadata": {
        "id": "r8Qw35GdF5PH"
      },
      "source": [
        "<br><br><br><br>"
      ]
    },
    {
      "cell_type": "markdown",
      "metadata": {
        "id": "mD_tmXS5F5PH"
      },
      "source": [
        "\n",
        "\n",
        "# Dictionaries\n",
        "***\n",
        "Now we're going to switch gears and learn about *mappings* called *dictionaries* in Python. If you're familiar with other languages you can think of these Dictionaries as hash tables. \n",
        "\n",
        "This section will serve as a brief introduction to dictionaries and consist of:\n",
        "\n",
        "    1.) Constructing a Dictionary\n",
        "    2.) Accessing objects from a dictionary\n",
        "    3.) Nesting Dictionaries\n",
        "    4.) Basic Dictionary Methods\n",
        "    \n",
        "A Python dictionary consists of a key and then an associated value. That value can be almost any Python object."
      ]
    },
    {
      "cell_type": "markdown",
      "metadata": {
        "id": "-GuRCHM_F5PI"
      },
      "source": [
        "## Constructing a Dictionary\n",
        "***\n",
        "Let's see how we can construct dictionaries to get a better understanding of how they work!"
      ]
    },
    {
      "cell_type": "code",
      "execution_count": null,
      "metadata": {
        "id": "5VzsmiVcF5PI"
      },
      "outputs": [],
      "source": [
        "# Make a dictionary with {} and : to signify a key and a value\n",
        "my_dict = {'book':'buku','book2':'pesanan'}"
      ]
    },
    {
      "cell_type": "code",
      "execution_count": null,
      "metadata": {
        "id": "SBTr6CQYF5PJ",
        "outputId": "05b72b21-c71a-4d87-bbb5-0b15786a4f6d",
        "colab": {
          "base_uri": "https://localhost:8080/",
          "height": 35
        }
      },
      "outputs": [
        {
          "output_type": "execute_result",
          "data": {
            "application/vnd.google.colaboratory.intrinsic+json": {
              "type": "string"
            },
            "text/plain": [
              "'buku'"
            ]
          },
          "metadata": {},
          "execution_count": 82
        }
      ],
      "source": [
        "# Call values by their key\n",
        "my_dict['book']"
      ]
    },
    {
      "cell_type": "markdown",
      "metadata": {
        "id": "YQi2-NP7F5PJ"
      },
      "source": [
        "We can effect the values of a key as well. For instance:"
      ]
    },
    {
      "cell_type": "code",
      "execution_count": null,
      "metadata": {
        "id": "3GhFK5hxF5PK",
        "outputId": "8702834d-ac2b-4196-f192-95152091733e",
        "colab": {
          "base_uri": "https://localhost:8080/"
        }
      },
      "outputs": [
        {
          "output_type": "execute_result",
          "data": {
            "text/plain": [
              "{'book': 'buku', 'book2': 'pesanan', 'key1': 123}"
            ]
          },
          "metadata": {},
          "execution_count": 95
        }
      ],
      "source": [
        "my_dict['key1']=123\n",
        "my_dict\n"
      ]
    },
    {
      "cell_type": "code",
      "execution_count": null,
      "metadata": {
        "id": "lBn1jwKEF5PL"
      },
      "outputs": [],
      "source": [
        "# Subtract 123 from the value\n",
        "my_dict['key1'] = my_dict['key1'] - 122"
      ]
    },
    {
      "cell_type": "code",
      "execution_count": null,
      "metadata": {
        "id": "j_seYL7jF5PM",
        "outputId": "fe8501be-faf3-4076-8ce5-1f96cbd5acfe",
        "colab": {
          "base_uri": "https://localhost:8080/"
        }
      },
      "outputs": [
        {
          "output_type": "execute_result",
          "data": {
            "text/plain": [
              "1"
            ]
          },
          "metadata": {},
          "execution_count": 88
        }
      ],
      "source": [
        "#Check\n",
        "my_dict['key1']"
      ]
    },
    {
      "cell_type": "markdown",
      "metadata": {
        "id": "mvzy42XtF5PN"
      },
      "source": [
        "A quick note, Python has a built-in method of doing a self subtraction or addition (or multiplication or division). We could have also used += or -= for the above statement. For example:"
      ]
    },
    {
      "cell_type": "code",
      "source": [
        "w = 10\n",
        "w = w+2 \n",
        "w"
      ],
      "metadata": {
        "colab": {
          "base_uri": "https://localhost:8080/"
        },
        "id": "HFYDsX-WTt3f",
        "outputId": "f7fcd85a-dcf7-4628-8553-19cb0c35d6f3"
      },
      "execution_count": null,
      "outputs": [
        {
          "output_type": "execute_result",
          "data": {
            "text/plain": [
              "12"
            ]
          },
          "metadata": {},
          "execution_count": 98
        }
      ]
    },
    {
      "cell_type": "code",
      "execution_count": null,
      "metadata": {
        "id": "5QTLJHEyF5PN",
        "outputId": "497bcecf-8785-41ce-bacc-c9890e50224f",
        "colab": {
          "base_uri": "https://localhost:8080/"
        }
      },
      "outputs": [
        {
          "output_type": "execute_result",
          "data": {
            "text/plain": [
              "1"
            ]
          },
          "metadata": {},
          "execution_count": 96
        }
      ],
      "source": [
        "# Set the object equal to itself minus 123 \n",
        "my_dict['key1'] -= 122\n",
        "my_dict['key1']"
      ]
    },
    {
      "cell_type": "markdown",
      "metadata": {
        "id": "IJdpjffhF5PO"
      },
      "source": [
        "Now its your turn to get hands-on with Dictionary, create a empty dicts. Create a new key called animal and assign a value 'Dog' to it..\n"
      ]
    },
    {
      "cell_type": "code",
      "execution_count": null,
      "metadata": {
        "id": "DLFx4-hiF5PO"
      },
      "outputs": [],
      "source": [
        "# Create a new dictionary\n",
        "d = {}\n",
        "# Create a new key through assignment\n",
        "d['animal'] = 'Dog'"
      ]
    },
    {
      "cell_type": "markdown",
      "metadata": {
        "id": "E3WElOhoF5PP"
      },
      "source": [
        "<br><br><br><br>"
      ]
    },
    {
      "cell_type": "markdown",
      "metadata": {
        "ExecuteTime": {
          "end_time": "2017-09-25T05:47:45.662927Z",
          "start_time": "2017-09-25T05:47:45.654794Z"
        },
        "id": "-w_RQEZeF5PP"
      },
      "source": [
        "\n",
        "# Set and Booleans\n",
        "***\n",
        "There are two other object types in Python that we should quickly cover. Sets and Booleans. \n",
        "\n",
        "## Sets\n",
        "Sets are an unordered collection of *unique* elements. We can construct them by using the set() function. Let's go ahead and make a set to see how it works"
      ]
    },
    {
      "cell_type": "code",
      "execution_count": null,
      "metadata": {
        "id": "6v_e9pVQF5PQ",
        "outputId": "b6842ef2-38bb-4690-fe4f-ad9813bf9459",
        "colab": {
          "base_uri": "https://localhost:8080/"
        }
      },
      "outputs": [
        {
          "output_type": "execute_result",
          "data": {
            "text/plain": [
              "{1}"
            ]
          },
          "metadata": {},
          "execution_count": 101
        }
      ],
      "source": [
        "x = set()\n",
        "\n",
        "# We add to sets with the add() method\n",
        "x.add(1)\n",
        "\n",
        "#Show\n",
        "x"
      ]
    },
    {
      "cell_type": "code",
      "source": [
        "x.add(2)\n",
        "x"
      ],
      "metadata": {
        "colab": {
          "base_uri": "https://localhost:8080/"
        },
        "id": "ujoC-M5eUbht",
        "outputId": "3bb67582-8df1-49df-d89e-3617c3c023a5"
      },
      "execution_count": null,
      "outputs": [
        {
          "output_type": "execute_result",
          "data": {
            "text/plain": [
              "{1, 2}"
            ]
          },
          "metadata": {},
          "execution_count": 102
        }
      ]
    },
    {
      "cell_type": "markdown",
      "metadata": {
        "id": "QSBfbzzaF5PQ"
      },
      "source": [
        "Note the curly brackets. This does not indicate a dictionary! Although you can draw analogies as a set being a dictionary with only keys.\n",
        "\n",
        "We know that a set has only unique entries. So what happens when we try to add something that is already in a set?"
      ]
    },
    {
      "cell_type": "code",
      "execution_count": null,
      "metadata": {
        "id": "yz4hWsPNF5PR",
        "outputId": "4c251293-d8df-472f-8d5e-23cd8a57f4cc",
        "colab": {
          "base_uri": "https://localhost:8080/"
        }
      },
      "outputs": [
        {
          "output_type": "execute_result",
          "data": {
            "text/plain": [
              "{1, 2, 3}"
            ]
          },
          "metadata": {},
          "execution_count": 103
        }
      ],
      "source": [
        "# Add a different element\n",
        "x.add(3)\n",
        "\n",
        "#Show\n",
        "x"
      ]
    },
    {
      "cell_type": "code",
      "execution_count": null,
      "metadata": {
        "id": "qrFKAXbLF5PR",
        "outputId": "90dd9bd8-6dcd-4c43-8c1f-c4ebc42881ec",
        "colab": {
          "base_uri": "https://localhost:8080/"
        }
      },
      "outputs": [
        {
          "output_type": "execute_result",
          "data": {
            "text/plain": [
              "{1, 2, 3, '3'}"
            ]
          },
          "metadata": {},
          "execution_count": 106
        }
      ],
      "source": [
        "# Try to add the same element\n",
        "x.add('3')\n",
        "x.add('3')\n",
        "#Show\n",
        "x"
      ]
    },
    {
      "cell_type": "markdown",
      "metadata": {
        "id": "pVxF-ecjF5PS"
      },
      "source": [
        "Notice how it won't place another 1 there. That's because a set is only concerned with unique elements! We can cast a list with multiple repeat elements to a set to get the unique elements. For example:"
      ]
    },
    {
      "cell_type": "code",
      "execution_count": null,
      "metadata": {
        "id": "iDBywiVwF5PS"
      },
      "outputs": [],
      "source": [
        "# Create a list with repeats\n",
        "l = [1,1,2,2,3,4,5,6,1,1]"
      ]
    },
    {
      "cell_type": "code",
      "execution_count": null,
      "metadata": {
        "id": "pb5yAI64F5PT",
        "outputId": "07e0f605-a148-4aaa-d805-5f9fa7fa5f43",
        "colab": {
          "base_uri": "https://localhost:8080/"
        }
      },
      "outputs": [
        {
          "output_type": "execute_result",
          "data": {
            "text/plain": [
              "{1, 2, 3, 4, 5, 6}"
            ]
          },
          "metadata": {},
          "execution_count": 108
        }
      ],
      "source": [
        "# Cast as set to get unique values\n",
        "set(l)"
      ]
    },
    {
      "cell_type": "markdown",
      "metadata": {
        "id": "tCZ6c1lBF5PT"
      },
      "source": [
        "<br><br><br><br>"
      ]
    },
    {
      "cell_type": "markdown",
      "metadata": {
        "id": "ZSYWx7YDF5PU"
      },
      "source": [
        "# Python Programming Constructs\n",
        "***\n",
        "We'll be talking about\n",
        "- Looping\n",
        "- Conditional Statements\n"
      ]
    },
    {
      "cell_type": "markdown",
      "metadata": {
        "id": "dAhja4DjF5PU"
      },
      "source": [
        "\n",
        "## Loops  and  Iterative Statements"
      ]
    },
    {
      "cell_type": "markdown",
      "metadata": {
        "id": "JBTCGhLAF5PV"
      },
      "source": [
        "## If,elif,else Statements\n",
        "***\n",
        "if Statements in Python allows us to tell the computer to perform alternative actions based on a certain set of results.\n",
        "\n",
        "Verbally, we can imagine we are telling the computer:\n",
        "\n",
        "\"Hey if this case happens, perform some action\"\n",
        "\n",
        "We can then expand the idea further with elif and else statements, which allow us to tell the computer:\n",
        "\n",
        "\"Hey if this case happens, perform some action. Else if another case happens, perform some other action. Else-- none of the above cases happened, perform this action\"\n",
        "\n",
        "Let's go ahead and look at the syntax format for if statements to get a better idea of this:\n",
        "\n",
        "    if case1:\n",
        "        perform action1\n",
        "    elif case2:\n",
        "        perform action2\n",
        "    else: \n",
        "        perform action 3"
      ]
    },
    {
      "cell_type": "code",
      "execution_count": null,
      "metadata": {
        "ExecuteTime": {
          "end_time": "2017-09-25T05:49:17.584649Z",
          "start_time": "2017-09-25T05:49:17.562599Z"
        },
        "id": "A5GqShDtF5PV",
        "outputId": "4740360d-8741-4cdc-ca80-f2f7fbd49ed6",
        "colab": {
          "base_uri": "https://localhost:8080/"
        }
      },
      "outputs": [
        {
          "output_type": "stream",
          "name": "stdout",
          "text": [
            "a is greater than b\n"
          ]
        }
      ],
      "source": [
        "a = 5\n",
        "b = 4\n",
        "\n",
        "if a > b:\n",
        "  # we are inside the if block\n",
        "  print(\"a is greater than b\")\n",
        "elif b > a:\n",
        "    # we are inside the elif block\n",
        "    print(\"b is greater than a\")\n",
        "\n",
        "else:\n",
        "    # we are inside the else block\n",
        "    print(\"a and b are equal\")\n",
        "\n",
        "# Note: Python doesn't have a switch statement"
      ]
    },
    {
      "cell_type": "markdown",
      "metadata": {
        "id": "Kt1s4gB9F5PW"
      },
      "source": [
        "\n",
        "### Indentation\n",
        "***\n",
        "It is important to keep a good understanding of how indentation works in Python to maintain the structure and order of your code. We will touch on this topic again when we start building out functions!"
      ]
    },
    {
      "cell_type": "markdown",
      "metadata": {
        "id": "pNA38J7eF5PW"
      },
      "source": [
        "<br><br><br><br>\n",
        "\n",
        "# For Loops\n",
        "***\n",
        "A **for** loop acts as an iterator in Python, it goes through items that are in a *sequence* or any other iterable item. \n",
        "\n",
        "Objects that we've learned about that we can iterate over include strings,lists,tuples, and even built in iterables for dictionaries, such as the keys or values.\n",
        "\n",
        "We've already seen the **for** statement a little bit in past lectures but now lets formalize our understanding.\n",
        "\n",
        "Here's the general format for a **for** loop in Python:\n",
        "\n",
        "    for item in object:\n",
        "        statements to do stuff\n",
        "\n",
        "The variable name used for the item is completely up to the coder, so use your best judgment for choosing a name that makes sense and you will be able to understand when revisiting your code. \n",
        "\n",
        "This item name can then be referenced inside you loop, for example if you wanted to use if statements to perform checks.\n",
        "\n",
        "\n",
        "Let's go ahead and work through several example of **for** loops using a variety of data object types.\n"
      ]
    },
    {
      "cell_type": "code",
      "execution_count": null,
      "metadata": {
        "id": "XwmxdFllF5PX",
        "outputId": "bd05f55a-4cf6-43c6-f3e1-6822adfeeee3",
        "colab": {
          "base_uri": "https://localhost:8080/"
        }
      },
      "outputs": [
        {
          "output_type": "stream",
          "name": "stdout",
          "text": [
            "5 7 9 "
          ]
        }
      ],
      "source": [
        "#Simple program to find the even numbers in a list\n",
        "\n",
        "# Initialised the list\n",
        "list_1 = [2,4,5,6,8,7,9,10] \n",
        "\n",
        "# Selects one element in list_1\n",
        "for number in list_1:           \n",
        "    if number % 2 != 0:        \n",
        "    #Checks if it is even. IF even,only then, goes to next step else performs above step and continues iteration\n",
        "        \n",
        "        print(number,end=' ') \n",
        "        \n",
        "        #prints no if even. end=' ' prints the nos on the same line with a space in between."
      ]
    },
    {
      "cell_type": "code",
      "execution_count": null,
      "metadata": {
        "id": "dnSb5LzzF5PY",
        "outputId": "81c531fa-a62f-43ec-814c-5ad25df92b7e",
        "colab": {
          "base_uri": "https://localhost:8080/"
        }
      },
      "outputs": [
        {
          "output_type": "stream",
          "name": "stdout",
          "text": [
            "out of loop without using break statement\n"
          ]
        },
        {
          "output_type": "execute_result",
          "data": {
            "text/plain": [
              "[(2, 169), (3, 121), (5, 121), (6, 225)]"
            ]
          },
          "metadata": {},
          "execution_count": 122
        }
      ],
      "source": [
        "lst1 = [4, 7, 13, 11, 3, 11, 15]\n",
        "lst2 = []\n",
        "\n",
        "for index, e in enumerate(lst1):\n",
        "    if e == 10:\n",
        "        break\n",
        "    if e < 10:\n",
        "        continue\n",
        "    lst2.append((index, e*e))\n",
        "else:\n",
        "    print(\"out of loop without using break statement\")\n",
        "\n",
        "lst2"
      ]
    },
    {
      "cell_type": "markdown",
      "metadata": {
        "id": "8VadtyPyF5PZ"
      },
      "source": [
        "<br><br><br><br>\n",
        "# While loops\n",
        "***\n",
        "The **while** statement in Python is one of most general ways to perform iteration. A **while** statement will repeatedly execute a single statement or group of statements as long as the condition is true. The reason it is called a 'loop' is because the code statements are looped through over and over again until the condition is no longer met.\n",
        "\n",
        "The general format of a while loop is:\n",
        "\n",
        "    while test:\n",
        "        code statement\n",
        "    else:\n",
        "        final code statements\n",
        "\n",
        "Let’s look at a few simple while loops in action. \n"
      ]
    },
    {
      "cell_type": "code",
      "execution_count": null,
      "metadata": {
        "id": "XkRVjB5aF5Pb",
        "outputId": "3286102b-219c-457f-b490-fb6a759e55cb",
        "colab": {
          "base_uri": "https://localhost:8080/"
        }
      },
      "outputs": [
        {
          "output_type": "stream",
          "name": "stdout",
          "text": [
            "x is currently:  0  x is still less than 10, adding 1 to x\n",
            "x is currently:  1  x is still less than 10, adding 1 to x\n",
            "x is currently:  2  x is still less than 10, adding 1 to x\n",
            "x is currently:  3  x is still less than 10, adding 1 to x\n",
            "x is currently:  4  x is still less than 10, adding 1 to x\n",
            "x is currently:  5  x is still less than 10, adding 1 to x\n",
            "x is currently:  6  x is still less than 10, adding 1 to x\n",
            "x is currently:  7  x is still less than 10, adding 1 to x\n",
            "x is currently:  8  x is still less than 10, adding 1 to x\n",
            "x is currently:  9  x is still less than 10, adding 1 to x\n",
            "x is currently:  10  x is still less than 10, adding 1 to x\n"
          ]
        }
      ],
      "source": [
        "x = 0\n",
        "\n",
        "while x <= 10:\n",
        "    print ('x is currently: ',x,end=' ') \n",
        "    #end=' ' to put print below statement on the same line after thsi statement\n",
        "    print (' x is still less than 10, adding 1 to x')\n",
        "    x+=1"
      ]
    },
    {
      "cell_type": "markdown",
      "metadata": {
        "id": "ssvKMpGpF5Pc"
      },
      "source": [
        "### Thank You !!!\n"
      ]
    },
    {
      "cell_type": "code",
      "source": [
        "import cmath\n",
        "x = cmath.pi\n",
        "type(x)"
      ],
      "metadata": {
        "colab": {
          "base_uri": "https://localhost:8080/"
        },
        "id": "Tc4qHLLTc_Hx",
        "outputId": "07835718-6c34-4bf1-c556-be72823a0abe"
      },
      "execution_count": null,
      "outputs": [
        {
          "output_type": "execute_result",
          "data": {
            "text/plain": [
              "float"
            ]
          },
          "metadata": {},
          "execution_count": 127
        }
      ]
    },
    {
      "cell_type": "code",
      "source": [
        "c = 3+6j\n",
        "type(c)"
      ],
      "metadata": {
        "colab": {
          "base_uri": "https://localhost:8080/"
        },
        "id": "CnCAvW_AdETZ",
        "outputId": "4c89ee67-b97f-4173-8850-76d440e8a86e"
      },
      "execution_count": null,
      "outputs": [
        {
          "output_type": "execute_result",
          "data": {
            "text/plain": [
              "complex"
            ]
          },
          "metadata": {},
          "execution_count": 128
        }
      ]
    },
    {
      "cell_type": "code",
      "source": [
        "x = \"\"\"saya makan nasi. \n",
        "nasinya nasi padang. iya, nasi padang.\"\"\"\n",
        "print(x)"
      ],
      "metadata": {
        "colab": {
          "base_uri": "https://localhost:8080/"
        },
        "id": "egeV1jYXdWkZ",
        "outputId": "bd41b3ae-eb0f-4652-d2dd-2a41bf190649"
      },
      "execution_count": null,
      "outputs": [
        {
          "output_type": "stream",
          "name": "stdout",
          "text": [
            "saya makan nasi. \n",
            "nasinya nasi padang. iya, nasi padang.\n"
          ]
        }
      ]
    },
    {
      "cell_type": "code",
      "source": [
        ""
      ],
      "metadata": {
        "id": "Zq_8S7g2liKw"
      },
      "execution_count": null,
      "outputs": []
    }
  ],
  "metadata": {
    "celltoolbar": "Raw Cell Format",
    "kernelspec": {
      "display_name": "Python 3",
      "language": "python",
      "name": "python3"
    },
    "language_info": {
      "codemirror_mode": {
        "name": "ipython",
        "version": 3
      },
      "file_extension": ".py",
      "mimetype": "text/x-python",
      "name": "python",
      "nbconvert_exporter": "python",
      "pygments_lexer": "ipython3",
      "version": "3.8.8"
    },
    "toc": {
      "colors": {
        "hover_highlight": "#DAA520",
        "running_highlight": "#FF0000",
        "selected_highlight": "#FFD700"
      },
      "moveMenuLeft": true,
      "nav_menu": {
        "height": "386px",
        "width": "268px"
      },
      "navigate_menu": true,
      "number_sections": true,
      "sideBar": true,
      "threshold": 4,
      "toc_cell": false,
      "toc_position": {
        "height": "664px",
        "left": "0px",
        "right": "1388px",
        "top": "107px",
        "width": "233px"
      },
      "toc_section_display": "block",
      "toc_window_display": true
    },
    "colab": {
      "name": "Copy of Module1_Section2_Lab1_Python_Programming_Getting_Started.ipynb",
      "provenance": []
    }
  },
  "nbformat": 4,
  "nbformat_minor": 0
}