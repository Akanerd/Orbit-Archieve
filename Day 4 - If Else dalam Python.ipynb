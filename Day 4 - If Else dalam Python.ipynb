{
  "nbformat": 4,
  "nbformat_minor": 0,
  "metadata": {
    "colab": {
      "name": "Day 4 - If Else dalam Python .ipynb",
      "provenance": [],
      "authorship_tag": "ABX9TyNlxAUjfD/XL8sRb9XtI0u2",
      "include_colab_link": true
    },
    "kernelspec": {
      "name": "python3",
      "display_name": "Python 3"
    },
    "language_info": {
      "name": "python"
    }
  },
  "cells": [
    {
      "cell_type": "markdown",
      "metadata": {
        "id": "view-in-github",
        "colab_type": "text"
      },
      "source": [
        "<a href=\"https://colab.research.google.com/github/Akanerd/Orbit-Archieve/blob/main/Day%204%20-%20If%20Else%20dalam%20Python.ipynb\" target=\"_parent\"><img src=\"https://colab.research.google.com/assets/colab-badge.svg\" alt=\"Open In Colab\"/></a>"
      ]
    },
    {
      "cell_type": "markdown",
      "source": [
        "#If Else dalam Python"
      ],
      "metadata": {
        "id": "P0bY4ArQe3tP"
      }
    },
    {
      "cell_type": "markdown",
      "source": [
        "Pengambilan keputusan (kondisi if else) tidak hanya digunakan untuk menentukan tindakan apa yang akan diambil sesuai dengan kondisi, tetapi juga digunakan untuk menentukan tindakan apa yang akan diambil / dijalankan jika kondisi tidak sesuai.\n",
        "\n",
        "---\n",
        "Pyhton sendiri memiliki beberapa statement yakni if,else dan elif. Kondisi if akan dieksekusi  jika kondisi bernilai benar.\n",
        "\n",
        "Kondisi if else adalah kondisi dimana jika pernyataan benar(True) maka kode dalam if akan dieksekusi tetapi jika bernilai salah (False) maka kode dalam else akan dieksekusi.\n"
      ],
      "metadata": {
        "id": "Jd2Q6UEve7Uf"
      }
    },
    {
      "cell_type": "code",
      "execution_count": 2,
      "metadata": {
        "colab": {
          "base_uri": "https://localhost:8080/"
        },
        "id": "qhyXPpc7dwJN",
        "outputId": "24860b72-bc23-45d7-f855-7ad21c9a888c"
      },
      "outputs": [
        {
          "output_type": "stream",
          "name": "stdout",
          "text": [
            "B\n"
          ]
        }
      ],
      "source": [
        "a = 400\n",
        "b = 400\n",
        "\n",
        "print(\"A\") if a > b else print(\"B\") # Maka akan mencetak a jika nilai lebih besar dari b\n",
        "                                    # Serta mencetak b jika nilai b lebih besar atau sama dengan a "
      ]
    },
    {
      "cell_type": "code",
      "source": [
        "a = 500\n",
        "b = 550\n",
        "\n",
        "print(\"A\") if a > b else print(\"B\") # Maka akan mencetak a jika nilai lebih besar dari b\n",
        "                                    # Serta mencetak b jika nilai b lebih besar atau sama dengan a \n",
        "                                    # Jika A yang dicetak maka kondisi If yang dijalankan\n",
        "                                    # Jika B yang dicetak maka kondis else yang dijalankan"
      ],
      "metadata": {
        "colab": {
          "base_uri": "https://localhost:8080/"
        },
        "id": "1d9DNqHXlG3u",
        "outputId": "845fcb7b-eb4e-44ce-8bdf-a453c5296acb"
      },
      "execution_count": 4,
      "outputs": [
        {
          "output_type": "stream",
          "name": "stdout",
          "text": [
            "B\n"
          ]
        }
      ]
    },
    {
      "cell_type": "code",
      "source": [
        "satu = 500\n",
        "dua = 400\n",
        "if dua > satu:\n",
        "  print(\"dua lebih besar dari satu\")\n",
        "else:\n",
        "  print(\"dua tidak lebih dari satu\")"
      ],
      "metadata": {
        "colab": {
          "base_uri": "https://localhost:8080/"
        },
        "id": "FtrXxSh1mEoV",
        "outputId": "457e1dc5-c610-4d1d-e575-743cfe0ab79f"
      },
      "execution_count": 6,
      "outputs": [
        {
          "output_type": "stream",
          "name": "stdout",
          "text": [
            "dua tidak lebih dari satu\n"
          ]
        }
      ]
    },
    {
      "cell_type": "code",
      "source": [
        "# Kondisi if else adalah jika kondisi bernilai True maka akan dieksekusi pada if, tetapi jika bernilai false maka akan mengeksekusi kondisi pada else\n",
        "\n",
        "nilai = 9 # Jika pernyataan pada if bernilai ture maka if dieksekusi, tetapi jika false kode pada else yang akan dieksekusi\n",
        "if (nilai >= 7):\n",
        "   print(\"Selamat anda lulus\")\n",
        "else:\n",
        "  print(\"Maaf anda telah mengerjakan sebaik mungkin\")"
      ],
      "metadata": {
        "colab": {
          "base_uri": "https://localhost:8080/"
        },
        "id": "4AlSSrVkmZXd",
        "outputId": "6c198d6e-97e8-4983-896d-72fb2700c51e"
      },
      "execution_count": 7,
      "outputs": [
        {
          "output_type": "stream",
          "name": "stdout",
          "text": [
            "Selamat anda lulus\n"
          ]
        }
      ]
    }
  ]
}