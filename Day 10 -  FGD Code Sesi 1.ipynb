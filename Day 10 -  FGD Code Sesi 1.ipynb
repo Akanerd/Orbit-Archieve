{
  "cells": [
    {
      "cell_type": "markdown",
      "metadata": {
        "id": "view-in-github",
        "colab_type": "text"
      },
      "source": [
        "<a href=\"https://colab.research.google.com/github/Akanerd/Orbit-Archieve/blob/main/Day%2010%20-%20%20FGD%20Code%20Sesi%201.ipynb\" target=\"_parent\"><img src=\"https://colab.research.google.com/assets/colab-badge.svg\" alt=\"Open In Colab\"/></a>"
      ]
    },
    {
      "cell_type": "markdown",
      "metadata": {
        "id": "VExUvQUg3iHu"
      },
      "source": [
        "# Module 2: Data Analytics with Python - Statistics"
      ]
    },
    {
      "cell_type": "markdown",
      "metadata": {
        "id": "BZIgQxck3iHv"
      },
      "source": [
        "## Lab 1: Basic statistics & Linear Algebra"
      ]
    },
    {
      "cell_type": "markdown",
      "metadata": {
        "id": "eR14Pzy23iHw"
      },
      "source": [
        "<br><br><br><br><br><br><br><br><br>\n",
        "## About Libraries for Statistics\n",
        "***"
      ]
    },
    {
      "cell_type": "markdown",
      "metadata": {
        "id": "0-rm7FG03iHw"
      },
      "source": [
        "### NUMPY\n",
        "\n",
        "NumPy is short for \"Numerical Python\". It is used to work with arrays. In Python we have lists that serve the purpose of arrays, but they are slow to process. NumPy aims to provide an array object that is twice faster then traditional Python lists."
      ]
    },
    {
      "cell_type": "markdown",
      "metadata": {
        "id": "ZT4ctN8J3iHw"
      },
      "source": [
        "### SCIPY\n",
        "\n",
        "SciPy is a free and open-source Python library used for scientific computing and technical computing. \n",
        "SciPy contains modules for optimization, linear algebra, integration, interpolation, special functions, \n",
        "FFT, signal and image processing, ODE solvers and other tasks common in science and engineering."
      ]
    },
    {
      "cell_type": "code",
      "execution_count": null,
      "metadata": {
        "id": "9j21DiVn3iHw",
        "outputId": "8f8280c0-d460-4a67-a9f4-4412499d4933",
        "colab": {
          "base_uri": "https://localhost:8080/"
        }
      },
      "outputs": [
        {
          "output_type": "stream",
          "name": "stdout",
          "text": [
            "Requirement already satisfied: numpy in /usr/local/lib/python3.7/dist-packages (1.21.5)\n",
            "Requirement already satisfied: scipy in /usr/local/lib/python3.7/dist-packages (1.4.1)\n",
            "Requirement already satisfied: numpy>=1.13.3 in /usr/local/lib/python3.7/dist-packages (from scipy) (1.21.5)\n"
          ]
        }
      ],
      "source": [
        "import sys\n",
        "\n",
        "# run this cell to install numpy\n",
        "!{sys.executable} -m pip install numpy\n",
        "\n",
        "# run this cell to install scipy\n",
        "!{sys.executable} -m pip install scipy"
      ]
    },
    {
      "cell_type": "markdown",
      "metadata": {
        "id": "_burnkdw3iHx"
      },
      "source": [
        "<br><br><br><br><br><br>\n",
        "# Objevtive\n",
        "***\n",
        "- **Measures of Central Tendency**\n",
        "     - Mean\n",
        "     - Median\n",
        "     - Mode\n",
        "\n",
        "- **Measures Of Spread**\n",
        "\n",
        "     - Range\n",
        "     - Quartiles and Interquartile range\n",
        "     - Percentile\n",
        "     - Variance\n",
        "     - Standard deviation\n",
        "\n",
        "\n",
        "- **Correlation v/s Causation**\n",
        "- **Kurtosis**\n",
        "- **Skewness**\n",
        "- **Eigen Vectors**\n",
        "\n",
        "     "
      ]
    },
    {
      "cell_type": "code",
      "execution_count": null,
      "metadata": {
        "id": "uU87sX5F3iHy"
      },
      "outputs": [],
      "source": [
        "import numpy as np\n",
        "\n",
        "# Creating a Basic Array in Numpy\n",
        "X=np.array([1,2,3,5,5])"
      ]
    },
    {
      "cell_type": "markdown",
      "metadata": {
        "id": "RuqfKKXa3iHy"
      },
      "source": [
        "<br><br><br><br><br><br>\n",
        "## Measures of Central Tendency \n",
        "***\n",
        "\n",
        "The measure of central tendency is the commonly used method to identify the centre of the data set.\n",
        "Used to describe a data set by identifying the central position within that data set.\n",
        "\n",
        "Mean, Median and Mode"
      ]
    },
    {
      "cell_type": "markdown",
      "metadata": {
        "id": "ScunpzE-3iHy"
      },
      "source": [
        "### MEAN\n",
        "***\n",
        "The most popular measure of central tendency. ​ It is also referred to as the average value in the data set. ​Defined as the sum of all values in a data set, divided by the total number of values in a data set.​ \n",
        "\n",
        "$ \\bar X= \\frac{\\sum X}{n}$"
      ]
    },
    {
      "cell_type": "code",
      "execution_count": null,
      "metadata": {
        "id": "aHavnxeZ3iHz",
        "outputId": "38c413b8-7025-4520-a012-f4ee9fa14ae4",
        "colab": {
          "base_uri": "https://localhost:8080/"
        }
      },
      "outputs": [
        {
          "output_type": "stream",
          "name": "stdout",
          "text": [
            "Data [1 2 3 5 5]\n",
            "Mean: 3.2\n"
          ]
        }
      ],
      "source": [
        "# Mean using Numpy\n",
        "print(\"Data\",X)\n",
        "print(\"Mean:\",np.mean(X))"
      ]
    },
    {
      "cell_type": "markdown",
      "metadata": {
        "id": "5299dYkh3iHz"
      },
      "source": [
        "<br><br><br>\n",
        "### MEDIAN\n",
        "***\n",
        "Median is the middle value of an ordered data set. If there are a total of n values. Then median is -\n",
        "\n",
        "1. $ \\frac {(n+1)}{2} $th term if n is odd.\n",
        "\n",
        "\n",
        "2. Average of ($\\frac{n}{2}$) and ($\\frac{n}{2}+1$)th terms, if n is even."
      ]
    },
    {
      "cell_type": "code",
      "execution_count": null,
      "metadata": {
        "id": "miRczniy3iHz",
        "outputId": "a24ca59c-2389-46ed-f7ba-9b5682970cac",
        "colab": {
          "base_uri": "https://localhost:8080/"
        }
      },
      "outputs": [
        {
          "output_type": "stream",
          "name": "stdout",
          "text": [
            "Data [1 2 3 5 5]\n",
            "Median 3.0\n"
          ]
        }
      ],
      "source": [
        "# Finding Median of X\n",
        "print(\"Data\",X)\n",
        "print(\"Median\",np.median(X))"
      ]
    },
    {
      "cell_type": "markdown",
      "metadata": {
        "id": "QZ-bwawj3iHz"
      },
      "source": [
        "<br><br><br>\n",
        "### MODE\n",
        "***\n",
        "\n",
        "1. Most frequently occurring value in the data set, i.e. value of the random sample that occurs with the greatest frequency.\n",
        "2. It is applicable to all levels of data measurement, i.e., nominal, ordinal, interval and ratio scales."
      ]
    },
    {
      "cell_type": "code",
      "execution_count": null,
      "metadata": {
        "id": "jP6gknlr3iH0",
        "outputId": "7deda14b-355f-4194-ab6e-e64e3c544356",
        "colab": {
          "base_uri": "https://localhost:8080/"
        }
      },
      "outputs": [
        {
          "output_type": "stream",
          "name": "stdout",
          "text": [
            "Data [1 2 3 5 5]\n",
            "Mode: 5\n",
            "Mode: ModeResult(mode=array([5]), count=array([2]))\n"
          ]
        }
      ],
      "source": [
        "# Finding Mode using numpy\n",
        "print(\"Data\",X)\n",
        "vals,counts = np.unique(X, return_counts=True)\n",
        "index = np.argmax(counts)\n",
        "print(\"Mode:\",vals[index])\n",
        "\n",
        "\n",
        "# Finding Mode using Scipy\n",
        "\n",
        "from scipy import stats\n",
        "print(\"Mode:\",stats.mode(X))"
      ]
    },
    {
      "cell_type": "markdown",
      "metadata": {
        "id": "EQk8j_Le3iH0"
      },
      "source": [
        "<br><br><br><br><br><br>\n",
        "## Measures of Spread\n",
        "***\n",
        "\n",
        "A measure of how the data is dispersed or spread around the mean, i.e. the average.  It is used in quantitative data, as the variables can be arranged in a logical order, with a low and high value.\n",
        "\n",
        "Spread can be measured in-\n",
        "1.\tRange \n",
        "2.\tQuartiles and Interquartile range \n",
        "3.\tPercentile\n",
        "4.\tVariance \n",
        "5.\tStandard deviation \n"
      ]
    },
    {
      "cell_type": "markdown",
      "metadata": {
        "id": "zw5E5xGH3iH0"
      },
      "source": [
        "### RANGE\n",
        "***\n",
        "1. It is the simplest measure of variability. \n",
        "2. The distance between the smallest value and the largest value in a dataset. \n",
        "\n",
        "$ Range= \\max(X)-\\min(X)$"
      ]
    },
    {
      "cell_type": "code",
      "execution_count": null,
      "metadata": {
        "id": "AGDSmjKi3iH0",
        "outputId": "fcec5abf-2bd6-4e58-a70a-b466e5eb285b",
        "colab": {
          "base_uri": "https://localhost:8080/"
        }
      },
      "outputs": [
        {
          "output_type": "stream",
          "name": "stdout",
          "text": [
            "Data  [1 2 3 5 5]\n",
            "Range  4\n"
          ]
        }
      ],
      "source": [
        "# Calculating the Range\n",
        "print(\"Data \",X)\n",
        "print(\"Range \",X.max()-X.min())"
      ]
    },
    {
      "cell_type": "markdown",
      "metadata": {
        "id": "PHNhcxyv3iH1"
      },
      "source": [
        "<br><br><br><br><br><br>\n",
        "### QUARTILES AND IQR(Interquartile Range)\n",
        "***\n",
        "\n",
        "1. Q1 is the \"middle\" value in the first half of the rank-ordered data set.\n",
        "2. Q2 is the median value in the set.\n",
        "3. Q3 is the \"middle\" value in the second half of the rank-ordered data set.\n",
        "4. The interquartile range is calculated as: Upper Quartile – Lower Quartile."
      ]
    },
    {
      "cell_type": "code",
      "execution_count": null,
      "metadata": {
        "id": "FqJ0vFae3iH1",
        "outputId": "deec0235-a890-4229-e981-99ba958449f0",
        "colab": {
          "base_uri": "https://localhost:8080/"
        }
      },
      "outputs": [
        {
          "output_type": "stream",
          "name": "stdout",
          "text": [
            "Data [ 1  3  4  5  5  6  7 11]\n",
            "\n",
            "Quartile 1: 3.5\n",
            "Quartile 2: 5.0\n",
            "Quartile 3: 6.5\n",
            "\n",
            "Interquartile Range 3.0\n"
          ]
        }
      ],
      "source": [
        "# Defining Data\n",
        "data1=np.array([1, 3, 4, 5, 5, 6, 7, 11])\n",
        "print(\"Data\",data1)\n",
        "\n",
        "# First quartile (Q1)\n",
        "Q1 = np.quantile(data1, .25, interpolation = 'midpoint')\n",
        "print(\"\\nQuartile 1:\",Q1)\n",
        " \n",
        "# Second quartile (Q2)\n",
        "Q2 = np.quantile(data1, .50, interpolation = 'midpoint')\n",
        "print(\"Quartile 2:\",Q2)\n",
        "\n",
        "# Third quartile (Q3)\n",
        "Q3 = np.quantile(data1, .75, interpolation = 'midpoint')\n",
        "print(\"Quartile 3:\",Q3)\n",
        "\n",
        "# Interquaritle range (IQR)\n",
        "IQR = Q3 - Q1\n",
        "print(\"\\nInterquartile Range\",IQR)"
      ]
    },
    {
      "cell_type": "markdown",
      "metadata": {
        "id": "FeDuzYsE3iH1"
      },
      "source": [
        "<br><br><br><br><br><br>\n",
        "### PERCENTILES\n",
        "***\n",
        "\n",
        "The percentile usually indicates that a certain percentage falls below that percentile. For example, if you score in the 25th percentile, then 25% of test takers are below your score. The “25” is called the percentile rank. "
      ]
    },
    {
      "cell_type": "code",
      "execution_count": null,
      "metadata": {
        "id": "tfk1UlwA3iH2",
        "outputId": "40ce7186-35fe-40e9-c045-a24b35d0e498",
        "colab": {
          "base_uri": "https://localhost:8080/"
        }
      },
      "outputs": [
        {
          "output_type": "stream",
          "name": "stdout",
          "text": [
            "Data [ 1  3  4  5  5  6  7 11]\n",
            "20th Percentile: 3.4\n"
          ]
        }
      ],
      "source": [
        "print(\"Data\",data1)\n",
        "percentile_20 = np.percentile(data1,20)\n",
        "print(\"20th Percentile:\",round(percentile_20,2))"
      ]
    },
    {
      "cell_type": "markdown",
      "metadata": {
        "id": "FKvkH6as3iH2"
      },
      "source": [
        "<br><br><br>\n",
        "### VARIANCE AND STANDARD DEVIATION\n",
        "***\n",
        "Variance is a measure of how the spread-out a data set is. The formula for variance is-\n",
        "\n",
        "$\\sigma^2 = \\frac{\\sum (X_{i}-\\bar X)^2}{n-1}$\n",
        "\n",
        "Standard Deviation is the square root of variance. It is denoted by greek letter sigma $\\sigma$."
      ]
    },
    {
      "cell_type": "code",
      "execution_count": null,
      "metadata": {
        "id": "5QqjEO1j3iH2",
        "outputId": "231d265d-0d46-443a-f210-ea9f18540230",
        "colab": {
          "base_uri": "https://localhost:8080/"
        }
      },
      "outputs": [
        {
          "output_type": "stream",
          "name": "stdout",
          "text": [
            "Data [ 1  3  4  5  5  6  7 11]\n",
            "Varaince: 8.785714285714286\n",
            "Standard Deviation: 2.9640705601780613\n"
          ]
        }
      ],
      "source": [
        "print(\"Data\",data1)\n",
        "\n",
        "'''\n",
        "    \"Delta Degrees of Freedom\": the divisor used in the calculation is\n",
        "    ``N - ddof``, where ``N`` represents the number of elements. By\n",
        "    default `ddof` is zero.\n",
        "'''\n",
        "print(\"Varaince:\",np.var(data1,ddof=1))\n",
        "print(\"Standard Deviation:\",np.std(data1,ddof=1))"
      ]
    },
    {
      "cell_type": "markdown",
      "metadata": {
        "id": "-Wb_Bnmn3iH2"
      },
      "source": [
        "<br><br><br><br><br><br>\n",
        "## COVARIANCE AND CORRELATION\n",
        "***"
      ]
    },
    {
      "cell_type": "markdown",
      "metadata": {
        "id": "1WcOjwj33iH3"
      },
      "source": [
        "### COVARIANCE\n",
        "1. Covariance is a statistical technique used for determining the relationship between the movement of two random variables. In short, how much two random variables change together.  \n",
        "\n",
        "2. Provides a measure of the strength of the correlation between two or more sets of random variates.\n",
        "\n",
        "3. Example: Let E(x) be the expected value of a given variable x, and E(y) be the expected value of variable y, then the covariance between x and y is given by:\n",
        "\n",
        "$cov(x, y) = E[xy] − E[x] E[y]$\n",
        "\n",
        "- If COV(x, y) = 0 then variables are uncorrelated\n",
        "- If COV(x, y) > 0 then variables positively correlated\n",
        "- If COV(x, y) > < 0 then variables negatively correlated"
      ]
    },
    {
      "cell_type": "code",
      "execution_count": null,
      "metadata": {
        "id": "XDuPrAqA3iH3",
        "outputId": "243034b7-bd4f-4943-b5cd-e0414748d297",
        "colab": {
          "base_uri": "https://localhost:8080/"
        }
      },
      "outputs": [
        {
          "output_type": "stream",
          "name": "stdout",
          "text": [
            "[1 2 3 4 5 6 7 8 9]\n",
            "[9 8 7 6 5 4 3 2 1]\n",
            "\n",
            "Covariance  -7.5\n"
          ]
        }
      ],
      "source": [
        "x = np.array([1,2,3,4,5,6,7,8,9])\n",
        "print(x)\n",
        "y = np.array([9,8,7,6,5,4,3,2,1])\n",
        "print(y)\n",
        "\n",
        "print(\"\\nCovariance \",np.cov(x,y)[0,1])"
      ]
    },
    {
      "cell_type": "markdown",
      "metadata": {
        "id": "YCa_UGvx3iH3"
      },
      "source": [
        "<br><br><br><br><br><br>\n",
        "### CORRELATION\n",
        "***\n",
        "\n",
        "1. It is the measure of the strength of the relation between two variables. How strongly two variables are connected is defined as the correlation. \n",
        "\n",
        "2. It depends upon two variables, change in one variable effect a change in second variable.\n",
        "\n",
        "3. Its value lies in the range of -1 and +1. r is called the Pearson's correlation coefficient.\n",
        "\n",
        "4. Is related to covariance by the given formula: \n",
        "\n",
        "$r= cov(x,y)/\\sigma_x \\sigma_y$\n",
        "\n",
        "- A correlation coefficient greater than zero indicates a positive relationship while a value less than zero signifies a negative relationship.\n",
        "- A value of zero indicates no relationship between the two variables being compared."
      ]
    },
    {
      "cell_type": "code",
      "execution_count": null,
      "metadata": {
        "id": "7nJkkjU33iH4",
        "outputId": "24e9961c-c7e4-46c7-f698-7b3909bcbd9d",
        "colab": {
          "base_uri": "https://localhost:8080/"
        }
      },
      "outputs": [
        {
          "output_type": "stream",
          "name": "stdout",
          "text": [
            "[[ 1. -1.]\n",
            " [-1.  1.]]\n"
          ]
        }
      ],
      "source": [
        "# Return a correlation coefficient matrix\n",
        "print(np.corrcoef(x,y))"
      ]
    },
    {
      "cell_type": "markdown",
      "metadata": {
        "id": "CiJ10_2q3iH4"
      },
      "source": [
        "<br><br><br>\n",
        "<br><br><br>\n",
        "### KURTOSIS\n",
        "***\n",
        "\n",
        "1. Measure of how tall and sharp the central peak is, relative to a standard bell curve.\n",
        "2. Also called as the measure of tailedness of a data distribution."
      ]
    },
    {
      "cell_type": "code",
      "execution_count": null,
      "metadata": {
        "id": "HHG6ICTs3iH4",
        "outputId": "99a899a4-9a43-4a8f-e322-4822ec1e5c62",
        "colab": {
          "base_uri": "https://localhost:8080/"
        }
      },
      "outputs": [
        {
          "output_type": "stream",
          "name": "stdout",
          "text": [
            "Kurtosis -1.2002400240024003\n"
          ]
        }
      ],
      "source": [
        "data2=np.linspace(-5,5,100)\n",
        "print(\"Kurtosis\",stats.kurtosis(data2))"
      ]
    },
    {
      "cell_type": "markdown",
      "metadata": {
        "id": "_REdUxLT3iH4"
      },
      "source": [
        "<br><br><br><br><br><br>\n",
        "### SKEWNESS\n",
        "***\n",
        "The amount and direction of skew in data distribution, i.e. deviation from the horizontal symmetry. The following is an example of finding skewness."
      ]
    },
    {
      "cell_type": "code",
      "execution_count": null,
      "metadata": {
        "scrolled": true,
        "id": "N5LbgeIc3iH4",
        "outputId": "c84624a4-151a-4f7f-f351-eb1cc8060bca",
        "colab": {
          "base_uri": "https://localhost:8080/",
          "height": 282
        }
      },
      "outputs": [
        {
          "output_type": "display_data",
          "data": {
            "text/html": [
              "<script>\n",
              "code_show=true; \n",
              "function code_toggle() {\n",
              "    if (code_show){\n",
              "        $('div.cell.code_cell.rendered.selected div.input').hide();\n",
              "    } else {\n",
              "        $('div.cell.code_cell.rendered.selected div.input').show();\n",
              "    }\n",
              "    code_show = !code_show\n",
              "} \n",
              "$( document ).ready(code_toggle);\n",
              "</script>\n",
              "To show/hide this cell's raw code input, click <a href=\"javascript:code_toggle()\">here</a>."
            ],
            "text/plain": [
              "<IPython.core.display.HTML object>"
            ]
          },
          "metadata": {}
        },
        {
          "output_type": "display_data",
          "data": {
            "image/png": "[encoded data removed]",
            "text/plain": [
              "<Figure size 432x288 with 1 Axes>"
            ]
          },
          "metadata": {
            "needs_background": "light"
          }
        }
      ],
      "source": [
        "from IPython.display import HTML\n",
        "from IPython.display import display\n",
        "\n",
        "# Taken from https://stackoverflow.com/questions/31517194/how-to-hide-one-specific-cell-input-or-output-in-ipython-notebook\n",
        "tag = HTML('''<script>\n",
        "code_show=true; \n",
        "function code_toggle() {\n",
        "    if (code_show){\n",
        "        $('div.cell.code_cell.rendered.selected div.input').hide();\n",
        "    } else {\n",
        "        $('div.cell.code_cell.rendered.selected div.input').show();\n",
        "    }\n",
        "    code_show = !code_show\n",
        "} \n",
        "$( document ).ready(code_toggle);\n",
        "</script>\n",
        "To show/hide this cell's raw code input, click <a href=\"javascript:code_toggle()\">here</a>.''')\n",
        "display(tag)\n",
        "\n",
        "\n",
        "\n",
        "from scipy.stats import skewnorm\n",
        "import matplotlib.pyplot as plt\n",
        "\n",
        "numValues = 10000\n",
        "maxValue = 100\n",
        "skewness = -5   #Negative values are left skewed, positive values are right skewed.\n",
        "\n",
        "random = skewnorm.rvs(a = skewness,loc=maxValue, size=numValues)  #Skewnorm function\n",
        "\n",
        "random = random - min(random)      #Shift the set so the minimum value is equal to zero.\n",
        "random = random / max(random)      #Standadize all the vlues between 0 and 1. \n",
        "random = random * maxValue         #Multiply the standardized values by the maximum value.\n",
        "\n",
        "#Plot histogram to check skewness\n",
        "plt.hist(random,30,density=True, color = 'red', alpha=0.1)\n",
        "plt.show()\n",
        "\n"
      ]
    },
    {
      "cell_type": "code",
      "execution_count": null,
      "metadata": {
        "id": "hdpPYUj23iH5",
        "outputId": "a304be43-a802-46ad-c7e9-d4eae0848717",
        "colab": {
          "base_uri": "https://localhost:8080/"
        }
      },
      "outputs": [
        {
          "output_type": "stream",
          "name": "stdout",
          "text": [
            "Skewness -2.8663736585314984e-17\n"
          ]
        }
      ],
      "source": [
        "print(\"Skewness\",stats.skew(data2))"
      ]
    },
    {
      "cell_type": "markdown",
      "metadata": {
        "id": "B5lXGbSL3iH5"
      },
      "source": [
        "<br><br><br><br><br><br>\n",
        "### Eigen Vector\n",
        "***\n",
        "\n",
        "LetA be an nXn matrix (SquareMatrix).\n",
        "\n",
        "1. An eigen vector of A is a non zero vector v in Rn such that Av=λv,for some scalar λ.\n",
        "2. An eigenvalue of A is a scalar λ such that the equation Av=λv has a non trivial solution.\n",
        "\n",
        "If Av=λv for v not equal to 0,we say that λ is the eigenvalue for v,and that v is aneigenvector for λ.\n",
        "\n",
        "The German prefix “eigen” roughly translates to “self” or “own”. An eigenvector ofAis a vector that is taken to a multiple of itself by the matrix transformationT(x)=Ax,which perhaps explains the terminology. On the other hand, “eigen” is often translated as “characteristic”; we may think of an eigenvector as describing an intrinsic, or characteristic, property ofA.\n",
        "\n",
        "\n",
        "Note-Eigenvalues and eigenvectors are only for square matrices.\n"
      ]
    },
    {
      "cell_type": "code",
      "execution_count": null,
      "metadata": {
        "id": "8-G95jqi3iH6",
        "outputId": "7896c5a7-15e8-49b2-af6d-9921b757bc8b",
        "colab": {
          "base_uri": "https://localhost:8080/"
        }
      },
      "outputs": [
        {
          "output_type": "execute_result",
          "data": {
            "text/plain": [
              "matrix([[4, 2, 3],\n",
              "        [6, 7, 5],\n",
              "        [3, 6, 1]])"
            ]
          },
          "metadata": {},
          "execution_count": 17
        }
      ],
      "source": [
        "import numpy as np\n",
        "x = np.matrix([[4,2,3],[6,7,5],[3,6,1]])\n",
        "x\n"
      ]
    },
    {
      "cell_type": "code",
      "execution_count": null,
      "metadata": {
        "id": "bBScsIly3iH7",
        "outputId": "53e8adb6-9e87-4eba-f0b5-70891317c702",
        "colab": {
          "base_uri": "https://localhost:8080/"
        }
      },
      "outputs": [
        {
          "output_type": "execute_result",
          "data": {
            "text/plain": [
              "array([[1., 0., 0.],\n",
              "       [0., 1., 0.],\n",
              "       [0., 0., 1.]])"
            ]
          },
          "metadata": {},
          "execution_count": 18
        }
      ],
      "source": [
        "\n",
        "e = np.eye(3)\n",
        "e"
      ]
    },
    {
      "cell_type": "code",
      "execution_count": null,
      "metadata": {
        "id": "SHL7TvVw3iH7",
        "outputId": "526f3373-fcb2-45e4-eb44-11111822a0bf",
        "colab": {
          "base_uri": "https://localhost:8080/"
        }
      },
      "outputs": [
        {
          "output_type": "execute_result",
          "data": {
            "text/plain": [
              "(array([12.76222365,  1.17374428, -1.93596793]),\n",
              " matrix([[-0.35090794, -0.78464131, -0.36647301],\n",
              "         [-0.79489403,  0.40589024, -0.25466269],\n",
              "         [-0.49498192,  0.4686055 ,  0.89489913]]))"
            ]
          },
          "metadata": {},
          "execution_count": 19
        }
      ],
      "source": [
        "# creating a new matrix which  is linear transformation of x\n",
        "m = x + 45*e\n",
        "np.linalg.eig(x)"
      ]
    },
    {
      "cell_type": "code",
      "execution_count": null,
      "metadata": {
        "id": "MaPx2TKy3iH8",
        "outputId": "9dbc567c-cbef-4563-d8d9-13a4d6645b45",
        "colab": {
          "base_uri": "https://localhost:8080/"
        }
      },
      "outputs": [
        {
          "output_type": "execute_result",
          "data": {
            "text/plain": [
              "(array([57.76222365, 46.17374428, 43.06403207]),\n",
              " matrix([[-0.35090794, -0.78464131, -0.36647301],\n",
              "         [-0.79489403,  0.40589024, -0.25466269],\n",
              "         [-0.49498192,  0.4686055 ,  0.89489913]]))"
            ]
          },
          "metadata": {},
          "execution_count": 20
        }
      ],
      "source": [
        "np.linalg.eig(m)"
      ]
    },
    {
      "cell_type": "markdown",
      "metadata": {
        "id": "3ocAPq8i3iH8"
      },
      "source": [
        "### Thank You !!!"
      ]
    },
    {
      "cell_type": "code",
      "execution_count": null,
      "metadata": {
        "id": "hndRVu-n3iH8"
      },
      "outputs": [],
      "source": [
        ""
      ]
    }
  ],
  "metadata": {
    "kernelspec": {
      "display_name": "Python 3",
      "language": "python",
      "name": "python3"
    },
    "language_info": {
      "codemirror_mode": {
        "name": "ipython",
        "version": 3
      },
      "file_extension": ".py",
      "mimetype": "text/x-python",
      "name": "python",
      "nbconvert_exporter": "python",
      "pygments_lexer": "ipython3",
      "version": "3.8.8"
    },
    "colab": {
      "name": "Day 10 -  FGD Code Sesi 1.ipynb",
      "provenance": [],
      "include_colab_link": true
    }
  },
  "nbformat": 4,
  "nbformat_minor": 0
}