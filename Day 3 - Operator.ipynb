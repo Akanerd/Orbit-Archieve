{
  "nbformat": 4,
  "nbformat_minor": 0,
  "metadata": {
    "colab": {
      "name": "Operator.ipynb",
      "provenance": [],
      "authorship_tag": "ABX9TyOCT3CAOiDh74kjZYHXzViP",
      "include_colab_link": true
    },
    "kernelspec": {
      "name": "python3",
      "display_name": "Python 3"
    },
    "language_info": {
      "name": "python"
    }
  },
  "cells": [
    {
      "cell_type": "markdown",
      "metadata": {
        "id": "view-in-github",
        "colab_type": "text"
      },
      "source": [
        "<a href=\"https://colab.research.google.com/github/Akanerd/Orbit-Archieve/blob/main/Day%202%20-%20Operator.ipynb\" target=\"_parent\"><img src=\"https://colab.research.google.com/assets/colab-badge.svg\" alt=\"Open In Colab\"/></a>"
      ]
    },
    {
      "cell_type": "markdown",
      "source": [
        "# Variabel dan Operator"
      ],
      "metadata": {
        "id": "fztdgTXTJv8p"
      }
    },
    {
      "cell_type": "code",
      "source": [
        "# Penjumlahan\n",
        "x = 5\n",
        "y = 3\n",
        "print(x + y )"
      ],
      "metadata": {
        "colab": {
          "base_uri": "https://localhost:8080/"
        },
        "id": "bt_UN8OyJ5yS",
        "outputId": "b5d2d49d-6749-438a-e30b-fd5434ee7bb9"
      },
      "execution_count": 8,
      "outputs": [
        {
          "output_type": "stream",
          "name": "stdout",
          "text": [
            "8\n"
          ]
        }
      ]
    },
    {
      "cell_type": "code",
      "source": [
        "# Penjumlahan antara int & float\n",
        "z = 6.8\n",
        "a = 7\n",
        "print(z + a)"
      ],
      "metadata": {
        "colab": {
          "base_uri": "https://localhost:8080/"
        },
        "id": "e9UiiE7ZKPPa",
        "outputId": "8a1acbdb-49ee-413b-d43a-47e06dc6fd04"
      },
      "execution_count": 9,
      "outputs": [
        {
          "output_type": "stream",
          "name": "stdout",
          "text": [
            "13.8\n"
          ]
        }
      ]
    },
    {
      "cell_type": "code",
      "source": [
        "# Uji Coba Penjumlahan antara int & float\n",
        "x = 5.0\n",
        "y = 7\n",
        "a = 6\n",
        "print((x+y)-(a+x))"
      ],
      "metadata": {
        "colab": {
          "base_uri": "https://localhost:8080/"
        },
        "id": "uKo97qvzKqEQ",
        "outputId": "0e95137f-ff02-44e2-e499-d700ce448ae6"
      },
      "execution_count": 10,
      "outputs": [
        {
          "output_type": "stream",
          "name": "stdout",
          "text": [
            "1.0\n"
          ]
        }
      ]
    },
    {
      "cell_type": "code",
      "source": [
        "# Uji Coba Penjumlahan antara int & float\n",
        "r = x + y \n",
        "print(r)\n",
        "\n",
        "s = a + x\n",
        "print(s)\n",
        "\n",
        "k = r - a\n",
        "print(k) "
      ],
      "metadata": {
        "colab": {
          "base_uri": "https://localhost:8080/"
        },
        "id": "eoD4S3WlK1S7",
        "outputId": "b51aa49d-526f-472a-c84b-ac3bf175eca4"
      },
      "execution_count": 11,
      "outputs": [
        {
          "output_type": "stream",
          "name": "stdout",
          "text": [
            "12.0\n",
            "11.0\n",
            "6.0\n"
          ]
        }
      ]
    },
    {
      "cell_type": "code",
      "source": [
        "# Perkalian\n",
        "x = 5\n",
        "y = 3\n",
        "print(x * y)"
      ],
      "metadata": {
        "colab": {
          "base_uri": "https://localhost:8080/"
        },
        "id": "75XyGV8kLYLU",
        "outputId": "d54655f0-bbe8-44a8-87b4-311cc45c7ec7"
      },
      "execution_count": 12,
      "outputs": [
        {
          "output_type": "stream",
          "name": "stdout",
          "text": [
            "15\n"
          ]
        }
      ]
    },
    {
      "cell_type": "code",
      "source": [
        "# Pembagian\n",
        "x = 12\n",
        "y = 3\n",
        "print(x / y)"
      ],
      "metadata": {
        "colab": {
          "base_uri": "https://localhost:8080/"
        },
        "id": "lBz3UBaMLeOn",
        "outputId": "09858db6-7271-4718-fe5d-96e22acab868"
      },
      "execution_count": 13,
      "outputs": [
        {
          "output_type": "stream",
          "name": "stdout",
          "text": [
            "4.0\n"
          ]
        }
      ]
    },
    {
      "cell_type": "code",
      "source": [
        "# Sisa Bagi\n",
        "x = 5\n",
        "y = 2\n",
        "print(x % y)"
      ],
      "metadata": {
        "colab": {
          "base_uri": "https://localhost:8080/"
        },
        "id": "6BK_OCbVLlXL",
        "outputId": "eb468132-fb97-4e77-ec92-623d88c33c6d"
      },
      "execution_count": 14,
      "outputs": [
        {
          "output_type": "stream",
          "name": "stdout",
          "text": [
            "1\n"
          ]
        }
      ]
    },
    {
      "cell_type": "code",
      "source": [
        "x = 15\n",
        "y = 2\n",
        "print(x // y) # #the floor division // akan membulatkan hasil terdekat contoh 18.5 -> 18"
      ],
      "metadata": {
        "colab": {
          "base_uri": "https://localhost:8080/"
        },
        "id": "eG0VgxBWM1b2",
        "outputId": "ebc5d8a9-85ac-4e13-de68-28390d8c69d7"
      },
      "execution_count": 15,
      "outputs": [
        {
          "output_type": "stream",
          "name": "stdout",
          "text": [
            "7\n"
          ]
        }
      ]
    },
    {
      "cell_type": "code",
      "source": [
        "x = 5\n",
        "y = 3\n",
        "print(x == y) # mengembalikan nilai salah karena 5 tidak sama dengan 3 (False))"
      ],
      "metadata": {
        "colab": {
          "base_uri": "https://localhost:8080/"
        },
        "id": "ePtcJDBrNIix",
        "outputId": "37515e82-6c69-4297-e5bf-58b2a754f1d5"
      },
      "execution_count": 16,
      "outputs": [
        {
          "output_type": "stream",
          "name": "stdout",
          "text": [
            "False\n"
          ]
        }
      ]
    },
    {
      "cell_type": "code",
      "source": [
        "x = 5\n",
        "y = 3\n",
        "print(x != y) # mengembalikan nilai salah karena 5 tidak sama dengan 3 (True)"
      ],
      "metadata": {
        "colab": {
          "base_uri": "https://localhost:8080/"
        },
        "id": "HgcGaKVINXNd",
        "outputId": "5f9b7edc-0d29-4a48-a1dc-292e5a249ce8"
      },
      "execution_count": 17,
      "outputs": [
        {
          "output_type": "stream",
          "name": "stdout",
          "text": [
            "True\n"
          ]
        }
      ]
    },
    {
      "cell_type": "code",
      "source": [
        "x = 5\n",
        "y = 3\n",
        "print(x > y) # mengembalikan nilai true karena 5 lebih besar daripada 3"
      ],
      "metadata": {
        "colab": {
          "base_uri": "https://localhost:8080/"
        },
        "id": "8uHIUYYSNuNV",
        "outputId": "ad5ddf3b-d33e-4a15-bed8-11dbeb07d015"
      },
      "execution_count": 18,
      "outputs": [
        {
          "output_type": "stream",
          "name": "stdout",
          "text": [
            "True\n"
          ]
        }
      ]
    },
    {
      "cell_type": "code",
      "source": [
        "x = 5\n",
        "y = 3\n",
        "print(x < y) # mengembalikan nilai False karena 3 lebih kecil daripada 5"
      ],
      "metadata": {
        "colab": {
          "base_uri": "https://localhost:8080/"
        },
        "id": "pw6_C5sxOIK-",
        "outputId": "f595cfbd-e858-48c4-f6cd-4cef18ef8a61"
      },
      "execution_count": 19,
      "outputs": [
        {
          "output_type": "stream",
          "name": "stdout",
          "text": [
            "False\n"
          ]
        }
      ]
    },
    {
      "cell_type": "code",
      "source": [
        "x = 5\n",
        "y = 3\n",
        "print(x >= y)"
      ],
      "metadata": {
        "colab": {
          "base_uri": "https://localhost:8080/"
        },
        "id": "G1JuJ0tOOry7",
        "outputId": "e779c08f-6034-4f8e-b94a-ee942bc2eb72"
      },
      "execution_count": 20,
      "outputs": [
        {
          "output_type": "stream",
          "name": "stdout",
          "text": [
            "True\n"
          ]
        }
      ]
    },
    {
      "cell_type": "code",
      "source": [
        "x = 5\n",
        "y = 3\n",
        "print(x <= y)"
      ],
      "metadata": {
        "colab": {
          "base_uri": "https://localhost:8080/"
        },
        "id": "cs_IXOobOvtu",
        "outputId": "9137da5f-b32e-4ebf-ffa7-d7657d5a91e9"
      },
      "execution_count": 21,
      "outputs": [
        {
          "output_type": "stream",
          "name": "stdout",
          "text": [
            "False\n"
          ]
        }
      ]
    }
  ]
}