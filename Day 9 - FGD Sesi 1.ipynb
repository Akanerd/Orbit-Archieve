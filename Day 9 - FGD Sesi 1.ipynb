{
  "nbformat": 4,
  "nbformat_minor": 0,
  "metadata": {
    "colab": {
      "name": "Day 9 - FGD Sesi 1.ipynb",
      "provenance": [],
      "authorship_tag": "ABX9TyPhS7mtFAdZ7/dIFyar1hLX",
      "include_colab_link": true
    },
    "kernelspec": {
      "name": "python3",
      "display_name": "Python 3"
    },
    "language_info": {
      "name": "python"
    }
  },
  "cells": [
    {
      "cell_type": "markdown",
      "metadata": {
        "id": "view-in-github",
        "colab_type": "text"
      },
      "source": [
        "<a href=\"https://colab.research.google.com/github/Akanerd/Orbit-Archieve/blob/main/Day%209%20-%20FGD%20Sesi%201.ipynb\" target=\"_parent\"><img src=\"https://colab.research.google.com/assets/colab-badge.svg\" alt=\"Open In Colab\"/></a>"
      ]
    },
    {
      "cell_type": "markdown",
      "source": [
        "# **Latihan 1**"
      ],
      "metadata": {
        "id": "5yRcoHM_gPW0"
      }
    },
    {
      "cell_type": "code",
      "execution_count": 1,
      "metadata": {
        "id": "epgLwvida-Sx"
      },
      "outputs": [],
      "source": [
        "import numpy as np"
      ]
    },
    {
      "cell_type": "code",
      "source": [
        "A = np.array([[1, 2],\n",
        "              [3, 4],\n",
        "              [0, 1]])\n",
        "B = np.array([[4, 3],\n",
        "              [2, 1]])\n",
        "C = np.array([[1, 0],\n",
        "              [2, 3]])"
      ],
      "metadata": {
        "id": "3Vu1Ltf5bWui"
      },
      "execution_count": 2,
      "outputs": []
    },
    {
      "cell_type": "code",
      "source": [
        "np.matmul(A,B)"
      ],
      "metadata": {
        "colab": {
          "base_uri": "https://localhost:8080/"
        },
        "id": "5DA1ZOQ5dEQ6",
        "outputId": "45a1b7cb-48d7-412a-9609-1ce24ac337ce"
      },
      "execution_count": 3,
      "outputs": [
        {
          "output_type": "execute_result",
          "data": {
            "text/plain": [
              "array([[ 8,  5],\n",
              "       [20, 13],\n",
              "       [ 2,  1]])"
            ]
          },
          "metadata": {},
          "execution_count": 3
        }
      ]
    },
    {
      "cell_type": "code",
      "source": [
        "np.matmul(B,A)"
      ],
      "metadata": {
        "id": "fWIVMiPddYDW"
      },
      "execution_count": null,
      "outputs": []
    },
    {
      "cell_type": "code",
      "source": [
        "np.matmul(B,C)"
      ],
      "metadata": {
        "colab": {
          "base_uri": "https://localhost:8080/"
        },
        "id": "giDY_f4QdlUA",
        "outputId": "3b8c22bf-ee60-41a9-c930-c4c3872d2eac"
      },
      "execution_count": 5,
      "outputs": [
        {
          "output_type": "execute_result",
          "data": {
            "text/plain": [
              "array([[10,  9],\n",
              "       [ 4,  3]])"
            ]
          },
          "metadata": {},
          "execution_count": 5
        }
      ]
    },
    {
      "cell_type": "code",
      "source": [
        "np.matmul(C,B)"
      ],
      "metadata": {
        "colab": {
          "base_uri": "https://localhost:8080/"
        },
        "id": "p8-4nZPhesg4",
        "outputId": "5f4c7090-76b1-41b9-e3f3-c57a5f8f07c4"
      },
      "execution_count": 7,
      "outputs": [
        {
          "output_type": "execute_result",
          "data": {
            "text/plain": [
              "array([[ 4,  3],\n",
              "       [14,  9]])"
            ]
          },
          "metadata": {},
          "execution_count": 7
        }
      ]
    },
    {
      "cell_type": "code",
      "source": [
        "m1 = np.matmul(A,B)\n",
        "m2 = np.matmul(m1,C)\n",
        "print(m2)"
      ],
      "metadata": {
        "colab": {
          "base_uri": "https://localhost:8080/"
        },
        "id": "kyXTGva5e16d",
        "outputId": "3fad7f50-6bf9-4f34-b358-4c3df5c9e546"
      },
      "execution_count": 10,
      "outputs": [
        {
          "output_type": "stream",
          "name": "stdout",
          "text": [
            "[[18 15]\n",
            " [46 39]\n",
            " [ 4  3]]\n"
          ]
        }
      ]
    },
    {
      "cell_type": "code",
      "source": [
        "m3 = np.matmul(B,C)\n",
        "m4 = np.matmul(A,m3)\n",
        "print(m4)"
      ],
      "metadata": {
        "colab": {
          "base_uri": "https://localhost:8080/"
        },
        "id": "f3bILmUOftOf",
        "outputId": "02c12536-ddbc-456e-bfda-fb54f32ddbb6"
      },
      "execution_count": 14,
      "outputs": [
        {
          "output_type": "stream",
          "name": "stdout",
          "text": [
            "[[18 15]\n",
            " [46 39]\n",
            " [ 4  3]]\n"
          ]
        }
      ]
    },
    {
      "cell_type": "markdown",
      "source": [
        "# **Latihan 2**"
      ],
      "metadata": {
        "id": "RYopT36LgSt2"
      }
    },
    {
      "cell_type": "code",
      "source": [
        "A = np.array([[0, 0],\n",
        "              [4, 5]])\n",
        "B = np.array([[4, 3],\n",
        "              [2, 1]])\n"
      ],
      "metadata": {
        "id": "3Wj5k2BOgYJ_"
      },
      "execution_count": null,
      "outputs": []
    },
    {
      "cell_type": "code",
      "source": [
        "# 3 X A\n",
        "A1 = np.array([[0, 0],\n",
        "              [12, 15]])\n",
        "# A X 3\n",
        "A2 = np.array([[0, 0],\n",
        "              [12, 15]])"
      ],
      "metadata": {
        "id": "WxXI95AihIr5"
      },
      "execution_count": 17,
      "outputs": []
    },
    {
      "cell_type": "code",
      "source": [
        "print(np.linalg.inv(A))"
      ],
      "metadata": {
        "id": "r1bBmDdkjbrG"
      },
      "execution_count": null,
      "outputs": []
    },
    {
      "cell_type": "code",
      "source": [
        "print(np.linalg.inv(B))"
      ],
      "metadata": {
        "colab": {
          "base_uri": "https://localhost:8080/"
        },
        "id": "tSIKvNAjkFC7",
        "outputId": "61e5aba5-9920-4950-9063-de8f2a8f0ea0"
      },
      "execution_count": 23,
      "outputs": [
        {
          "output_type": "stream",
          "name": "stdout",
          "text": [
            "[[-0.5  1.5]\n",
            " [ 1.  -2. ]]\n"
          ]
        }
      ]
    },
    {
      "cell_type": "code",
      "source": [
        "mb1 = np.linalg.inv(B)\n",
        "mb3 = np.matmul(mb1,B)\n",
        "print(mb3)"
      ],
      "metadata": {
        "colab": {
          "base_uri": "https://localhost:8080/"
        },
        "id": "4qEnD6zGkhh-",
        "outputId": "7881bdb6-39d7-404a-9291-bf782a4c622a"
      },
      "execution_count": 26,
      "outputs": [
        {
          "output_type": "stream",
          "name": "stdout",
          "text": [
            "[[1. 0.]\n",
            " [0. 1.]]\n"
          ]
        }
      ]
    }
  ]
}