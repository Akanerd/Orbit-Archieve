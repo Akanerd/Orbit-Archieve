{
  "cells": [
    {
      "cell_type": "markdown",
      "metadata": {
        "id": "view-in-github",
        "colab_type": "text"
      },
      "source": [
        "<a href=\"https://colab.research.google.com/github/Akanerd/Orbit-Archieve/blob/main/Day%208%20-%20%20FGD%20Sesi%201.ipynb\" target=\"_parent\"><img src=\"https://colab.research.google.com/assets/colab-badge.svg\" alt=\"Open In Colab\"/></a>"
      ]
    },
    {
      "cell_type": "markdown",
      "metadata": {
        "id": "BZDdXd_qdFcb"
      },
      "source": [
        "# Module 1: Introduction to everything\n"
      ]
    },
    {
      "cell_type": "markdown",
      "metadata": {
        "id": "k38ofnStdFcg"
      },
      "source": [
        "## Lab 2: Python function and OOPs concepts\n",
        "\n"
      ]
    },
    {
      "cell_type": "markdown",
      "metadata": {
        "id": "a5vjbiM8dFci"
      },
      "source": [
        "<br><br><br><br>\n",
        "### Objevtive\n",
        "***\n",
        "- **Function**\n",
        "     - Introduction to Function\n",
        "     - How to define function?\n",
        "     - parameters and arguments\n",
        "     - return statement\n",
        "     - lambda\n",
        "\n",
        "- **Object Oriented Programming**\n",
        "     - Introduction\n",
        "     - Class and Object\n",
        "     - Inheritance\n",
        "     - Encapsulation\n",
        "     - Polymorphism\n",
        "\n"
      ]
    },
    {
      "cell_type": "markdown",
      "metadata": {
        "id": "Jy9CTpYbdFci"
      },
      "source": [
        "<br><br><br><br>\n",
        "# Functions and scope\n",
        "***"
      ]
    },
    {
      "cell_type": "markdown",
      "metadata": {
        "id": "fRUTvqTTdFci"
      },
      "source": [
        "We have seen that Python has several built-in functions (e.g. `print()` or `max()`). But you can also create a function. A function is a reusable block of code that performs a specific task. Once you have defined a function, you can use it at any place in your Python script. You can even import a function from an external module (as we will see in the next chapter). Therefore, they are beneficial for tasks that you will perform more often. Plus, functions are a convenient way to order your code and make it more readable!\n",
        "\n",
        "\n",
        "\n",
        "\n",
        "\n",
        "**Now let's get started!**"
      ]
    },
    {
      "cell_type": "markdown",
      "metadata": {
        "id": "sIpxEZzWdFcj"
      },
      "source": [
        "## Writing a function\n",
        "***\n",
        "\n",
        "A **function** is an isolated chunk of code that has a name, gets zero or more parameters, and returns a value. In general, a function will do something for you based on the input parameters you pass it, and it will typically return a result. You are not limited to using functions available in the standard library or the ones provided by external parties. You can also write your own functions!\n",
        "\n",
        "Whenever you are writing a function, you need to think of the following things:\n",
        "* What is the purpose of the function?\n",
        "* How should I name the function?\n",
        "* What input does the function need?\n",
        "* What output should the function generate?\n",
        "\n",
        "## Why use a function?\n",
        "***\n",
        "\n",
        "There are several good reasons why functions are a vital component of any non-ridiculous programmer:\n",
        "\n",
        "* encapsulation: wrapping a piece of useful code into a function so that it can be used without knowledge of the specifics\n",
        "* generalization: making a piece of code useful in varied circumstances through parameters\n",
        "* manageability: Dividing a complex program up into easy-to-manage chunks\n",
        "* maintainability: using meaningful names to make the program better readable and understandable\n",
        "* reusability: a good function may be useful in multiple programs\n",
        "* recursion!\n",
        "\n",
        "## How to define a function\n",
        "***\n",
        "\n",
        "Let's say we want to sing a birthday song to Julee Then we print the following lines:"
      ]
    },
    {
      "cell_type": "code",
      "execution_count": null,
      "metadata": {
        "id": "55U0NfNKdFck",
        "outputId": "b5502106-66ce-4ca4-af0d-707e6ca6a9cf"
      },
      "outputs": [
        {
          "name": "stdout",
          "output_type": "stream",
          "text": [
            "Happy Birthday to you!\n",
            "Happy Birthday to you!\n",
            "Happy Birthday, dear kartik.\n",
            "Happy Birthday to you!\n"
          ]
        }
      ],
      "source": [
        "print(\"Happy Birthday to you!\")\n",
        "print(\"Happy Birthday to you!\")\n",
        "print(\"Happy Birthday, dear kartik.\")\n",
        "print(\"Happy Birthday to you!\")"
      ]
    },
    {
      "cell_type": "markdown",
      "metadata": {
        "id": "e-LbvM5FdFcn"
      },
      "source": [
        "This could be the purpose of a function: to print the lines of a birthday song for Emily. \n",
        "Now, we define a function to do this. Here is how you define a function:\n",
        "\n",
        "* write `def`;\n",
        "* the name you would like to call your function;\n",
        "* a set of parentheses containing the parameter(s) of your function;\n",
        "* a colon;\n",
        "* a docstring describing what your function does;\n",
        "* the function definition;\n",
        "* ending with a return statement\n",
        "\n",
        "Statements must be indented so that Python knows what belongs in the function and what not. Functions are only executed when you call them. It is good practice to define your functions at the top of your program or in another Python module.\n",
        "\n",
        "We give the function a clear name, `happy_birthday_to_kartik`, and we define the function as shown below. Note that we specify what it does in the docstring at the beginning of the function:"
      ]
    },
    {
      "cell_type": "code",
      "execution_count": null,
      "metadata": {
        "id": "vUHaiekHdFcn"
      },
      "outputs": [],
      "source": [
        "def happy_birthday_to_kartik(): # Function definition\n",
        "    \"\"\"\n",
        "    Print a birthday song to Julee.\n",
        "    \"\"\"\n",
        "    print(\"Happy Birthday to you!\")\n",
        "    print(\"Happy Birthday to you!\")\n",
        "    print(\"Happy Birthday, dear kartik.\")\n",
        "    print(\"Happy Birthday to you!\")"
      ]
    },
    {
      "cell_type": "markdown",
      "metadata": {
        "id": "zR0f2h1HdFco"
      },
      "source": [
        "If we execute the code above, we don't get any output. That's because we only told Python: \"Here's a function to do this, please remember it.\" If we actually want Python to execute everything inside this function, we have to call it:"
      ]
    },
    {
      "cell_type": "markdown",
      "metadata": {
        "id": "CuyZ2n9AdFco"
      },
      "source": [
        "## How to call a function\n",
        "***"
      ]
    },
    {
      "cell_type": "markdown",
      "metadata": {
        "id": "Z2FzeiSWdFcp"
      },
      "source": [
        "It is important to distinguish between a function **definition** and a function **call**. We illustrate this in 1.3.1. You can also call functions from within other functions. This will become useful when you split up your code into small chunks that can be combined to solve a larger problem. This is illustrated in 1.3.2. \n",
        "\n",
        "\n",
        "###  A simple function call\n",
        "A function is **defined** once. After the definition, Python has remembered what this function does in its memory.\n",
        "A function is **executed/called** as many times as we like. When calling a function, you should always use parenthesis. "
      ]
    },
    {
      "cell_type": "code",
      "execution_count": null,
      "metadata": {
        "id": "q8i4ibZgdFcp",
        "outputId": "8f57fdb9-1045-41d9-84ea-e0b735ef7250"
      },
      "outputs": [
        {
          "name": "stdout",
          "output_type": "stream",
          "text": [
            "Function call 1\n",
            "Happy Birthday to you!\n",
            "Happy Birthday to you!\n",
            "Happy Birthday, dear kartik.\n",
            "Happy Birthday to you!\n",
            "\n",
            "Function call 2\n",
            "Happy Birthday to you!\n",
            "Happy Birthday to you!\n",
            "Happy Birthday, dear kartik.\n",
            "Happy Birthday to you!\n",
            "\n",
            "Function call 3\n",
            "Happy Birthday to you!\n",
            "Happy Birthday to you!\n",
            "Happy Birthday, dear kartik.\n",
            "Happy Birthday to you!\n",
            "\n",
            "This is not a function call\n"
          ]
        },
        {
          "data": {
            "text/plain": [
              "<function __main__.happy_birthday_to_kartik()>"
            ]
          },
          "execution_count": 3,
          "metadata": {},
          "output_type": "execute_result"
        }
      ],
      "source": [
        "# function definition:\n",
        "\n",
        "def happy_birthday_to_kartik(): # Function definition\n",
        "    \"\"\"\n",
        "    Print a birthday song to kartik.\n",
        "    \"\"\"\n",
        "    print(\"Happy Birthday to you!\")\n",
        "    print(\"Happy Birthday to you!\")\n",
        "    print(\"Happy Birthday, dear kartik.\")\n",
        "    print(\"Happy Birthday to you!\")\n",
        "    \n",
        "# function call:\n",
        "\n",
        "print('Function call 1')\n",
        "\n",
        "happy_birthday_to_kartik()\n",
        "\n",
        "print()\n",
        "# We can call the function as many times as we want (but we define it only once)\n",
        "print('Function call 2')\n",
        "\n",
        "happy_birthday_to_kartik()\n",
        "\n",
        "print()\n",
        "\n",
        "print('Function call 3')\n",
        "\n",
        "happy_birthday_to_kartik()\n",
        "\n",
        "print()\n",
        "# This will not call the function \n",
        "\n",
        "print('This is not a function call')\n",
        "happy_birthday_to_kartik"
      ]
    },
    {
      "cell_type": "markdown",
      "metadata": {
        "id": "KOK6Nq_9dFcp"
      },
      "source": [
        "### Calling a function from within another function\n",
        "***\n",
        "\n",
        "We can also define functions that call other functions, which is very helpful if we want to split our task into smaller, more manageable subtasks:"
      ]
    },
    {
      "cell_type": "code",
      "execution_count": null,
      "metadata": {
        "id": "1WYw7cFJdFcq",
        "outputId": "0501a17a-a646-42bf-a774-7ddf44955f36"
      },
      "outputs": [
        {
          "name": "stdout",
          "output_type": "stream",
          "text": [
            "Printing a single line...\n",
            "\n",
            "Printing two lines...\n",
            "\n",
            "\n",
            "Printed two lines\n"
          ]
        }
      ],
      "source": [
        "def new_line():\n",
        "    \"\"\"Print a new line.\"\"\"\n",
        "    print()\n",
        "\n",
        "def two_new_lines():\n",
        "    \"\"\"Print two new lines.\"\"\"\n",
        "    new_line()\n",
        "    new_line()\n",
        "\n",
        "print(\"Printing a single line...\")\n",
        "new_line()\n",
        "print(\"Printing two lines...\")\n",
        "two_new_lines()\n",
        "print(\"Printed two lines\")"
      ]
    },
    {
      "cell_type": "raw",
      "metadata": {
        "id": "jd_IxEU7dFcq"
      },
      "source": [
        "You can do the same tricks that we learnt to apply on the built-in functions, like asking for `help` or for a function `type`:"
      ]
    },
    {
      "cell_type": "code",
      "execution_count": null,
      "metadata": {
        "id": "0J8R1nNhdFcq",
        "outputId": "4df110de-774d-4fd8-df35-d214f05f8cf8"
      },
      "outputs": [
        {
          "name": "stdout",
          "output_type": "stream",
          "text": [
            "Help on function happy_birthday_to_kartik in module __main__:\n",
            "\n",
            "happy_birthday_to_kartik()\n",
            "    Print a birthday song to kartik.\n",
            "\n"
          ]
        }
      ],
      "source": [
        "help(happy_birthday_to_kartik)"
      ]
    },
    {
      "cell_type": "code",
      "execution_count": null,
      "metadata": {
        "id": "aF3KoaS-dFcq",
        "outputId": "d443c400-5ada-45f7-9d26-993e65237b55"
      },
      "outputs": [
        {
          "data": {
            "text/plain": [
              "function"
            ]
          },
          "execution_count": 6,
          "metadata": {},
          "output_type": "execute_result"
        }
      ],
      "source": [
        "type(happy_birthday_to_kartik)"
      ]
    },
    {
      "cell_type": "markdown",
      "metadata": {
        "id": "C8-xQT9idFcr"
      },
      "source": [
        "<br><br><br><br>\n",
        "## Working with function input\n",
        "***"
      ]
    },
    {
      "cell_type": "markdown",
      "metadata": {
        "id": "z8uLPTxxdFcr"
      },
      "source": [
        "### Parameters and arguments"
      ]
    },
    {
      "cell_type": "markdown",
      "metadata": {
        "id": "ihwv0bp6dFcs"
      },
      "source": [
        "We use parameters and arguments to make a function execute a task depending on the input we provide. For instance, we can change the function above to input the name of a person and print a birthday song using this name. This results in a more generic function.\n",
        "\n",
        "To understand how we use **parameters** and **arguments**, keep in mind the distinction between function *definition* and function *call*.\n",
        "\n",
        "**Parameter**: The variable `name` in the **function definition** below is a **parameter**. Variables used in **function definitions** are called **parameters**. \n",
        "\n",
        "**Argument**: The variable `my_name` in the function call below is a value for the parameter `name` at the time when the function is called. We refer to such variables as **arguments**. We use arguments so we can direct the function to do different kinds of work when we call it at different times."
      ]
    },
    {
      "cell_type": "code",
      "execution_count": null,
      "metadata": {
        "id": "jAykG0L5dFcs"
      },
      "outputs": [],
      "source": [
        "# function definition with using the parameter `name'\n",
        "def happy_birthday(name): \n",
        "    \"\"\"\n",
        "    Print a birthday song with the \"name\" of the person inserted.\n",
        "    \"\"\"\n",
        "    print(\"Happy Birthday to you!\")\n",
        "    print(\"Happy Birthday to you!\")\n",
        "    print(f\"Happy Birthday, dear {name}.\")\n",
        "    print(\"Happy Birthday to you!\")"
      ]
    },
    {
      "cell_type": "code",
      "execution_count": null,
      "metadata": {
        "id": "MJY1xsdndFcs",
        "outputId": "ab10c986-e112-4e5e-aef8-c7a540d72563"
      },
      "outputs": [
        {
          "name": "stdout",
          "output_type": "stream",
          "text": [
            "Happy Birthday to you!\n",
            "Happy Birthday to you!\n",
            "Happy Birthday, dear kartik.\n",
            "Happy Birthday to you!\n"
          ]
        }
      ],
      "source": [
        "# function call using specifying the value of the argument\n",
        "happy_birthday(\"kartik\")"
      ]
    },
    {
      "cell_type": "code",
      "execution_count": null,
      "metadata": {
        "id": "rnL7pa8bdFcs",
        "outputId": "8d927a2d-9576-4198-a3d0-128d81648222"
      },
      "outputs": [
        {
          "name": "stdout",
          "output_type": "stream",
          "text": [
            "Happy Birthday to you!\n",
            "Happy Birthday to you!\n",
            "Happy Birthday, dear kartik.\n",
            "Happy Birthday to you!\n"
          ]
        }
      ],
      "source": [
        "my_name=\"kartik\"\n",
        "happy_birthday(my_name)"
      ]
    },
    {
      "cell_type": "raw",
      "metadata": {
        "id": "tQDgsTIfdFcs"
      },
      "source": [
        "If we forgot to specify the name, we get an error:"
      ]
    },
    {
      "cell_type": "code",
      "execution_count": null,
      "metadata": {
        "id": "j6Gcc0PSdFct",
        "outputId": "6e57b765-3ded-4ea0-e5cf-044f8dcaf966"
      },
      "outputs": [
        {
          "ename": "TypeError",
          "evalue": "happy_birthday() missing 1 required positional argument: 'name'",
          "output_type": "error",
          "traceback": [
            "\u001b[1;31m---------------------------------------------------------------------------\u001b[0m",
            "\u001b[1;31mTypeError\u001b[0m                                 Traceback (most recent call last)",
            "\u001b[1;32m<ipython-input-10-e6218e6c7f60>\u001b[0m in \u001b[0;36m<module>\u001b[1;34m\u001b[0m\n\u001b[1;32m----> 1\u001b[1;33m \u001b[0mhappy_birthday\u001b[0m\u001b[1;33m(\u001b[0m\u001b[1;33m)\u001b[0m\u001b[1;33m\u001b[0m\u001b[1;33m\u001b[0m\u001b[0m\n\u001b[0m",
            "\u001b[1;31mTypeError\u001b[0m: happy_birthday() missing 1 required positional argument: 'name'"
          ]
        }
      ],
      "source": [
        "happy_birthday()"
      ]
    },
    {
      "cell_type": "markdown",
      "metadata": {
        "id": "UPBwefUedFct"
      },
      "source": [
        "Functions can have multiple parameters. We can for example multiply two numbers in a function (using the two parameters x and y) and then call the function by giving it two arguments:"
      ]
    },
    {
      "cell_type": "code",
      "execution_count": null,
      "metadata": {
        "id": "zh_-pGrNdFct",
        "outputId": "23e01600-d27d-4be3-848d-e9cfc9ad458f"
      },
      "outputs": [
        {
          "name": "stdout",
          "output_type": "stream",
          "text": [
            "10662040760\n",
            "6\n"
          ]
        }
      ],
      "source": [
        "def multiply(x, y):\n",
        "    \"\"\"Multiply two numeric values.\"\"\"\n",
        "    result = x * y\n",
        "    print(result)\n",
        "       \n",
        "multiply(2020,5278238)\n",
        "multiply(2,3)"
      ]
    },
    {
      "cell_type": "markdown",
      "metadata": {
        "id": "G4SrwFuvdFct"
      },
      "source": [
        "### Positional vs keyword parameters and arguments\n",
        "***"
      ]
    },
    {
      "cell_type": "markdown",
      "metadata": {
        "id": "YVoF9wpbdFct"
      },
      "source": [
        "The function definition tells Python which parameters are positional and which are keyword. As you might remember, positional means that you have to give an argument for that parameter;  keyword means that you can give an argument value, but this is not necessary because there is a default value.\n",
        "\n",
        "So, to summarize these two notes, we distinguish between:\n",
        "\n",
        "1) **positional parameters**: (we indicate these when defining a function, and they are compulsory when calling the function)\n",
        "\n",
        "2) **keyword parameters**: (we indicate these when defining a function, but they have a default value - and are optional when calling the function)"
      ]
    },
    {
      "cell_type": "code",
      "execution_count": null,
      "metadata": {
        "id": "0N0sxgLQdFcu"
      },
      "outputs": [],
      "source": [
        "def multiply(x, y, third_number=1): # x and y are positional parameters, third_number is a keyword parameter\n",
        "    \"\"\"Multiply two or three numbers and print the result.\"\"\"\n",
        "    result=x*y*third_number\n",
        "    print(result)"
      ]
    },
    {
      "cell_type": "code",
      "execution_count": null,
      "metadata": {
        "id": "_uU_CwXZdFcu",
        "outputId": "4e61453d-bb6e-45dc-c309-62da703f3257"
      },
      "outputs": [
        {
          "name": "stdout",
          "output_type": "stream",
          "text": [
            "6\n",
            "24\n"
          ]
        }
      ],
      "source": [
        "multiply(2,3) # We only specify values for the positional parameters\n",
        "multiply(2,3,third_number=4) # We specify values for both the positional parameters, and the keyword parameter"
      ]
    },
    {
      "cell_type": "markdown",
      "metadata": {
        "id": "KTFHVlPudFcu"
      },
      "source": [
        "## Output: the `return` statement\n",
        "***"
      ]
    },
    {
      "cell_type": "markdown",
      "metadata": {
        "id": "Nep2_HPudFcu"
      },
      "source": [
        "Functions can have a **return** statement. The `return` statement returns a value back to the caller and **always** ends the execution of the function. This also allows us to use the result of a function outside of that function by assigning it to a variable:"
      ]
    },
    {
      "cell_type": "code",
      "execution_count": null,
      "metadata": {
        "id": "ZXyZu7EddFcu",
        "outputId": "d53b665d-1a65-4d1a-eb4d-590d1f6035c2"
      },
      "outputs": [
        {
          "name": "stdout",
          "output_type": "stream",
          "text": [
            "10\n"
          ]
        }
      ],
      "source": [
        "def multiply(x, y):\n",
        "    \"\"\"Multiply two numbers and return the result.\"\"\"\n",
        "    multiplied = x * y\n",
        "    return multiplied\n",
        "\n",
        "#here we assign the returned value to variable z\n",
        "result = multiply(2, 5)\n",
        "\n",
        "print(result)"
      ]
    },
    {
      "cell_type": "code",
      "execution_count": null,
      "metadata": {
        "id": "MGYPBTtrdFcu",
        "outputId": "76074516-4a43-47b9-a419-208a0504628b"
      },
      "outputs": [
        {
          "data": {
            "text/plain": [
              "600"
            ]
          },
          "execution_count": 18,
          "metadata": {},
          "output_type": "execute_result"
        }
      ],
      "source": [
        "multiply(30,20)"
      ]
    },
    {
      "cell_type": "markdown",
      "metadata": {
        "id": "BWWdv_R3dFcu"
      },
      "source": [
        "**Returning multiple values**"
      ]
    },
    {
      "cell_type": "code",
      "execution_count": null,
      "metadata": {
        "id": "SAx3tNd_dFcu",
        "outputId": "f637af21-2fef-4b55-8a57-a94461f54e3c"
      },
      "outputs": [
        {
          "name": "stdout",
          "output_type": "stream",
          "text": [
            "product: 50 sum: 15\n"
          ]
        }
      ],
      "source": [
        "def calculate(x,y):\n",
        "    \"\"\"Calculate product and sum of two numbers.\"\"\"\n",
        "    product = x * y\n",
        "    summed = x + y\n",
        "    \n",
        "    #we return a tuple of values\n",
        "    return product, summed\n",
        "\n",
        "# the function returned a tuple and we unpack it to var1 and var2\n",
        "var1, var2 = calculate(10,5)\n",
        "\n",
        "print(\"product:\",var1,\"sum:\",var2)"
      ]
    },
    {
      "cell_type": "markdown",
      "metadata": {
        "id": "H3zkcipmdFcv"
      },
      "source": [
        "<br><br><br><br>\n",
        "## Lambda - anonymous function\n",
        "***"
      ]
    },
    {
      "cell_type": "markdown",
      "metadata": {
        "id": "ckwP5SdZdFcv"
      },
      "source": [
        "In Python, an **anonymous function** is a function that is defined without a name.\n",
        "\n",
        "While normal functions are defined using the **def** keyword in Python, anonymous functions are defined using the lambda keyword.\n",
        "\n",
        "In opposite to a normal function, a Python **lambda** function is a single expression. But, in a lambda body, we can expand with expressions over multiple lines using parentheses () or a multiline string \"\"\" \"\"\".\n",
        "\n",
        "For example: lambda n:n+n\n",
        "\n",
        "The reason behind the using anonymous function is for instant use, that is, one-time usage and the code is very concise so that there is more readability in the code.\n",
        "\n",
        "Hence, anonymous functions are also called lambda functions.\n",
        "\n",
        "Lambda forms can take any number of arguments but return just one value in the form of an expression. They cannot contain commands or multiple expressions.\n",
        "\n",
        "An anonymous function cannot be a direct call to print because lambda requires an expression.\n",
        "\n",
        "\n",
        "Syntax:\n",
        "\n",
        "lambda **argument_list**: **expression**"
      ]
    },
    {
      "cell_type": "code",
      "execution_count": null,
      "metadata": {
        "id": "bfBiNnnjdFcv",
        "outputId": "75829f09-80c1-47e4-ab78-baaf084d5f7f"
      },
      "outputs": [
        {
          "name": "stdout",
          "output_type": "stream",
          "text": [
            "12\n"
          ]
        }
      ],
      "source": [
        "#  Program to show the use of lambda functions\n",
        "\n",
        "double = lambda x: x * 2\n",
        "\n",
        "print(double(6))"
      ]
    },
    {
      "cell_type": "markdown",
      "metadata": {
        "id": "hFHUYr5ndFcv"
      },
      "source": [
        "Explanation:\n",
        "\n",
        "In the above program, lambda **x: x * 2** is the lambda function. Here x is the argument and **x * 2** is the expression that gets evaluated and returned.\n",
        "\n",
        "This function has no name. It returns a function object which is assigned to the identifier double. We can now call it as a normal function."
      ]
    },
    {
      "cell_type": "markdown",
      "metadata": {
        "id": "hGlLrKcxdFcv"
      },
      "source": [
        "## Use of lambda Function in python\n",
        "***"
      ]
    },
    {
      "cell_type": "markdown",
      "metadata": {
        "id": "Q3eVBTxodFcv"
      },
      "source": [
        "We use lambda function when we require a nameless function for a short period of time.\n",
        "\n",
        "In Python, we generally use it as an argument to a higher-order function (a function that takes in other functions as arguments). lambda function are used along with built-in functions like **filter()**, **map()**, **reduce()** etc."
      ]
    },
    {
      "cell_type": "code",
      "execution_count": null,
      "metadata": {
        "id": "uDyJszCadFcv",
        "outputId": "b808b104-88c0-4dae-977f-a8f810b41a9e"
      },
      "outputs": [
        {
          "name": "stdout",
          "output_type": "stream",
          "text": [
            "Even numbers are:  [4, 6, 8, 12]\n"
          ]
        }
      ],
      "source": [
        "# Program to filter out only the even items from a list\n",
        "\n",
        "my_list = [1, 5, 4, 6, 8, 11, 3, 12]  # total 8 elements\n",
        "\n",
        "new_list = list(filter(lambda x: (x%2 == 0), my_list)) # returns the output in form of a list\n",
        "\n",
        "print(\"Even numbers are: \", new_list)"
      ]
    },
    {
      "cell_type": "markdown",
      "metadata": {
        "id": "5gY7ewOCdFcv"
      },
      "source": [
        "## lambda function with map()\n",
        "***"
      ]
    },
    {
      "cell_type": "markdown",
      "metadata": {
        "id": "_1WyX9wDdFcw"
      },
      "source": [
        "The **map()** function in Python takes in a function and a list.\n",
        "\n",
        "The function is called with all the items in the list and a new list is returned which contains items returned by that function for each item.\n",
        "\n",
        "Here is an example use of **map()** function to double all the items in a list."
      ]
    },
    {
      "cell_type": "code",
      "execution_count": null,
      "metadata": {
        "id": "gdAd0fA_dFcw",
        "outputId": "2948c07f-730b-475f-ab92-4e8d1751e5a0"
      },
      "outputs": [
        {
          "name": "stdout",
          "output_type": "stream",
          "text": [
            "Double values are:  [2, 10, 8, 12, 16, 22, 6, 24]\n"
          ]
        }
      ],
      "source": [
        "# Program to double each item in a list using map()\n",
        "\n",
        "my_list = [1, 5, 4, 6, 8, 11, 3, 12]  # total 8 elements\n",
        "new_list = list(map(lambda x: x * 2, my_list)) # returns the output in form of a list\n",
        "print(\"Double values are: \", new_list)"
      ]
    },
    {
      "cell_type": "markdown",
      "metadata": {
        "id": "7HEEaRh7dFcw"
      },
      "source": [
        "## lambda function with reduce()\n",
        "***"
      ]
    },
    {
      "cell_type": "markdown",
      "metadata": {
        "id": "ORZDfU3KdFcw"
      },
      "source": [
        "The **reduce()** function is used to minimize sequence elements into a single value by applying the specified condition.\n",
        "\n",
        "The **reduce()** function is present in the functools module; hence, we need to import it using the import statement before using it."
      ]
    },
    {
      "cell_type": "code",
      "execution_count": null,
      "metadata": {
        "id": "aNn8hmnQdFcw",
        "outputId": "dc2025da-156e-49fa-be97-8942e7569874"
      },
      "outputs": [
        {
          "name": "stdout",
          "output_type": "stream",
          "text": [
            "Addition of all list elements is :  54\n"
          ]
        }
      ],
      "source": [
        "from functools import reduce\n",
        "list1 = [20, 13, 4, 8, 9]\n",
        "add = reduce(lambda x, y: x+y, list1)\n",
        "print(\"Addition of all list elements is : \", add)"
      ]
    },
    {
      "cell_type": "raw",
      "metadata": {
        "id": "VpEAfrTFdFcw"
      },
      "source": [
        ""
      ]
    },
    {
      "cell_type": "markdown",
      "metadata": {
        "id": "6LhNyXy0dFcw"
      },
      "source": [
        "<br><br><br><br>\n",
        "## Object Oriented Programming\n",
        "***\n",
        "\n",
        "\n",
        "Python is a multi-paradigm programming language. It supports different programming approaches.\n",
        "\n",
        "One of the popular approaches to solve a programming problem is by creating objects. This is known as Object-Oriented Programming (OOP).\n",
        "\n",
        "Object-oriented programming (OOP) is a programming paradigm based on the concept of **“objects”**. The object contains both data and code: Data in the form of properties (often known as attributes), and code, in the form of methods (actions object can perform).\n",
        "\n",
        "An object has two characteristics:\n",
        "\n",
        "* attributes\n",
        "* behavior\n",
        "\n",
        "For example:\n",
        "\n",
        "A parrot is can be an object,as it has the following properties:\n",
        "\n",
        "* name, age, color as attributes\n",
        "* singing, dancing as behavior\n",
        "\n",
        "The concept of OOP in Python focuses on creating reusable code. This concept is also known as DRY (Don't Repeat Yourself).\n",
        "\n",
        "In Python, the concept of OOP follows some basic principles:"
      ]
    },
    {
      "cell_type": "markdown",
      "metadata": {
        "id": "Z0tC0kP9dFcx"
      },
      "source": [
        "### Class\n",
        "***\n",
        "In Python, everything is an object. A class is a blueprint for the object. To create an object we require a model or plan or blueprint which is nothing but class.\n",
        "\n",
        "We create class to create an object. A class is like an object constructor, or a \"blueprint\" for creating objects. We instantiate a class to create an object. The class defines attributes and the behavior of the object, while the object, on the other hand, represents the class.\n",
        "\n",
        "**Class represents the properties (attribute) and action (behavior) of the object. Properties represent variables, and actions are represented by the methods. Hence class contains both variables and methods.**\n",
        "\n",
        "We can think of class as a sketch of a parrot with labels. It contains all the details about the name, colors, size etc. Based on these descriptions, we can study about the parrot. Here, a parrot is an object.\n",
        "\n",
        "**Syntax:**\n",
        "\n",
        "```python\n",
        "class classname:\n",
        "    '''documentation string'''\n",
        "    class_suite\n",
        "```\n",
        "* **Documentation string:** represent a description of the class. It is optional.\n",
        "* **class_suite:** class suite contains component statements, variables, methods, functions, attributes.\n",
        "\n",
        "The example for class of parrot can be :\n",
        "\n",
        "```python\n",
        "class Parrot:\n",
        "    pass\n",
        "```\n",
        "\n",
        "Here, we use the **`class`** keyword to define an empty class **`Parrot`**. From class, we construct instances. An instance is a specific object created from a particular class.\n",
        "\n",
        "```python\n",
        "class Person:\n",
        "    pass\n",
        "print(Person)\n",
        "```"
      ]
    },
    {
      "cell_type": "code",
      "execution_count": null,
      "metadata": {
        "id": "psEQmiRpdFcx",
        "outputId": "114262ee-af27-47ce-983b-591c02ab69a6"
      },
      "outputs": [
        {
          "name": "stdout",
          "output_type": "stream",
          "text": [
            "<class '__main__.Person'>\n"
          ]
        }
      ],
      "source": [
        "# Creating a class\n",
        "\n",
        "class Person:\n",
        "    pass\n",
        "print(Person)"
      ]
    },
    {
      "cell_type": "markdown",
      "metadata": {
        "id": "wwX36cShdFcx"
      },
      "source": [
        "<br><br><br>\n",
        "### Object \n",
        "***\n",
        "\n",
        "The physical existence of a class is nothing but an object. In other words, the object is an entity that has a state and behavior. \n",
        "\n",
        "Therefore, an object (instance) is an instantiation of a class. So, when class is defined, only the description for the object is defined. Therefore, no memory or storage is allocated.\n",
        "\n",
        "**Syntax:**\n",
        "\n",
        "```python\n",
        "reference_variable = classname()\n",
        "```\n",
        "\n",
        "The example for object of parrot class can be:\n",
        "\n",
        "```python\n",
        "obj = Parrot()\n",
        "```\n",
        "\n",
        "Here, **`obj`** is an **`object`** of class Parrot.\n",
        "\n",
        "Suppose we have details of parrots. Now, we are going to show how to build the class and objects of parrots.\n",
        "\n",
        "```python\n",
        "p = Person()\n",
        "print(p)\n",
        "```"
      ]
    },
    {
      "cell_type": "code",
      "execution_count": null,
      "metadata": {
        "scrolled": true,
        "id": "vjwNPI7qdFcx",
        "outputId": "7bcb43c9-642e-49ca-f9bd-b5a9722e3688"
      },
      "outputs": [
        {
          "name": "stdout",
          "output_type": "stream",
          "text": [
            "<__main__.Person object at 0x00000218D8CE95B0>\n"
          ]
        }
      ],
      "source": [
        "# Example 1: We can create an object by calling the class\n",
        "\n",
        "p = Person()\n",
        "print(p)"
      ]
    },
    {
      "cell_type": "code",
      "execution_count": null,
      "metadata": {
        "ExecuteTime": {
          "end_time": "2021-06-19T09:00:01.298252Z",
          "start_time": "2021-06-19T09:00:01.283605Z"
        },
        "id": "7oRH-rLAdFcx",
        "outputId": "d0ef619e-c2d9-45db-f722-915bfd8670a4"
      },
      "outputs": [
        {
          "name": "stdout",
          "output_type": "stream",
          "text": [
            "Welcome to Dr. Milaan Parmar's class on Python Programming\n"
          ]
        }
      ],
      "source": [
        "# Example 2: Creating Class and Object in Python\n",
        "\n",
        "class Student:\n",
        "    \"\"\"This is student class with data\"\"\"    \n",
        "    def learn(self):    # A sample method\n",
        "        print(\"Welcome to Dr. Milaan Parmar's class on Python Programming\")\n",
        "\n",
        "stud = Student()        # creating object\n",
        "stud.learn()            # Calling method\n",
        "\n",
        "# Output: Welcome to Dr. Milaan Parmar's class on Python Programming"
      ]
    },
    {
      "cell_type": "markdown",
      "metadata": {
        "id": "V2zHFGGcdFcy"
      },
      "source": [
        "<br><br>\n",
        "## Class Constructor\n",
        "***\n",
        "\n",
        "In the examples above, we have created an object from the **`Person`** class. However, a class without a constructor is not really useful in real applications. Let us use constructor function to make our class more useful. Like the constructor function in Java or JavaScript, Python has also a built-in **`__init__()`** constructor function. The **`__init__()`** constructor function has **`self`** parameter which is a reference to the current instance of the class."
      ]
    },
    {
      "cell_type": "code",
      "execution_count": null,
      "metadata": {
        "scrolled": true,
        "id": "7MJP_osmdFcy",
        "outputId": "d7776558-18aa-4179-f34c-8a9f69e9f3b3"
      },
      "outputs": [
        {
          "name": "stdout",
          "output_type": "stream",
          "text": [
            "Milaan\n",
            "<__main__.Person object at 0x00000218D8CE9220>\n"
          ]
        }
      ],
      "source": [
        "class Person:\n",
        "      def __init__ (self, name):\n",
        "        # self allows to attach parameter to the class\n",
        "          self.name =name\n",
        "\n",
        "p = Person('Milaan')\n",
        "print(p.name)\n",
        "print(p)"
      ]
    },
    {
      "cell_type": "markdown",
      "metadata": {
        "id": "YsEBiLEWdFcy"
      },
      "source": [
        "Let us add more parameters to the constructor function."
      ]
    },
    {
      "cell_type": "code",
      "execution_count": null,
      "metadata": {
        "scrolled": false,
        "id": "nK2scdaYdFcy",
        "outputId": "703e1e69-deab-4be8-e968-9a11d182758e"
      },
      "outputs": [
        {
          "name": "stdout",
          "output_type": "stream",
          "text": [
            "Milaan\n",
            "Parmar\n",
            "96\n",
            "England\n",
            "London\n"
          ]
        }
      ],
      "source": [
        "# Example 1: add more parameters to the constructor function.\n",
        "\n",
        "class Person:\n",
        "      def __init__(self, firstname, lastname, age, country, city):\n",
        "            self.firstname = firstname\n",
        "            self.lastname = lastname\n",
        "            self.age = age\n",
        "            self.country = country\n",
        "            self.city = city\n",
        "\n",
        "p = Person('Milaan', 'Parmar', 96, 'England', 'London')\n",
        "print(p.firstname)\n",
        "print(p.lastname)\n",
        "print(p.age)\n",
        "print(p.country)\n",
        "print(p.city)"
      ]
    },
    {
      "cell_type": "markdown",
      "metadata": {
        "id": "1JJW3NIadFcy"
      },
      "source": [
        "<br><br>\n",
        "## Instance Variables and Methods\n",
        "***\n",
        "\n",
        "If the value of a variable varies from object to object, then such variables are called instance variables. For every object, a separate copy of the instance variable will be created.\n",
        "\n",
        "When we create classes in Python, instance methods are used regularly. we need to create an object to execute the block of code or action defined in the instance method.\n",
        "\n",
        "We can access the instance variable and methods using the object. Use dot (**`.`**) operator to access instance variables and methods.\n",
        "\n",
        "In Python, working with an instance variable and method, we use the **`self`** keyword. When we use the **`self`** keyword as a parameter to a method or with a variable name is called the instance itself.\n",
        "\n",
        ">**Note:** Instance variables are used within the instance method"
      ]
    },
    {
      "cell_type": "code",
      "execution_count": null,
      "metadata": {
        "ExecuteTime": {
          "end_time": "2021-06-19T09:00:03.112688Z",
          "start_time": "2021-06-19T09:00:03.099018Z"
        },
        "id": "kZLnmItAdFcy",
        "outputId": "2b50653a-91c2-4988-fbab-bd5c7c55d250"
      },
      "outputs": [
        {
          "name": "stdout",
          "output_type": "stream",
          "text": [
            "Name is: Arthur and percentage is: 90\n"
          ]
        }
      ],
      "source": [
        "# Example 2: Creating Class and Object in Python\n",
        "\n",
        "class Student:\n",
        "    def __init__(self, name, percentage):\n",
        "        self.name = name\n",
        "        self.percentage = percentage\n",
        "\n",
        "    def show(self):\n",
        "        print(\"Name is:\", self.name, \"and percentage is:\", self.percentage)\n",
        "\n",
        "        \n",
        "stud = Student(\"Arthur\", 90)\n",
        "stud.show()   \n",
        "\n",
        "# Output Name is: Arthur and percentage is: 90"
      ]
    },
    {
      "cell_type": "markdown",
      "metadata": {
        "id": "-bQ0BfBVdFcy"
      },
      "source": [
        "<br><br><br><br>"
      ]
    },
    {
      "cell_type": "markdown",
      "metadata": {
        "id": "ERTps8X_dFcy"
      },
      "source": [
        "![instvarmeth.png](attachment:instvarmeth.png)"
      ]
    },
    {
      "cell_type": "markdown",
      "metadata": {
        "id": "M19OKOOndFcz"
      },
      "source": [
        "<br><br><br><br>"
      ]
    },
    {
      "cell_type": "code",
      "execution_count": null,
      "metadata": {
        "ExecuteTime": {
          "end_time": "2021-06-19T09:00:06.483747Z",
          "start_time": "2021-06-19T09:00:06.468123Z"
        },
        "id": "3JGy1QOSdFcz",
        "outputId": "c891d49f-0261-4879-8772-ec67c44ed088"
      },
      "outputs": [
        {
          "name": "stdout",
          "output_type": "stream",
          "text": [
            "Blu is a bird\n",
            "Woo is also a bird\n",
            "Blu is 10 years old\n",
            "Woo is 15 years old\n"
          ]
        }
      ],
      "source": [
        "# Example 3: Creating Class and Object in Python\n",
        "\n",
        "class Parrot:\n",
        "    species = \"bird\"                    # class attribute\n",
        "    def __init__(self, name, age):      # instance attribute\n",
        "        self.name = name\n",
        "        self.age = age\n",
        "\n",
        "# instantiate the Parrot class\n",
        "blu = Parrot(\"Blu\", 10)\n",
        "woo = Parrot(\"Woo\", 15)\n",
        "\n",
        "# access the class attributes\n",
        "print(\"Blu is a {}\".format(blu.__class__.species))\n",
        "print(\"Woo is also a {}\".format(woo.__class__.species))\n",
        "\n",
        "# access the instance attributes\n",
        "print(\"{} is {} years old\".format( blu.name, blu.age))\n",
        "print(\"{} is {} years old\".format( woo.name, woo.age))"
      ]
    },
    {
      "cell_type": "markdown",
      "metadata": {
        "id": "rxsnwESzdFcz"
      },
      "source": [
        "**Explanation**:\n",
        "\n",
        "In the above program, we created a class with the name **`Parrot`**. Then, we define attributes. The attributes are a characteristic of an object.\n",
        "\n",
        "These attributes are defined inside the **`__init__`** method of the class. It is the initializer method that is first run as soon as the object is created.\n",
        "\n",
        "Then, we create instances of the **`Parrot`** class. Here, **`blu`** and **`woo`** are references (value) to our new objects.\n",
        "\n",
        "We can access the class attribute using **`__class__.species`**. Class attributes are the same for all instances of a class. Similarly, we access the instance attributes using **`blu.name`** and **`blu.age`**. However, instance attributes are different for every instance of a class.\n",
        "\n"
      ]
    },
    {
      "cell_type": "markdown",
      "metadata": {
        "id": "e45Ili7OdFcz"
      },
      "source": [
        "<br><br>\n",
        "### Object Method\n",
        "***\n",
        "\n",
        "Object Methods are functions defined inside the body of a class. They are used to define the behaviors of an object.\n",
        "\n",
        "Objects can have methods. The methods are functions which belong to the object."
      ]
    },
    {
      "cell_type": "code",
      "execution_count": null,
      "metadata": {
        "id": "oyjX72YCdFc0",
        "outputId": "d9f67a92-193a-44ab-c397-733d26ffe04b"
      },
      "outputs": [
        {
          "name": "stdout",
          "output_type": "stream",
          "text": [
            "Milaan Parmar is 96 years old. He lives in London, England\n"
          ]
        }
      ],
      "source": [
        "# Example 1:\n",
        "\n",
        "class Person:\n",
        "      def __init__(self, firstname, lastname, age, country, city):\n",
        "            self.firstname = firstname\n",
        "            self.lastname = lastname\n",
        "            self.age = age\n",
        "            self.country = country\n",
        "            self.city = city\n",
        "      def person_info(self):\n",
        "        return f'{self.firstname} {self.lastname} is {self.age} years old. He lives in {self.city}, {self.country}'\n",
        "\n",
        "p = Person('Milaan', 'Parmar', 96, 'England', 'London')\n",
        "print(p.person_info())"
      ]
    },
    {
      "cell_type": "code",
      "execution_count": null,
      "metadata": {
        "ExecuteTime": {
          "end_time": "2021-06-19T09:00:11.054497Z",
          "start_time": "2021-06-19T09:00:11.034969Z"
        },
        "id": "6fBWery9dFc0",
        "outputId": "867bb85f-2795-493f-81a7-23a7bde3c02b"
      },
      "outputs": [
        {
          "name": "stdout",
          "output_type": "stream",
          "text": [
            "Blu sings 'Happy'\n",
            "Blu is now dancing\n"
          ]
        }
      ],
      "source": [
        "# Example 2: Creating Object Methods in Python\n",
        "\n",
        "class Parrot:\n",
        "    \n",
        "    # instance attributes\n",
        "    def __init__(self, name, age):\n",
        "        self.name = name\n",
        "        self.age = age\n",
        "    \n",
        "    # instance method\n",
        "    def sing(self, song):\n",
        "        return \"{} sings {}\".format(self.name, song)\n",
        "\n",
        "    def dance(self):\n",
        "        return \"{} is now dancing\".format(self.name)\n",
        "\n",
        "# instantiate the object\n",
        "blu = Parrot(\"Blu\", 10)\n",
        "\n",
        "# call our instance methods\n",
        "print(blu.sing(\"'Happy'\"))\n",
        "print(blu.dance())"
      ]
    },
    {
      "cell_type": "markdown",
      "metadata": {
        "id": "f5w71K2RdFc0"
      },
      "source": [
        "**Explanation**:\n",
        "\n",
        "In the above program, we define two methods i.e **`sing()`** and **`dance()`**. These are called instance methods because they are called on an instance object i.e **`blu`**."
      ]
    },
    {
      "cell_type": "markdown",
      "metadata": {
        "id": "bnnya3V6dFc1"
      },
      "source": [
        "<br><br>\n",
        "## Object Default Methods\n",
        "***\n",
        "\n",
        "Sometimes, you may want to have a default values for your object methods. If we give default values for the parameters in the constructor, we can avoid errors when we call or instantiate our class without parameters. Let's see how it looks:"
      ]
    },
    {
      "cell_type": "code",
      "execution_count": null,
      "metadata": {
        "id": "SzA9AyMSdFc1",
        "outputId": "9159c97f-3d8b-4702-a345-4b6f77cd8464"
      },
      "outputs": [
        {
          "name": "stdout",
          "output_type": "stream",
          "text": [
            "Milaan Parmar is 96 years old. He lives in London, England.\n",
            "Ben Doe is 30 years old. He lives in Tampere, Finland.\n"
          ]
        }
      ],
      "source": [
        "class Person:\n",
        "      def __init__(self, firstname='Milaan', lastname='Parmar', age=96, country='England', city='London'):\n",
        "            self.firstname = firstname\n",
        "            self.lastname = lastname\n",
        "            self.age = age\n",
        "            self.country = country\n",
        "            self.city = city\n",
        "\n",
        "      def person_info(self):\n",
        "        return f'{self.firstname} {self.lastname} is {self.age} years old. He lives in {self.city}, {self.country}.'\n",
        "\n",
        "p1 = Person()\n",
        "print(p1.person_info())\n",
        "p2 = Person('Ben', 'Doe', 30, 'Finland', 'Tampere')\n",
        "print(p2.person_info())"
      ]
    },
    {
      "cell_type": "markdown",
      "metadata": {
        "id": "Z8pknWe-dFc1"
      },
      "source": [
        "<br><br>\n",
        "## Method to Modify Class Default Values\n",
        "***\n",
        "\n",
        "In the example below, the **`Person`** class, all the constructor parameters have default values. In addition to that, we have skills parameter, which we can access using a method. Let us create **`add_skill`** method to add skills to the skills list."
      ]
    },
    {
      "cell_type": "code",
      "execution_count": null,
      "metadata": {
        "id": "l13gckR4dFc1",
        "outputId": "6306d66b-44d4-4547-e993-d5e7b56efb3e"
      },
      "outputs": [
        {
          "name": "stdout",
          "output_type": "stream",
          "text": [
            "Milaan Parmar is 96 years old. He lives in London, England.\n",
            "Ben Doe is 30 years old. He lives in Tampere, Finland.\n",
            "['Python', 'MATLAB', 'R']\n",
            "[]\n"
          ]
        }
      ],
      "source": [
        "class Person:\n",
        "      def __init__(self, firstname='Milaan', lastname='Parmar', age=96, country='England', city='London'):\n",
        "            self.firstname = firstname\n",
        "            self.lastname = lastname\n",
        "            self.age = age\n",
        "            self.country = country\n",
        "            self.city = city\n",
        "            self.skills = []\n",
        "\n",
        "      def person_info(self):\n",
        "        return f'{self.firstname} {self.lastname} is {self.age} years old. He lives in {self.city}, {self.country}.'\n",
        "      def add_skill(self, skill):\n",
        "            self.skills.append(skill)\n",
        "\n",
        "p1 = Person()\n",
        "print(p1.person_info())\n",
        "p1.add_skill('Python')\n",
        "p1.add_skill('MATLAB')\n",
        "p1.add_skill('R')\n",
        "p2 = Person('Ben', 'Doe', 30, 'Finland', 'Tampere')\n",
        "print(p2.person_info())\n",
        "print(p1.skills)\n",
        "print(p2.skills)"
      ]
    },
    {
      "cell_type": "markdown",
      "metadata": {
        "id": "Gsz5sA1bdFc1"
      },
      "source": [
        "<br><br><br><br>\n",
        "## Inheritance\n",
        "***\n",
        "\n",
        "In Python, inheritance is the process of inheriting the properties of the base class (or parent class) into a derived class (or child class).\n",
        "\n",
        "In an Object-oriented programming language, inheritance is an important aspect. Using inheritance we can reuse parent class code. Inheritance allows us to define a class that inherits all the methods and properties from parent class. The parent class or super or base class is the class which gives all the methods and properties. Child class is the class that inherits from another or parent class.\n",
        "\n",
        "In inheritance, the child class acquires and access all the data members, properties, and functions from the parent class. Also, a child class can also provide its specific implementation to the functions of the parent class.\n",
        "\n",
        "### Use of inheritance\n",
        "\n",
        "The main purpose of inheritance is the reusability of code because we can use the existing class to create a new class instead of creating it from scratch.\n",
        "\n",
        "**Syntax:**\n",
        "\n",
        "```python\n",
        "class BaseClass:\n",
        "    Body of base class\n",
        "class DerivedClass(BaseClass):\n",
        "    Body of derived class\n",
        "```"
      ]
    },
    {
      "cell_type": "code",
      "execution_count": null,
      "metadata": {
        "ExecuteTime": {
          "end_time": "2021-06-19T09:00:24.847816Z",
          "start_time": "2021-06-19T09:00:24.835121Z"
        },
        "id": "XuTpNa-zdFc2",
        "outputId": "01b4a404-94d5-4962-d41a-634423c9da37"
      },
      "outputs": [
        {
          "name": "stdout",
          "output_type": "stream",
          "text": [
            "This is Parent class\n",
            "This is Child class\n"
          ]
        }
      ],
      "source": [
        "# Example 1: Use of Inheritance in Python\n",
        "\n",
        "class ClassOne:              # Base class\n",
        "    def func1(self):\n",
        "        print('This is Parent class')\n",
        "\n",
        "class ClassTwo(ClassOne):    # Derived class\n",
        "    def func2(self):\n",
        "        print('This is Child class')\n",
        "\n",
        "obj = ClassTwo()\n",
        "obj.func1()\n",
        "obj.func2()"
      ]
    },
    {
      "cell_type": "markdown",
      "metadata": {
        "id": "vi2-9otudFc2"
      },
      "source": [
        "Let us create a student class by inheriting from **`Person`** class."
      ]
    },
    {
      "cell_type": "code",
      "execution_count": null,
      "metadata": {
        "scrolled": true,
        "id": "0moKBasIdFc2",
        "outputId": "6658c181-86d9-47ad-9086-7961297b32fe"
      },
      "outputs": [
        {
          "name": "stdout",
          "output_type": "stream",
          "text": [
            "Arthur Curry is 33 years old. He lives in London, England.\n",
            "['HTML', 'CSS', 'JavaScript']\n",
            "Emily Carter is 28 years old. He lives in Manchester, England.\n",
            "['Organizing', 'Marketing', 'Digital Marketing']\n"
          ]
        }
      ],
      "source": [
        "# Example 2: Use of Inheritance in Python\n",
        "\n",
        "class Student(Person):\n",
        "    pass\n",
        "\n",
        "s1 = Student('Arthur', 'Curry', 33, 'England', 'London')\n",
        "s2 = Student('Emily', 'Carter', 28, 'England', 'Manchester')\n",
        "print(s1.person_info())\n",
        "s1.add_skill('HTML')\n",
        "s1.add_skill('CSS')\n",
        "s1.add_skill('JavaScript')\n",
        "print(s1.skills)\n",
        "\n",
        "print(s2.person_info())\n",
        "s2.add_skill('Organizing')\n",
        "s2.add_skill('Marketing')\n",
        "s2.add_skill('Digital Marketing')\n",
        "print(s2.skills)"
      ]
    },
    {
      "cell_type": "markdown",
      "metadata": {
        "id": "6anQSQPSdFc2"
      },
      "source": [
        "**Exaplanation:**\n",
        "\n",
        "We did not call the **`__init__()`** constructor in the child class. If we didn't call it then we can still access all the properties from the parent. But if we do call the constructor we can access the parent properties by calling **`super()`**.  \n",
        "We can add a new method to the child or we can override the parent class methods by creating the same method name in the child class. When we add the **`__init__()`** function, the child class will no longer inherit the parent's **`__init__()`** function."
      ]
    },
    {
      "cell_type": "markdown",
      "metadata": {
        "id": "TFBUrP-cdFc2"
      },
      "source": [
        "<br><br>\n",
        "### Overriding parent method\n",
        "***"
      ]
    },
    {
      "cell_type": "code",
      "execution_count": null,
      "metadata": {
        "id": "tRVeOgiqdFc2",
        "outputId": "afbeea57-2aef-4a7d-9950-b361bd2fa2ca"
      },
      "outputs": [
        {
          "name": "stdout",
          "output_type": "stream",
          "text": [
            "Arthur Curry is 33 years old. He lives in London, England.\n",
            "['HTML', 'CSS', 'JavaScript']\n",
            "Emily Carter is 28 years old. She lives in Manchester, England.\n",
            "['Organizing', 'Marketing', 'Digital Marketing']\n"
          ]
        }
      ],
      "source": [
        "# Example 2: Overriding parent method from above example\n",
        "\n",
        "class Student(Person):\n",
        "    def __init__ (self, firstname='Milaan', lastname='Parmar',age=96, country='England', city='London', gender='male'):\n",
        "        self.gender = gender\n",
        "        super().__init__(firstname, lastname,age, country, city)\n",
        "        \n",
        "    def person_info(self):\n",
        "        gender = 'He' if self.gender =='male' else 'She'\n",
        "        return f'{self.firstname} {self.lastname} is {self.age} years old. {gender} lives in {self.city}, {self.country}.'\n",
        "\n",
        "s1 = Student('Arthur', 'Curry', 33, 'England', 'London','male')\n",
        "s2 = Student('Emily', 'Carter', 28, 'England', 'Manchester','female')\n",
        "print(s1.person_info())\n",
        "s1.add_skill('HTML')\n",
        "s1.add_skill('CSS')\n",
        "s1.add_skill('JavaScript')\n",
        "print(s1.skills)\n",
        "\n",
        "print(s2.person_info())\n",
        "s2.add_skill('Organizing')\n",
        "s2.add_skill('Marketing')\n",
        "s2.add_skill('Digital Marketing')\n",
        "print(s2.skills)"
      ]
    },
    {
      "cell_type": "markdown",
      "metadata": {
        "id": "qkmkF5BIdFc3"
      },
      "source": [
        "**Exaplanation**:\n",
        "\n",
        "We can use **`super()`** built-in function or the parent name Person to automatically inherit the methods and properties from its parent. In the example above we override the parent method. The child method has a different feature, it can identify, if the gender is male or female and assign the proper pronoun(He/She)."
      ]
    },
    {
      "cell_type": "code",
      "execution_count": null,
      "metadata": {
        "ExecuteTime": {
          "end_time": "2021-06-19T09:00:23.526541Z",
          "start_time": "2021-06-19T09:00:23.515798Z"
        },
        "id": "vqXNIEDadFc3",
        "outputId": "935e8be8-b272-40b8-ebe4-59f3292062e3"
      },
      "outputs": [
        {
          "name": "stdout",
          "output_type": "stream",
          "text": [
            "Bird is ready\n",
            "Penguin is ready\n",
            "Penguin\n",
            "Swim faster\n",
            "Run faster\n"
          ]
        }
      ],
      "source": [
        "# Example 3: Use of Inheritance in Python\n",
        "\n",
        "# parent class\n",
        "class Bird:   \n",
        "    def __init__(self):\n",
        "        print(\"Bird is ready\")\n",
        "\n",
        "    def whoisThis(self):\n",
        "        print(\"Bird\")\n",
        "\n",
        "    def swim(self):\n",
        "        print(\"Swim faster\")\n",
        "\n",
        "# child class\n",
        "class Penguin(Bird):\n",
        "    def __init__(self):\n",
        "        # call super() function\n",
        "        super().__init__()\n",
        "        print(\"Penguin is ready\")\n",
        "\n",
        "    def whoisThis(self):\n",
        "        print(\"Penguin\")\n",
        "\n",
        "    def run(self):\n",
        "        print(\"Run faster\")\n",
        "\n",
        "peggy = Penguin()\n",
        "peggy.whoisThis()\n",
        "peggy.swim()\n",
        "peggy.run()"
      ]
    },
    {
      "cell_type": "markdown",
      "metadata": {
        "id": "-EA6wMEcdFc3"
      },
      "source": [
        "**Exaplanation**:\n",
        "\n",
        "In the above program, we created two classes i.e. **`Bird`** (parent class) and **`Penguin`** (child class). The child class inherits the functions of parent class. We can see this from the **`swim()`** method.\n",
        "\n",
        "Again, the child class modified the behavior of the parent class. We can see this from the **`whoisThis()`** method. Furthermore, we extend the functions of the parent class, by creating a new **`run()`** method.\n",
        "\n",
        "Additionally, we use the **`super()`** function inside the **`__init__()`** method. This allows us to run the **`__init__()`** method of the parent class inside the child class."
      ]
    },
    {
      "cell_type": "markdown",
      "metadata": {
        "id": "pdrCCIFodFc3"
      },
      "source": [
        "<br><br><br><br>\n",
        "## Encapsulation\n",
        "***\n",
        "\n",
        "In Python, encapsulation is a method of wrapping data and functions into a single entity. For example, A class encapsulates all the data (methods and variables). Encapsulation means the internal representation of an object is generally hidden from outside of the object’s definition.\n",
        "\n",
        "\n",
        "Using OOP in Python, we can restrict access to methods and variables. This prevents data from direct modification which is called encapsulation. In Python, we denote private attributes using underscore as the prefix i.e single **`_`** or double **`__`**.\n",
        "\n",
        "### Need of Encapsulation\n",
        "\n",
        "\n",
        "Encapsulation acts as a protective layer. We can restrict access to methods and variables from outside, and It can prevent the data from being modified by accidental or unauthorized modification. Encapsulation provides security by hiding the data from the outside world.\n",
        "\n",
        "In Python, we do not have access modifiers directly, such as public, private, and protected. But we can achieve encapsulation by using single prefix underscore and double underscore to control access of variable and method within the Python program."
      ]
    },
    {
      "cell_type": "code",
      "execution_count": null,
      "metadata": {
        "ExecuteTime": {
          "end_time": "2021-06-19T09:00:15.687261Z",
          "start_time": "2021-06-19T09:00:15.666758Z"
        },
        "id": "VLJhtBj5dFc3",
        "outputId": "ce10c484-a1a6-4b49-f6b0-039aa2910db8"
      },
      "outputs": [
        {
          "name": "stdout",
          "output_type": "stream",
          "text": [
            "Selling Price: 900\n",
            "Selling Price: 900\n",
            "Selling Price: 1000\n"
          ]
        }
      ],
      "source": [
        "# Example 1: Data Encapsulation in Python\n",
        "\n",
        "class Computer:\n",
        "\n",
        "    def __init__(self):\n",
        "        self.__maxprice = 900\n",
        "\n",
        "    def sell(self):\n",
        "        print(\"Selling Price: {}\".format(self.__maxprice))\n",
        "\n",
        "    def setMaxPrice(self, price):\n",
        "        self.__maxprice = price\n",
        "\n",
        "c = Computer()\n",
        "c.sell()\n",
        "\n",
        "# change the price\n",
        "c.__maxprice = 1000\n",
        "c.sell()\n",
        "\n",
        "# using setter function\n",
        "c.setMaxPrice(1000)\n",
        "c.sell()"
      ]
    },
    {
      "cell_type": "markdown",
      "metadata": {
        "id": "QzV9F_lBdFc4"
      },
      "source": [
        "**Explanation**:\n",
        "\n",
        "In the above program, we defined a Computer class.\n",
        "\n",
        "We used __init__() method to store the maximum selling price of Computer. We tried to modify the price. However, we can't change it because Python treats the __maxprice as private attributes.\n",
        "\n",
        "As shown, to change the value, we have to use a setter function i.e setMaxPrice() which takes price as a parameter."
      ]
    },
    {
      "cell_type": "markdown",
      "metadata": {
        "id": "NLLSlxcDdFc4"
      },
      "source": [
        "<br><br><br><br>\n",
        "## Polymorphism\n",
        "***\n",
        "Polymorphism is based on the greek words **Poly** (many) and **morphism** (forms). We will create a structure that can take or use many forms of objects.\n",
        "\n",
        "Polymorphism is an ability (in OOP) to use a common interface for multiple forms (data types).\n",
        "\n",
        "**Example 1:** The student can act as a student in college, act as a player on the ground, and as a daughter/brother in the home. \n",
        "\n",
        "**Example 2:** In the programming language, the **`+`** operator, acts as a concatenation and arithmetic addition.\n",
        "\n",
        "**Example 3:** If we need to color a shape, there are multiple shape options (rectangle, square, circle). However we could use the same method to color any shape. \n",
        "\n",
        "\n",
        "In Python, polymorphism allows us to define the child class methods with the same name as defined in the parent class."
      ]
    },
    {
      "cell_type": "markdown",
      "metadata": {
        "id": "NoSRjlrxdFc4"
      },
      "source": [
        "![1.png](attachment:1.png)"
      ]
    },
    {
      "cell_type": "code",
      "execution_count": null,
      "metadata": {
        "ExecuteTime": {
          "end_time": "2021-06-19T09:00:20.204307Z",
          "start_time": "2021-06-19T09:00:20.187708Z"
        },
        "id": "k7Ms2LSSdFc4",
        "outputId": "87737ca7-f380-4e23-fe69-36cc5e3f44b1"
      },
      "outputs": [
        {
          "name": "stdout",
          "output_type": "stream",
          "text": [
            "Parrot can fly\n",
            "Penguin can't fly\n"
          ]
        }
      ],
      "source": [
        "# Example 1: Using Polymorphism in Python\n",
        "\n",
        "class Parrot:\n",
        "    def fly(self):\n",
        "        print(\"Parrot can fly\")\n",
        "    \n",
        "    def swim(self):\n",
        "        print(\"Parrot can't swim\")\n",
        "\n",
        "class Penguin:\n",
        "    def fly(self):\n",
        "        print(\"Penguin can't fly\")\n",
        "    \n",
        "    def swim(self):\n",
        "        print(\"Penguin can swim\")\n",
        "\n",
        "# common interface\n",
        "def flying_test(bird):\n",
        "    bird.fly()\n",
        "\n",
        "#instantiate objects\n",
        "blu = Parrot()\n",
        "peggy = Penguin()\n",
        "\n",
        "# passing the object\n",
        "flying_test(blu)\n",
        "flying_test(peggy)"
      ]
    },
    {
      "cell_type": "markdown",
      "metadata": {
        "id": "UF3zY5DKdFc4"
      },
      "source": [
        "**Exaplanation**:\n",
        "\n",
        "In the above program, we defined two classes **`Parrot`** and **`Penguin`**. Each of them have a common **`fly()`** method. However, their functions are different.\n",
        "\n",
        "To use polymorphism, we created a common interface i.e **`flying_test()`** function that takes any object and calls the object's **`fly()`** method. Thus, when we passed the **`blu`** and **`peggy`** objects in the **`flying_test()`** function, it ran effectively."
      ]
    },
    {
      "cell_type": "code",
      "execution_count": null,
      "metadata": {
        "ExecuteTime": {
          "end_time": "2021-06-19T09:00:21.662302Z",
          "start_time": "2021-06-19T09:00:21.639840Z"
        },
        "scrolled": true,
        "id": "o4SAprHYdFc4",
        "outputId": "3fa5f987-07fe-48e7-c0cd-140e4f30b953"
      },
      "outputs": [
        {
          "name": "stdout",
          "output_type": "stream",
          "text": [
            "Area of circle: 254.34\n",
            "Area of Rectangle: 54\n"
          ]
        }
      ],
      "source": [
        "# Example 2: Using Polymorphism in Python\n",
        "\n",
        "class Circle:\n",
        "    pi = 3.14\n",
        "\n",
        "    def __init__(self, redius):\n",
        "        self.radius = redius\n",
        "\n",
        "    def calculate_area(self):\n",
        "        print(\"Area of circle:\", self.pi * self.radius * self.radius)\n",
        "\n",
        "class Rectangle:\n",
        "    def __init__(self, length, width):\n",
        "        self.length = length\n",
        "        self.width = width\n",
        "\n",
        "    def calculate_area(self):\n",
        "        print(\"Area of Rectangle:\", self.length * self.width)\n",
        "\n",
        "cir = Circle(9)\n",
        "rect = Rectangle(9, 6)\n",
        "cir.calculate_area()   # Output Area of circle: 254.34\n",
        "\n",
        "rect.calculate_area()  # Output Area od Rectangle: 54"
      ]
    },
    {
      "cell_type": "markdown",
      "metadata": {
        "id": "yU7tJ06bdFc5"
      },
      "source": [
        "**Exaplanation**:\n",
        "\n",
        "In the above example, we created two classes called **`Circle`** and **`Rectangle`**. In both classes, we created the same method with the name **`calculate_area`**. This method acts differently in both classes. In the case of the **`Circle`** class, it calculates the area of the circle, whereas, in the case of a **`Rectangle`** class, it calculates the area of a rectangle."
      ]
    },
    {
      "cell_type": "markdown",
      "metadata": {
        "id": "PU_TvB-9dFc5"
      },
      "source": [
        "## Thank You !!!"
      ]
    },
    {
      "cell_type": "code",
      "execution_count": null,
      "metadata": {
        "id": "99A5Ur6SdFc5"
      },
      "outputs": [],
      "source": [
        ""
      ]
    },
    {
      "cell_type": "code",
      "execution_count": null,
      "metadata": {
        "id": "Pcu-azJRdFc5"
      },
      "outputs": [],
      "source": [
        ""
      ]
    }
  ],
  "metadata": {
    "celltoolbar": "Slideshow",
    "hide_input": false,
    "kernelspec": {
      "display_name": "Python 3",
      "language": "python",
      "name": "python3"
    },
    "language_info": {
      "codemirror_mode": {
        "name": "ipython",
        "version": 3
      },
      "file_extension": ".py",
      "mimetype": "text/x-python",
      "name": "python",
      "nbconvert_exporter": "python",
      "pygments_lexer": "ipython3",
      "version": "3.8.8"
    },
    "toc": {
      "base_numbering": 1,
      "nav_menu": {},
      "number_sections": true,
      "sideBar": true,
      "skip_h1_title": false,
      "title_cell": "Table of Contents",
      "title_sidebar": "Contents",
      "toc_cell": false,
      "toc_position": {},
      "toc_section_display": true,
      "toc_window_display": false
    },
    "varInspector": {
      "cols": {
        "lenName": 16,
        "lenType": 16,
        "lenVar": 40
      },
      "kernels_config": {
        "python": {
          "delete_cmd_postfix": "",
          "delete_cmd_prefix": "del ",
          "library": "var_list.py",
          "varRefreshCmd": "print(var_dic_list())"
        },
        "r": {
          "delete_cmd_postfix": ") ",
          "delete_cmd_prefix": "rm(",
          "library": "var_list.r",
          "varRefreshCmd": "cat(var_dic_list()) "
        }
      },
      "types_to_exclude": [
        "module",
        "function",
        "builtin_function_or_method",
        "instance",
        "_Feature"
      ],
      "window_display": false
    },
    "colab": {
      "name": "Copy of Senin_Python_Programming_Python_function_and_OOPs.ipynb",
      "provenance": [],
      "include_colab_link": true
    }
  },
  "nbformat": 4,
  "nbformat_minor": 0
}