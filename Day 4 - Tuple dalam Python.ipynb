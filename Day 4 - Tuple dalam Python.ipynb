{
  "nbformat": 4,
  "nbformat_minor": 0,
  "metadata": {
    "colab": {
      "name": "Tuple dalam Python.ipynb",
      "provenance": [],
      "collapsed_sections": [],
      "authorship_tag": "ABX9TyOK3bfHs0bzKOZjYREkrpFs",
      "include_colab_link": true
    },
    "kernelspec": {
      "name": "python3",
      "display_name": "Python 3"
    },
    "language_info": {
      "name": "python"
    }
  },
  "cells": [
    {
      "cell_type": "markdown",
      "metadata": {
        "id": "view-in-github",
        "colab_type": "text"
      },
      "source": [
        "<a href=\"https://colab.research.google.com/github/Akanerd/Orbit-Archieve/blob/main/Day%203%20-%20Tuple%20dalam%20Python.ipynb\" target=\"_parent\"><img src=\"https://colab.research.google.com/assets/colab-badge.svg\" alt=\"Open In Colab\"/></a>"
      ]
    },
    {
      "cell_type": "markdown",
      "source": [
        "# Tuple dalam Python\n",
        "\n"
      ],
      "metadata": {
        "id": "L8qAsBSMz64g"
      }
    },
    {
      "cell_type": "markdown",
      "source": [
        "**Tuple** mirip seperti list namun nilai pada **tuple** tidak bisa diubah.\n",
        "**Tuple** menggunakan tanda kurung () sedangkan **list** menggunakan **list** menggunakan kurung siku [ ]"
      ],
      "metadata": {
        "id": "6vsogOVu0D9g"
      }
    },
    {
      "cell_type": "code",
      "source": [
        "t = 12,123,321 # tuple dari variabel t"
      ],
      "metadata": {
        "id": "kGVDWB4d62Pm"
      },
      "execution_count": 1,
      "outputs": []
    },
    {
      "cell_type": "code",
      "source": [
        "# Tuple bisa juga dibuat tanpa tanda kurung\n",
        "# t = (12,123,321) = 12,123,321"
      ],
      "metadata": {
        "id": "DtAGGupT66-w"
      },
      "execution_count": 2,
      "outputs": []
    },
    {
      "cell_type": "code",
      "source": [
        "t"
      ],
      "metadata": {
        "colab": {
          "base_uri": "https://localhost:8080/"
        },
        "id": "usm7GtvC7RDz",
        "outputId": "fbd69cee-70f8-4e98-85c4-0f1104f5b210"
      },
      "execution_count": 3,
      "outputs": [
        {
          "output_type": "execute_result",
          "data": {
            "text/plain": [
              "(12, 123, 321)"
            ]
          },
          "metadata": {},
          "execution_count": 3
        }
      ]
    },
    {
      "cell_type": "code",
      "source": [
        "r = (12,123,321)\n",
        "print(r)"
      ],
      "metadata": {
        "colab": {
          "base_uri": "https://localhost:8080/"
        },
        "id": "4A-lOJCR7TNS",
        "outputId": "31fb0a9d-6abb-4f3a-d1d6-76a03718bf90"
      },
      "execution_count": 4,
      "outputs": [
        {
          "output_type": "stream",
          "name": "stdout",
          "text": [
            "(12, 123, 321)\n"
          ]
        }
      ]
    },
    {
      "cell_type": "code",
      "source": [
        "# Tuple mengizinkan untuk menduplikasi nilai dan tuple memiliki sifat yang orderer (Terurut) \n",
        "z = (\"Andi\",\"Ani\",\"Ana\",\"Andi\")\n",
        "print(z)\n",
        "print(len(z))"
      ],
      "metadata": {
        "colab": {
          "base_uri": "https://localhost:8080/"
        },
        "id": "T2aumuy77gFx",
        "outputId": "90f45f47-fa38-4646-f4a0-d45ad3daaf5d"
      },
      "execution_count": 7,
      "outputs": [
        {
          "output_type": "stream",
          "name": "stdout",
          "text": [
            "('Andi', 'Ani', 'Ana', 'Andi')\n",
            "4\n"
          ]
        }
      ]
    },
    {
      "cell_type": "code",
      "source": [
        "# Membuat tuple dengan satu variabel\n",
        "var_tup = (\"Mangga\",)\n",
        "print(type(var_tup))\n",
        "\n",
        "#untuk membuat tuple dengan satu variabel perlu utnuk menambah koma\n",
        "#jika tidak ditambahkan koma python tidak akan dianggap itu sebagai tuple"
      ],
      "metadata": {
        "colab": {
          "base_uri": "https://localhost:8080/"
        },
        "id": "jGxProgG7nDp",
        "outputId": "a948e05b-43b3-4301-8458-bb306e5887d4"
      },
      "execution_count": 9,
      "outputs": [
        {
          "output_type": "stream",
          "name": "stdout",
          "text": [
            "<class 'tuple'>\n"
          ]
        }
      ]
    },
    {
      "cell_type": "code",
      "source": [
        "var_tup = (\"Mangga\",\"Jeruk\" ,\"Durian\")\n",
        "var_tup1 = (1,2,3,4)\n",
        "var_tup2 = (1,3,5,\"Ture\",\"Yep!\")\n",
        "print(var_tup,var_tup1,var_tup2)"
      ],
      "metadata": {
        "colab": {
          "base_uri": "https://localhost:8080/"
        },
        "id": "9KP83IFi9QlE",
        "outputId": "c598bb91-4318-442c-c5b3-b460f4febb56"
      },
      "execution_count": 10,
      "outputs": [
        {
          "output_type": "stream",
          "name": "stdout",
          "text": [
            "('Mangga', 'Jeruk', 'Durian') (1, 2, 3, 4) (1, 3, 5, 'Ture', 'Yep!')\n"
          ]
        }
      ]
    },
    {
      "cell_type": "code",
      "source": [
        "# Mengakses Tuple\n",
        "q = tuple('Orbit')\n",
        "print(q)"
      ],
      "metadata": {
        "colab": {
          "base_uri": "https://localhost:8080/"
        },
        "id": "ByGkZPLc9_N5",
        "outputId": "27ace317-ea34-477d-cdbc-51624e7187d3"
      },
      "execution_count": 12,
      "outputs": [
        {
          "output_type": "stream",
          "name": "stdout",
          "text": [
            "('O', 'r', 'b', 'i', 't')\n"
          ]
        }
      ]
    },
    {
      "cell_type": "code",
      "source": [
        "# Mengakses tuple\n",
        "# Variabel o = q = orbit\n",
        "o = q[3]\n",
        "print(o)\n",
        "# O r b i t\n",
        "# 0 1 2 3 4"
      ],
      "metadata": {
        "colab": {
          "base_uri": "https://localhost:8080/"
        },
        "id": "Z-AlcPCx-SwE",
        "outputId": "9f630d50-7566-4c96-d359-f282d28e7ee1"
      },
      "execution_count": 13,
      "outputs": [
        {
          "output_type": "stream",
          "name": "stdout",
          "text": [
            "i\n"
          ]
        }
      ]
    },
    {
      "cell_type": "code",
      "source": [
        "q[3] = 'a'\n",
        "print(q)"
      ],
      "metadata": {
        "colab": {
          "base_uri": "https://localhost:8080/",
          "height": 187
        },
        "id": "R_DuGcQf-5W6",
        "outputId": "758b2567-26a0-4ef1-b7e6-0ef317cbb935"
      },
      "execution_count": 14,
      "outputs": [
        {
          "output_type": "error",
          "ename": "TypeError",
          "evalue": "ignored",
          "traceback": [
            "\u001b[0;31m---------------------------------------------------------------------------\u001b[0m",
            "\u001b[0;31mTypeError\u001b[0m                                 Traceback (most recent call last)",
            "\u001b[0;32m<ipython-input-14-d60cdffdce0b>\u001b[0m in \u001b[0;36m<module>\u001b[0;34m()\u001b[0m\n\u001b[0;32m----> 1\u001b[0;31m \u001b[0mq\u001b[0m\u001b[0;34m[\u001b[0m\u001b[0;36m3\u001b[0m\u001b[0;34m]\u001b[0m \u001b[0;34m=\u001b[0m \u001b[0;34m'a'\u001b[0m\u001b[0;34m\u001b[0m\u001b[0;34m\u001b[0m\u001b[0m\n\u001b[0m\u001b[1;32m      2\u001b[0m \u001b[0mprint\u001b[0m\u001b[0;34m(\u001b[0m\u001b[0mq\u001b[0m\u001b[0;34m)\u001b[0m\u001b[0;34m\u001b[0m\u001b[0;34m\u001b[0m\u001b[0m\n",
            "\u001b[0;31mTypeError\u001b[0m: 'tuple' object does not support item assignment"
          ]
        }
      ]
    },
    {
      "cell_type": "code",
      "source": [
        "#penjumlahan pada tuple hanya bisa berupa pengabunggan\n",
        "c = q * 3 \n",
        "print(c)"
      ],
      "metadata": {
        "colab": {
          "base_uri": "https://localhost:8080/"
        },
        "id": "P_pmPjvU_HGQ",
        "outputId": "237949b9-7058-4b29-aa06-e0444c04a174"
      },
      "execution_count": 17,
      "outputs": [
        {
          "output_type": "stream",
          "name": "stdout",
          "text": [
            "('O', 'r', 'b', 'i', 't', 'O', 'r', 'b', 'i', 't', 'O', 'r', 'b', 'i', 't')\n"
          ]
        }
      ]
    },
    {
      "cell_type": "code",
      "source": [
        "d = c + q\n",
        "print(d)"
      ],
      "metadata": {
        "colab": {
          "base_uri": "https://localhost:8080/"
        },
        "id": "NH7yq5fbAeOw",
        "outputId": "108826cc-421c-473e-b3ca-1a9219c05c1a"
      },
      "execution_count": 19,
      "outputs": [
        {
          "output_type": "stream",
          "name": "stdout",
          "text": [
            "('O', 'r', 'b', 'i', 't', 'O', 'r', 'b', 'i', 't', 'O', 'r', 'b', 'i', 't', 'O', 'r', 'b', 'i', 't')\n"
          ]
        }
      ]
    },
    {
      "cell_type": "code",
      "source": [
        "s1 = (1,2,3,4,5)\n",
        "s2 = (3,4,5,6,7)\n",
        "s3 = s1 + s2\n",
        "print(s3)"
      ],
      "metadata": {
        "colab": {
          "base_uri": "https://localhost:8080/"
        },
        "id": "7-YO2KGjAxZ8",
        "outputId": "e42b2ea9-6a0f-46f8-9031-31e9282b595c"
      },
      "execution_count": 21,
      "outputs": [
        {
          "output_type": "stream",
          "name": "stdout",
          "text": [
            "(1, 2, 3, 4, 5, 3, 4, 5, 6, 7)\n"
          ]
        }
      ]
    },
    {
      "cell_type": "markdown",
      "source": [
        "Jika ingin menjumlah dua buah variabel pada python untuk operasi matematis, disaat dilakukan dengan loop namun tentunya sangat bermasalah jika kita punya data yang banyak maka umpy adalah solusinya loop dan numpy dibahas selanjutnya"
      ],
      "metadata": {
        "id": "mGUfXzuzER47"
      }
    }
  ]
}