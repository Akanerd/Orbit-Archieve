{
  "nbformat": 4,
  "nbformat_minor": 0,
  "metadata": {
    "colab": {
      "name": "Day 5 - Loops dalam Pyhton.ipynb",
      "provenance": [],
      "collapsed_sections": [],
      "authorship_tag": "ABX9TyNaLNNPZn7GLXXw5kGSBwFu",
      "include_colab_link": true
    },
    "kernelspec": {
      "name": "python3",
      "display_name": "Python 3"
    },
    "language_info": {
      "name": "python"
    }
  },
  "cells": [
    {
      "cell_type": "markdown",
      "metadata": {
        "id": "view-in-github",
        "colab_type": "text"
      },
      "source": [
        "<a href=\"https://colab.research.google.com/github/Akanerd/Orbit-Archieve/blob/main/Day%205%20-%20Loops%20dalam%20Pyhton.ipynb\" target=\"_parent\"><img src=\"https://colab.research.google.com/assets/colab-badge.svg\" alt=\"Open In Colab\"/></a>"
      ]
    },
    {
      "cell_type": "markdown",
      "source": [
        "# **Loops dalam Python**\n",
        "\n",
        "Secara umum,pernyataan pada bahasa pemrograman akan dieksekusi secara berurutan. Pernyataan pertama dalam sebuah fungsi dijalankan pertama, diikuti oleh yang kedua, dan seterusnya. Tetapi akan ada situasi dimana anda harus menulis banyak kode,dimana kode tersebut sangat banyak. Jika dilakukan secara manual maka anda hanya akan membuang-buang tenaga dengan menulis beratus-ratus bahkan beribu-ribu kode. Untuk itu anda perlu menggunakan pengulangan didalam bahasa pemrograman Python"
      ],
      "metadata": {
        "id": "PGg-Jx-fygEg"
      }
    },
    {
      "cell_type": "markdown",
      "source": [
        "#**While Loop**\n",
        "Pengualangan while loop didalam bahasa pemrograman python dieksekusi statement berkali-kali selama kondisi bernailai benar atau true"
      ],
      "metadata": {
        "id": "U-IU04Ao1qm_"
      }
    },
    {
      "cell_type": "code",
      "execution_count": 11,
      "metadata": {
        "colab": {
          "base_uri": "https://localhost:8080/"
        },
        "id": "DlITJnQPyWjX",
        "outputId": "7b7f1281-79f7-4d20-d128-b11af0b1cedd"
      },
      "outputs": [
        {
          "output_type": "stream",
          "name": "stdout",
          "text": [
            "0\n",
            "1\n",
            "2\n",
            "3\n",
            "4\n",
            "5\n",
            "6\n",
            "7\n",
            "8\n",
            "9\n",
            "10\n"
          ]
        }
      ],
      "source": [
        "#i untuk iterasi\n",
        "i = 0\n",
        "while i <= 10:\n",
        "  print(i)\n",
        "  i+=1 # artinya akan mencetak nilai dari 0 sampai 10 \n",
        "       # perulangan berhenti diangka 10"
      ]
    },
    {
      "cell_type": "code",
      "source": [
        "# uji coba kedua\n",
        "i = 1 # i = 1 artinya loop dimulai dari angka 1\n",
        "while i < 6:\n",
        "  print(i)\n",
        "  i+= 0.3 # i += 0.3 artinya penambahan setiap nilainya yaitu 0.3\n",
        "else:\n",
        "  print(\"i tidak lebih dari 6\") \n",
        "                                "
      ],
      "metadata": {
        "colab": {
          "base_uri": "https://localhost:8080/"
        },
        "id": "grheZyNE6oAm",
        "outputId": "8117da38-43b5-4049-dc3f-87231fbffe00"
      },
      "execution_count": 12,
      "outputs": [
        {
          "output_type": "stream",
          "name": "stdout",
          "text": [
            "1\n",
            "1.3\n",
            "1.6\n",
            "1.9000000000000001\n",
            "2.2\n",
            "2.5\n",
            "2.8\n",
            "3.0999999999999996\n",
            "3.3999999999999995\n",
            "3.6999999999999993\n",
            "3.999999999999999\n",
            "4.299999999999999\n",
            "4.599999999999999\n",
            "4.899999999999999\n",
            "5.199999999999998\n",
            "5.499999999999998\n",
            "5.799999999999998\n",
            "i tidak lebih dari 6\n"
          ]
        }
      ]
    },
    {
      "cell_type": "code",
      "source": [
        "# Dengan menggunakan pernyataan break kita dapat menghentikan iterasi \n",
        "# meski kondisi true\n",
        "i = 1\n",
        "while i < 6:\n",
        "  print(i)\n",
        "  if(i==3):\n",
        "    break\n",
        "  i+=1"
      ],
      "metadata": {
        "colab": {
          "base_uri": "https://localhost:8080/"
        },
        "id": "5QWOhyI58QPl",
        "outputId": "4f59b0e7-fd3a-4840-ccac-0918add75b70"
      },
      "execution_count": 24,
      "outputs": [
        {
          "output_type": "stream",
          "name": "stdout",
          "text": [
            "1\n",
            "2\n",
            "3\n"
          ]
        }
      ]
    },
    {
      "cell_type": "code",
      "source": [
        "# Dengan menggunakan pernyataan continue kita dapat menghentikan iterasi \n",
        "# yang saat ini berlangsung, dan melanjutkan dengan iterasi berikutnya\n",
        "i = 0\n",
        "while i < 6:\n",
        "  i+=1\n",
        "  if(i==3):\n",
        "    continue\n",
        "  print(i)"
      ],
      "metadata": {
        "colab": {
          "base_uri": "https://localhost:8080/"
        },
        "id": "ZdNj4TR087fN",
        "outputId": "e1f5b44e-f5df-4287-bf31-cc658d1fb898"
      },
      "execution_count": 18,
      "outputs": [
        {
          "output_type": "stream",
          "name": "stdout",
          "text": [
            "1\n",
            "2\n",
            "4\n",
            "5\n",
            "6\n"
          ]
        }
      ]
    },
    {
      "cell_type": "code",
      "source": [
        "# Dengan menggunakan pernyataan else kita dapat menjalankan blok kode\n",
        "# satu kali ketika kondisinya tidak lagi benar\n",
        "i = 1\n",
        "while i < 6:\n",
        "  print(i)\n",
        "  i+=1\n",
        "else: \n",
        "  print(\"i tidak lebih besar dari 6\")"
      ],
      "metadata": {
        "colab": {
          "base_uri": "https://localhost:8080/"
        },
        "id": "RQcFxLDp9sd-",
        "outputId": "749f2508-9a3e-4046-a169-6c2340808103"
      },
      "execution_count": 22,
      "outputs": [
        {
          "output_type": "stream",
          "name": "stdout",
          "text": [
            "1\n",
            "2\n",
            "3\n",
            "4\n",
            "5\n",
            "i tidak lebih besar dari 6\n"
          ]
        }
      ]
    },
    {
      "cell_type": "markdown",
      "source": [
        "**Nb :** Perhatikan alur proses dimulainya iterasi karena proses dahulu kemudian print akan berbeda hasil dengan print dahulu kemudian proses"
      ],
      "metadata": {
        "id": "HH_NHo8e-pxe"
      }
    }
  ]
}