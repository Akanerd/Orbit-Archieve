{
  "nbformat": 4,
  "nbformat_minor": 0,
  "metadata": {
    "colab": {
      "name": "Day 6 - Live Code.ipynb",
      "provenance": [],
      "authorship_tag": "ABX9TyMP6h29tCpulO8dFIMSLSW/",
      "include_colab_link": true
    },
    "kernelspec": {
      "name": "python3",
      "display_name": "Python 3"
    },
    "language_info": {
      "name": "python"
    }
  },
  "cells": [
    {
      "cell_type": "markdown",
      "metadata": {
        "id": "view-in-github",
        "colab_type": "text"
      },
      "source": [
        "<a href=\"https://colab.research.google.com/github/Akanerd/Orbit-Archieve/blob/main/Day%206%20-%20Live%20Code%20Sesi%201.ipynb\" target=\"_parent\"><img src=\"https://colab.research.google.com/assets/colab-badge.svg\" alt=\"Open In Colab\"/></a>"
      ]
    },
    {
      "cell_type": "markdown",
      "source": [
        "# **Operator**"
      ],
      "metadata": {
        "id": "AGNljunxPs-P"
      }
    },
    {
      "cell_type": "code",
      "execution_count": 2,
      "metadata": {
        "colab": {
          "base_uri": "https://localhost:8080/"
        },
        "id": "lTGOH3d-KTIj",
        "outputId": "ba544b2a-b0b5-4603-b67d-04a61fd7ecdb"
      },
      "outputs": [
        {
          "output_type": "stream",
          "name": "stdout",
          "text": [
            "19\n",
            "11\n",
            "60\n",
            "3.75\n",
            "3\n",
            "3\n",
            "50625\n"
          ]
        }
      ],
      "source": [
        "x = 15\n",
        "y = 4\n",
        "print(x+y)\n",
        "print(x-y)\n",
        "print(x*y)\n",
        "print(x/y)\n",
        "print(x%y)\n",
        "print(x//y)\n",
        "print(x**y)"
      ]
    },
    {
      "cell_type": "markdown",
      "source": [
        "# **Comparison Operator**"
      ],
      "metadata": {
        "id": "c7DRW9xxUPHt"
      }
    },
    {
      "cell_type": "code",
      "source": [
        "x = 13\n",
        "y = 25\n",
        "print(x>y)\n",
        "print(x<y)\n",
        "print(x==y)\n",
        "print(x!=y)\n",
        "print(x>=y)\n",
        "print(x<=y)"
      ],
      "metadata": {
        "colab": {
          "base_uri": "https://localhost:8080/"
        },
        "id": "6X5D_foiUOtk",
        "outputId": "849150d0-231b-4099-ae21-7cc6aeb1270f"
      },
      "execution_count": 5,
      "outputs": [
        {
          "output_type": "stream",
          "name": "stdout",
          "text": [
            "False\n",
            "True\n",
            "False\n",
            "True\n",
            "False\n",
            "True\n"
          ]
        }
      ]
    },
    {
      "cell_type": "markdown",
      "source": [
        "# **Logical**"
      ],
      "metadata": {
        "id": "lMHmvDCxXJT0"
      }
    },
    {
      "cell_type": "code",
      "source": [
        "import operator\n",
        "\n",
        "print(operator.xor(True,False))"
      ],
      "metadata": {
        "colab": {
          "base_uri": "https://localhost:8080/"
        },
        "id": "mRjCFG_IWQo9",
        "outputId": "fd83b02f-a4ac-4e9e-c987-7a350eccbb06"
      },
      "execution_count": 8,
      "outputs": [
        {
          "output_type": "stream",
          "name": "stdout",
          "text": [
            "True\n"
          ]
        }
      ]
    },
    {
      "cell_type": "code",
      "source": [
        "x = True\n",
        "y = False\n",
        "\n",
        "print(x and y)\n",
        "print(x or y)\n",
        "print(not x)\n",
        "print(x & y)\n",
        "print(x | y)\n",
        "print(x ^ y)\n",
        "print(not x and y)\n",
        "print(not x or y)"
      ],
      "metadata": {
        "colab": {
          "base_uri": "https://localhost:8080/"
        },
        "id": "l-231mg4W_Il",
        "outputId": "edab35f0-1a30-44a1-c8b1-a530875ff8d3"
      },
      "execution_count": 11,
      "outputs": [
        {
          "output_type": "stream",
          "name": "stdout",
          "text": [
            "False\n",
            "True\n",
            "False\n",
            "False\n",
            "True\n",
            "True\n",
            "False\n",
            "False\n"
          ]
        }
      ]
    },
    {
      "cell_type": "markdown",
      "source": [
        "# **Identity Operator**"
      ],
      "metadata": {
        "id": "0G9O3AVJZpT5"
      }
    },
    {
      "cell_type": "code",
      "source": [
        "x3 = [1,2,3]\n",
        "y3 = [1,2,3]\n",
        "print(x3 is y3 ) # karena beda list beda memori "
      ],
      "metadata": {
        "id": "CfE4C03pYc0u"
      },
      "execution_count": null,
      "outputs": []
    },
    {
      "cell_type": "markdown",
      "source": [
        "# **Membership Operators**"
      ],
      "metadata": {
        "id": "Gx8m0bEHaTgG"
      }
    },
    {
      "cell_type": "code",
      "source": [
        "x = 'Hello World'\n",
        "y ={1:'A',2:'B'}\n",
        "\n",
        "print('h' in x)\n",
        "print('h' not in x)\n",
        "print(1 in y)\n",
        "print('A' in y) # karena yang dicari pada indeks dictionary adalah keynya bukan value darikeynya"
      ],
      "metadata": {
        "colab": {
          "base_uri": "https://localhost:8080/"
        },
        "id": "BeVbL7EJaSoi",
        "outputId": "ac7fa516-7799-4ca3-a635-856d8db7b305"
      },
      "execution_count": 17,
      "outputs": [
        {
          "output_type": "stream",
          "name": "stdout",
          "text": [
            "False\n",
            "True\n",
            "True\n",
            "False\n"
          ]
        }
      ]
    },
    {
      "cell_type": "markdown",
      "source": [
        "# **Input Python**"
      ],
      "metadata": {
        "id": "IWGMOaLQdgz0"
      }
    },
    {
      "cell_type": "code",
      "source": [
        "i = input(\"Masukkan sesuatu : \")\n",
        "\n",
        "print(i)\n",
        "print(type(i))"
      ],
      "metadata": {
        "colab": {
          "base_uri": "https://localhost:8080/"
        },
        "id": "PO8kIjcadfkX",
        "outputId": "ca1b2b5a-380f-4d92-d420-f179285e9aaf"
      },
      "execution_count": 19,
      "outputs": [
        {
          "output_type": "stream",
          "name": "stdout",
          "text": [
            "Masukkan sesuatu : 1223\n",
            "1223\n",
            "<class 'str'>\n"
          ]
        }
      ]
    }
  ]
}