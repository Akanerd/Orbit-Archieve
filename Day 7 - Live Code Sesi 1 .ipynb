{
 "cells": [
  {
   "cell_type": "markdown",
   "id": "0251813a",
   "metadata": {},
   "source": [
    "## Function"
   ]
  },
  {
   "cell_type": "markdown",
   "id": "d30fa89c",
   "metadata": {},
   "source": [
    "## User Defined Function"
   ]
  },
  {
   "cell_type": "code",
   "execution_count": 1,
   "id": "efb65b07",
   "metadata": {},
   "outputs": [
    {
     "name": "stdout",
     "output_type": "stream",
     "text": [
      "5\n"
     ]
    }
   ],
   "source": [
    "def fungsi(a,b):\n",
    "    c = a+b\n",
    "    return c\n",
    "print(fungsi(5,0))"
   ]
  },
  {
   "cell_type": "code",
   "execution_count": 2,
   "id": "4ef94779",
   "metadata": {
    "scrolled": true
   },
   "outputs": [
    {
     "name": "stdout",
     "output_type": "stream",
     "text": [
      "2\n",
      "4\n"
     ]
    }
   ],
   "source": [
    "x=5 \n",
    "def func(num1,num=4):\n",
    "    x=2\n",
    "    print(x)\n",
    "    c =x**x\n",
    "    return c\n",
    "print(func(1))"
   ]
  },
  {
   "cell_type": "markdown",
   "id": "d1c7fbec",
   "metadata": {},
   "source": [
    "## Built in Function dala pyhton"
   ]
  },
  {
   "cell_type": "code",
   "execution_count": 3,
   "id": "694a1235",
   "metadata": {},
   "outputs": [
    {
     "name": "stdout",
     "output_type": "stream",
     "text": [
      "sum 39\n",
      "min 2\n",
      "min 9\n",
      "sort [2, 3, 4, 6, 7, 8, 9]\n",
      "type <class 'list'>\n",
      "len 7\n"
     ]
    }
   ],
   "source": [
    "mylist = [8,7,6,2,4,9,3]\n",
    "\n",
    "print('sum',sum(mylist))\n",
    "print('min',min(mylist))\n",
    "print('min',max(mylist))\n",
    "print('sort',sorted(mylist))\n",
    "print('type',type(mylist))\n",
    "print('len',len(mylist))"
   ]
  },
  {
   "cell_type": "markdown",
   "id": "c853abb5",
   "metadata": {},
   "source": [
    "## Generators"
   ]
  },
  {
   "cell_type": "code",
   "execution_count": 4,
   "id": "d031b812",
   "metadata": {},
   "outputs": [
    {
     "name": "stdout",
     "output_type": "stream",
     "text": [
      "type <class 'generator'>\n"
     ]
    }
   ],
   "source": [
    "def simplegenerator():\n",
    "    yield 1\n",
    "    yield 2\n",
    "    yield 3\n",
    "x = simplegenerator()\n",
    "print('type',type(x))"
   ]
  },
  {
   "cell_type": "code",
   "execution_count": 5,
   "id": "8df26e80",
   "metadata": {},
   "outputs": [
    {
     "name": "stdout",
     "output_type": "stream",
     "text": [
      "1\n",
      "2\n",
      "3\n"
     ]
    }
   ],
   "source": [
    "print(next(x))\n",
    "print(next(x))\n",
    "print(next(x))"
   ]
  },
  {
   "cell_type": "markdown",
   "id": "adf7cb61",
   "metadata": {},
   "source": [
    "## Map"
   ]
  },
  {
   "cell_type": "code",
   "execution_count": 6,
   "id": "fea626a8",
   "metadata": {},
   "outputs": [
    {
     "name": "stdout",
     "output_type": "stream",
     "text": [
      "<map object at 0x000001456BC08160>\n",
      "[4, 16, 25, 81, 36, 9]\n",
      "<class 'map'>\n"
     ]
    }
   ],
   "source": [
    "def function(a):\n",
    "    return a*a\n",
    "mylist=[2,4,5,9,6,3]\n",
    "\n",
    "x = map(function,mylist)\n",
    "print(x)\n",
    "print(list(x))\n",
    "print(type(x))"
   ]
  },
  {
   "cell_type": "markdown",
   "id": "85f049b7",
   "metadata": {},
   "source": [
    "## Filter"
   ]
  },
  {
   "cell_type": "code",
   "execution_count": 7,
   "id": "5f20b19c",
   "metadata": {},
   "outputs": [
    {
     "name": "stdout",
     "output_type": "stream",
     "text": [
      "<filter object at 0x000001456BC082E0>\n",
      "[2, 4, 6, 8]\n",
      "<class 'filter'>\n"
     ]
    }
   ],
   "source": [
    "def function(i):\n",
    "    if i%2 ==0:\n",
    "        return True\n",
    "    else: \n",
    "        return False\n",
    "mylist=[2,3,4,5,6,7,8,9]\n",
    "\n",
    "x = filter(function,mylist)\n",
    "print(x)\n",
    "print(list(x))\n",
    "print(type(x))"
   ]
  },
  {
   "cell_type": "markdown",
   "id": "924744ca",
   "metadata": {},
   "source": [
    "## Lambda Function"
   ]
  },
  {
   "cell_type": "code",
   "execution_count": 8,
   "id": "666d0e25",
   "metadata": {},
   "outputs": [
    {
     "data": {
      "text/plain": [
       "27"
      ]
     },
     "execution_count": 8,
     "metadata": {},
     "output_type": "execute_result"
    }
   ],
   "source": [
    "cube = lambda t:t**3\n",
    "cube(3)"
   ]
  },
  {
   "cell_type": "code",
   "execution_count": 9,
   "id": "6dd7f0bc",
   "metadata": {},
   "outputs": [
    {
     "name": "stdout",
     "output_type": "stream",
     "text": [
      "[16, 25, 9, 4, 25, 64]\n"
     ]
    }
   ],
   "source": [
    "mylist = [4,5,3,2,5,8]\n",
    "squarelist = map(lambda x:x**2,mylist)\n",
    "print(list(squarelist))"
   ]
  },
  {
   "cell_type": "markdown",
   "id": "404a62fc",
   "metadata": {},
   "source": [
    "## Python exception dan Error Handling"
   ]
  },
  {
   "cell_type": "code",
   "execution_count": 13,
   "id": "5386bf8b",
   "metadata": {},
   "outputs": [
    {
     "name": "stdout",
     "output_type": "stream",
     "text": [
      "Masukkan Nilai x :4\n",
      "Masukkan Nilai y :2\n",
      "hasil pembagian (x/y) = 4.000\n",
      "dividing of 4.0 dengan 2.0\n"
     ]
    }
   ],
   "source": [
    "try:\n",
    "    x = float(input(\"Masukkan Nilai x :\"))\n",
    "    y = float(input(\"Masukkan Nilai y :\"))\n",
    "    z = x/y\n",
    "except:\n",
    "    print(\"Jangan melakukan pembagian dengan 0\")\n",
    "else:\n",
    "    print(\"hasil pembagian (x/y) = {:.3f}\".format(x))\n",
    "finally:\n",
    "    print(\"dividing of {} dengan {}\".format(x,y))"
   ]
  }
 ],
 "metadata": {
  "kernelspec": {
   "display_name": "Python 3 (ipykernel)",
   "language": "python",
   "name": "python3"
  },
  "language_info": {
   "codemirror_mode": {
    "name": "ipython",
    "version": 3
   },
   "file_extension": ".py",
   "mimetype": "text/x-python",
   "name": "python",
   "nbconvert_exporter": "python",
   "pygments_lexer": "ipython3",
   "version": "3.9.7"
  }
 },
 "nbformat": 4,
 "nbformat_minor": 5
}
