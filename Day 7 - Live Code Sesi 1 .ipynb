{
 "cells": [
  {
   "cell_type": "markdown",
   "id": "75c27376",
   "metadata": {},
   "source": [
    "## Function"
   ]
  },
  {
   "cell_type": "markdown",
   "id": "be0af9fe",
   "metadata": {},
   "source": [
    "## User Defined Function"
   ]
  },
  {
   "cell_type": "code",
   "execution_count": 1,
   "id": "6bf11d18",
   "metadata": {},
   "outputs": [
    {
     "name": "stdout",
     "output_type": "stream",
     "text": [
      "5\n"
     ]
    }
   ],
   "source": [
    "def fungsi(a,b):\n",
    "    c = a+b\n",
    "    return c\n",
    "print(fungsi(5,0))"
   ]
  },
  {
   "cell_type": "code",
   "execution_count": 2,
   "id": "15ff2967",
   "metadata": {
    "scrolled": true
   },
   "outputs": [
    {
     "name": "stdout",
     "output_type": "stream",
     "text": [
      "2\n",
      "4\n"
     ]
    }
   ],
   "source": [
    "x=5 \n",
    "def func(num1,num=4):\n",
    "    x=2\n",
    "    print(x)\n",
    "    c =x**x\n",
    "    return c\n",
    "print(func(1))"
   ]
  },
  {
   "cell_type": "markdown",
   "id": "321f8d0a",
   "metadata": {},
   "source": [
    "## Built in Function dala pyhton"
   ]
  },
  {
   "cell_type": "code",
   "execution_count": 3,
   "id": "ed5cd80f",
   "metadata": {},
   "outputs": [
    {
     "name": "stdout",
     "output_type": "stream",
     "text": [
      "sum 39\n",
      "min 2\n",
      "min 9\n",
      "sort [2, 3, 4, 6, 7, 8, 9]\n",
      "type <class 'list'>\n",
      "len 7\n"
     ]
    }
   ],
   "source": [
    "mylist = [8,7,6,2,4,9,3]\n",
    "\n",
    "print('sum',sum(mylist))\n",
    "print('min',min(mylist))\n",
    "print('min',max(mylist))\n",
    "print('sort',sorted(mylist))\n",
    "print('type',type(mylist))\n",
    "print('len',len(mylist))"
   ]
  },
  {
   "cell_type": "markdown",
   "id": "b0e5de32",
   "metadata": {},
   "source": [
    "## Generators"
   ]
  },
  {
   "cell_type": "code",
   "execution_count": 4,
   "id": "26a2edb9",
   "metadata": {},
   "outputs": [
    {
     "name": "stdout",
     "output_type": "stream",
     "text": [
      "type <class 'generator'>\n"
     ]
    }
   ],
   "source": [
    "def simplegenerator():\n",
    "    yield 1\n",
    "    yield 2\n",
    "    yield 3\n",
    "x = simplegenerator()\n",
    "print('type',type(x))"
   ]
  },
  {
   "cell_type": "code",
   "execution_count": 5,
   "id": "495aaef6",
   "metadata": {},
   "outputs": [
    {
     "name": "stdout",
     "output_type": "stream",
     "text": [
      "1\n",
      "2\n",
      "3\n"
     ]
    }
   ],
   "source": [
    "print(next(x))\n",
    "print(next(x))\n",
    "print(next(x))"
   ]
  },
  {
   "cell_type": "markdown",
   "id": "5705d890",
   "metadata": {},
   "source": [
    "## Map"
   ]
  },
  {
   "cell_type": "code",
   "execution_count": 6,
   "id": "4cf5d2d5",
   "metadata": {},
   "outputs": [
    {
     "name": "stdout",
     "output_type": "stream",
     "text": [
      "<map object at 0x000001456BC08160>\n",
      "[4, 16, 25, 81, 36, 9]\n",
      "<class 'map'>\n"
     ]
    }
   ],
   "source": [
    "def function(a):\n",
    "    return a*a\n",
    "mylist=[2,4,5,9,6,3]\n",
    "\n",
    "x = map(function,mylist)\n",
    "print(x)\n",
    "print(list(x))\n",
    "print(type(x))"
   ]
  },
  {
   "cell_type": "markdown",
   "id": "26b64655",
   "metadata": {},
   "source": [
    "## Filter"
   ]
  },
  {
   "cell_type": "code",
   "execution_count": 7,
   "id": "88cefd8a",
   "metadata": {},
   "outputs": [
    {
     "name": "stdout",
     "output_type": "stream",
     "text": [
      "<filter object at 0x000001456BC082E0>\n",
      "[2, 4, 6, 8]\n",
      "<class 'filter'>\n"
     ]
    }
   ],
   "source": [
    "def function(i):\n",
    "    if i%2 ==0:\n",
    "        return True\n",
    "    else: \n",
    "        return False\n",
    "mylist=[2,3,4,5,6,7,8,9]\n",
    "\n",
    "x = filter(function,mylist)\n",
    "print(x)\n",
    "print(list(x))\n",
    "print(type(x))"
   ]
  },
  {
   "cell_type": "markdown",
   "id": "1ef649e3",
   "metadata": {},
   "source": [
    "## Lambda Function"
   ]
  },
  {
   "cell_type": "code",
   "execution_count": 8,
   "id": "d2c9d67a",
   "metadata": {},
   "outputs": [
    {
     "data": {
      "text/plain": [
       "27"
      ]
     },
     "execution_count": 8,
     "metadata": {},
     "output_type": "execute_result"
    }
   ],
   "source": [
    "cube = lambda t:t**3\n",
    "cube(3)"
   ]
  },
  {
   "cell_type": "code",
   "execution_count": 9,
   "id": "237630b7",
   "metadata": {},
   "outputs": [
    {
     "name": "stdout",
     "output_type": "stream",
     "text": [
      "[16, 25, 9, 4, 25, 64]\n"
     ]
    }
   ],
   "source": [
    "mylist = [4,5,3,2,5,8]\n",
    "squarelist = map(lambda x:x**2,mylist)\n",
    "print(list(squarelist))"
   ]
  },
  {
   "cell_type": "markdown",
   "id": "7bc97673",
   "metadata": {},
   "source": [
    "## Python exception dan Error Handling"
   ]
  },
  {
   "cell_type": "code",
   "execution_count": 12,
   "id": "a610731a",
   "metadata": {},
   "outputs": [
    {
     "name": "stdout",
     "output_type": "stream",
     "text": [
      "Masukkan Nilai x :23\n",
      "Masukkan Nilai y :1\n",
      "23.0\n",
      "dividing of 23.0 dengan 1.0\n"
     ]
    }
   ],
   "source": [
    "try:\n",
    "    x = float(input(\"Masukkan Nilai x :\"))\n",
    "    y = float(input(\"Masukkan Nilai y :\"))\n",
    "    z = x/y\n",
    "except:\n",
    "    print(\"Jangan melakukan pembagian dengan 0\")\n",
    "else:\n",
    "    print(z)\n",
    "finally:\n",
    "    print(\"dividing of {} dengan {}\".format(x,y))"
   ]
  },
  {
   "cell_type": "code",
   "execution_count": null,
   "id": "c17e5a14",
   "metadata": {},
   "outputs": [],
   "source": []
  }
 ],
 "metadata": {
  "kernelspec": {
   "display_name": "Python 3 (ipykernel)",
   "language": "python",
   "name": "python3"
  },
  "language_info": {
   "codemirror_mode": {
    "name": "ipython",
    "version": 3
   },
   "file_extension": ".py",
   "mimetype": "text/x-python",
   "name": "python",
   "nbconvert_exporter": "python",
   "pygments_lexer": "ipython3",
   "version": "3.9.7"
  }
 },
 "nbformat": 4,
 "nbformat_minor": 5
}
