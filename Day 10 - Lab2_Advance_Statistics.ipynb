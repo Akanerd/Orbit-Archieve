{
 "cells": [
  {
   "cell_type": "markdown",
   "metadata": {
    "id": "S6VtfgUxPM1y"
   },
   "source": [
    "# Module 2: Data Analytics with Python - Statistics"
   ]
  },
  {
   "cell_type": "markdown",
   "metadata": {
    "id": "2gL3C93VPM15"
   },
   "source": [
    "## Lab 2.2: Advance Statistics"
   ]
  },
  {
   "cell_type": "markdown",
   "metadata": {
    "id": "1DU2k63nPM15"
   },
   "source": [
    "<br><br><br><br><br><br>\n",
    "## Objevtive\n",
    "***\n",
    "- ANOVA(Analysis Of Varience Test)"
   ]
  },
  {
   "cell_type": "markdown",
   "metadata": {
    "id": "_ms3oDSgtIIk"
   },
   "source": [
    "### **ANOVA (Analysis Of Variance) F-test**\n",
    "***\n",
    "\n",
    "This test works well when dealing with two groups, but sometimes we want to compare more than two groups at the same time. \n",
    "The Analysis of Variance (ANOVA) is a statistical inference test that lets you compare multiple groups at the same time.\n",
    "F = Variability between groups or Variability within groups\n",
    "\n",
    "Unlike the z and t-distributions, the F-distribution does not have any negative values because between and within-group variability are always positive due to squaring each deviation.\n",
    "\n",
    "**One Way F-test (Anova)**\n",
    "\n",
    "It tells whether two or more groups are similar or not based on their mean similarity and f-score.\n",
    "\n",
    "p> 0.05 implies they are similar\n",
    "\n",
    "p< 0.05 implies they are not similar\n"
   ]
  },
  {
   "cell_type": "code",
   "execution_count": null,
   "metadata": {
    "colab": {
     "base_uri": "https://localhost:8080/"
    },
    "id": "sR43X8eyszfH",
    "outputId": "22b99760-71e8-4bdc-8619-5542a5240abc"
   },
   "outputs": [
    {
     "name": "stdout",
     "output_type": "stream",
     "text": [
      "            df    sum_sq   mean_sq         F   PR(>F)\n",
      "group      2.0   3.76634  1.883170  4.846088  0.01591\n",
      "Residual  27.0  10.49209  0.388596       NaN      NaN\n"
     ]
    }
   ],
   "source": [
    "%matplotlib inline\n",
    "import pandas as pd\n",
    "import statsmodels.api as sm\n",
    "from statsmodels.formula.api import ols\n",
    "url = \"https://raw.githubusercontent.com/bluedataconsulting/AIMasteryProgram/main/Lab_Exercises/Module2/PlantGrowth.csv\"\n",
    "data = pd.read_csv(url)\n",
    "mod = ols('weight ~ group', data=data).fit()      #we use ols to set up model\n",
    "aov_table = sm.stats.anova_lm(mod,type=2)\n",
    "\n",
    "print(aov_table)"
   ]
  },
  {
   "cell_type": "markdown",
   "metadata": {
    "id": "XMIfv1FHPM2A"
   },
   "source": [
    "**Conclusion: From AOV_Table we observe that value of p=0.01591 > 0.05 and therefore both groups are similar.**"
   ]
  },
  {
   "cell_type": "markdown",
   "metadata": {
    "id": "hcXi2xkFPM2A"
   },
   "source": [
    "### Thank You !!!"
   ]
  },
  {
   "cell_type": "code",
   "execution_count": null,
   "metadata": {
    "id": "tu5ktvlKPM2B"
   },
   "outputs": [],
   "source": []
  }
 ],
 "metadata": {
  "colab": {
   "collapsed_sections": [],
   "name": "Module2_Section2_Lab2_Advance_Statistics.ipynb",
   "provenance": []
  },
  "kernelspec": {
   "display_name": "Python 3 (ipykernel)",
   "language": "python",
   "name": "python3"
  },
  "language_info": {
   "codemirror_mode": {
    "name": "ipython",
    "version": 3
   },
   "file_extension": ".py",
   "mimetype": "text/x-python",
   "name": "python",
   "nbconvert_exporter": "python",
   "pygments_lexer": "ipython3",
   "version": "3.9.7"
  }
 },
 "nbformat": 4,
 "nbformat_minor": 1
}
