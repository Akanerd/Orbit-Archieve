{
  "nbformat": 4,
  "nbformat_minor": 0,
  "metadata": {
    "colab": {
      "name": "Artificial Neural Network.ipynb",
      "provenance": [],
      "collapsed_sections": [],
      "include_colab_link": true
    },
    "kernelspec": {
      "name": "python3",
      "display_name": "Python 3"
    },
    "language_info": {
      "name": "python"
    }
  },
  "cells": [
    {
      "cell_type": "markdown",
      "metadata": {
        "id": "view-in-github",
        "colab_type": "text"
      },
      "source": [
        "<a href=\"https://colab.research.google.com/github/Akanerd/Orbit-Archieve/blob/main/Day%2014%20-%20ANN.ipynb\" target=\"_parent\"><img src=\"https://colab.research.google.com/assets/colab-badge.svg\" alt=\"Open In Colab\"/></a>"
      ]
    },
    {
      "cell_type": "code",
      "execution_count": null,
      "metadata": {
        "id": "4ttgJBsdcdpE"
      },
      "outputs": [],
      "source": [
        "import tensorflow as tf\n",
        "from tensorflow import keras"
      ]
    },
    {
      "cell_type": "code",
      "source": [
        "NB_CLASSES = 10\n",
        "RESHAPED = 784\n",
        "\n",
        "mnist = keras.datasets.mnist\n",
        "(X_train,Y_train), (X_test,Y_test)=mnist.load_data()\n",
        "\n",
        "#X_train berdimensi 60000 baris data berukuran masing masing 28X28; Kita ubah bentuknya menjadi 60000X784, gambar berdimensi 28X28 dijadikan\n",
        "#satu dimensi berukuran 784\n",
        "X_train = X_train.reshape(60000, RESHAPED)\n",
        "X_test = X_test.reshape(10000, RESHAPED)\n",
        "X_train = X_train.astype('float32')\n",
        "X_test = X_test.astype('float32')"
      ],
      "metadata": {
        "id": "1Z-gJpzdymec",
        "colab": {
          "base_uri": "https://localhost:8080/"
        },
        "outputId": "210c25f7-df6d-4393-cb25-053d80f482c3"
      },
      "execution_count": null,
      "outputs": [
        {
          "output_type": "stream",
          "name": "stdout",
          "text": [
            "Downloading data from https://storage.googleapis.com/tensorflow/tf-keras-datasets/mnist.npz\n",
            "11493376/11490434 [==============================] - 0s 0us/step\n",
            "11501568/11490434 [==============================] - 0s 0us/step\n"
          ]
        }
      ]
    },
    {
      "cell_type": "code",
      "source": [
        "#Normalize data dari 0-255 to 0-1\n",
        "X_train, X_test = X_train/255.0, X_test/255.0\n",
        "print(X_train.shape[0], 'train samples')\n",
        "print(X_test.shape[0], 'test samples')"
      ],
      "metadata": {
        "colab": {
          "base_uri": "https://localhost:8080/"
        },
        "id": "PhnIreSt22PP",
        "outputId": "c51c70a8-f811-4bb4-f394-1c18f8778227"
      },
      "execution_count": null,
      "outputs": [
        {
          "output_type": "stream",
          "name": "stdout",
          "text": [
            "60000 train samples\n",
            "10000 test samples\n"
          ]
        }
      ]
    },
    {
      "cell_type": "code",
      "source": [
        "Y_train = tf.keras.utils.to_categorical(Y_train,NB_CLASSES)\n",
        "Y_test = tf.keras.utils.to_categorical(Y_test,NB_CLASSES)\n",
        "\n",
        "print(Y_train.shape)\n",
        "print(Y_test.shape)"
      ],
      "metadata": {
        "colab": {
          "base_uri": "https://localhost:8080/"
        },
        "id": "zzAaN7hA3WNP",
        "outputId": "0dd1a8c7-45c8-459f-81fb-1a43cd2186a4"
      },
      "execution_count": null,
      "outputs": [
        {
          "output_type": "stream",
          "name": "stdout",
          "text": [
            "(60000, 10)\n",
            "(10000, 10)\n"
          ]
        }
      ]
    },
    {
      "cell_type": "code",
      "source": [
        "from os import name\n",
        "model = tf.keras.models.Sequential()\n",
        "model.add(keras.layers.Dense(NB_CLASSES,input_shape=(RESHAPED,),kernel_initializer='zeros',name='dense_layer',activation='softmax'))\n",
        "model.summary()\n",
        "model.compile(optimizer='SGD',loss='categorical_crossentropy',metrics=['accuracy'])"
      ],
      "metadata": {
        "colab": {
          "base_uri": "https://localhost:8080/"
        },
        "id": "kwVfi_Ac36ZV",
        "outputId": "a3394ce0-7e15-430e-bcc4-43f70fa9c5b9"
      },
      "execution_count": null,
      "outputs": [
        {
          "output_type": "stream",
          "name": "stdout",
          "text": [
            "Model: \"sequential\"\n",
            "_________________________________________________________________\n",
            " Layer (type)                Output Shape              Param #   \n",
            "=================================================================\n",
            " dense_layer (Dense)         (None, 10)                7850      \n",
            "                                                                 \n",
            "=================================================================\n",
            "Total params: 7,850\n",
            "Trainable params: 7,850\n",
            "Non-trainable params: 0\n",
            "_________________________________________________________________\n"
          ]
        }
      ]
    },
    {
      "cell_type": "code",
      "source": [
        "EPOCHS = 50\n",
        "BATCH_SIZE = 128\n",
        "VERBOSE = 1\n",
        "VALIDATION_SPLIT = 0.2\n",
        "\n",
        "model.fit(X_train,Y_train,batch_size=BATCH_SIZE,epochs=EPOCHS,verbose=VERBOSE,validation_split=VALIDATION_SPLIT)\n",
        "\n",
        "test_loss, test_acc = model.evaluate(X_test,Y_test)\n",
        "print('Test Accuracy : ',test_acc)"
      ],
      "metadata": {
        "colab": {
          "base_uri": "https://localhost:8080/"
        },
        "id": "j3vWAIT_40nU",
        "outputId": "8233b3b8-cd88-450e-deec-100503da129b"
      },
      "execution_count": null,
      "outputs": [
        {
          "output_type": "stream",
          "name": "stdout",
          "text": [
            "Epoch 1/50\n",
            "375/375 [==============================] - 3s 6ms/step - loss: 1.3528 - accuracy: 0.7680 - val_loss: 0.8780 - val_accuracy: 0.8438\n",
            "Epoch 2/50\n",
            "375/375 [==============================] - 2s 6ms/step - loss: 0.7803 - accuracy: 0.8417 - val_loss: 0.6478 - val_accuracy: 0.8644\n",
            "Epoch 3/50\n",
            "375/375 [==============================] - 2s 6ms/step - loss: 0.6349 - accuracy: 0.8575 - val_loss: 0.5552 - val_accuracy: 0.8737\n",
            "Epoch 4/50\n",
            "375/375 [==============================] - 3s 7ms/step - loss: 0.5645 - accuracy: 0.8658 - val_loss: 0.5034 - val_accuracy: 0.8813\n",
            "Epoch 5/50\n",
            "375/375 [==============================] - 2s 6ms/step - loss: 0.5216 - accuracy: 0.8721 - val_loss: 0.4702 - val_accuracy: 0.8861\n",
            "Epoch 6/50\n",
            "375/375 [==============================] - 2s 6ms/step - loss: 0.4921 - accuracy: 0.8766 - val_loss: 0.4465 - val_accuracy: 0.8895\n",
            "Epoch 7/50\n",
            "375/375 [==============================] - 2s 5ms/step - loss: 0.4702 - accuracy: 0.8802 - val_loss: 0.4290 - val_accuracy: 0.8912\n",
            "Epoch 8/50\n",
            "375/375 [==============================] - 2s 6ms/step - loss: 0.4532 - accuracy: 0.8824 - val_loss: 0.4149 - val_accuracy: 0.8941\n",
            "Epoch 9/50\n",
            "375/375 [==============================] - 2s 4ms/step - loss: 0.4395 - accuracy: 0.8850 - val_loss: 0.4038 - val_accuracy: 0.8962\n",
            "Epoch 10/50\n",
            "375/375 [==============================] - 1s 3ms/step - loss: 0.4282 - accuracy: 0.8871 - val_loss: 0.3944 - val_accuracy: 0.8981\n",
            "Epoch 11/50\n",
            "375/375 [==============================] - 1s 3ms/step - loss: 0.4186 - accuracy: 0.8890 - val_loss: 0.3864 - val_accuracy: 0.8995\n",
            "Epoch 12/50\n",
            "375/375 [==============================] - 1s 3ms/step - loss: 0.4104 - accuracy: 0.8907 - val_loss: 0.3797 - val_accuracy: 0.8998\n",
            "Epoch 13/50\n",
            "375/375 [==============================] - 1s 4ms/step - loss: 0.4032 - accuracy: 0.8923 - val_loss: 0.3736 - val_accuracy: 0.9015\n",
            "Epoch 14/50\n",
            "375/375 [==============================] - 1s 3ms/step - loss: 0.3968 - accuracy: 0.8936 - val_loss: 0.3684 - val_accuracy: 0.9022\n",
            "Epoch 15/50\n",
            "375/375 [==============================] - 1s 3ms/step - loss: 0.3912 - accuracy: 0.8945 - val_loss: 0.3636 - val_accuracy: 0.9039\n",
            "Epoch 16/50\n",
            "375/375 [==============================] - 1s 3ms/step - loss: 0.3861 - accuracy: 0.8954 - val_loss: 0.3595 - val_accuracy: 0.9040\n",
            "Epoch 17/50\n",
            "375/375 [==============================] - 1s 3ms/step - loss: 0.3815 - accuracy: 0.8961 - val_loss: 0.3556 - val_accuracy: 0.9053\n",
            "Epoch 18/50\n",
            "375/375 [==============================] - 1s 3ms/step - loss: 0.3773 - accuracy: 0.8971 - val_loss: 0.3522 - val_accuracy: 0.9055\n",
            "Epoch 19/50\n",
            "375/375 [==============================] - 1s 3ms/step - loss: 0.3734 - accuracy: 0.8984 - val_loss: 0.3490 - val_accuracy: 0.9068\n",
            "Epoch 20/50\n",
            "375/375 [==============================] - 1s 3ms/step - loss: 0.3699 - accuracy: 0.8987 - val_loss: 0.3462 - val_accuracy: 0.9070\n",
            "Epoch 21/50\n",
            "375/375 [==============================] - 1s 3ms/step - loss: 0.3666 - accuracy: 0.8996 - val_loss: 0.3433 - val_accuracy: 0.9078\n",
            "Epoch 22/50\n",
            "375/375 [==============================] - 1s 4ms/step - loss: 0.3636 - accuracy: 0.9005 - val_loss: 0.3409 - val_accuracy: 0.9075\n",
            "Epoch 23/50\n",
            "375/375 [==============================] - 1s 4ms/step - loss: 0.3608 - accuracy: 0.9009 - val_loss: 0.3386 - val_accuracy: 0.9091\n",
            "Epoch 24/50\n",
            "375/375 [==============================] - 1s 3ms/step - loss: 0.3581 - accuracy: 0.9015 - val_loss: 0.3365 - val_accuracy: 0.9086\n",
            "Epoch 25/50\n",
            "375/375 [==============================] - 1s 3ms/step - loss: 0.3556 - accuracy: 0.9016 - val_loss: 0.3344 - val_accuracy: 0.9091\n",
            "Epoch 26/50\n",
            "375/375 [==============================] - 1s 3ms/step - loss: 0.3532 - accuracy: 0.9023 - val_loss: 0.3324 - val_accuracy: 0.9102\n",
            "Epoch 27/50\n",
            "375/375 [==============================] - 1s 3ms/step - loss: 0.3510 - accuracy: 0.9028 - val_loss: 0.3306 - val_accuracy: 0.9104\n",
            "Epoch 28/50\n",
            "375/375 [==============================] - 1s 4ms/step - loss: 0.3489 - accuracy: 0.9036 - val_loss: 0.3290 - val_accuracy: 0.9108\n",
            "Epoch 29/50\n",
            "375/375 [==============================] - 1s 3ms/step - loss: 0.3469 - accuracy: 0.9036 - val_loss: 0.3275 - val_accuracy: 0.9106\n",
            "Epoch 30/50\n",
            "375/375 [==============================] - 1s 3ms/step - loss: 0.3451 - accuracy: 0.9046 - val_loss: 0.3259 - val_accuracy: 0.9116\n",
            "Epoch 31/50\n",
            "375/375 [==============================] - 1s 3ms/step - loss: 0.3433 - accuracy: 0.9050 - val_loss: 0.3243 - val_accuracy: 0.9117\n",
            "Epoch 32/50\n",
            "375/375 [==============================] - 1s 3ms/step - loss: 0.3416 - accuracy: 0.9055 - val_loss: 0.3230 - val_accuracy: 0.9118\n",
            "Epoch 33/50\n",
            "375/375 [==============================] - 1s 3ms/step - loss: 0.3400 - accuracy: 0.9056 - val_loss: 0.3217 - val_accuracy: 0.9122\n",
            "Epoch 34/50\n",
            "375/375 [==============================] - 1s 3ms/step - loss: 0.3384 - accuracy: 0.9064 - val_loss: 0.3206 - val_accuracy: 0.9122\n",
            "Epoch 35/50\n",
            "375/375 [==============================] - 1s 3ms/step - loss: 0.3369 - accuracy: 0.9065 - val_loss: 0.3193 - val_accuracy: 0.9131\n",
            "Epoch 36/50\n",
            "375/375 [==============================] - 1s 3ms/step - loss: 0.3355 - accuracy: 0.9067 - val_loss: 0.3182 - val_accuracy: 0.9129\n",
            "Epoch 37/50\n",
            "375/375 [==============================] - 1s 3ms/step - loss: 0.3341 - accuracy: 0.9074 - val_loss: 0.3171 - val_accuracy: 0.9135\n",
            "Epoch 38/50\n",
            "375/375 [==============================] - 1s 3ms/step - loss: 0.3328 - accuracy: 0.9079 - val_loss: 0.3161 - val_accuracy: 0.9135\n",
            "Epoch 39/50\n",
            "375/375 [==============================] - 1s 3ms/step - loss: 0.3315 - accuracy: 0.9079 - val_loss: 0.3150 - val_accuracy: 0.9137\n",
            "Epoch 40/50\n",
            "375/375 [==============================] - 1s 3ms/step - loss: 0.3303 - accuracy: 0.9079 - val_loss: 0.3141 - val_accuracy: 0.9143\n",
            "Epoch 41/50\n",
            "375/375 [==============================] - 1s 3ms/step - loss: 0.3292 - accuracy: 0.9086 - val_loss: 0.3133 - val_accuracy: 0.9147\n",
            "Epoch 42/50\n",
            "375/375 [==============================] - 1s 3ms/step - loss: 0.3280 - accuracy: 0.9088 - val_loss: 0.3123 - val_accuracy: 0.9147\n",
            "Epoch 43/50\n",
            "375/375 [==============================] - 1s 4ms/step - loss: 0.3270 - accuracy: 0.9091 - val_loss: 0.3114 - val_accuracy: 0.9147\n",
            "Epoch 44/50\n",
            "375/375 [==============================] - 1s 3ms/step - loss: 0.3259 - accuracy: 0.9099 - val_loss: 0.3106 - val_accuracy: 0.9148\n",
            "Epoch 45/50\n",
            "375/375 [==============================] - 1s 3ms/step - loss: 0.3249 - accuracy: 0.9096 - val_loss: 0.3097 - val_accuracy: 0.9153\n",
            "Epoch 46/50\n",
            "375/375 [==============================] - 1s 3ms/step - loss: 0.3239 - accuracy: 0.9102 - val_loss: 0.3090 - val_accuracy: 0.9147\n",
            "Epoch 47/50\n",
            "375/375 [==============================] - 1s 3ms/step - loss: 0.3229 - accuracy: 0.9102 - val_loss: 0.3082 - val_accuracy: 0.9153\n",
            "Epoch 48/50\n",
            "375/375 [==============================] - 1s 3ms/step - loss: 0.3220 - accuracy: 0.9106 - val_loss: 0.3076 - val_accuracy: 0.9155\n",
            "Epoch 49/50\n",
            "375/375 [==============================] - 1s 3ms/step - loss: 0.3211 - accuracy: 0.9110 - val_loss: 0.3068 - val_accuracy: 0.9156\n",
            "Epoch 50/50\n",
            "375/375 [==============================] - 1s 3ms/step - loss: 0.3203 - accuracy: 0.9113 - val_loss: 0.3061 - val_accuracy: 0.9153\n",
            "313/313 [==============================] - 0s 1ms/step - loss: 0.3061 - accuracy: 0.9167\n",
            "Test Accuracy :  0.916700005531311\n"
          ]
        }
      ]
    },
    {
      "cell_type": "markdown",
      "source": [
        "Sigmoid activation"
      ],
      "metadata": {
        "id": "hvNr-d8V-asM"
      }
    },
    {
      "cell_type": "code",
      "source": [
        "from sklearn.datasets import fetch_california_housing\n",
        "from sklearn.datasets import load_boston\n",
        "import numpy as np\n",
        "\n",
        "boston=load_boston()\n",
        "x=boston.target\n",
        "\n",
        "y=(1/(1+np.exp(-x)))\n",
        "\n",
        "import matplotlib.pyplot as plt\n",
        "plt.plot(x,y)\n",
        "plt.show"
      ],
      "metadata": {
        "colab": {
          "base_uri": "https://localhost:8080/",
          "height": 927
        },
        "id": "wDQUQ6F481m0",
        "outputId": "04495ad0-05ee-4a5d-86ef-5036becddc4e"
      },
      "execution_count": null,
      "outputs": [
        {
          "output_type": "stream",
          "name": "stderr",
          "text": [
            "/usr/local/lib/python3.7/dist-packages/sklearn/utils/deprecation.py:87: FutureWarning: Function load_boston is deprecated; `load_boston` is deprecated in 1.0 and will be removed in 1.2.\n",
            "\n",
            "    The Boston housing prices dataset has an ethical problem. You can refer to\n",
            "    the documentation of this function for further details.\n",
            "\n",
            "    The scikit-learn maintainers therefore strongly discourage the use of this\n",
            "    dataset unless the purpose of the code is to study and educate about\n",
            "    ethical issues in data science and machine learning.\n",
            "\n",
            "    In this special case, you can fetch the dataset from the original\n",
            "    source::\n",
            "\n",
            "        import pandas as pd\n",
            "        import numpy as np\n",
            "\n",
            "\n",
            "        data_url = \"http://lib.stat.cmu.edu/datasets/boston\"\n",
            "        raw_df = pd.read_csv(data_url, sep=\"\\s+\", skiprows=22, header=None)\n",
            "        data = np.hstack([raw_df.values[::2, :], raw_df.values[1::2, :2]])\n",
            "        target = raw_df.values[1::2, 2]\n",
            "\n",
            "    Alternative datasets include the California housing dataset (i.e.\n",
            "    :func:`~sklearn.datasets.fetch_california_housing`) and the Ames housing\n",
            "    dataset. You can load the datasets as follows::\n",
            "\n",
            "        from sklearn.datasets import fetch_california_housing\n",
            "        housing = fetch_california_housing()\n",
            "\n",
            "    for the California housing dataset and::\n",
            "\n",
            "        from sklearn.datasets import fetch_openml\n",
            "        housing = fetch_openml(name=\"house_prices\", as_frame=True)\n",
            "\n",
            "    for the Ames housing dataset.\n",
            "    \n",
            "  warnings.warn(msg, category=FutureWarning)\n"
          ]
        },
        {
          "output_type": "execute_result",
          "data": {
            "text/plain": [
              "<function matplotlib.pyplot.show>"
            ]
          },
          "metadata": {},
          "execution_count": 8
        },
        {
          "output_type": "display_data",
          "data": {
            "text/plain": [
              "<Figure size 432x288 with 1 Axes>"
            ],
            "image/png": "[encoded data removed]"
          },
          "metadata": {
            "needs_background": "light"
          }
        }
      ]
    },
    {
      "cell_type": "markdown",
      "source": [
        "tanh"
      ],
      "metadata": {
        "id": "v8PHWq7n_du0"
      }
    },
    {
      "cell_type": "code",
      "source": [
        "from sklearn.datasets import fetch_california_housing\n",
        "from sklearn.datasets import load_boston\n",
        "import numpy as np\n",
        "\n",
        "boston=load_boston()\n",
        "x=boston.target\n",
        "\n",
        "y=(np.exp(x)-np.exp(-x))/(np.exp(x)+np.exp(-x))\n",
        "\n",
        "import matplotlib.pyplot as plt\n",
        "plt.plot(x,y)\n",
        "plt.show"
      ],
      "metadata": {
        "id": "GWsKK-3J_a4p",
        "colab": {
          "base_uri": "https://localhost:8080/",
          "height": 938
        },
        "outputId": "ec3a244f-e863-4541-882e-946446e80439"
      },
      "execution_count": null,
      "outputs": [
        {
          "output_type": "stream",
          "name": "stderr",
          "text": [
            "/usr/local/lib/python3.7/dist-packages/sklearn/utils/deprecation.py:87: FutureWarning: Function load_boston is deprecated; `load_boston` is deprecated in 1.0 and will be removed in 1.2.\n",
            "\n",
            "    The Boston housing prices dataset has an ethical problem. You can refer to\n",
            "    the documentation of this function for further details.\n",
            "\n",
            "    The scikit-learn maintainers therefore strongly discourage the use of this\n",
            "    dataset unless the purpose of the code is to study and educate about\n",
            "    ethical issues in data science and machine learning.\n",
            "\n",
            "    In this special case, you can fetch the dataset from the original\n",
            "    source::\n",
            "\n",
            "        import pandas as pd\n",
            "        import numpy as np\n",
            "\n",
            "\n",
            "        data_url = \"http://lib.stat.cmu.edu/datasets/boston\"\n",
            "        raw_df = pd.read_csv(data_url, sep=\"\\s+\", skiprows=22, header=None)\n",
            "        data = np.hstack([raw_df.values[::2, :], raw_df.values[1::2, :2]])\n",
            "        target = raw_df.values[1::2, 2]\n",
            "\n",
            "    Alternative datasets include the California housing dataset (i.e.\n",
            "    :func:`~sklearn.datasets.fetch_california_housing`) and the Ames housing\n",
            "    dataset. You can load the datasets as follows::\n",
            "\n",
            "        from sklearn.datasets import fetch_california_housing\n",
            "        housing = fetch_california_housing()\n",
            "\n",
            "    for the California housing dataset and::\n",
            "\n",
            "        from sklearn.datasets import fetch_openml\n",
            "        housing = fetch_openml(name=\"house_prices\", as_frame=True)\n",
            "\n",
            "    for the Ames housing dataset.\n",
            "    \n",
            "  warnings.warn(msg, category=FutureWarning)\n"
          ]
        },
        {
          "output_type": "execute_result",
          "data": {
            "text/plain": [
              "<function matplotlib.pyplot.show>"
            ]
          },
          "metadata": {},
          "execution_count": 9
        },
        {
          "output_type": "display_data",
          "data": {
            "text/plain": [
              "<Figure size 432x288 with 1 Axes>"
            ],
            "image/png": "[encoded data removed]"
          },
          "metadata": {
            "needs_background": "light"
          }
        }
      ]
    },
    {
      "cell_type": "markdown",
      "source": [
        "Multi-layer Neural Network"
      ],
      "metadata": {
        "id": "9R9-FWKbAeSr"
      }
    },
    {
      "cell_type": "code",
      "source": [
        "import tensorflow as tf\n",
        "import numpy as np\n",
        "from tensorflow import keras"
      ],
      "metadata": {
        "id": "FpDOfyTrAP0E"
      },
      "execution_count": null,
      "outputs": []
    },
    {
      "cell_type": "code",
      "source": [
        "EPOCHS = 20\n",
        "BATCH_SIZE = 128\n",
        "VERBOSE = 1\n",
        "NB_CLASSES = 10\n",
        "N_HIDDEN = 128\n",
        "VALIDATION_SPLIT = 0.2"
      ],
      "metadata": {
        "id": "FdogMUbMAdpC"
      },
      "execution_count": null,
      "outputs": []
    },
    {
      "cell_type": "code",
      "source": [
        "mnist=keras.datasets.mnist\n",
        "(X_train,Y_train),(X_test,Y_test)=mnist.load_data()\n",
        "\n",
        "RESHAPED = 784\n",
        "X_train = X_train.reshape(60000, RESHAPED)\n",
        "X_test = X_test.reshape(10000, RESHAPED)\n",
        "X_train = X_train.astype('float32')\n",
        "X_test = X_test.astype('float32')\n",
        "\n",
        "#Normalize\n",
        "X_train /= 255.0\n",
        "X_test /= 255.0\n",
        "\n",
        "print(X_train.shape[0], 'train_sample')\n",
        "print(X_test.shape[0], 'test_sample')\n",
        "\n",
        "Y_train = tf.keras.utils.to_categorical(Y_train, NB_CLASSES)\n",
        "Y_test = tf.keras.utils.to_categorical(Y_test, NB_CLASSES)\n",
        "print(Y_train.shape)\n",
        "print(Y_test.shape)"
      ],
      "metadata": {
        "id": "3pH0_3auAyBN"
      },
      "execution_count": null,
      "outputs": []
    },
    {
      "cell_type": "code",
      "source": [
        "model = tf.keras.models.Sequential()\n",
        "model.add(keras.layers.Dense(N_HIDDEN,\n",
        "                             input_shape=(RESHAPED,),\n",
        "                             name='dense_layer1',activation='relu'))\n",
        "model.add(keras.layers.Dense(N_HIDDEN,\n",
        "                             name='dense_layer2',activation='relu'))\n",
        "model.add(keras.layers.Dense(N_HIDDEN,\n",
        "                             name='dense_layer3',activation='relu'))\n",
        "model.add(keras.layers.Dense(N_HIDDEN,\n",
        "                             name='dense_layer4',activation='relu'))\n",
        "model.add(keras.layers.Dense(N_HIDDEN,\n",
        "                             name='dense_layer5',activation='relu'))\n",
        "model.add(keras.layers.Dense(NB_CLASSES,\n",
        "                             name='dense_layer6',activation='softmax'))\n",
        "\n",
        "model.summary()"
      ],
      "metadata": {
        "id": "gS1myk9zBzPf"
      },
      "execution_count": null,
      "outputs": []
    },
    {
      "cell_type": "code",
      "source": [
        "model.compile(optimizer='SGD',loss='categorical_crossentropy',metrics=['accuracy'])\n",
        "\n",
        "model.fit(X_train,Y_train, batch_size=BATCH_SIZE, epochs=EPOCHS, verbose=VERBOSE,validation_split=VALIDATION_SPLIT)"
      ],
      "metadata": {
        "id": "wVNI6_-LC9Yd"
      },
      "execution_count": null,
      "outputs": []
    },
    {
      "cell_type": "code",
      "source": [
        "test_loss,test_acc = model.evaluate(X_test,Y_test)\n",
        "\n",
        "print('Test accuracy', test_acc)"
      ],
      "metadata": {
        "id": "kPhkaFGMFUBb"
      },
      "execution_count": null,
      "outputs": []
    }
  ]
}